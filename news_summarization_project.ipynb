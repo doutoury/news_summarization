{
 "metadata": {
  "language_info": {
   "codemirror_mode": {
    "name": "ipython",
    "version": 3
   },
   "file_extension": ".py",
   "mimetype": "text/x-python",
   "name": "python",
   "nbconvert_exporter": "python",
   "pygments_lexer": "ipython3",
   "version": "3.7.9-final"
  },
  "orig_nbformat": 2,
  "kernelspec": {
   "name": "python3",
   "display_name": "Python 3.7.9 64-bit ('aiffel': conda)",
   "metadata": {
    "interpreter": {
     "hash": "8182dd0ad4173cdddc5298b982923877be00ee4d2f569af5d6459bf4e939e93c"
    }
   }
  }
 },
 "nbformat": 4,
 "nbformat_minor": 2,
 "cells": [
  {
   "cell_type": "code",
   "execution_count": 123,
   "metadata": {},
   "outputs": [
    {
     "output_type": "stream",
     "name": "stderr",
     "text": [
      "[nltk_data] Downloading package stopwords to /home/ssac29/nltk_data...\n[nltk_data]   Package stopwords is already up-to-date!\n"
     ]
    }
   ],
   "source": [
    "# 필요한 모듈\n",
    "\n",
    "import nltk\n",
    "nltk.download('stopwords')\n",
    "\n",
    "import numpy as np\n",
    "import pandas as pd\n",
    "import os\n",
    "import re\n",
    "import matplotlib.pyplot as plt\n",
    "from nltk.corpus import stopwords\n",
    "from bs4 import BeautifulSoup \n",
    "from tensorflow.keras.preprocessing.text import Tokenizer \n",
    "from tensorflow.keras.preprocessing.sequence import pad_sequences\n",
    "import urllib.request"
   ]
  },
  {
   "source": [
    "## 뉴스 데이터 수집 <br><br>\n",
    "\n",
    "터미널을 통해 csv 파일 다운로드 <br>\n",
    "```\n",
    "wget https://raw.githubusercontent.com/sunnysai12345/News_Summary/master/news_summary_more.csv\n",
    "```\n",
    "\n",
    "아래의 파이썬 코드를 통해 현재 작업중인 폴더에 csv 데이터 다운로드 <br>\n",
    "``` python\n",
    "import urllib.request\n",
    "urllib.request.urlretrieve(\"https://raw.githubusercontent.com/sunnysai12345/News_Summary/master/news_summary_more.csv\", filename=\"news_summary_more.csv\")\n",
    "data = pd.read_csv('news_summary_more.csv', encoding='iso-8859-1')\n",
    "```\n"
   ],
   "cell_type": "markdown",
   "metadata": {}
  },
  {
   "cell_type": "code",
   "execution_count": 124,
   "metadata": {},
   "outputs": [
    {
     "output_type": "stream",
     "name": "stdout",
     "text": [
      "전체 샘플수 : 98401\n"
     ]
    }
   ],
   "source": [
    "# 데이터 불러오기\n",
    "\n",
    "data = pd.read_csv(os.getenv(\"HOME\")+\"/aiffel/news_summarization/data/news_summary_more.csv\")\n",
    "\n",
    "print('전체 샘플수 :',(len(data)))"
   ]
  },
  {
   "cell_type": "code",
   "execution_count": 125,
   "metadata": {},
   "outputs": [
    {
     "output_type": "execute_result",
     "data": {
      "text/plain": [
       "                                               headlines  \\\n",
       "60309  Johar not compelled to cast him: Ishaan's fath...   \n",
       "40755  Facebook to reduce Android call history, SMS d...   \n",
       "62462  Certainly open to meet North Korean leader Jon...   \n",
       "31754  Youth causes boy's death by inserting pipe in ...   \n",
       "74430  MP Hindu outfit proposes Aadhaar for entry to ...   \n",
       "33558  Tesla shareholders to vote on removing Musk as...   \n",
       "86189  Dying to show to mom: Johar on father's pic wi...   \n",
       "7871   1 dead, 19 admitted post fire in Mumbai's 18-s...   \n",
       "34941   PM Modi meets Queen Elizabeth II during UK visit   \n",
       "74877  Trump's top aide contradicts his position on N...   \n",
       "\n",
       "                                                    text  \n",
       "60309  Ishaan Khatter's father actor Rajesh Khattar, ...  \n",
       "40755  Technology giant Facebook has announced that t...  \n",
       "62462  US President Donald Trump has said that he is ...  \n",
       "31754  A Ludhiana court on Wednesday sentenced a yout...  \n",
       "74430  The Hindu Utsav Samiti (HUS) in Madhya Pradesh...  \n",
       "33558  Tesla shareholder Jing Zhao has proposed its b...  \n",
       "86189  Filmmaker Karan Johar tweeted that he's dying ...  \n",
       "7871   A 70-year-old woman died and 19 were hospitali...  \n",
       "34941  PM Narendra Modi on Wednesday met Queen Elizab...  \n",
       "74877  There is no military solution to North Korean ...  "
      ],
      "text/html": "<div>\n<style scoped>\n    .dataframe tbody tr th:only-of-type {\n        vertical-align: middle;\n    }\n\n    .dataframe tbody tr th {\n        vertical-align: top;\n    }\n\n    .dataframe thead th {\n        text-align: right;\n    }\n</style>\n<table border=\"1\" class=\"dataframe\">\n  <thead>\n    <tr style=\"text-align: right;\">\n      <th></th>\n      <th>headlines</th>\n      <th>text</th>\n    </tr>\n  </thead>\n  <tbody>\n    <tr>\n      <th>60309</th>\n      <td>Johar not compelled to cast him: Ishaan's fath...</td>\n      <td>Ishaan Khatter's father actor Rajesh Khattar, ...</td>\n    </tr>\n    <tr>\n      <th>40755</th>\n      <td>Facebook to reduce Android call history, SMS d...</td>\n      <td>Technology giant Facebook has announced that t...</td>\n    </tr>\n    <tr>\n      <th>62462</th>\n      <td>Certainly open to meet North Korean leader Jon...</td>\n      <td>US President Donald Trump has said that he is ...</td>\n    </tr>\n    <tr>\n      <th>31754</th>\n      <td>Youth causes boy's death by inserting pipe in ...</td>\n      <td>A Ludhiana court on Wednesday sentenced a yout...</td>\n    </tr>\n    <tr>\n      <th>74430</th>\n      <td>MP Hindu outfit proposes Aadhaar for entry to ...</td>\n      <td>The Hindu Utsav Samiti (HUS) in Madhya Pradesh...</td>\n    </tr>\n    <tr>\n      <th>33558</th>\n      <td>Tesla shareholders to vote on removing Musk as...</td>\n      <td>Tesla shareholder Jing Zhao has proposed its b...</td>\n    </tr>\n    <tr>\n      <th>86189</th>\n      <td>Dying to show to mom: Johar on father's pic wi...</td>\n      <td>Filmmaker Karan Johar tweeted that he's dying ...</td>\n    </tr>\n    <tr>\n      <th>7871</th>\n      <td>1 dead, 19 admitted post fire in Mumbai's 18-s...</td>\n      <td>A 70-year-old woman died and 19 were hospitali...</td>\n    </tr>\n    <tr>\n      <th>34941</th>\n      <td>PM Modi meets Queen Elizabeth II during UK visit</td>\n      <td>PM Narendra Modi on Wednesday met Queen Elizab...</td>\n    </tr>\n    <tr>\n      <th>74877</th>\n      <td>Trump's top aide contradicts his position on N...</td>\n      <td>There is no military solution to North Korean ...</td>\n    </tr>\n  </tbody>\n</table>\n</div>"
     },
     "metadata": {},
     "execution_count": 125
    }
   ],
   "source": [
    "# 데이터 샘플 확인\n",
    "\n",
    "\"\"\"\n",
    "'text', 'headlines' 두 개의 칼럼으로 구성\n",
    "Abstractive Summarization 의 경우 : text를 본문, headlines를 요약문 데이터로 사용\n",
    "Extractive Summarization 의 경우 : text를 본문으로 하나만 데이터로 사용\n",
    "\"\"\"\n",
    "\n",
    "data.sample(10)"
   ]
  },
  {
   "source": [
    "<br>\n",
    "\n",
    "## 데이터 전처리 <br><br>\n",
    "\n",
    "전처리로 텍스트를 정규화 또는 정제. <br>\n",
    "( 불용어를 제거할 경우, 상대적으로 길이가 짧은 요약 데이터에 대해서도 불용어를 제거하는 것이 좋을지 고민 )\n",
    "\n",
    "<br>"
   ],
   "cell_type": "markdown",
   "metadata": {}
  },
  {
   "source": [
    "<br>\n",
    "\n",
    "### 중복 및 NULL 값이 존재하는 샘플 제거 <br><br>\n",
    "\n",
    "혹여나 있을 수 있는 중복 데이터와 null 데이터 샘플 제거\n",
    "\n",
    "<br>"
   ],
   "cell_type": "markdown",
   "metadata": {}
  },
  {
   "cell_type": "code",
   "execution_count": 126,
   "metadata": {},
   "outputs": [
    {
     "output_type": "stream",
     "name": "stdout",
     "text": [
      "text 열에서 중복을 배제한 유일한(unique) 샘플의 수 : 98360\nheadlines 열에서 중복을 배제한 유일한(unique) 샘플의 수 : 98280\n"
     ]
    }
   ],
   "source": [
    "# 데이터의 중복 샘플 유무를 확인\n",
    "\n",
    "print('text 열에서 중복을 배제한 유일한(unique) 샘플의 수 :', data['text'].nunique())\n",
    "print('headlines 열에서 중복을 배제한 유일한(unique) 샘플의 수 :', data['headlines'].nunique())"
   ]
  },
  {
   "cell_type": "code",
   "execution_count": 127,
   "metadata": {},
   "outputs": [
    {
     "output_type": "stream",
     "name": "stdout",
     "text": [
      "전체 샘플수 : 98360\n"
     ]
    }
   ],
   "source": [
    "# 데이터프레임의 drop_duplicates()를 사용하여, 중복 샘플 제거\n",
    "\n",
    "data.drop_duplicates(subset = ['text'], inplace = True)\n",
    "print('전체 샘플수 :',(len(data)))"
   ]
  },
  {
   "source": [
    "<br>\n",
    "\n",
    "### 텍스트 정규화와 불용어 제거\n",
    "\n",
    "- __텍스트 정규화 (text normalization)__ <br>\n",
    "같은 의미인데도 다른 표현으로 쓰여 마치 다른 단어들처럼 간주되는 경우. <br>\n",
    "( 기계 학습 전에 미리 같은 표현으로 통일시켜주는 것이 기계의 연산량을 줄임 ) <br><br>\n",
    "ex. it'll == it will <br>\n",
    "ex. haven't == have not <br><br>\n",
    "[정규화 사전 출처](https://stackoverflow.com/questions/19790188/expanding-english-language-contractions-in-python) <br><br>\n",
    "\n",
    "- __불용어(stopwords) 제거__ <br>\n",
    "때로는 불용어를 제거하는 것이 자연어 처리의 성능을 높이는 방법일 수 있습니다. <br>\n",
    "( NLTK에서 제공하는 불용어 179 개의 리스트를 참조해, 샘플에서 불용어를 제거 ) <br><br>\n",
    "데이터프레임의 두 컬럼 'Text'와 'Summary' 중에서 'Text'에 대해서만 불용어 제거 <br>\n",
    "( __Abstractive__한 문장요약 결과를 위해 'Summary'에는 불용어가 남아 있는게 더 자연스러움 )\n",
    "\n",
    "<br>"
   ],
   "cell_type": "markdown",
   "metadata": {}
  },
  {
   "cell_type": "code",
   "execution_count": 128,
   "metadata": {},
   "outputs": [
    {
     "output_type": "stream",
     "name": "stdout",
     "text": [
      "정규화 사전의 수:  120\n"
     ]
    }
   ],
   "source": [
    "# 텍스트 정규화를 위한 사전(dictionary) 구성\n",
    "\n",
    "contractions = {\"ain't\": \"is not\", \"aren't\": \"are not\",\"can't\": \"cannot\", \"'cause\": \"because\", \"could've\": \"could have\", \"couldn't\": \"could not\",\n",
    "                           \"didn't\": \"did not\",  \"doesn't\": \"does not\", \"don't\": \"do not\", \"hadn't\": \"had not\", \"hasn't\": \"has not\", \"haven't\": \"have not\",\n",
    "                           \"he'd\": \"he would\",\"he'll\": \"he will\", \"he's\": \"he is\", \"how'd\": \"how did\", \"how'd'y\": \"how do you\", \"how'll\": \"how will\", \"how's\": \"how is\",\n",
    "                           \"I'd\": \"I would\", \"I'd've\": \"I would have\", \"I'll\": \"I will\", \"I'll've\": \"I will have\",\"I'm\": \"I am\", \"I've\": \"I have\", \"i'd\": \"i would\",\n",
    "                           \"i'd've\": \"i would have\", \"i'll\": \"i will\",  \"i'll've\": \"i will have\",\"i'm\": \"i am\", \"i've\": \"i have\", \"isn't\": \"is not\", \"it'd\": \"it would\",\n",
    "                           \"it'd've\": \"it would have\", \"it'll\": \"it will\", \"it'll've\": \"it will have\",\"it's\": \"it is\", \"let's\": \"let us\", \"ma'am\": \"madam\",\n",
    "                           \"mayn't\": \"may not\", \"might've\": \"might have\",\"mightn't\": \"might not\",\"mightn't've\": \"might not have\", \"must've\": \"must have\",\n",
    "                           \"mustn't\": \"must not\", \"mustn't've\": \"must not have\", \"needn't\": \"need not\", \"needn't've\": \"need not have\",\"o'clock\": \"of the clock\",\n",
    "                           \"oughtn't\": \"ought not\", \"oughtn't've\": \"ought not have\", \"shan't\": \"shall not\", \"sha'n't\": \"shall not\", \"shan't've\": \"shall not have\",\n",
    "                           \"she'd\": \"she would\", \"she'd've\": \"she would have\", \"she'll\": \"she will\", \"she'll've\": \"she will have\", \"she's\": \"she is\",\n",
    "                           \"should've\": \"should have\", \"shouldn't\": \"should not\", \"shouldn't've\": \"should not have\", \"so've\": \"so have\",\"so's\": \"so as\",\n",
    "                           \"this's\": \"this is\",\"that'd\": \"that would\", \"that'd've\": \"that would have\", \"that's\": \"that is\", \"there'd\": \"there would\",\n",
    "                           \"there'd've\": \"there would have\", \"there's\": \"there is\", \"here's\": \"here is\",\"they'd\": \"they would\", \"they'd've\": \"they would have\",\n",
    "                           \"they'll\": \"they will\", \"they'll've\": \"they will have\", \"they're\": \"they are\", \"they've\": \"they have\", \"to've\": \"to have\",\n",
    "                           \"wasn't\": \"was not\", \"we'd\": \"we would\", \"we'd've\": \"we would have\", \"we'll\": \"we will\", \"we'll've\": \"we will have\", \"we're\": \"we are\",\n",
    "                           \"we've\": \"we have\", \"weren't\": \"were not\", \"what'll\": \"what will\", \"what'll've\": \"what will have\", \"what're\": \"what are\",\n",
    "                           \"what's\": \"what is\", \"what've\": \"what have\", \"when's\": \"when is\", \"when've\": \"when have\", \"where'd\": \"where did\", \"where's\": \"where is\",\n",
    "                           \"where've\": \"where have\", \"who'll\": \"who will\", \"who'll've\": \"who will have\", \"who's\": \"who is\", \"who've\": \"who have\",\n",
    "                           \"why's\": \"why is\", \"why've\": \"why have\", \"will've\": \"will have\", \"won't\": \"will not\", \"won't've\": \"will not have\",\n",
    "                           \"would've\": \"would have\", \"wouldn't\": \"would not\", \"wouldn't've\": \"would not have\", \"y'all\": \"you all\",\n",
    "                           \"y'all'd\": \"you all would\",\"y'all'd've\": \"you all would have\",\"y'all're\": \"you all are\",\"y'all've\": \"you all have\",\n",
    "                           \"you'd\": \"you would\", \"you'd've\": \"you would have\", \"you'll\": \"you will\", \"you'll've\": \"you will have\",\n",
    "                           \"you're\": \"you are\", \"you've\": \"you have\"}\n",
    "\n",
    "print(\"정규화 사전의 수: \",len(contractions))"
   ]
  },
  {
   "source": [
    "<br>\n",
    "\n",
    "### 기타 전처리\n",
    "\n",
    "- 영어문자 소문자화\n",
    "- html 태그 제거\n",
    "- 정규표현식으로 특수문자 제거\n",
    "\n",
    "<br>"
   ],
   "cell_type": "markdown",
   "metadata": {}
  },
  {
   "cell_type": "code",
   "execution_count": 129,
   "metadata": {},
   "outputs": [],
   "source": [
    "# 데이터 전처리 함수 작성\n",
    "\n",
    "def preprocess_sentence(sentence, remove_stopwords=True):\n",
    "\n",
    "    # 텍스트 소문자화\n",
    "    sentence = sentence.lower()\n",
    "    # html 태그 제거  <br />, <a href = ...> 등\n",
    "    sentence = BeautifulSoup(sentence, \"lxml\").text\n",
    "    # 괄호로 닫힌 문자열 (...) 제거  ex) my husband (and myself!) for -> my husband for\n",
    "    sentence = re.sub(r'\\([^)]*\\)', '', sentence)\n",
    "    # 쌍따옴표 \" 제거\n",
    "    sentence = re.sub('\"','', sentence)\n",
    "    # 약어 정규화 (위에서 생성한 정규화사전 이용)\n",
    "    sentence = ' '.join([contractions[t] if t in contractions else t for t in sentence.split(\" \")])\n",
    "    # 소유격 제거. Ex) roland's -> roland\n",
    "    sentence = re.sub(r\"'s\\b\",\"\",sentence)\n",
    "    # 영어 외 문자(숫자, 특수문자 등) 공백으로 변환\n",
    "    sentence = re.sub(\"[^a-zA-Z]\", \" \", sentence)\n",
    "    # m이 3개 이상이면 2개로 변경. ex) ummmmmmm yeah -> umm yeah\n",
    "    sentence = re.sub('[m]{2,}', 'mm', sentence)\n",
    "    \n",
    "    # 불용어 제거 ('text')\n",
    "    if remove_stopwords:\n",
    "        tokens = ' '.join(word for word in sentence.split() if not word in stopwords.words('english') if len(word) > 1)\n",
    "    # 불용어 미제거 ('headlines')\n",
    "    else:\n",
    "        tokens = ' '.join(word for word in sentence.split() if len(word) > 1)\n",
    "    return tokens"
   ]
  },
  {
   "cell_type": "code",
   "execution_count": 130,
   "metadata": {},
   "outputs": [
    {
     "output_type": "stream",
     "name": "stdout",
     "text": [
      "everything bought great infact ordered twice third ordered wasfor mother father\ngreat way to start the day\n"
     ]
    }
   ],
   "source": [
    "# 전처리 함수 확인\n",
    "\n",
    "temp_text = 'Everything I bought was great, infact I ordered twice and the third ordered was<br />for my mother and father.'\n",
    "temp_summary = 'Great way to start (or finish) the day!!!'\n",
    "\n",
    "print(preprocess_sentence(temp_text))\n",
    "print(preprocess_sentence(temp_summary, False))  # 'headlines' 칼럼은 불용어를 미제거"
   ]
  },
  {
   "source": [
    "<br>\n",
    "\n",
    "### 훈련 데이터 전체에 대해 전처리 수행\n",
    "\n",
    "Text의 경우에는 불용어를 제거하고, Summary의 경우에는 불용어를 제거하지 않을 것이므로 따로 호출해서 진행\n",
    "\n",
    "<br>"
   ],
   "cell_type": "markdown",
   "metadata": {}
  },
  {
   "cell_type": "code",
   "execution_count": 131,
   "metadata": {},
   "outputs": [
    {
     "output_type": "execute_result",
     "data": {
      "text/plain": [
       "['saurav kant alumnus upgrad iiit pg program machine learning artificial intelligence sr systems engineer infosys almost years work experience program upgrad degree career support helped transition data scientist tech mahindra salary hike upgrad online power learning powered lakh careers',\n",
       " 'kunal shah credit card bill payment platform cred gave users chance win free food swiggy one year pranav kaushik delhi techie bagged reward spending cred coins users get one cred coin per rupee bill paid used avail rewards brands like ixigo bookmyshow ubereats cult fit',\n",
       " 'new zealand defeated india wickets fourth odi hamilton thursday win first match five match odi series india lost international match rohit sharma captaincy consecutive victories dating back march match witnessed india getting seventh lowest total odi cricket history',\n",
       " 'aegon life iterm insurance plan customers enjoy tax benefits premiums paid save taxes plan provides life cover age years also customers options insure critical illnesses disability accidental death benefit rider life cover age years',\n",
       " 'speaking sexual harassment allegations rajkumar hirani sonam kapoor said known hirani many years true metoo movement get derailed metoo movement always believe woman case need reserve judgment added hirani accused assistant worked sanju']"
      ]
     },
     "metadata": {},
     "execution_count": 131
    }
   ],
   "source": [
    "# 'text' 칼럼의 데이터 전처리 (불용어 제거)\n",
    "\n",
    "clean_text = []\n",
    "\n",
    "# 'text' 칼럼 전체 데이터에 대한 전처리 : 10분 이상 시간이 걸릴 수 있습니다. \n",
    "for s in data['text']:\n",
    "    clean_text.append(preprocess_sentence(s))\n",
    "\n",
    "# 전처리 후 출력\n",
    "clean_text[:5]"
   ]
  },
  {
   "cell_type": "code",
   "execution_count": 132,
   "metadata": {},
   "outputs": [
    {
     "output_type": "execute_result",
     "data": {
      "text/plain": [
       "['upgrad learner switches to career in ml al with salary hike',\n",
       " 'delhi techie wins free food from swiggy for one year on cred',\n",
       " 'new zealand end rohit sharma led india match winning streak',\n",
       " 'aegon life iterm insurance plan helps customers save tax',\n",
       " 'have known hirani for yrs what if metoo claims are not true sonam']"
      ]
     },
     "metadata": {},
     "execution_count": 132
    }
   ],
   "source": [
    "# 'headlines' 칼럼의 데이터 전처리 (불용어 안 제거)\n",
    "\n",
    "clean_headlines = []\n",
    "\n",
    "# 소문자화 위해 astype(str)으로 데이터프레임 string화\n",
    "new_data = data.astype(str)\n",
    "\n",
    "# 전체 headlines 데이터에 대한 전처리 : 5분 이상 시간이 걸릴 수 있습니다. \n",
    "for s in new_data['headlines']:\n",
    "    clean_headlines.append(preprocess_sentence(s, False))\n",
    "\n",
    "clean_headlines[:5]"
   ]
  },
  {
   "source": [
    "<br>\n",
    "\n",
    "### 전처리 후 빈(empty) 샘플 재확인 후, NULL 값 제거 <br><br>\n",
    "\n",
    "텍스트 정제의 과정을 거친 후에는 다시 한번 빈(empty) 샘플이 생겼는지 확인해보는 것이 좋습니다. 정제 전에는 데이터가 존재했지만, 정제 과정에서 문장의 모든 단어가 사라지는 경우가 있을 수 있습니다.\n",
    "\n",
    "<br>"
   ],
   "cell_type": "markdown",
   "metadata": {}
  },
  {
   "cell_type": "code",
   "execution_count": 133,
   "metadata": {},
   "outputs": [],
   "source": [
    "# 전처리한 데이터를 데이터프레임에 저장 후, 빈(empty) 값을 가진 샘플을 모두 Null 값으로 대체\n",
    "\n",
    "data['text'] = clean_text\n",
    "data['headlines'] = clean_headlines\n",
    "\n",
    "# 빈 값을 Null 값으로 변환\n",
    "data.replace('', np.nan, inplace=True)"
   ]
  },
  {
   "cell_type": "code",
   "execution_count": 134,
   "metadata": {},
   "outputs": [
    {
     "output_type": "execute_result",
     "data": {
      "text/plain": [
       "headlines    0\n",
       "text         0\n",
       "dtype: int64"
      ]
     },
     "metadata": {},
     "execution_count": 134
    }
   ],
   "source": [
    "# .isnull().sum()을 사용해서 Null 값이 생겼는지 확인\n",
    "\n",
    "data.isnull().sum()"
   ]
  },
  {
   "cell_type": "code",
   "execution_count": 135,
   "metadata": {},
   "outputs": [
    {
     "output_type": "stream",
     "name": "stdout",
     "text": [
      "전체 샘플수 : 98360\n"
     ]
    }
   ],
   "source": [
    "# Null 샘플 제거\n",
    "\n",
    "data.dropna(axis=0, inplace=True)\n",
    "print('전체 샘플수 :',(len(data)))"
   ]
  },
  {
   "source": [
    "<br>\n",
    "\n",
    "## 학습을 위한 데이터 준비(처리) <br><br>\n",
    "\n",
    "학습을 진행하기 위해서는 학습에 사용할 데이터의 크기를 결정하고, <br>\n",
    "문장의 시작(SOS) 과 끝(EOS) 을 표시 해줘야합니다. <br>\n",
    "그 후에 train / test 데이터 세트를 나누어 줍니다.\n",
    "\n",
    "<br>"
   ],
   "cell_type": "markdown",
   "metadata": {}
  },
  {
   "source": [
    "<br>\n",
    "\n",
    "### 샘플의 최대 길이 정하기 <br><br>\n",
    "\n",
    "학습(train)에 사용할 샘플의 최대 길이 결정 <br><br><br>\n",
    "\n",
    "\n",
    "### 텍스트 길이에 따른 데이터(개수) 분포 시각화 <br><br>\n",
    "\n",
    "적절한 최대길이를 결정하기 위해, <br>\n",
    "'text'와 'headlines'의 최소, 최대, 평균 길이를 구하고, 각각의 길에 대한 분포를 시각화하여 관찰해 봅시다. <br><br>\n",
    "\n",
    "많은 양의 데이터를 다룰때는 데이터를 시각화하여 보는 것이 도움이 됩니다. <br>\n",
    "'headlines', 'text' 각각에 대해 텍스트 길이 분포 박스플롯과 길이별 개수 분포의 막대플롯을 그려서 텍스트 길이별 데이터 분포를 확인.\n",
    "\n",
    "<br>"
   ],
   "cell_type": "markdown",
   "metadata": {}
  },
  {
   "cell_type": "code",
   "execution_count": 136,
   "metadata": {},
   "outputs": [
    {
     "output_type": "stream",
     "name": "stdout",
     "text": [
      "headlines의 최소 길이 : 1\nheadlines의 최대 길이 : 16\nheadlines의 평균 길이 : 9.299532330215534\ntext의 최소 길이 : 1\ntext의 최대 길이 : 60\ntext의 평균 길이 : 35.09968483123221\n"
     ]
    },
    {
     "output_type": "display_data",
     "data": {
      "text/plain": "<Figure size 432x288 with 2 Axes>",
      "image/svg+xml": "<?xml version=\"1.0\" encoding=\"utf-8\" standalone=\"no\"?>\n<!DOCTYPE svg PUBLIC \"-//W3C//DTD SVG 1.1//EN\"\n  \"http://www.w3.org/Graphics/SVG/1.1/DTD/svg11.dtd\">\n<!-- Created with matplotlib (https://matplotlib.org/) -->\n<svg height=\"279.59625pt\" version=\"1.1\" viewBox=\"0 0 424.775 279.59625\" width=\"424.775pt\" xmlns=\"http://www.w3.org/2000/svg\" xmlns:xlink=\"http://www.w3.org/1999/xlink\">\n <metadata>\n  <rdf:RDF xmlns:cc=\"http://creativecommons.org/ns#\" xmlns:dc=\"http://purl.org/dc/elements/1.1/\" xmlns:rdf=\"http://www.w3.org/1999/02/22-rdf-syntax-ns#\">\n   <cc:Work>\n    <dc:type rdf:resource=\"http://purl.org/dc/dcmitype/StillImage\"/>\n    <dc:date>2021-02-23T21:37:39.339266</dc:date>\n    <dc:format>image/svg+xml</dc:format>\n    <dc:creator>\n     <cc:Agent>\n      <dc:title>Matplotlib v3.3.2, https://matplotlib.org/</dc:title>\n     </cc:Agent>\n    </dc:creator>\n   </cc:Work>\n  </rdf:RDF>\n </metadata>\n <defs>\n  <style type=\"text/css\">*{stroke-linecap:butt;stroke-linejoin:round;}</style>\n </defs>\n <g id=\"figure_1\">\n  <g id=\"patch_1\">\n   <path d=\"M 0 279.59625 \nL 424.775 279.59625 \nL 424.775 0 \nL 0 0 \nz\n\" style=\"fill:none;\"/>\n  </g>\n  <g id=\"axes_1\">\n   <g id=\"patch_2\">\n    <path d=\"M 26.925 255.718125 \nL 206.975 255.718125 \nL 206.975 22.318125 \nL 26.925 22.318125 \nz\n\" style=\"fill:#ffffff;\"/>\n   </g>\n   <g id=\"matplotlib.axis_1\">\n    <g id=\"xtick_1\">\n     <g id=\"line2d_1\">\n      <defs>\n       <path d=\"M 0 0 \nL 0 3.5 \n\" id=\"m36b2a05c95\" style=\"stroke:#000000;stroke-width:0.8;\"/>\n      </defs>\n      <g>\n       <use style=\"stroke:#000000;stroke-width:0.8;\" x=\"116.95\" xlink:href=\"#m36b2a05c95\" y=\"255.718125\"/>\n      </g>\n     </g>\n     <g id=\"text_1\">\n      <!-- 1 -->\n      <g transform=\"translate(113.76875 270.316563)scale(0.1 -0.1)\">\n       <defs>\n        <path d=\"M 12.40625 8.296875 \nL 28.515625 8.296875 \nL 28.515625 63.921875 \nL 10.984375 60.40625 \nL 10.984375 69.390625 \nL 28.421875 72.90625 \nL 38.28125 72.90625 \nL 38.28125 8.296875 \nL 54.390625 8.296875 \nL 54.390625 0 \nL 12.40625 0 \nz\n\" id=\"DejaVuSans-49\"/>\n       </defs>\n       <use xlink:href=\"#DejaVuSans-49\"/>\n      </g>\n     </g>\n    </g>\n   </g>\n   <g id=\"matplotlib.axis_2\">\n    <g id=\"ytick_1\">\n     <g id=\"line2d_2\">\n      <defs>\n       <path d=\"M 0 0 \nL -3.5 0 \n\" id=\"m96c7d8676b\" style=\"stroke:#000000;stroke-width:0.8;\"/>\n      </defs>\n      <g>\n       <use style=\"stroke:#000000;stroke-width:0.8;\" x=\"26.925\" xlink:href=\"#m96c7d8676b\" y=\"230.96358\"/>\n      </g>\n     </g>\n     <g id=\"text_2\">\n      <!-- 2 -->\n      <g transform=\"translate(13.5625 234.762798)scale(0.1 -0.1)\">\n       <defs>\n        <path d=\"M 19.1875 8.296875 \nL 53.609375 8.296875 \nL 53.609375 0 \nL 7.328125 0 \nL 7.328125 8.296875 \nQ 12.9375 14.109375 22.625 23.890625 \nQ 32.328125 33.6875 34.8125 36.53125 \nQ 39.546875 41.84375 41.421875 45.53125 \nQ 43.3125 49.21875 43.3125 52.78125 \nQ 43.3125 58.59375 39.234375 62.25 \nQ 35.15625 65.921875 28.609375 65.921875 \nQ 23.96875 65.921875 18.8125 64.3125 \nQ 13.671875 62.703125 7.8125 59.421875 \nL 7.8125 69.390625 \nQ 13.765625 71.78125 18.9375 73 \nQ 24.125 74.21875 28.421875 74.21875 \nQ 39.75 74.21875 46.484375 68.546875 \nQ 53.21875 62.890625 53.21875 53.421875 \nQ 53.21875 48.921875 51.53125 44.890625 \nQ 49.859375 40.875 45.40625 35.40625 \nQ 44.1875 33.984375 37.640625 27.21875 \nQ 31.109375 20.453125 19.1875 8.296875 \nz\n\" id=\"DejaVuSans-50\"/>\n       </defs>\n       <use xlink:href=\"#DejaVuSans-50\"/>\n      </g>\n     </g>\n    </g>\n    <g id=\"ytick_2\">\n     <g id=\"line2d_3\">\n      <g>\n       <use style=\"stroke:#000000;stroke-width:0.8;\" x=\"26.925\" xlink:href=\"#m96c7d8676b\" y=\"202.67267\"/>\n      </g>\n     </g>\n     <g id=\"text_3\">\n      <!-- 4 -->\n      <g transform=\"translate(13.5625 206.471889)scale(0.1 -0.1)\">\n       <defs>\n        <path d=\"M 37.796875 64.3125 \nL 12.890625 25.390625 \nL 37.796875 25.390625 \nz\nM 35.203125 72.90625 \nL 47.609375 72.90625 \nL 47.609375 25.390625 \nL 58.015625 25.390625 \nL 58.015625 17.1875 \nL 47.609375 17.1875 \nL 47.609375 0 \nL 37.796875 0 \nL 37.796875 17.1875 \nL 4.890625 17.1875 \nL 4.890625 26.703125 \nz\n\" id=\"DejaVuSans-52\"/>\n       </defs>\n       <use xlink:href=\"#DejaVuSans-52\"/>\n      </g>\n     </g>\n    </g>\n    <g id=\"ytick_3\">\n     <g id=\"line2d_4\">\n      <g>\n       <use style=\"stroke:#000000;stroke-width:0.8;\" x=\"26.925\" xlink:href=\"#m96c7d8676b\" y=\"174.381761\"/>\n      </g>\n     </g>\n     <g id=\"text_4\">\n      <!-- 6 -->\n      <g transform=\"translate(13.5625 178.18098)scale(0.1 -0.1)\">\n       <defs>\n        <path d=\"M 33.015625 40.375 \nQ 26.375 40.375 22.484375 35.828125 \nQ 18.609375 31.296875 18.609375 23.390625 \nQ 18.609375 15.53125 22.484375 10.953125 \nQ 26.375 6.390625 33.015625 6.390625 \nQ 39.65625 6.390625 43.53125 10.953125 \nQ 47.40625 15.53125 47.40625 23.390625 \nQ 47.40625 31.296875 43.53125 35.828125 \nQ 39.65625 40.375 33.015625 40.375 \nz\nM 52.59375 71.296875 \nL 52.59375 62.3125 \nQ 48.875 64.0625 45.09375 64.984375 \nQ 41.3125 65.921875 37.59375 65.921875 \nQ 27.828125 65.921875 22.671875 59.328125 \nQ 17.53125 52.734375 16.796875 39.40625 \nQ 19.671875 43.65625 24.015625 45.921875 \nQ 28.375 48.1875 33.59375 48.1875 \nQ 44.578125 48.1875 50.953125 41.515625 \nQ 57.328125 34.859375 57.328125 23.390625 \nQ 57.328125 12.15625 50.6875 5.359375 \nQ 44.046875 -1.421875 33.015625 -1.421875 \nQ 20.359375 -1.421875 13.671875 8.265625 \nQ 6.984375 17.96875 6.984375 36.375 \nQ 6.984375 53.65625 15.1875 63.9375 \nQ 23.390625 74.21875 37.203125 74.21875 \nQ 40.921875 74.21875 44.703125 73.484375 \nQ 48.484375 72.75 52.59375 71.296875 \nz\n\" id=\"DejaVuSans-54\"/>\n       </defs>\n       <use xlink:href=\"#DejaVuSans-54\"/>\n      </g>\n     </g>\n    </g>\n    <g id=\"ytick_4\">\n     <g id=\"line2d_5\">\n      <g>\n       <use style=\"stroke:#000000;stroke-width:0.8;\" x=\"26.925\" xlink:href=\"#m96c7d8676b\" y=\"146.090852\"/>\n      </g>\n     </g>\n     <g id=\"text_5\">\n      <!-- 8 -->\n      <g transform=\"translate(13.5625 149.890071)scale(0.1 -0.1)\">\n       <defs>\n        <path d=\"M 31.78125 34.625 \nQ 24.75 34.625 20.71875 30.859375 \nQ 16.703125 27.09375 16.703125 20.515625 \nQ 16.703125 13.921875 20.71875 10.15625 \nQ 24.75 6.390625 31.78125 6.390625 \nQ 38.8125 6.390625 42.859375 10.171875 \nQ 46.921875 13.96875 46.921875 20.515625 \nQ 46.921875 27.09375 42.890625 30.859375 \nQ 38.875 34.625 31.78125 34.625 \nz\nM 21.921875 38.8125 \nQ 15.578125 40.375 12.03125 44.71875 \nQ 8.5 49.078125 8.5 55.328125 \nQ 8.5 64.0625 14.71875 69.140625 \nQ 20.953125 74.21875 31.78125 74.21875 \nQ 42.671875 74.21875 48.875 69.140625 \nQ 55.078125 64.0625 55.078125 55.328125 \nQ 55.078125 49.078125 51.53125 44.71875 \nQ 48 40.375 41.703125 38.8125 \nQ 48.828125 37.15625 52.796875 32.3125 \nQ 56.78125 27.484375 56.78125 20.515625 \nQ 56.78125 9.90625 50.3125 4.234375 \nQ 43.84375 -1.421875 31.78125 -1.421875 \nQ 19.734375 -1.421875 13.25 4.234375 \nQ 6.78125 9.90625 6.78125 20.515625 \nQ 6.78125 27.484375 10.78125 32.3125 \nQ 14.796875 37.15625 21.921875 38.8125 \nz\nM 18.3125 54.390625 \nQ 18.3125 48.734375 21.84375 45.5625 \nQ 25.390625 42.390625 31.78125 42.390625 \nQ 38.140625 42.390625 41.71875 45.5625 \nQ 45.3125 48.734375 45.3125 54.390625 \nQ 45.3125 60.0625 41.71875 63.234375 \nQ 38.140625 66.40625 31.78125 66.40625 \nQ 25.390625 66.40625 21.84375 63.234375 \nQ 18.3125 60.0625 18.3125 54.390625 \nz\n\" id=\"DejaVuSans-56\"/>\n       </defs>\n       <use xlink:href=\"#DejaVuSans-56\"/>\n      </g>\n     </g>\n    </g>\n    <g id=\"ytick_5\">\n     <g id=\"line2d_6\">\n      <g>\n       <use style=\"stroke:#000000;stroke-width:0.8;\" x=\"26.925\" xlink:href=\"#m96c7d8676b\" y=\"117.799943\"/>\n      </g>\n     </g>\n     <g id=\"text_6\">\n      <!-- 10 -->\n      <g transform=\"translate(7.2 121.599162)scale(0.1 -0.1)\">\n       <defs>\n        <path d=\"M 31.78125 66.40625 \nQ 24.171875 66.40625 20.328125 58.90625 \nQ 16.5 51.421875 16.5 36.375 \nQ 16.5 21.390625 20.328125 13.890625 \nQ 24.171875 6.390625 31.78125 6.390625 \nQ 39.453125 6.390625 43.28125 13.890625 \nQ 47.125 21.390625 47.125 36.375 \nQ 47.125 51.421875 43.28125 58.90625 \nQ 39.453125 66.40625 31.78125 66.40625 \nz\nM 31.78125 74.21875 \nQ 44.046875 74.21875 50.515625 64.515625 \nQ 56.984375 54.828125 56.984375 36.375 \nQ 56.984375 17.96875 50.515625 8.265625 \nQ 44.046875 -1.421875 31.78125 -1.421875 \nQ 19.53125 -1.421875 13.0625 8.265625 \nQ 6.59375 17.96875 6.59375 36.375 \nQ 6.59375 54.828125 13.0625 64.515625 \nQ 19.53125 74.21875 31.78125 74.21875 \nz\n\" id=\"DejaVuSans-48\"/>\n       </defs>\n       <use xlink:href=\"#DejaVuSans-49\"/>\n       <use x=\"63.623047\" xlink:href=\"#DejaVuSans-48\"/>\n      </g>\n     </g>\n    </g>\n    <g id=\"ytick_6\">\n     <g id=\"line2d_7\">\n      <g>\n       <use style=\"stroke:#000000;stroke-width:0.8;\" x=\"26.925\" xlink:href=\"#m96c7d8676b\" y=\"89.509034\"/>\n      </g>\n     </g>\n     <g id=\"text_7\">\n      <!-- 12 -->\n      <g transform=\"translate(7.2 93.308253)scale(0.1 -0.1)\">\n       <use xlink:href=\"#DejaVuSans-49\"/>\n       <use x=\"63.623047\" xlink:href=\"#DejaVuSans-50\"/>\n      </g>\n     </g>\n    </g>\n    <g id=\"ytick_7\">\n     <g id=\"line2d_8\">\n      <g>\n       <use style=\"stroke:#000000;stroke-width:0.8;\" x=\"26.925\" xlink:href=\"#m96c7d8676b\" y=\"61.218125\"/>\n      </g>\n     </g>\n     <g id=\"text_8\">\n      <!-- 14 -->\n      <g transform=\"translate(7.2 65.017344)scale(0.1 -0.1)\">\n       <use xlink:href=\"#DejaVuSans-49\"/>\n       <use x=\"63.623047\" xlink:href=\"#DejaVuSans-52\"/>\n      </g>\n     </g>\n    </g>\n    <g id=\"ytick_8\">\n     <g id=\"line2d_9\">\n      <g>\n       <use style=\"stroke:#000000;stroke-width:0.8;\" x=\"26.925\" xlink:href=\"#m96c7d8676b\" y=\"32.927216\"/>\n      </g>\n     </g>\n     <g id=\"text_9\">\n      <!-- 16 -->\n      <g transform=\"translate(7.2 36.726435)scale(0.1 -0.1)\">\n       <use xlink:href=\"#DejaVuSans-49\"/>\n       <use x=\"63.623047\" xlink:href=\"#DejaVuSans-54\"/>\n      </g>\n     </g>\n    </g>\n   </g>\n   <g id=\"line2d_10\">\n    <path clip-path=\"url(#p2fae0e219e)\" d=\"M 103.44625 146.090852 \nL 130.45375 146.090852 \nL 130.45375 117.799943 \nL 103.44625 117.799943 \nL 103.44625 146.090852 \n\" style=\"fill:none;stroke:#000000;stroke-linecap:square;\"/>\n   </g>\n   <g id=\"line2d_11\">\n    <path clip-path=\"url(#p2fae0e219e)\" d=\"M 116.95 146.090852 \nL 116.95 188.527216 \n\" style=\"fill:none;stroke:#000000;stroke-linecap:square;\"/>\n   </g>\n   <g id=\"line2d_12\">\n    <path clip-path=\"url(#p2fae0e219e)\" d=\"M 116.95 117.799943 \nL 116.95 75.36358 \n\" style=\"fill:none;stroke:#000000;stroke-linecap:square;\"/>\n   </g>\n   <g id=\"line2d_13\">\n    <path clip-path=\"url(#p2fae0e219e)\" d=\"M 110.198125 188.527216 \nL 123.701875 188.527216 \n\" style=\"fill:none;stroke:#000000;stroke-linecap:square;\"/>\n   </g>\n   <g id=\"line2d_14\">\n    <path clip-path=\"url(#p2fae0e219e)\" d=\"M 110.198125 75.36358 \nL 123.701875 75.36358 \n\" style=\"fill:none;stroke:#000000;stroke-linecap:square;\"/>\n   </g>\n   <g id=\"line2d_15\">\n    <defs>\n     <path d=\"M 0 3 \nC 0.795609 3 1.55874 2.683901 2.12132 2.12132 \nC 2.683901 1.55874 3 0.795609 3 0 \nC 3 -0.795609 2.683901 -1.55874 2.12132 -2.12132 \nC 1.55874 -2.683901 0.795609 -3 0 -3 \nC -0.795609 -3 -1.55874 -2.683901 -2.12132 -2.12132 \nC -2.683901 -1.55874 -3 -0.795609 -3 0 \nC -3 0.795609 -2.683901 1.55874 -2.12132 2.12132 \nC -1.55874 2.683901 -0.795609 3 0 3 \nz\n\" id=\"mf5cfaa4f50\" style=\"stroke:#000000;\"/>\n    </defs>\n    <g clip-path=\"url(#p2fae0e219e)\">\n     <use style=\"fill-opacity:0;stroke:#000000;\" x=\"116.95\" xlink:href=\"#mf5cfaa4f50\" y=\"245.109034\"/>\n     <use style=\"fill-opacity:0;stroke:#000000;\" x=\"116.95\" xlink:href=\"#mf5cfaa4f50\" y=\"216.818125\"/>\n     <use style=\"fill-opacity:0;stroke:#000000;\" x=\"116.95\" xlink:href=\"#mf5cfaa4f50\" y=\"216.818125\"/>\n     <use style=\"fill-opacity:0;stroke:#000000;\" x=\"116.95\" xlink:href=\"#mf5cfaa4f50\" y=\"202.67267\"/>\n     <use style=\"fill-opacity:0;stroke:#000000;\" x=\"116.95\" xlink:href=\"#mf5cfaa4f50\" y=\"202.67267\"/>\n     <use style=\"fill-opacity:0;stroke:#000000;\" x=\"116.95\" xlink:href=\"#mf5cfaa4f50\" y=\"202.67267\"/>\n     <use style=\"fill-opacity:0;stroke:#000000;\" x=\"116.95\" xlink:href=\"#mf5cfaa4f50\" y=\"202.67267\"/>\n     <use style=\"fill-opacity:0;stroke:#000000;\" x=\"116.95\" xlink:href=\"#mf5cfaa4f50\" y=\"202.67267\"/>\n     <use style=\"fill-opacity:0;stroke:#000000;\" x=\"116.95\" xlink:href=\"#mf5cfaa4f50\" y=\"202.67267\"/>\n     <use style=\"fill-opacity:0;stroke:#000000;\" x=\"116.95\" xlink:href=\"#mf5cfaa4f50\" y=\"202.67267\"/>\n     <use style=\"fill-opacity:0;stroke:#000000;\" x=\"116.95\" xlink:href=\"#mf5cfaa4f50\" y=\"202.67267\"/>\n     <use style=\"fill-opacity:0;stroke:#000000;\" x=\"116.95\" xlink:href=\"#mf5cfaa4f50\" y=\"202.67267\"/>\n     <use style=\"fill-opacity:0;stroke:#000000;\" x=\"116.95\" xlink:href=\"#mf5cfaa4f50\" y=\"202.67267\"/>\n     <use style=\"fill-opacity:0;stroke:#000000;\" x=\"116.95\" xlink:href=\"#mf5cfaa4f50\" y=\"202.67267\"/>\n     <use style=\"fill-opacity:0;stroke:#000000;\" x=\"116.95\" xlink:href=\"#mf5cfaa4f50\" y=\"202.67267\"/>\n     <use style=\"fill-opacity:0;stroke:#000000;\" x=\"116.95\" xlink:href=\"#mf5cfaa4f50\" y=\"202.67267\"/>\n     <use style=\"fill-opacity:0;stroke:#000000;\" x=\"116.95\" xlink:href=\"#mf5cfaa4f50\" y=\"202.67267\"/>\n     <use style=\"fill-opacity:0;stroke:#000000;\" x=\"116.95\" xlink:href=\"#mf5cfaa4f50\" y=\"61.218125\"/>\n     <use style=\"fill-opacity:0;stroke:#000000;\" x=\"116.95\" xlink:href=\"#mf5cfaa4f50\" y=\"61.218125\"/>\n     <use style=\"fill-opacity:0;stroke:#000000;\" x=\"116.95\" xlink:href=\"#mf5cfaa4f50\" y=\"47.07267\"/>\n     <use style=\"fill-opacity:0;stroke:#000000;\" x=\"116.95\" xlink:href=\"#mf5cfaa4f50\" y=\"61.218125\"/>\n     <use style=\"fill-opacity:0;stroke:#000000;\" x=\"116.95\" xlink:href=\"#mf5cfaa4f50\" y=\"61.218125\"/>\n     <use style=\"fill-opacity:0;stroke:#000000;\" x=\"116.95\" xlink:href=\"#mf5cfaa4f50\" y=\"61.218125\"/>\n     <use style=\"fill-opacity:0;stroke:#000000;\" x=\"116.95\" xlink:href=\"#mf5cfaa4f50\" y=\"61.218125\"/>\n     <use style=\"fill-opacity:0;stroke:#000000;\" x=\"116.95\" xlink:href=\"#mf5cfaa4f50\" y=\"47.07267\"/>\n     <use style=\"fill-opacity:0;stroke:#000000;\" x=\"116.95\" xlink:href=\"#mf5cfaa4f50\" y=\"61.218125\"/>\n     <use style=\"fill-opacity:0;stroke:#000000;\" x=\"116.95\" xlink:href=\"#mf5cfaa4f50\" y=\"61.218125\"/>\n     <use style=\"fill-opacity:0;stroke:#000000;\" x=\"116.95\" xlink:href=\"#mf5cfaa4f50\" y=\"61.218125\"/>\n     <use style=\"fill-opacity:0;stroke:#000000;\" x=\"116.95\" xlink:href=\"#mf5cfaa4f50\" y=\"61.218125\"/>\n     <use style=\"fill-opacity:0;stroke:#000000;\" x=\"116.95\" xlink:href=\"#mf5cfaa4f50\" y=\"61.218125\"/>\n     <use style=\"fill-opacity:0;stroke:#000000;\" x=\"116.95\" xlink:href=\"#mf5cfaa4f50\" y=\"61.218125\"/>\n     <use style=\"fill-opacity:0;stroke:#000000;\" x=\"116.95\" xlink:href=\"#mf5cfaa4f50\" y=\"61.218125\"/>\n     <use style=\"fill-opacity:0;stroke:#000000;\" x=\"116.95\" xlink:href=\"#mf5cfaa4f50\" y=\"47.07267\"/>\n     <use style=\"fill-opacity:0;stroke:#000000;\" x=\"116.95\" xlink:href=\"#mf5cfaa4f50\" y=\"61.218125\"/>\n     <use style=\"fill-opacity:0;stroke:#000000;\" x=\"116.95\" xlink:href=\"#mf5cfaa4f50\" y=\"61.218125\"/>\n     <use style=\"fill-opacity:0;stroke:#000000;\" x=\"116.95\" xlink:href=\"#mf5cfaa4f50\" y=\"61.218125\"/>\n     <use style=\"fill-opacity:0;stroke:#000000;\" x=\"116.95\" xlink:href=\"#mf5cfaa4f50\" y=\"47.07267\"/>\n     <use style=\"fill-opacity:0;stroke:#000000;\" x=\"116.95\" xlink:href=\"#mf5cfaa4f50\" y=\"61.218125\"/>\n     <use style=\"fill-opacity:0;stroke:#000000;\" x=\"116.95\" xlink:href=\"#mf5cfaa4f50\" y=\"61.218125\"/>\n     <use style=\"fill-opacity:0;stroke:#000000;\" x=\"116.95\" xlink:href=\"#mf5cfaa4f50\" y=\"61.218125\"/>\n     <use style=\"fill-opacity:0;stroke:#000000;\" x=\"116.95\" xlink:href=\"#mf5cfaa4f50\" y=\"61.218125\"/>\n     <use style=\"fill-opacity:0;stroke:#000000;\" x=\"116.95\" xlink:href=\"#mf5cfaa4f50\" y=\"61.218125\"/>\n     <use style=\"fill-opacity:0;stroke:#000000;\" x=\"116.95\" xlink:href=\"#mf5cfaa4f50\" y=\"61.218125\"/>\n     <use style=\"fill-opacity:0;stroke:#000000;\" x=\"116.95\" xlink:href=\"#mf5cfaa4f50\" y=\"61.218125\"/>\n     <use style=\"fill-opacity:0;stroke:#000000;\" x=\"116.95\" xlink:href=\"#mf5cfaa4f50\" y=\"47.07267\"/>\n     <use style=\"fill-opacity:0;stroke:#000000;\" x=\"116.95\" xlink:href=\"#mf5cfaa4f50\" y=\"61.218125\"/>\n     <use style=\"fill-opacity:0;stroke:#000000;\" x=\"116.95\" xlink:href=\"#mf5cfaa4f50\" y=\"61.218125\"/>\n     <use style=\"fill-opacity:0;stroke:#000000;\" x=\"116.95\" xlink:href=\"#mf5cfaa4f50\" y=\"61.218125\"/>\n     <use style=\"fill-opacity:0;stroke:#000000;\" x=\"116.95\" xlink:href=\"#mf5cfaa4f50\" y=\"61.218125\"/>\n     <use style=\"fill-opacity:0;stroke:#000000;\" x=\"116.95\" xlink:href=\"#mf5cfaa4f50\" y=\"61.218125\"/>\n     <use style=\"fill-opacity:0;stroke:#000000;\" x=\"116.95\" xlink:href=\"#mf5cfaa4f50\" y=\"61.218125\"/>\n     <use style=\"fill-opacity:0;stroke:#000000;\" x=\"116.95\" xlink:href=\"#mf5cfaa4f50\" y=\"61.218125\"/>\n     <use style=\"fill-opacity:0;stroke:#000000;\" x=\"116.95\" xlink:href=\"#mf5cfaa4f50\" y=\"61.218125\"/>\n     <use style=\"fill-opacity:0;stroke:#000000;\" x=\"116.95\" xlink:href=\"#mf5cfaa4f50\" y=\"61.218125\"/>\n     <use style=\"fill-opacity:0;stroke:#000000;\" x=\"116.95\" xlink:href=\"#mf5cfaa4f50\" y=\"61.218125\"/>\n     <use style=\"fill-opacity:0;stroke:#000000;\" x=\"116.95\" xlink:href=\"#mf5cfaa4f50\" y=\"61.218125\"/>\n     <use style=\"fill-opacity:0;stroke:#000000;\" x=\"116.95\" xlink:href=\"#mf5cfaa4f50\" y=\"61.218125\"/>\n     <use style=\"fill-opacity:0;stroke:#000000;\" x=\"116.95\" xlink:href=\"#mf5cfaa4f50\" y=\"61.218125\"/>\n     <use style=\"fill-opacity:0;stroke:#000000;\" x=\"116.95\" xlink:href=\"#mf5cfaa4f50\" y=\"61.218125\"/>\n     <use style=\"fill-opacity:0;stroke:#000000;\" x=\"116.95\" xlink:href=\"#mf5cfaa4f50\" y=\"61.218125\"/>\n     <use style=\"fill-opacity:0;stroke:#000000;\" x=\"116.95\" xlink:href=\"#mf5cfaa4f50\" y=\"32.927216\"/>\n     <use style=\"fill-opacity:0;stroke:#000000;\" x=\"116.95\" xlink:href=\"#mf5cfaa4f50\" y=\"61.218125\"/>\n     <use style=\"fill-opacity:0;stroke:#000000;\" x=\"116.95\" xlink:href=\"#mf5cfaa4f50\" y=\"61.218125\"/>\n     <use style=\"fill-opacity:0;stroke:#000000;\" x=\"116.95\" xlink:href=\"#mf5cfaa4f50\" y=\"47.07267\"/>\n     <use style=\"fill-opacity:0;stroke:#000000;\" x=\"116.95\" xlink:href=\"#mf5cfaa4f50\" y=\"61.218125\"/>\n     <use style=\"fill-opacity:0;stroke:#000000;\" x=\"116.95\" xlink:href=\"#mf5cfaa4f50\" y=\"61.218125\"/>\n     <use style=\"fill-opacity:0;stroke:#000000;\" x=\"116.95\" xlink:href=\"#mf5cfaa4f50\" y=\"61.218125\"/>\n     <use style=\"fill-opacity:0;stroke:#000000;\" x=\"116.95\" xlink:href=\"#mf5cfaa4f50\" y=\"61.218125\"/>\n     <use style=\"fill-opacity:0;stroke:#000000;\" x=\"116.95\" xlink:href=\"#mf5cfaa4f50\" y=\"61.218125\"/>\n     <use style=\"fill-opacity:0;stroke:#000000;\" x=\"116.95\" xlink:href=\"#mf5cfaa4f50\" y=\"61.218125\"/>\n     <use style=\"fill-opacity:0;stroke:#000000;\" x=\"116.95\" xlink:href=\"#mf5cfaa4f50\" y=\"61.218125\"/>\n     <use style=\"fill-opacity:0;stroke:#000000;\" x=\"116.95\" xlink:href=\"#mf5cfaa4f50\" y=\"61.218125\"/>\n     <use style=\"fill-opacity:0;stroke:#000000;\" x=\"116.95\" xlink:href=\"#mf5cfaa4f50\" y=\"61.218125\"/>\n     <use style=\"fill-opacity:0;stroke:#000000;\" x=\"116.95\" xlink:href=\"#mf5cfaa4f50\" y=\"61.218125\"/>\n     <use style=\"fill-opacity:0;stroke:#000000;\" x=\"116.95\" xlink:href=\"#mf5cfaa4f50\" y=\"61.218125\"/>\n     <use style=\"fill-opacity:0;stroke:#000000;\" x=\"116.95\" xlink:href=\"#mf5cfaa4f50\" y=\"61.218125\"/>\n     <use style=\"fill-opacity:0;stroke:#000000;\" x=\"116.95\" xlink:href=\"#mf5cfaa4f50\" y=\"47.07267\"/>\n     <use style=\"fill-opacity:0;stroke:#000000;\" x=\"116.95\" xlink:href=\"#mf5cfaa4f50\" y=\"61.218125\"/>\n     <use style=\"fill-opacity:0;stroke:#000000;\" x=\"116.95\" xlink:href=\"#mf5cfaa4f50\" y=\"61.218125\"/>\n     <use style=\"fill-opacity:0;stroke:#000000;\" x=\"116.95\" xlink:href=\"#mf5cfaa4f50\" y=\"61.218125\"/>\n     <use style=\"fill-opacity:0;stroke:#000000;\" x=\"116.95\" xlink:href=\"#mf5cfaa4f50\" y=\"61.218125\"/>\n     <use style=\"fill-opacity:0;stroke:#000000;\" x=\"116.95\" xlink:href=\"#mf5cfaa4f50\" y=\"61.218125\"/>\n     <use style=\"fill-opacity:0;stroke:#000000;\" x=\"116.95\" xlink:href=\"#mf5cfaa4f50\" y=\"61.218125\"/>\n     <use style=\"fill-opacity:0;stroke:#000000;\" x=\"116.95\" xlink:href=\"#mf5cfaa4f50\" y=\"61.218125\"/>\n     <use style=\"fill-opacity:0;stroke:#000000;\" x=\"116.95\" xlink:href=\"#mf5cfaa4f50\" y=\"61.218125\"/>\n     <use style=\"fill-opacity:0;stroke:#000000;\" x=\"116.95\" xlink:href=\"#mf5cfaa4f50\" y=\"61.218125\"/>\n     <use style=\"fill-opacity:0;stroke:#000000;\" x=\"116.95\" xlink:href=\"#mf5cfaa4f50\" y=\"61.218125\"/>\n     <use style=\"fill-opacity:0;stroke:#000000;\" x=\"116.95\" xlink:href=\"#mf5cfaa4f50\" y=\"61.218125\"/>\n     <use style=\"fill-opacity:0;stroke:#000000;\" x=\"116.95\" xlink:href=\"#mf5cfaa4f50\" y=\"61.218125\"/>\n     <use style=\"fill-opacity:0;stroke:#000000;\" x=\"116.95\" xlink:href=\"#mf5cfaa4f50\" y=\"47.07267\"/>\n     <use style=\"fill-opacity:0;stroke:#000000;\" x=\"116.95\" xlink:href=\"#mf5cfaa4f50\" y=\"61.218125\"/>\n     <use style=\"fill-opacity:0;stroke:#000000;\" x=\"116.95\" xlink:href=\"#mf5cfaa4f50\" y=\"61.218125\"/>\n     <use style=\"fill-opacity:0;stroke:#000000;\" x=\"116.95\" xlink:href=\"#mf5cfaa4f50\" y=\"61.218125\"/>\n     <use style=\"fill-opacity:0;stroke:#000000;\" x=\"116.95\" xlink:href=\"#mf5cfaa4f50\" y=\"61.218125\"/>\n     <use style=\"fill-opacity:0;stroke:#000000;\" x=\"116.95\" xlink:href=\"#mf5cfaa4f50\" y=\"47.07267\"/>\n     <use style=\"fill-opacity:0;stroke:#000000;\" x=\"116.95\" xlink:href=\"#mf5cfaa4f50\" y=\"61.218125\"/>\n     <use style=\"fill-opacity:0;stroke:#000000;\" x=\"116.95\" xlink:href=\"#mf5cfaa4f50\" y=\"61.218125\"/>\n     <use style=\"fill-opacity:0;stroke:#000000;\" x=\"116.95\" xlink:href=\"#mf5cfaa4f50\" y=\"61.218125\"/>\n     <use style=\"fill-opacity:0;stroke:#000000;\" x=\"116.95\" xlink:href=\"#mf5cfaa4f50\" y=\"61.218125\"/>\n     <use style=\"fill-opacity:0;stroke:#000000;\" x=\"116.95\" xlink:href=\"#mf5cfaa4f50\" y=\"61.218125\"/>\n     <use style=\"fill-opacity:0;stroke:#000000;\" x=\"116.95\" xlink:href=\"#mf5cfaa4f50\" y=\"61.218125\"/>\n     <use style=\"fill-opacity:0;stroke:#000000;\" x=\"116.95\" xlink:href=\"#mf5cfaa4f50\" y=\"61.218125\"/>\n     <use style=\"fill-opacity:0;stroke:#000000;\" x=\"116.95\" xlink:href=\"#mf5cfaa4f50\" y=\"47.07267\"/>\n     <use style=\"fill-opacity:0;stroke:#000000;\" x=\"116.95\" xlink:href=\"#mf5cfaa4f50\" y=\"61.218125\"/>\n     <use style=\"fill-opacity:0;stroke:#000000;\" x=\"116.95\" xlink:href=\"#mf5cfaa4f50\" y=\"61.218125\"/>\n     <use style=\"fill-opacity:0;stroke:#000000;\" x=\"116.95\" xlink:href=\"#mf5cfaa4f50\" y=\"61.218125\"/>\n     <use style=\"fill-opacity:0;stroke:#000000;\" x=\"116.95\" xlink:href=\"#mf5cfaa4f50\" y=\"61.218125\"/>\n     <use style=\"fill-opacity:0;stroke:#000000;\" x=\"116.95\" xlink:href=\"#mf5cfaa4f50\" y=\"61.218125\"/>\n     <use style=\"fill-opacity:0;stroke:#000000;\" x=\"116.95\" xlink:href=\"#mf5cfaa4f50\" y=\"47.07267\"/>\n     <use style=\"fill-opacity:0;stroke:#000000;\" x=\"116.95\" xlink:href=\"#mf5cfaa4f50\" y=\"61.218125\"/>\n     <use style=\"fill-opacity:0;stroke:#000000;\" x=\"116.95\" xlink:href=\"#mf5cfaa4f50\" y=\"47.07267\"/>\n     <use style=\"fill-opacity:0;stroke:#000000;\" x=\"116.95\" xlink:href=\"#mf5cfaa4f50\" y=\"61.218125\"/>\n     <use style=\"fill-opacity:0;stroke:#000000;\" x=\"116.95\" xlink:href=\"#mf5cfaa4f50\" y=\"32.927216\"/>\n     <use style=\"fill-opacity:0;stroke:#000000;\" x=\"116.95\" xlink:href=\"#mf5cfaa4f50\" y=\"61.218125\"/>\n     <use style=\"fill-opacity:0;stroke:#000000;\" x=\"116.95\" xlink:href=\"#mf5cfaa4f50\" y=\"61.218125\"/>\n     <use style=\"fill-opacity:0;stroke:#000000;\" x=\"116.95\" xlink:href=\"#mf5cfaa4f50\" y=\"61.218125\"/>\n     <use style=\"fill-opacity:0;stroke:#000000;\" x=\"116.95\" xlink:href=\"#mf5cfaa4f50\" y=\"61.218125\"/>\n     <use style=\"fill-opacity:0;stroke:#000000;\" x=\"116.95\" xlink:href=\"#mf5cfaa4f50\" y=\"47.07267\"/>\n     <use style=\"fill-opacity:0;stroke:#000000;\" x=\"116.95\" xlink:href=\"#mf5cfaa4f50\" y=\"61.218125\"/>\n     <use style=\"fill-opacity:0;stroke:#000000;\" x=\"116.95\" xlink:href=\"#mf5cfaa4f50\" y=\"61.218125\"/>\n     <use style=\"fill-opacity:0;stroke:#000000;\" x=\"116.95\" xlink:href=\"#mf5cfaa4f50\" y=\"61.218125\"/>\n     <use style=\"fill-opacity:0;stroke:#000000;\" x=\"116.95\" xlink:href=\"#mf5cfaa4f50\" y=\"61.218125\"/>\n     <use style=\"fill-opacity:0;stroke:#000000;\" x=\"116.95\" xlink:href=\"#mf5cfaa4f50\" y=\"61.218125\"/>\n     <use style=\"fill-opacity:0;stroke:#000000;\" x=\"116.95\" xlink:href=\"#mf5cfaa4f50\" y=\"61.218125\"/>\n     <use style=\"fill-opacity:0;stroke:#000000;\" x=\"116.95\" xlink:href=\"#mf5cfaa4f50\" y=\"61.218125\"/>\n     <use style=\"fill-opacity:0;stroke:#000000;\" x=\"116.95\" xlink:href=\"#mf5cfaa4f50\" y=\"61.218125\"/>\n     <use style=\"fill-opacity:0;stroke:#000000;\" x=\"116.95\" xlink:href=\"#mf5cfaa4f50\" y=\"61.218125\"/>\n     <use style=\"fill-opacity:0;stroke:#000000;\" x=\"116.95\" xlink:href=\"#mf5cfaa4f50\" y=\"61.218125\"/>\n     <use style=\"fill-opacity:0;stroke:#000000;\" x=\"116.95\" xlink:href=\"#mf5cfaa4f50\" y=\"61.218125\"/>\n     <use style=\"fill-opacity:0;stroke:#000000;\" x=\"116.95\" xlink:href=\"#mf5cfaa4f50\" y=\"61.218125\"/>\n     <use style=\"fill-opacity:0;stroke:#000000;\" x=\"116.95\" xlink:href=\"#mf5cfaa4f50\" y=\"61.218125\"/>\n     <use style=\"fill-opacity:0;stroke:#000000;\" x=\"116.95\" xlink:href=\"#mf5cfaa4f50\" y=\"61.218125\"/>\n     <use style=\"fill-opacity:0;stroke:#000000;\" x=\"116.95\" xlink:href=\"#mf5cfaa4f50\" y=\"61.218125\"/>\n     <use style=\"fill-opacity:0;stroke:#000000;\" x=\"116.95\" xlink:href=\"#mf5cfaa4f50\" y=\"61.218125\"/>\n     <use style=\"fill-opacity:0;stroke:#000000;\" x=\"116.95\" xlink:href=\"#mf5cfaa4f50\" y=\"61.218125\"/>\n     <use style=\"fill-opacity:0;stroke:#000000;\" x=\"116.95\" xlink:href=\"#mf5cfaa4f50\" y=\"61.218125\"/>\n     <use style=\"fill-opacity:0;stroke:#000000;\" x=\"116.95\" xlink:href=\"#mf5cfaa4f50\" y=\"61.218125\"/>\n     <use style=\"fill-opacity:0;stroke:#000000;\" x=\"116.95\" xlink:href=\"#mf5cfaa4f50\" y=\"47.07267\"/>\n     <use style=\"fill-opacity:0;stroke:#000000;\" x=\"116.95\" xlink:href=\"#mf5cfaa4f50\" y=\"61.218125\"/>\n     <use style=\"fill-opacity:0;stroke:#000000;\" x=\"116.95\" xlink:href=\"#mf5cfaa4f50\" y=\"61.218125\"/>\n     <use style=\"fill-opacity:0;stroke:#000000;\" x=\"116.95\" xlink:href=\"#mf5cfaa4f50\" y=\"61.218125\"/>\n     <use style=\"fill-opacity:0;stroke:#000000;\" x=\"116.95\" xlink:href=\"#mf5cfaa4f50\" y=\"61.218125\"/>\n     <use style=\"fill-opacity:0;stroke:#000000;\" x=\"116.95\" xlink:href=\"#mf5cfaa4f50\" y=\"61.218125\"/>\n     <use style=\"fill-opacity:0;stroke:#000000;\" x=\"116.95\" xlink:href=\"#mf5cfaa4f50\" y=\"61.218125\"/>\n     <use style=\"fill-opacity:0;stroke:#000000;\" x=\"116.95\" xlink:href=\"#mf5cfaa4f50\" y=\"61.218125\"/>\n     <use style=\"fill-opacity:0;stroke:#000000;\" x=\"116.95\" xlink:href=\"#mf5cfaa4f50\" y=\"61.218125\"/>\n     <use style=\"fill-opacity:0;stroke:#000000;\" x=\"116.95\" xlink:href=\"#mf5cfaa4f50\" y=\"61.218125\"/>\n     <use style=\"fill-opacity:0;stroke:#000000;\" x=\"116.95\" xlink:href=\"#mf5cfaa4f50\" y=\"32.927216\"/>\n     <use style=\"fill-opacity:0;stroke:#000000;\" x=\"116.95\" xlink:href=\"#mf5cfaa4f50\" y=\"61.218125\"/>\n     <use style=\"fill-opacity:0;stroke:#000000;\" x=\"116.95\" xlink:href=\"#mf5cfaa4f50\" y=\"61.218125\"/>\n     <use style=\"fill-opacity:0;stroke:#000000;\" x=\"116.95\" xlink:href=\"#mf5cfaa4f50\" y=\"61.218125\"/>\n     <use style=\"fill-opacity:0;stroke:#000000;\" x=\"116.95\" xlink:href=\"#mf5cfaa4f50\" y=\"61.218125\"/>\n     <use style=\"fill-opacity:0;stroke:#000000;\" x=\"116.95\" xlink:href=\"#mf5cfaa4f50\" y=\"61.218125\"/>\n     <use style=\"fill-opacity:0;stroke:#000000;\" x=\"116.95\" xlink:href=\"#mf5cfaa4f50\" y=\"61.218125\"/>\n     <use style=\"fill-opacity:0;stroke:#000000;\" x=\"116.95\" xlink:href=\"#mf5cfaa4f50\" y=\"61.218125\"/>\n     <use style=\"fill-opacity:0;stroke:#000000;\" x=\"116.95\" xlink:href=\"#mf5cfaa4f50\" y=\"61.218125\"/>\n     <use style=\"fill-opacity:0;stroke:#000000;\" x=\"116.95\" xlink:href=\"#mf5cfaa4f50\" y=\"61.218125\"/>\n     <use style=\"fill-opacity:0;stroke:#000000;\" x=\"116.95\" xlink:href=\"#mf5cfaa4f50\" y=\"61.218125\"/>\n     <use style=\"fill-opacity:0;stroke:#000000;\" x=\"116.95\" xlink:href=\"#mf5cfaa4f50\" y=\"61.218125\"/>\n     <use style=\"fill-opacity:0;stroke:#000000;\" x=\"116.95\" xlink:href=\"#mf5cfaa4f50\" y=\"61.218125\"/>\n     <use style=\"fill-opacity:0;stroke:#000000;\" x=\"116.95\" xlink:href=\"#mf5cfaa4f50\" y=\"61.218125\"/>\n     <use style=\"fill-opacity:0;stroke:#000000;\" x=\"116.95\" xlink:href=\"#mf5cfaa4f50\" y=\"61.218125\"/>\n     <use style=\"fill-opacity:0;stroke:#000000;\" x=\"116.95\" xlink:href=\"#mf5cfaa4f50\" y=\"61.218125\"/>\n     <use style=\"fill-opacity:0;stroke:#000000;\" x=\"116.95\" xlink:href=\"#mf5cfaa4f50\" y=\"47.07267\"/>\n     <use style=\"fill-opacity:0;stroke:#000000;\" x=\"116.95\" xlink:href=\"#mf5cfaa4f50\" y=\"47.07267\"/>\n     <use style=\"fill-opacity:0;stroke:#000000;\" x=\"116.95\" xlink:href=\"#mf5cfaa4f50\" y=\"61.218125\"/>\n     <use style=\"fill-opacity:0;stroke:#000000;\" x=\"116.95\" xlink:href=\"#mf5cfaa4f50\" y=\"61.218125\"/>\n     <use style=\"fill-opacity:0;stroke:#000000;\" x=\"116.95\" xlink:href=\"#mf5cfaa4f50\" y=\"61.218125\"/>\n     <use style=\"fill-opacity:0;stroke:#000000;\" x=\"116.95\" xlink:href=\"#mf5cfaa4f50\" y=\"61.218125\"/>\n     <use style=\"fill-opacity:0;stroke:#000000;\" x=\"116.95\" xlink:href=\"#mf5cfaa4f50\" y=\"61.218125\"/>\n     <use style=\"fill-opacity:0;stroke:#000000;\" x=\"116.95\" xlink:href=\"#mf5cfaa4f50\" y=\"61.218125\"/>\n     <use style=\"fill-opacity:0;stroke:#000000;\" x=\"116.95\" xlink:href=\"#mf5cfaa4f50\" y=\"47.07267\"/>\n     <use style=\"fill-opacity:0;stroke:#000000;\" x=\"116.95\" xlink:href=\"#mf5cfaa4f50\" y=\"61.218125\"/>\n     <use style=\"fill-opacity:0;stroke:#000000;\" x=\"116.95\" xlink:href=\"#mf5cfaa4f50\" y=\"47.07267\"/>\n     <use style=\"fill-opacity:0;stroke:#000000;\" x=\"116.95\" xlink:href=\"#mf5cfaa4f50\" y=\"61.218125\"/>\n     <use style=\"fill-opacity:0;stroke:#000000;\" x=\"116.95\" xlink:href=\"#mf5cfaa4f50\" y=\"61.218125\"/>\n     <use style=\"fill-opacity:0;stroke:#000000;\" x=\"116.95\" xlink:href=\"#mf5cfaa4f50\" y=\"61.218125\"/>\n     <use style=\"fill-opacity:0;stroke:#000000;\" x=\"116.95\" xlink:href=\"#mf5cfaa4f50\" y=\"61.218125\"/>\n     <use style=\"fill-opacity:0;stroke:#000000;\" x=\"116.95\" xlink:href=\"#mf5cfaa4f50\" y=\"61.218125\"/>\n     <use style=\"fill-opacity:0;stroke:#000000;\" x=\"116.95\" xlink:href=\"#mf5cfaa4f50\" y=\"61.218125\"/>\n     <use style=\"fill-opacity:0;stroke:#000000;\" x=\"116.95\" xlink:href=\"#mf5cfaa4f50\" y=\"61.218125\"/>\n     <use style=\"fill-opacity:0;stroke:#000000;\" x=\"116.95\" xlink:href=\"#mf5cfaa4f50\" y=\"61.218125\"/>\n     <use style=\"fill-opacity:0;stroke:#000000;\" x=\"116.95\" xlink:href=\"#mf5cfaa4f50\" y=\"61.218125\"/>\n     <use style=\"fill-opacity:0;stroke:#000000;\" x=\"116.95\" xlink:href=\"#mf5cfaa4f50\" y=\"61.218125\"/>\n     <use style=\"fill-opacity:0;stroke:#000000;\" x=\"116.95\" xlink:href=\"#mf5cfaa4f50\" y=\"61.218125\"/>\n     <use style=\"fill-opacity:0;stroke:#000000;\" x=\"116.95\" xlink:href=\"#mf5cfaa4f50\" y=\"61.218125\"/>\n     <use style=\"fill-opacity:0;stroke:#000000;\" x=\"116.95\" xlink:href=\"#mf5cfaa4f50\" y=\"61.218125\"/>\n     <use style=\"fill-opacity:0;stroke:#000000;\" x=\"116.95\" xlink:href=\"#mf5cfaa4f50\" y=\"61.218125\"/>\n     <use style=\"fill-opacity:0;stroke:#000000;\" x=\"116.95\" xlink:href=\"#mf5cfaa4f50\" y=\"47.07267\"/>\n     <use style=\"fill-opacity:0;stroke:#000000;\" x=\"116.95\" xlink:href=\"#mf5cfaa4f50\" y=\"61.218125\"/>\n     <use style=\"fill-opacity:0;stroke:#000000;\" x=\"116.95\" xlink:href=\"#mf5cfaa4f50\" y=\"61.218125\"/>\n     <use style=\"fill-opacity:0;stroke:#000000;\" x=\"116.95\" xlink:href=\"#mf5cfaa4f50\" y=\"61.218125\"/>\n     <use style=\"fill-opacity:0;stroke:#000000;\" x=\"116.95\" xlink:href=\"#mf5cfaa4f50\" y=\"61.218125\"/>\n     <use style=\"fill-opacity:0;stroke:#000000;\" x=\"116.95\" xlink:href=\"#mf5cfaa4f50\" y=\"61.218125\"/>\n     <use style=\"fill-opacity:0;stroke:#000000;\" x=\"116.95\" xlink:href=\"#mf5cfaa4f50\" y=\"61.218125\"/>\n     <use style=\"fill-opacity:0;stroke:#000000;\" x=\"116.95\" xlink:href=\"#mf5cfaa4f50\" y=\"61.218125\"/>\n     <use style=\"fill-opacity:0;stroke:#000000;\" x=\"116.95\" xlink:href=\"#mf5cfaa4f50\" y=\"61.218125\"/>\n    </g>\n   </g>\n   <g id=\"line2d_16\">\n    <path clip-path=\"url(#p2fae0e219e)\" d=\"M 103.44625 131.945398 \nL 130.45375 131.945398 \n\" style=\"fill:none;stroke:#ff7f0e;stroke-linecap:square;\"/>\n   </g>\n   <g id=\"patch_3\">\n    <path d=\"M 26.925 255.718125 \nL 26.925 22.318125 \n\" style=\"fill:none;stroke:#000000;stroke-linecap:square;stroke-linejoin:miter;stroke-width:0.8;\"/>\n   </g>\n   <g id=\"patch_4\">\n    <path d=\"M 206.975 255.718125 \nL 206.975 22.318125 \n\" style=\"fill:none;stroke:#000000;stroke-linecap:square;stroke-linejoin:miter;stroke-width:0.8;\"/>\n   </g>\n   <g id=\"patch_5\">\n    <path d=\"M 26.925 255.718125 \nL 206.975 255.718125 \n\" style=\"fill:none;stroke:#000000;stroke-linecap:square;stroke-linejoin:miter;stroke-width:0.8;\"/>\n   </g>\n   <g id=\"patch_6\">\n    <path d=\"M 26.925 22.318125 \nL 206.975 22.318125 \n\" style=\"fill:none;stroke:#000000;stroke-linecap:square;stroke-linejoin:miter;stroke-width:0.8;\"/>\n   </g>\n   <g id=\"text_10\">\n    <!-- headlines -->\n    <g transform=\"translate(88.015937 16.318125)scale(0.12 -0.12)\">\n     <defs>\n      <path d=\"M 54.890625 33.015625 \nL 54.890625 0 \nL 45.90625 0 \nL 45.90625 32.71875 \nQ 45.90625 40.484375 42.875 44.328125 \nQ 39.84375 48.1875 33.796875 48.1875 \nQ 26.515625 48.1875 22.3125 43.546875 \nQ 18.109375 38.921875 18.109375 30.90625 \nL 18.109375 0 \nL 9.078125 0 \nL 9.078125 75.984375 \nL 18.109375 75.984375 \nL 18.109375 46.1875 \nQ 21.34375 51.125 25.703125 53.5625 \nQ 30.078125 56 35.796875 56 \nQ 45.21875 56 50.046875 50.171875 \nQ 54.890625 44.34375 54.890625 33.015625 \nz\n\" id=\"DejaVuSans-104\"/>\n      <path d=\"M 56.203125 29.59375 \nL 56.203125 25.203125 \nL 14.890625 25.203125 \nQ 15.484375 15.921875 20.484375 11.0625 \nQ 25.484375 6.203125 34.421875 6.203125 \nQ 39.59375 6.203125 44.453125 7.46875 \nQ 49.3125 8.734375 54.109375 11.28125 \nL 54.109375 2.78125 \nQ 49.265625 0.734375 44.1875 -0.34375 \nQ 39.109375 -1.421875 33.890625 -1.421875 \nQ 20.796875 -1.421875 13.15625 6.1875 \nQ 5.515625 13.8125 5.515625 26.8125 \nQ 5.515625 40.234375 12.765625 48.109375 \nQ 20.015625 56 32.328125 56 \nQ 43.359375 56 49.78125 48.890625 \nQ 56.203125 41.796875 56.203125 29.59375 \nz\nM 47.21875 32.234375 \nQ 47.125 39.59375 43.09375 43.984375 \nQ 39.0625 48.390625 32.421875 48.390625 \nQ 24.90625 48.390625 20.390625 44.140625 \nQ 15.875 39.890625 15.1875 32.171875 \nz\n\" id=\"DejaVuSans-101\"/>\n      <path d=\"M 34.28125 27.484375 \nQ 23.390625 27.484375 19.1875 25 \nQ 14.984375 22.515625 14.984375 16.5 \nQ 14.984375 11.71875 18.140625 8.90625 \nQ 21.296875 6.109375 26.703125 6.109375 \nQ 34.1875 6.109375 38.703125 11.40625 \nQ 43.21875 16.703125 43.21875 25.484375 \nL 43.21875 27.484375 \nz\nM 52.203125 31.203125 \nL 52.203125 0 \nL 43.21875 0 \nL 43.21875 8.296875 \nQ 40.140625 3.328125 35.546875 0.953125 \nQ 30.953125 -1.421875 24.3125 -1.421875 \nQ 15.921875 -1.421875 10.953125 3.296875 \nQ 6 8.015625 6 15.921875 \nQ 6 25.140625 12.171875 29.828125 \nQ 18.359375 34.515625 30.609375 34.515625 \nL 43.21875 34.515625 \nL 43.21875 35.40625 \nQ 43.21875 41.609375 39.140625 45 \nQ 35.0625 48.390625 27.6875 48.390625 \nQ 23 48.390625 18.546875 47.265625 \nQ 14.109375 46.140625 10.015625 43.890625 \nL 10.015625 52.203125 \nQ 14.9375 54.109375 19.578125 55.046875 \nQ 24.21875 56 28.609375 56 \nQ 40.484375 56 46.34375 49.84375 \nQ 52.203125 43.703125 52.203125 31.203125 \nz\n\" id=\"DejaVuSans-97\"/>\n      <path d=\"M 45.40625 46.390625 \nL 45.40625 75.984375 \nL 54.390625 75.984375 \nL 54.390625 0 \nL 45.40625 0 \nL 45.40625 8.203125 \nQ 42.578125 3.328125 38.25 0.953125 \nQ 33.9375 -1.421875 27.875 -1.421875 \nQ 17.96875 -1.421875 11.734375 6.484375 \nQ 5.515625 14.40625 5.515625 27.296875 \nQ 5.515625 40.1875 11.734375 48.09375 \nQ 17.96875 56 27.875 56 \nQ 33.9375 56 38.25 53.625 \nQ 42.578125 51.265625 45.40625 46.390625 \nz\nM 14.796875 27.296875 \nQ 14.796875 17.390625 18.875 11.75 \nQ 22.953125 6.109375 30.078125 6.109375 \nQ 37.203125 6.109375 41.296875 11.75 \nQ 45.40625 17.390625 45.40625 27.296875 \nQ 45.40625 37.203125 41.296875 42.84375 \nQ 37.203125 48.484375 30.078125 48.484375 \nQ 22.953125 48.484375 18.875 42.84375 \nQ 14.796875 37.203125 14.796875 27.296875 \nz\n\" id=\"DejaVuSans-100\"/>\n      <path d=\"M 9.421875 75.984375 \nL 18.40625 75.984375 \nL 18.40625 0 \nL 9.421875 0 \nz\n\" id=\"DejaVuSans-108\"/>\n      <path d=\"M 9.421875 54.6875 \nL 18.40625 54.6875 \nL 18.40625 0 \nL 9.421875 0 \nz\nM 9.421875 75.984375 \nL 18.40625 75.984375 \nL 18.40625 64.59375 \nL 9.421875 64.59375 \nz\n\" id=\"DejaVuSans-105\"/>\n      <path d=\"M 54.890625 33.015625 \nL 54.890625 0 \nL 45.90625 0 \nL 45.90625 32.71875 \nQ 45.90625 40.484375 42.875 44.328125 \nQ 39.84375 48.1875 33.796875 48.1875 \nQ 26.515625 48.1875 22.3125 43.546875 \nQ 18.109375 38.921875 18.109375 30.90625 \nL 18.109375 0 \nL 9.078125 0 \nL 9.078125 54.6875 \nL 18.109375 54.6875 \nL 18.109375 46.1875 \nQ 21.34375 51.125 25.703125 53.5625 \nQ 30.078125 56 35.796875 56 \nQ 45.21875 56 50.046875 50.171875 \nQ 54.890625 44.34375 54.890625 33.015625 \nz\n\" id=\"DejaVuSans-110\"/>\n      <path d=\"M 44.28125 53.078125 \nL 44.28125 44.578125 \nQ 40.484375 46.53125 36.375 47.5 \nQ 32.28125 48.484375 27.875 48.484375 \nQ 21.1875 48.484375 17.84375 46.4375 \nQ 14.5 44.390625 14.5 40.28125 \nQ 14.5 37.15625 16.890625 35.375 \nQ 19.28125 33.59375 26.515625 31.984375 \nL 29.59375 31.296875 \nQ 39.15625 29.25 43.1875 25.515625 \nQ 47.21875 21.78125 47.21875 15.09375 \nQ 47.21875 7.46875 41.1875 3.015625 \nQ 35.15625 -1.421875 24.609375 -1.421875 \nQ 20.21875 -1.421875 15.453125 -0.5625 \nQ 10.6875 0.296875 5.421875 2 \nL 5.421875 11.28125 \nQ 10.40625 8.6875 15.234375 7.390625 \nQ 20.0625 6.109375 24.8125 6.109375 \nQ 31.15625 6.109375 34.5625 8.28125 \nQ 37.984375 10.453125 37.984375 14.40625 \nQ 37.984375 18.0625 35.515625 20.015625 \nQ 33.0625 21.96875 24.703125 23.78125 \nL 21.578125 24.515625 \nQ 13.234375 26.265625 9.515625 29.90625 \nQ 5.8125 33.546875 5.8125 39.890625 \nQ 5.8125 47.609375 11.28125 51.796875 \nQ 16.75 56 26.8125 56 \nQ 31.78125 56 36.171875 55.265625 \nQ 40.578125 54.546875 44.28125 53.078125 \nz\n\" id=\"DejaVuSans-115\"/>\n     </defs>\n     <use xlink:href=\"#DejaVuSans-104\"/>\n     <use x=\"63.378906\" xlink:href=\"#DejaVuSans-101\"/>\n     <use x=\"124.902344\" xlink:href=\"#DejaVuSans-97\"/>\n     <use x=\"186.181641\" xlink:href=\"#DejaVuSans-100\"/>\n     <use x=\"249.658203\" xlink:href=\"#DejaVuSans-108\"/>\n     <use x=\"277.441406\" xlink:href=\"#DejaVuSans-105\"/>\n     <use x=\"305.224609\" xlink:href=\"#DejaVuSans-110\"/>\n     <use x=\"368.603516\" xlink:href=\"#DejaVuSans-101\"/>\n     <use x=\"430.126953\" xlink:href=\"#DejaVuSans-115\"/>\n    </g>\n   </g>\n  </g>\n  <g id=\"axes_2\">\n   <g id=\"patch_7\">\n    <path d=\"M 237.525 255.718125 \nL 417.575 255.718125 \nL 417.575 22.318125 \nL 237.525 22.318125 \nz\n\" style=\"fill:#ffffff;\"/>\n   </g>\n   <g id=\"matplotlib.axis_3\">\n    <g id=\"xtick_2\">\n     <g id=\"line2d_17\">\n      <g>\n       <use style=\"stroke:#000000;stroke-width:0.8;\" x=\"327.55\" xlink:href=\"#m36b2a05c95\" y=\"255.718125\"/>\n      </g>\n     </g>\n     <g id=\"text_11\">\n      <!-- 1 -->\n      <g transform=\"translate(324.36875 270.316563)scale(0.1 -0.1)\">\n       <use xlink:href=\"#DejaVuSans-49\"/>\n      </g>\n     </g>\n    </g>\n   </g>\n   <g id=\"matplotlib.axis_4\">\n    <g id=\"ytick_9\">\n     <g id=\"line2d_18\">\n      <g>\n       <use style=\"stroke:#000000;stroke-width:0.8;\" x=\"237.525\" xlink:href=\"#m96c7d8676b\" y=\"248.705336\"/>\n      </g>\n     </g>\n     <g id=\"text_12\">\n      <!-- 0 -->\n      <g transform=\"translate(224.1625 252.504555)scale(0.1 -0.1)\">\n       <use xlink:href=\"#DejaVuSans-48\"/>\n      </g>\n     </g>\n    </g>\n    <g id=\"ytick_10\">\n     <g id=\"line2d_19\">\n      <g>\n       <use style=\"stroke:#000000;stroke-width:0.8;\" x=\"237.525\" xlink:href=\"#m96c7d8676b\" y=\"212.742316\"/>\n      </g>\n     </g>\n     <g id=\"text_13\">\n      <!-- 10 -->\n      <g transform=\"translate(217.8 216.541535)scale(0.1 -0.1)\">\n       <use xlink:href=\"#DejaVuSans-49\"/>\n       <use x=\"63.623047\" xlink:href=\"#DejaVuSans-48\"/>\n      </g>\n     </g>\n    </g>\n    <g id=\"ytick_11\">\n     <g id=\"line2d_20\">\n      <g>\n       <use style=\"stroke:#000000;stroke-width:0.8;\" x=\"237.525\" xlink:href=\"#m96c7d8676b\" y=\"176.779296\"/>\n      </g>\n     </g>\n     <g id=\"text_14\">\n      <!-- 20 -->\n      <g transform=\"translate(217.8 180.578515)scale(0.1 -0.1)\">\n       <use xlink:href=\"#DejaVuSans-50\"/>\n       <use x=\"63.623047\" xlink:href=\"#DejaVuSans-48\"/>\n      </g>\n     </g>\n    </g>\n    <g id=\"ytick_12\">\n     <g id=\"line2d_21\">\n      <g>\n       <use style=\"stroke:#000000;stroke-width:0.8;\" x=\"237.525\" xlink:href=\"#m96c7d8676b\" y=\"140.816276\"/>\n      </g>\n     </g>\n     <g id=\"text_15\">\n      <!-- 30 -->\n      <g transform=\"translate(217.8 144.615495)scale(0.1 -0.1)\">\n       <defs>\n        <path d=\"M 40.578125 39.3125 \nQ 47.65625 37.796875 51.625 33 \nQ 55.609375 28.21875 55.609375 21.1875 \nQ 55.609375 10.40625 48.1875 4.484375 \nQ 40.765625 -1.421875 27.09375 -1.421875 \nQ 22.515625 -1.421875 17.65625 -0.515625 \nQ 12.796875 0.390625 7.625 2.203125 \nL 7.625 11.71875 \nQ 11.71875 9.328125 16.59375 8.109375 \nQ 21.484375 6.890625 26.8125 6.890625 \nQ 36.078125 6.890625 40.9375 10.546875 \nQ 45.796875 14.203125 45.796875 21.1875 \nQ 45.796875 27.640625 41.28125 31.265625 \nQ 36.765625 34.90625 28.71875 34.90625 \nL 20.21875 34.90625 \nL 20.21875 43.015625 \nL 29.109375 43.015625 \nQ 36.375 43.015625 40.234375 45.921875 \nQ 44.09375 48.828125 44.09375 54.296875 \nQ 44.09375 59.90625 40.109375 62.90625 \nQ 36.140625 65.921875 28.71875 65.921875 \nQ 24.65625 65.921875 20.015625 65.03125 \nQ 15.375 64.15625 9.8125 62.3125 \nL 9.8125 71.09375 \nQ 15.4375 72.65625 20.34375 73.4375 \nQ 25.25 74.21875 29.59375 74.21875 \nQ 40.828125 74.21875 47.359375 69.109375 \nQ 53.90625 64.015625 53.90625 55.328125 \nQ 53.90625 49.265625 50.4375 45.09375 \nQ 46.96875 40.921875 40.578125 39.3125 \nz\n\" id=\"DejaVuSans-51\"/>\n       </defs>\n       <use xlink:href=\"#DejaVuSans-51\"/>\n       <use x=\"63.623047\" xlink:href=\"#DejaVuSans-48\"/>\n      </g>\n     </g>\n    </g>\n    <g id=\"ytick_13\">\n     <g id=\"line2d_22\">\n      <g>\n       <use style=\"stroke:#000000;stroke-width:0.8;\" x=\"237.525\" xlink:href=\"#m96c7d8676b\" y=\"104.853256\"/>\n      </g>\n     </g>\n     <g id=\"text_16\">\n      <!-- 40 -->\n      <g transform=\"translate(217.8 108.652475)scale(0.1 -0.1)\">\n       <use xlink:href=\"#DejaVuSans-52\"/>\n       <use x=\"63.623047\" xlink:href=\"#DejaVuSans-48\"/>\n      </g>\n     </g>\n    </g>\n    <g id=\"ytick_14\">\n     <g id=\"line2d_23\">\n      <g>\n       <use style=\"stroke:#000000;stroke-width:0.8;\" x=\"237.525\" xlink:href=\"#m96c7d8676b\" y=\"68.890236\"/>\n      </g>\n     </g>\n     <g id=\"text_17\">\n      <!-- 50 -->\n      <g transform=\"translate(217.8 72.689455)scale(0.1 -0.1)\">\n       <defs>\n        <path d=\"M 10.796875 72.90625 \nL 49.515625 72.90625 \nL 49.515625 64.59375 \nL 19.828125 64.59375 \nL 19.828125 46.734375 \nQ 21.96875 47.46875 24.109375 47.828125 \nQ 26.265625 48.1875 28.421875 48.1875 \nQ 40.625 48.1875 47.75 41.5 \nQ 54.890625 34.8125 54.890625 23.390625 \nQ 54.890625 11.625 47.5625 5.09375 \nQ 40.234375 -1.421875 26.90625 -1.421875 \nQ 22.3125 -1.421875 17.546875 -0.640625 \nQ 12.796875 0.140625 7.71875 1.703125 \nL 7.71875 11.625 \nQ 12.109375 9.234375 16.796875 8.0625 \nQ 21.484375 6.890625 26.703125 6.890625 \nQ 35.15625 6.890625 40.078125 11.328125 \nQ 45.015625 15.765625 45.015625 23.390625 \nQ 45.015625 31 40.078125 35.4375 \nQ 35.15625 39.890625 26.703125 39.890625 \nQ 22.75 39.890625 18.8125 39.015625 \nQ 14.890625 38.140625 10.796875 36.28125 \nz\n\" id=\"DejaVuSans-53\"/>\n       </defs>\n       <use xlink:href=\"#DejaVuSans-53\"/>\n       <use x=\"63.623047\" xlink:href=\"#DejaVuSans-48\"/>\n      </g>\n     </g>\n    </g>\n    <g id=\"ytick_15\">\n     <g id=\"line2d_24\">\n      <g>\n       <use style=\"stroke:#000000;stroke-width:0.8;\" x=\"237.525\" xlink:href=\"#m96c7d8676b\" y=\"32.927216\"/>\n      </g>\n     </g>\n     <g id=\"text_18\">\n      <!-- 60 -->\n      <g transform=\"translate(217.8 36.726435)scale(0.1 -0.1)\">\n       <use xlink:href=\"#DejaVuSans-54\"/>\n       <use x=\"63.623047\" xlink:href=\"#DejaVuSans-48\"/>\n      </g>\n     </g>\n    </g>\n   </g>\n   <g id=\"line2d_25\">\n    <path clip-path=\"url(#p1e9e2a1630)\" d=\"M 314.04625 130.02737 \nL 341.05375 130.02737 \nL 341.05375 112.04586 \nL 314.04625 112.04586 \nL 314.04625 130.02737 \n\" style=\"fill:none;stroke:#000000;stroke-linecap:square;\"/>\n   </g>\n   <g id=\"line2d_26\">\n    <path clip-path=\"url(#p1e9e2a1630)\" d=\"M 327.55 130.02737 \nL 327.55 155.201484 \n\" style=\"fill:none;stroke:#000000;stroke-linecap:square;\"/>\n   </g>\n   <g id=\"line2d_27\">\n    <path clip-path=\"url(#p1e9e2a1630)\" d=\"M 327.55 112.04586 \nL 327.55 86.871746 \n\" style=\"fill:none;stroke:#000000;stroke-linecap:square;\"/>\n   </g>\n   <g id=\"line2d_28\">\n    <path clip-path=\"url(#p1e9e2a1630)\" d=\"M 320.798125 155.201484 \nL 334.301875 155.201484 \n\" style=\"fill:none;stroke:#000000;stroke-linecap:square;\"/>\n   </g>\n   <g id=\"line2d_29\">\n    <path clip-path=\"url(#p1e9e2a1630)\" d=\"M 320.798125 86.871746 \nL 334.301875 86.871746 \n\" style=\"fill:none;stroke:#000000;stroke-linecap:square;\"/>\n   </g>\n   <g id=\"line2d_30\">\n    <g clip-path=\"url(#p1e9e2a1630)\">\n     <use style=\"fill-opacity:0;stroke:#000000;\" x=\"327.55\" xlink:href=\"#mf5cfaa4f50\" y=\"245.109034\"/>\n     <use style=\"fill-opacity:0;stroke:#000000;\" x=\"327.55\" xlink:href=\"#mf5cfaa4f50\" y=\"162.394088\"/>\n     <use style=\"fill-opacity:0;stroke:#000000;\" x=\"327.55\" xlink:href=\"#mf5cfaa4f50\" y=\"158.797786\"/>\n     <use style=\"fill-opacity:0;stroke:#000000;\" x=\"327.55\" xlink:href=\"#mf5cfaa4f50\" y=\"162.394088\"/>\n     <use style=\"fill-opacity:0;stroke:#000000;\" x=\"327.55\" xlink:href=\"#mf5cfaa4f50\" y=\"158.797786\"/>\n     <use style=\"fill-opacity:0;stroke:#000000;\" x=\"327.55\" xlink:href=\"#mf5cfaa4f50\" y=\"158.797786\"/>\n     <use style=\"fill-opacity:0;stroke:#000000;\" x=\"327.55\" xlink:href=\"#mf5cfaa4f50\" y=\"158.797786\"/>\n     <use style=\"fill-opacity:0;stroke:#000000;\" x=\"327.55\" xlink:href=\"#mf5cfaa4f50\" y=\"162.394088\"/>\n     <use style=\"fill-opacity:0;stroke:#000000;\" x=\"327.55\" xlink:href=\"#mf5cfaa4f50\" y=\"162.394088\"/>\n     <use style=\"fill-opacity:0;stroke:#000000;\" x=\"327.55\" xlink:href=\"#mf5cfaa4f50\" y=\"162.394088\"/>\n     <use style=\"fill-opacity:0;stroke:#000000;\" x=\"327.55\" xlink:href=\"#mf5cfaa4f50\" y=\"158.797786\"/>\n     <use style=\"fill-opacity:0;stroke:#000000;\" x=\"327.55\" xlink:href=\"#mf5cfaa4f50\" y=\"158.797786\"/>\n     <use style=\"fill-opacity:0;stroke:#000000;\" x=\"327.55\" xlink:href=\"#mf5cfaa4f50\" y=\"158.797786\"/>\n     <use style=\"fill-opacity:0;stroke:#000000;\" x=\"327.55\" xlink:href=\"#mf5cfaa4f50\" y=\"158.797786\"/>\n     <use style=\"fill-opacity:0;stroke:#000000;\" x=\"327.55\" xlink:href=\"#mf5cfaa4f50\" y=\"158.797786\"/>\n     <use style=\"fill-opacity:0;stroke:#000000;\" x=\"327.55\" xlink:href=\"#mf5cfaa4f50\" y=\"158.797786\"/>\n     <use style=\"fill-opacity:0;stroke:#000000;\" x=\"327.55\" xlink:href=\"#mf5cfaa4f50\" y=\"158.797786\"/>\n     <use style=\"fill-opacity:0;stroke:#000000;\" x=\"327.55\" xlink:href=\"#mf5cfaa4f50\" y=\"169.586692\"/>\n     <use style=\"fill-opacity:0;stroke:#000000;\" x=\"327.55\" xlink:href=\"#mf5cfaa4f50\" y=\"158.797786\"/>\n     <use style=\"fill-opacity:0;stroke:#000000;\" x=\"327.55\" xlink:href=\"#mf5cfaa4f50\" y=\"165.99039\"/>\n     <use style=\"fill-opacity:0;stroke:#000000;\" x=\"327.55\" xlink:href=\"#mf5cfaa4f50\" y=\"158.797786\"/>\n     <use style=\"fill-opacity:0;stroke:#000000;\" x=\"327.55\" xlink:href=\"#mf5cfaa4f50\" y=\"158.797786\"/>\n     <use style=\"fill-opacity:0;stroke:#000000;\" x=\"327.55\" xlink:href=\"#mf5cfaa4f50\" y=\"162.394088\"/>\n     <use style=\"fill-opacity:0;stroke:#000000;\" x=\"327.55\" xlink:href=\"#mf5cfaa4f50\" y=\"158.797786\"/>\n     <use style=\"fill-opacity:0;stroke:#000000;\" x=\"327.55\" xlink:href=\"#mf5cfaa4f50\" y=\"158.797786\"/>\n     <use style=\"fill-opacity:0;stroke:#000000;\" x=\"327.55\" xlink:href=\"#mf5cfaa4f50\" y=\"158.797786\"/>\n     <use style=\"fill-opacity:0;stroke:#000000;\" x=\"327.55\" xlink:href=\"#mf5cfaa4f50\" y=\"158.797786\"/>\n     <use style=\"fill-opacity:0;stroke:#000000;\" x=\"327.55\" xlink:href=\"#mf5cfaa4f50\" y=\"162.394088\"/>\n     <use style=\"fill-opacity:0;stroke:#000000;\" x=\"327.55\" xlink:href=\"#mf5cfaa4f50\" y=\"158.797786\"/>\n     <use style=\"fill-opacity:0;stroke:#000000;\" x=\"327.55\" xlink:href=\"#mf5cfaa4f50\" y=\"158.797786\"/>\n     <use style=\"fill-opacity:0;stroke:#000000;\" x=\"327.55\" xlink:href=\"#mf5cfaa4f50\" y=\"158.797786\"/>\n     <use style=\"fill-opacity:0;stroke:#000000;\" x=\"327.55\" xlink:href=\"#mf5cfaa4f50\" y=\"158.797786\"/>\n     <use style=\"fill-opacity:0;stroke:#000000;\" x=\"327.55\" xlink:href=\"#mf5cfaa4f50\" y=\"165.99039\"/>\n     <use style=\"fill-opacity:0;stroke:#000000;\" x=\"327.55\" xlink:href=\"#mf5cfaa4f50\" y=\"162.394088\"/>\n     <use style=\"fill-opacity:0;stroke:#000000;\" x=\"327.55\" xlink:href=\"#mf5cfaa4f50\" y=\"158.797786\"/>\n     <use style=\"fill-opacity:0;stroke:#000000;\" x=\"327.55\" xlink:href=\"#mf5cfaa4f50\" y=\"165.99039\"/>\n     <use style=\"fill-opacity:0;stroke:#000000;\" x=\"327.55\" xlink:href=\"#mf5cfaa4f50\" y=\"158.797786\"/>\n     <use style=\"fill-opacity:0;stroke:#000000;\" x=\"327.55\" xlink:href=\"#mf5cfaa4f50\" y=\"158.797786\"/>\n     <use style=\"fill-opacity:0;stroke:#000000;\" x=\"327.55\" xlink:href=\"#mf5cfaa4f50\" y=\"158.797786\"/>\n     <use style=\"fill-opacity:0;stroke:#000000;\" x=\"327.55\" xlink:href=\"#mf5cfaa4f50\" y=\"162.394088\"/>\n     <use style=\"fill-opacity:0;stroke:#000000;\" x=\"327.55\" xlink:href=\"#mf5cfaa4f50\" y=\"162.394088\"/>\n     <use style=\"fill-opacity:0;stroke:#000000;\" x=\"327.55\" xlink:href=\"#mf5cfaa4f50\" y=\"162.394088\"/>\n     <use style=\"fill-opacity:0;stroke:#000000;\" x=\"327.55\" xlink:href=\"#mf5cfaa4f50\" y=\"162.394088\"/>\n     <use style=\"fill-opacity:0;stroke:#000000;\" x=\"327.55\" xlink:href=\"#mf5cfaa4f50\" y=\"162.394088\"/>\n     <use style=\"fill-opacity:0;stroke:#000000;\" x=\"327.55\" xlink:href=\"#mf5cfaa4f50\" y=\"173.182994\"/>\n     <use style=\"fill-opacity:0;stroke:#000000;\" x=\"327.55\" xlink:href=\"#mf5cfaa4f50\" y=\"158.797786\"/>\n     <use style=\"fill-opacity:0;stroke:#000000;\" x=\"327.55\" xlink:href=\"#mf5cfaa4f50\" y=\"162.394088\"/>\n     <use style=\"fill-opacity:0;stroke:#000000;\" x=\"327.55\" xlink:href=\"#mf5cfaa4f50\" y=\"158.797786\"/>\n     <use style=\"fill-opacity:0;stroke:#000000;\" x=\"327.55\" xlink:href=\"#mf5cfaa4f50\" y=\"158.797786\"/>\n     <use style=\"fill-opacity:0;stroke:#000000;\" x=\"327.55\" xlink:href=\"#mf5cfaa4f50\" y=\"158.797786\"/>\n     <use style=\"fill-opacity:0;stroke:#000000;\" x=\"327.55\" xlink:href=\"#mf5cfaa4f50\" y=\"158.797786\"/>\n     <use style=\"fill-opacity:0;stroke:#000000;\" x=\"327.55\" xlink:href=\"#mf5cfaa4f50\" y=\"158.797786\"/>\n     <use style=\"fill-opacity:0;stroke:#000000;\" x=\"327.55\" xlink:href=\"#mf5cfaa4f50\" y=\"169.586692\"/>\n     <use style=\"fill-opacity:0;stroke:#000000;\" x=\"327.55\" xlink:href=\"#mf5cfaa4f50\" y=\"158.797786\"/>\n     <use style=\"fill-opacity:0;stroke:#000000;\" x=\"327.55\" xlink:href=\"#mf5cfaa4f50\" y=\"158.797786\"/>\n     <use style=\"fill-opacity:0;stroke:#000000;\" x=\"327.55\" xlink:href=\"#mf5cfaa4f50\" y=\"162.394088\"/>\n     <use style=\"fill-opacity:0;stroke:#000000;\" x=\"327.55\" xlink:href=\"#mf5cfaa4f50\" y=\"158.797786\"/>\n     <use style=\"fill-opacity:0;stroke:#000000;\" x=\"327.55\" xlink:href=\"#mf5cfaa4f50\" y=\"165.99039\"/>\n     <use style=\"fill-opacity:0;stroke:#000000;\" x=\"327.55\" xlink:href=\"#mf5cfaa4f50\" y=\"162.394088\"/>\n     <use style=\"fill-opacity:0;stroke:#000000;\" x=\"327.55\" xlink:href=\"#mf5cfaa4f50\" y=\"165.99039\"/>\n     <use style=\"fill-opacity:0;stroke:#000000;\" x=\"327.55\" xlink:href=\"#mf5cfaa4f50\" y=\"176.779296\"/>\n     <use style=\"fill-opacity:0;stroke:#000000;\" x=\"327.55\" xlink:href=\"#mf5cfaa4f50\" y=\"158.797786\"/>\n     <use style=\"fill-opacity:0;stroke:#000000;\" x=\"327.55\" xlink:href=\"#mf5cfaa4f50\" y=\"173.182994\"/>\n     <use style=\"fill-opacity:0;stroke:#000000;\" x=\"327.55\" xlink:href=\"#mf5cfaa4f50\" y=\"162.394088\"/>\n     <use style=\"fill-opacity:0;stroke:#000000;\" x=\"327.55\" xlink:href=\"#mf5cfaa4f50\" y=\"158.797786\"/>\n     <use style=\"fill-opacity:0;stroke:#000000;\" x=\"327.55\" xlink:href=\"#mf5cfaa4f50\" y=\"158.797786\"/>\n     <use style=\"fill-opacity:0;stroke:#000000;\" x=\"327.55\" xlink:href=\"#mf5cfaa4f50\" y=\"180.375598\"/>\n     <use style=\"fill-opacity:0;stroke:#000000;\" x=\"327.55\" xlink:href=\"#mf5cfaa4f50\" y=\"162.394088\"/>\n     <use style=\"fill-opacity:0;stroke:#000000;\" x=\"327.55\" xlink:href=\"#mf5cfaa4f50\" y=\"158.797786\"/>\n     <use style=\"fill-opacity:0;stroke:#000000;\" x=\"327.55\" xlink:href=\"#mf5cfaa4f50\" y=\"158.797786\"/>\n     <use style=\"fill-opacity:0;stroke:#000000;\" x=\"327.55\" xlink:href=\"#mf5cfaa4f50\" y=\"158.797786\"/>\n     <use style=\"fill-opacity:0;stroke:#000000;\" x=\"327.55\" xlink:href=\"#mf5cfaa4f50\" y=\"158.797786\"/>\n     <use style=\"fill-opacity:0;stroke:#000000;\" x=\"327.55\" xlink:href=\"#mf5cfaa4f50\" y=\"158.797786\"/>\n     <use style=\"fill-opacity:0;stroke:#000000;\" x=\"327.55\" xlink:href=\"#mf5cfaa4f50\" y=\"158.797786\"/>\n     <use style=\"fill-opacity:0;stroke:#000000;\" x=\"327.55\" xlink:href=\"#mf5cfaa4f50\" y=\"173.182994\"/>\n     <use style=\"fill-opacity:0;stroke:#000000;\" x=\"327.55\" xlink:href=\"#mf5cfaa4f50\" y=\"158.797786\"/>\n     <use style=\"fill-opacity:0;stroke:#000000;\" x=\"327.55\" xlink:href=\"#mf5cfaa4f50\" y=\"158.797786\"/>\n     <use style=\"fill-opacity:0;stroke:#000000;\" x=\"327.55\" xlink:href=\"#mf5cfaa4f50\" y=\"162.394088\"/>\n     <use style=\"fill-opacity:0;stroke:#000000;\" x=\"327.55\" xlink:href=\"#mf5cfaa4f50\" y=\"158.797786\"/>\n     <use style=\"fill-opacity:0;stroke:#000000;\" x=\"327.55\" xlink:href=\"#mf5cfaa4f50\" y=\"162.394088\"/>\n     <use style=\"fill-opacity:0;stroke:#000000;\" x=\"327.55\" xlink:href=\"#mf5cfaa4f50\" y=\"158.797786\"/>\n     <use style=\"fill-opacity:0;stroke:#000000;\" x=\"327.55\" xlink:href=\"#mf5cfaa4f50\" y=\"158.797786\"/>\n     <use style=\"fill-opacity:0;stroke:#000000;\" x=\"327.55\" xlink:href=\"#mf5cfaa4f50\" y=\"162.394088\"/>\n     <use style=\"fill-opacity:0;stroke:#000000;\" x=\"327.55\" xlink:href=\"#mf5cfaa4f50\" y=\"158.797786\"/>\n     <use style=\"fill-opacity:0;stroke:#000000;\" x=\"327.55\" xlink:href=\"#mf5cfaa4f50\" y=\"165.99039\"/>\n     <use style=\"fill-opacity:0;stroke:#000000;\" x=\"327.55\" xlink:href=\"#mf5cfaa4f50\" y=\"158.797786\"/>\n     <use style=\"fill-opacity:0;stroke:#000000;\" x=\"327.55\" xlink:href=\"#mf5cfaa4f50\" y=\"162.394088\"/>\n     <use style=\"fill-opacity:0;stroke:#000000;\" x=\"327.55\" xlink:href=\"#mf5cfaa4f50\" y=\"158.797786\"/>\n     <use style=\"fill-opacity:0;stroke:#000000;\" x=\"327.55\" xlink:href=\"#mf5cfaa4f50\" y=\"165.99039\"/>\n     <use style=\"fill-opacity:0;stroke:#000000;\" x=\"327.55\" xlink:href=\"#mf5cfaa4f50\" y=\"165.99039\"/>\n     <use style=\"fill-opacity:0;stroke:#000000;\" x=\"327.55\" xlink:href=\"#mf5cfaa4f50\" y=\"158.797786\"/>\n     <use style=\"fill-opacity:0;stroke:#000000;\" x=\"327.55\" xlink:href=\"#mf5cfaa4f50\" y=\"158.797786\"/>\n     <use style=\"fill-opacity:0;stroke:#000000;\" x=\"327.55\" xlink:href=\"#mf5cfaa4f50\" y=\"158.797786\"/>\n     <use style=\"fill-opacity:0;stroke:#000000;\" x=\"327.55\" xlink:href=\"#mf5cfaa4f50\" y=\"162.394088\"/>\n     <use style=\"fill-opacity:0;stroke:#000000;\" x=\"327.55\" xlink:href=\"#mf5cfaa4f50\" y=\"158.797786\"/>\n     <use style=\"fill-opacity:0;stroke:#000000;\" x=\"327.55\" xlink:href=\"#mf5cfaa4f50\" y=\"158.797786\"/>\n     <use style=\"fill-opacity:0;stroke:#000000;\" x=\"327.55\" xlink:href=\"#mf5cfaa4f50\" y=\"158.797786\"/>\n     <use style=\"fill-opacity:0;stroke:#000000;\" x=\"327.55\" xlink:href=\"#mf5cfaa4f50\" y=\"173.182994\"/>\n     <use style=\"fill-opacity:0;stroke:#000000;\" x=\"327.55\" xlink:href=\"#mf5cfaa4f50\" y=\"158.797786\"/>\n     <use style=\"fill-opacity:0;stroke:#000000;\" x=\"327.55\" xlink:href=\"#mf5cfaa4f50\" y=\"162.394088\"/>\n     <use style=\"fill-opacity:0;stroke:#000000;\" x=\"327.55\" xlink:href=\"#mf5cfaa4f50\" y=\"162.394088\"/>\n     <use style=\"fill-opacity:0;stroke:#000000;\" x=\"327.55\" xlink:href=\"#mf5cfaa4f50\" y=\"158.797786\"/>\n     <use style=\"fill-opacity:0;stroke:#000000;\" x=\"327.55\" xlink:href=\"#mf5cfaa4f50\" y=\"158.797786\"/>\n     <use style=\"fill-opacity:0;stroke:#000000;\" x=\"327.55\" xlink:href=\"#mf5cfaa4f50\" y=\"162.394088\"/>\n     <use style=\"fill-opacity:0;stroke:#000000;\" x=\"327.55\" xlink:href=\"#mf5cfaa4f50\" y=\"183.9719\"/>\n     <use style=\"fill-opacity:0;stroke:#000000;\" x=\"327.55\" xlink:href=\"#mf5cfaa4f50\" y=\"158.797786\"/>\n     <use style=\"fill-opacity:0;stroke:#000000;\" x=\"327.55\" xlink:href=\"#mf5cfaa4f50\" y=\"158.797786\"/>\n     <use style=\"fill-opacity:0;stroke:#000000;\" x=\"327.55\" xlink:href=\"#mf5cfaa4f50\" y=\"158.797786\"/>\n     <use style=\"fill-opacity:0;stroke:#000000;\" x=\"327.55\" xlink:href=\"#mf5cfaa4f50\" y=\"162.394088\"/>\n     <use style=\"fill-opacity:0;stroke:#000000;\" x=\"327.55\" xlink:href=\"#mf5cfaa4f50\" y=\"158.797786\"/>\n     <use style=\"fill-opacity:0;stroke:#000000;\" x=\"327.55\" xlink:href=\"#mf5cfaa4f50\" y=\"162.394088\"/>\n     <use style=\"fill-opacity:0;stroke:#000000;\" x=\"327.55\" xlink:href=\"#mf5cfaa4f50\" y=\"158.797786\"/>\n     <use style=\"fill-opacity:0;stroke:#000000;\" x=\"327.55\" xlink:href=\"#mf5cfaa4f50\" y=\"158.797786\"/>\n     <use style=\"fill-opacity:0;stroke:#000000;\" x=\"327.55\" xlink:href=\"#mf5cfaa4f50\" y=\"158.797786\"/>\n     <use style=\"fill-opacity:0;stroke:#000000;\" x=\"327.55\" xlink:href=\"#mf5cfaa4f50\" y=\"158.797786\"/>\n     <use style=\"fill-opacity:0;stroke:#000000;\" x=\"327.55\" xlink:href=\"#mf5cfaa4f50\" y=\"158.797786\"/>\n     <use style=\"fill-opacity:0;stroke:#000000;\" x=\"327.55\" xlink:href=\"#mf5cfaa4f50\" y=\"158.797786\"/>\n     <use style=\"fill-opacity:0;stroke:#000000;\" x=\"327.55\" xlink:href=\"#mf5cfaa4f50\" y=\"158.797786\"/>\n     <use style=\"fill-opacity:0;stroke:#000000;\" x=\"327.55\" xlink:href=\"#mf5cfaa4f50\" y=\"162.394088\"/>\n     <use style=\"fill-opacity:0;stroke:#000000;\" x=\"327.55\" xlink:href=\"#mf5cfaa4f50\" y=\"162.394088\"/>\n     <use style=\"fill-opacity:0;stroke:#000000;\" x=\"327.55\" xlink:href=\"#mf5cfaa4f50\" y=\"162.394088\"/>\n     <use style=\"fill-opacity:0;stroke:#000000;\" x=\"327.55\" xlink:href=\"#mf5cfaa4f50\" y=\"158.797786\"/>\n     <use style=\"fill-opacity:0;stroke:#000000;\" x=\"327.55\" xlink:href=\"#mf5cfaa4f50\" y=\"158.797786\"/>\n     <use style=\"fill-opacity:0;stroke:#000000;\" x=\"327.55\" xlink:href=\"#mf5cfaa4f50\" y=\"158.797786\"/>\n     <use style=\"fill-opacity:0;stroke:#000000;\" x=\"327.55\" xlink:href=\"#mf5cfaa4f50\" y=\"158.797786\"/>\n     <use style=\"fill-opacity:0;stroke:#000000;\" x=\"327.55\" xlink:href=\"#mf5cfaa4f50\" y=\"162.394088\"/>\n     <use style=\"fill-opacity:0;stroke:#000000;\" x=\"327.55\" xlink:href=\"#mf5cfaa4f50\" y=\"158.797786\"/>\n     <use style=\"fill-opacity:0;stroke:#000000;\" x=\"327.55\" xlink:href=\"#mf5cfaa4f50\" y=\"158.797786\"/>\n     <use style=\"fill-opacity:0;stroke:#000000;\" x=\"327.55\" xlink:href=\"#mf5cfaa4f50\" y=\"158.797786\"/>\n     <use style=\"fill-opacity:0;stroke:#000000;\" x=\"327.55\" xlink:href=\"#mf5cfaa4f50\" y=\"162.394088\"/>\n     <use style=\"fill-opacity:0;stroke:#000000;\" x=\"327.55\" xlink:href=\"#mf5cfaa4f50\" y=\"162.394088\"/>\n     <use style=\"fill-opacity:0;stroke:#000000;\" x=\"327.55\" xlink:href=\"#mf5cfaa4f50\" y=\"162.394088\"/>\n     <use style=\"fill-opacity:0;stroke:#000000;\" x=\"327.55\" xlink:href=\"#mf5cfaa4f50\" y=\"158.797786\"/>\n     <use style=\"fill-opacity:0;stroke:#000000;\" x=\"327.55\" xlink:href=\"#mf5cfaa4f50\" y=\"158.797786\"/>\n     <use style=\"fill-opacity:0;stroke:#000000;\" x=\"327.55\" xlink:href=\"#mf5cfaa4f50\" y=\"165.99039\"/>\n     <use style=\"fill-opacity:0;stroke:#000000;\" x=\"327.55\" xlink:href=\"#mf5cfaa4f50\" y=\"165.99039\"/>\n     <use style=\"fill-opacity:0;stroke:#000000;\" x=\"327.55\" xlink:href=\"#mf5cfaa4f50\" y=\"162.394088\"/>\n     <use style=\"fill-opacity:0;stroke:#000000;\" x=\"327.55\" xlink:href=\"#mf5cfaa4f50\" y=\"165.99039\"/>\n     <use style=\"fill-opacity:0;stroke:#000000;\" x=\"327.55\" xlink:href=\"#mf5cfaa4f50\" y=\"162.394088\"/>\n     <use style=\"fill-opacity:0;stroke:#000000;\" x=\"327.55\" xlink:href=\"#mf5cfaa4f50\" y=\"158.797786\"/>\n     <use style=\"fill-opacity:0;stroke:#000000;\" x=\"327.55\" xlink:href=\"#mf5cfaa4f50\" y=\"158.797786\"/>\n     <use style=\"fill-opacity:0;stroke:#000000;\" x=\"327.55\" xlink:href=\"#mf5cfaa4f50\" y=\"165.99039\"/>\n     <use style=\"fill-opacity:0;stroke:#000000;\" x=\"327.55\" xlink:href=\"#mf5cfaa4f50\" y=\"158.797786\"/>\n     <use style=\"fill-opacity:0;stroke:#000000;\" x=\"327.55\" xlink:href=\"#mf5cfaa4f50\" y=\"158.797786\"/>\n     <use style=\"fill-opacity:0;stroke:#000000;\" x=\"327.55\" xlink:href=\"#mf5cfaa4f50\" y=\"162.394088\"/>\n     <use style=\"fill-opacity:0;stroke:#000000;\" x=\"327.55\" xlink:href=\"#mf5cfaa4f50\" y=\"158.797786\"/>\n     <use style=\"fill-opacity:0;stroke:#000000;\" x=\"327.55\" xlink:href=\"#mf5cfaa4f50\" y=\"158.797786\"/>\n     <use style=\"fill-opacity:0;stroke:#000000;\" x=\"327.55\" xlink:href=\"#mf5cfaa4f50\" y=\"158.797786\"/>\n     <use style=\"fill-opacity:0;stroke:#000000;\" x=\"327.55\" xlink:href=\"#mf5cfaa4f50\" y=\"158.797786\"/>\n     <use style=\"fill-opacity:0;stroke:#000000;\" x=\"327.55\" xlink:href=\"#mf5cfaa4f50\" y=\"162.394088\"/>\n     <use style=\"fill-opacity:0;stroke:#000000;\" x=\"327.55\" xlink:href=\"#mf5cfaa4f50\" y=\"158.797786\"/>\n     <use style=\"fill-opacity:0;stroke:#000000;\" x=\"327.55\" xlink:href=\"#mf5cfaa4f50\" y=\"158.797786\"/>\n     <use style=\"fill-opacity:0;stroke:#000000;\" x=\"327.55\" xlink:href=\"#mf5cfaa4f50\" y=\"162.394088\"/>\n     <use style=\"fill-opacity:0;stroke:#000000;\" x=\"327.55\" xlink:href=\"#mf5cfaa4f50\" y=\"162.394088\"/>\n     <use style=\"fill-opacity:0;stroke:#000000;\" x=\"327.55\" xlink:href=\"#mf5cfaa4f50\" y=\"176.779296\"/>\n     <use style=\"fill-opacity:0;stroke:#000000;\" x=\"327.55\" xlink:href=\"#mf5cfaa4f50\" y=\"162.394088\"/>\n     <use style=\"fill-opacity:0;stroke:#000000;\" x=\"327.55\" xlink:href=\"#mf5cfaa4f50\" y=\"162.394088\"/>\n     <use style=\"fill-opacity:0;stroke:#000000;\" x=\"327.55\" xlink:href=\"#mf5cfaa4f50\" y=\"158.797786\"/>\n     <use style=\"fill-opacity:0;stroke:#000000;\" x=\"327.55\" xlink:href=\"#mf5cfaa4f50\" y=\"158.797786\"/>\n     <use style=\"fill-opacity:0;stroke:#000000;\" x=\"327.55\" xlink:href=\"#mf5cfaa4f50\" y=\"162.394088\"/>\n     <use style=\"fill-opacity:0;stroke:#000000;\" x=\"327.55\" xlink:href=\"#mf5cfaa4f50\" y=\"158.797786\"/>\n     <use style=\"fill-opacity:0;stroke:#000000;\" x=\"327.55\" xlink:href=\"#mf5cfaa4f50\" y=\"158.797786\"/>\n     <use style=\"fill-opacity:0;stroke:#000000;\" x=\"327.55\" xlink:href=\"#mf5cfaa4f50\" y=\"173.182994\"/>\n     <use style=\"fill-opacity:0;stroke:#000000;\" x=\"327.55\" xlink:href=\"#mf5cfaa4f50\" y=\"162.394088\"/>\n     <use style=\"fill-opacity:0;stroke:#000000;\" x=\"327.55\" xlink:href=\"#mf5cfaa4f50\" y=\"162.394088\"/>\n     <use style=\"fill-opacity:0;stroke:#000000;\" x=\"327.55\" xlink:href=\"#mf5cfaa4f50\" y=\"158.797786\"/>\n     <use style=\"fill-opacity:0;stroke:#000000;\" x=\"327.55\" xlink:href=\"#mf5cfaa4f50\" y=\"169.586692\"/>\n     <use style=\"fill-opacity:0;stroke:#000000;\" x=\"327.55\" xlink:href=\"#mf5cfaa4f50\" y=\"158.797786\"/>\n     <use style=\"fill-opacity:0;stroke:#000000;\" x=\"327.55\" xlink:href=\"#mf5cfaa4f50\" y=\"162.394088\"/>\n     <use style=\"fill-opacity:0;stroke:#000000;\" x=\"327.55\" xlink:href=\"#mf5cfaa4f50\" y=\"158.797786\"/>\n     <use style=\"fill-opacity:0;stroke:#000000;\" x=\"327.55\" xlink:href=\"#mf5cfaa4f50\" y=\"158.797786\"/>\n     <use style=\"fill-opacity:0;stroke:#000000;\" x=\"327.55\" xlink:href=\"#mf5cfaa4f50\" y=\"173.182994\"/>\n     <use style=\"fill-opacity:0;stroke:#000000;\" x=\"327.55\" xlink:href=\"#mf5cfaa4f50\" y=\"158.797786\"/>\n     <use style=\"fill-opacity:0;stroke:#000000;\" x=\"327.55\" xlink:href=\"#mf5cfaa4f50\" y=\"158.797786\"/>\n     <use style=\"fill-opacity:0;stroke:#000000;\" x=\"327.55\" xlink:href=\"#mf5cfaa4f50\" y=\"158.797786\"/>\n     <use style=\"fill-opacity:0;stroke:#000000;\" x=\"327.55\" xlink:href=\"#mf5cfaa4f50\" y=\"158.797786\"/>\n     <use style=\"fill-opacity:0;stroke:#000000;\" x=\"327.55\" xlink:href=\"#mf5cfaa4f50\" y=\"158.797786\"/>\n     <use style=\"fill-opacity:0;stroke:#000000;\" x=\"327.55\" xlink:href=\"#mf5cfaa4f50\" y=\"158.797786\"/>\n     <use style=\"fill-opacity:0;stroke:#000000;\" x=\"327.55\" xlink:href=\"#mf5cfaa4f50\" y=\"162.394088\"/>\n     <use style=\"fill-opacity:0;stroke:#000000;\" x=\"327.55\" xlink:href=\"#mf5cfaa4f50\" y=\"165.99039\"/>\n     <use style=\"fill-opacity:0;stroke:#000000;\" x=\"327.55\" xlink:href=\"#mf5cfaa4f50\" y=\"165.99039\"/>\n     <use style=\"fill-opacity:0;stroke:#000000;\" x=\"327.55\" xlink:href=\"#mf5cfaa4f50\" y=\"162.394088\"/>\n     <use style=\"fill-opacity:0;stroke:#000000;\" x=\"327.55\" xlink:href=\"#mf5cfaa4f50\" y=\"162.394088\"/>\n     <use style=\"fill-opacity:0;stroke:#000000;\" x=\"327.55\" xlink:href=\"#mf5cfaa4f50\" y=\"158.797786\"/>\n     <use style=\"fill-opacity:0;stroke:#000000;\" x=\"327.55\" xlink:href=\"#mf5cfaa4f50\" y=\"162.394088\"/>\n     <use style=\"fill-opacity:0;stroke:#000000;\" x=\"327.55\" xlink:href=\"#mf5cfaa4f50\" y=\"158.797786\"/>\n     <use style=\"fill-opacity:0;stroke:#000000;\" x=\"327.55\" xlink:href=\"#mf5cfaa4f50\" y=\"176.779296\"/>\n     <use style=\"fill-opacity:0;stroke:#000000;\" x=\"327.55\" xlink:href=\"#mf5cfaa4f50\" y=\"158.797786\"/>\n     <use style=\"fill-opacity:0;stroke:#000000;\" x=\"327.55\" xlink:href=\"#mf5cfaa4f50\" y=\"158.797786\"/>\n     <use style=\"fill-opacity:0;stroke:#000000;\" x=\"327.55\" xlink:href=\"#mf5cfaa4f50\" y=\"169.586692\"/>\n     <use style=\"fill-opacity:0;stroke:#000000;\" x=\"327.55\" xlink:href=\"#mf5cfaa4f50\" y=\"158.797786\"/>\n     <use style=\"fill-opacity:0;stroke:#000000;\" x=\"327.55\" xlink:href=\"#mf5cfaa4f50\" y=\"158.797786\"/>\n     <use style=\"fill-opacity:0;stroke:#000000;\" x=\"327.55\" xlink:href=\"#mf5cfaa4f50\" y=\"158.797786\"/>\n     <use style=\"fill-opacity:0;stroke:#000000;\" x=\"327.55\" xlink:href=\"#mf5cfaa4f50\" y=\"158.797786\"/>\n     <use style=\"fill-opacity:0;stroke:#000000;\" x=\"327.55\" xlink:href=\"#mf5cfaa4f50\" y=\"162.394088\"/>\n     <use style=\"fill-opacity:0;stroke:#000000;\" x=\"327.55\" xlink:href=\"#mf5cfaa4f50\" y=\"165.99039\"/>\n     <use style=\"fill-opacity:0;stroke:#000000;\" x=\"327.55\" xlink:href=\"#mf5cfaa4f50\" y=\"158.797786\"/>\n     <use style=\"fill-opacity:0;stroke:#000000;\" x=\"327.55\" xlink:href=\"#mf5cfaa4f50\" y=\"162.394088\"/>\n     <use style=\"fill-opacity:0;stroke:#000000;\" x=\"327.55\" xlink:href=\"#mf5cfaa4f50\" y=\"158.797786\"/>\n     <use style=\"fill-opacity:0;stroke:#000000;\" x=\"327.55\" xlink:href=\"#mf5cfaa4f50\" y=\"165.99039\"/>\n     <use style=\"fill-opacity:0;stroke:#000000;\" x=\"327.55\" xlink:href=\"#mf5cfaa4f50\" y=\"158.797786\"/>\n     <use style=\"fill-opacity:0;stroke:#000000;\" x=\"327.55\" xlink:href=\"#mf5cfaa4f50\" y=\"158.797786\"/>\n     <use style=\"fill-opacity:0;stroke:#000000;\" x=\"327.55\" xlink:href=\"#mf5cfaa4f50\" y=\"158.797786\"/>\n     <use style=\"fill-opacity:0;stroke:#000000;\" x=\"327.55\" xlink:href=\"#mf5cfaa4f50\" y=\"158.797786\"/>\n     <use style=\"fill-opacity:0;stroke:#000000;\" x=\"327.55\" xlink:href=\"#mf5cfaa4f50\" y=\"158.797786\"/>\n     <use style=\"fill-opacity:0;stroke:#000000;\" x=\"327.55\" xlink:href=\"#mf5cfaa4f50\" y=\"165.99039\"/>\n     <use style=\"fill-opacity:0;stroke:#000000;\" x=\"327.55\" xlink:href=\"#mf5cfaa4f50\" y=\"158.797786\"/>\n     <use style=\"fill-opacity:0;stroke:#000000;\" x=\"327.55\" xlink:href=\"#mf5cfaa4f50\" y=\"162.394088\"/>\n     <use style=\"fill-opacity:0;stroke:#000000;\" x=\"327.55\" xlink:href=\"#mf5cfaa4f50\" y=\"158.797786\"/>\n     <use style=\"fill-opacity:0;stroke:#000000;\" x=\"327.55\" xlink:href=\"#mf5cfaa4f50\" y=\"158.797786\"/>\n     <use style=\"fill-opacity:0;stroke:#000000;\" x=\"327.55\" xlink:href=\"#mf5cfaa4f50\" y=\"158.797786\"/>\n     <use style=\"fill-opacity:0;stroke:#000000;\" x=\"327.55\" xlink:href=\"#mf5cfaa4f50\" y=\"158.797786\"/>\n     <use style=\"fill-opacity:0;stroke:#000000;\" x=\"327.55\" xlink:href=\"#mf5cfaa4f50\" y=\"165.99039\"/>\n     <use style=\"fill-opacity:0;stroke:#000000;\" x=\"327.55\" xlink:href=\"#mf5cfaa4f50\" y=\"169.586692\"/>\n     <use style=\"fill-opacity:0;stroke:#000000;\" x=\"327.55\" xlink:href=\"#mf5cfaa4f50\" y=\"173.182994\"/>\n     <use style=\"fill-opacity:0;stroke:#000000;\" x=\"327.55\" xlink:href=\"#mf5cfaa4f50\" y=\"165.99039\"/>\n     <use style=\"fill-opacity:0;stroke:#000000;\" x=\"327.55\" xlink:href=\"#mf5cfaa4f50\" y=\"165.99039\"/>\n     <use style=\"fill-opacity:0;stroke:#000000;\" x=\"327.55\" xlink:href=\"#mf5cfaa4f50\" y=\"158.797786\"/>\n     <use style=\"fill-opacity:0;stroke:#000000;\" x=\"327.55\" xlink:href=\"#mf5cfaa4f50\" y=\"158.797786\"/>\n     <use style=\"fill-opacity:0;stroke:#000000;\" x=\"327.55\" xlink:href=\"#mf5cfaa4f50\" y=\"162.394088\"/>\n     <use style=\"fill-opacity:0;stroke:#000000;\" x=\"327.55\" xlink:href=\"#mf5cfaa4f50\" y=\"165.99039\"/>\n     <use style=\"fill-opacity:0;stroke:#000000;\" x=\"327.55\" xlink:href=\"#mf5cfaa4f50\" y=\"158.797786\"/>\n     <use style=\"fill-opacity:0;stroke:#000000;\" x=\"327.55\" xlink:href=\"#mf5cfaa4f50\" y=\"158.797786\"/>\n     <use style=\"fill-opacity:0;stroke:#000000;\" x=\"327.55\" xlink:href=\"#mf5cfaa4f50\" y=\"158.797786\"/>\n     <use style=\"fill-opacity:0;stroke:#000000;\" x=\"327.55\" xlink:href=\"#mf5cfaa4f50\" y=\"165.99039\"/>\n     <use style=\"fill-opacity:0;stroke:#000000;\" x=\"327.55\" xlink:href=\"#mf5cfaa4f50\" y=\"158.797786\"/>\n     <use style=\"fill-opacity:0;stroke:#000000;\" x=\"327.55\" xlink:href=\"#mf5cfaa4f50\" y=\"165.99039\"/>\n     <use style=\"fill-opacity:0;stroke:#000000;\" x=\"327.55\" xlink:href=\"#mf5cfaa4f50\" y=\"158.797786\"/>\n     <use style=\"fill-opacity:0;stroke:#000000;\" x=\"327.55\" xlink:href=\"#mf5cfaa4f50\" y=\"162.394088\"/>\n     <use style=\"fill-opacity:0;stroke:#000000;\" x=\"327.55\" xlink:href=\"#mf5cfaa4f50\" y=\"162.394088\"/>\n     <use style=\"fill-opacity:0;stroke:#000000;\" x=\"327.55\" xlink:href=\"#mf5cfaa4f50\" y=\"162.394088\"/>\n     <use style=\"fill-opacity:0;stroke:#000000;\" x=\"327.55\" xlink:href=\"#mf5cfaa4f50\" y=\"162.394088\"/>\n     <use style=\"fill-opacity:0;stroke:#000000;\" x=\"327.55\" xlink:href=\"#mf5cfaa4f50\" y=\"158.797786\"/>\n     <use style=\"fill-opacity:0;stroke:#000000;\" x=\"327.55\" xlink:href=\"#mf5cfaa4f50\" y=\"162.394088\"/>\n     <use style=\"fill-opacity:0;stroke:#000000;\" x=\"327.55\" xlink:href=\"#mf5cfaa4f50\" y=\"158.797786\"/>\n     <use style=\"fill-opacity:0;stroke:#000000;\" x=\"327.55\" xlink:href=\"#mf5cfaa4f50\" y=\"165.99039\"/>\n     <use style=\"fill-opacity:0;stroke:#000000;\" x=\"327.55\" xlink:href=\"#mf5cfaa4f50\" y=\"158.797786\"/>\n     <use style=\"fill-opacity:0;stroke:#000000;\" x=\"327.55\" xlink:href=\"#mf5cfaa4f50\" y=\"162.394088\"/>\n     <use style=\"fill-opacity:0;stroke:#000000;\" x=\"327.55\" xlink:href=\"#mf5cfaa4f50\" y=\"162.394088\"/>\n     <use style=\"fill-opacity:0;stroke:#000000;\" x=\"327.55\" xlink:href=\"#mf5cfaa4f50\" y=\"158.797786\"/>\n     <use style=\"fill-opacity:0;stroke:#000000;\" x=\"327.55\" xlink:href=\"#mf5cfaa4f50\" y=\"158.797786\"/>\n     <use style=\"fill-opacity:0;stroke:#000000;\" x=\"327.55\" xlink:href=\"#mf5cfaa4f50\" y=\"158.797786\"/>\n     <use style=\"fill-opacity:0;stroke:#000000;\" x=\"327.55\" xlink:href=\"#mf5cfaa4f50\" y=\"169.586692\"/>\n     <use style=\"fill-opacity:0;stroke:#000000;\" x=\"327.55\" xlink:href=\"#mf5cfaa4f50\" y=\"158.797786\"/>\n     <use style=\"fill-opacity:0;stroke:#000000;\" x=\"327.55\" xlink:href=\"#mf5cfaa4f50\" y=\"162.394088\"/>\n     <use style=\"fill-opacity:0;stroke:#000000;\" x=\"327.55\" xlink:href=\"#mf5cfaa4f50\" y=\"162.394088\"/>\n     <use style=\"fill-opacity:0;stroke:#000000;\" x=\"327.55\" xlink:href=\"#mf5cfaa4f50\" y=\"158.797786\"/>\n     <use style=\"fill-opacity:0;stroke:#000000;\" x=\"327.55\" xlink:href=\"#mf5cfaa4f50\" y=\"162.394088\"/>\n     <use style=\"fill-opacity:0;stroke:#000000;\" x=\"327.55\" xlink:href=\"#mf5cfaa4f50\" y=\"173.182994\"/>\n     <use style=\"fill-opacity:0;stroke:#000000;\" x=\"327.55\" xlink:href=\"#mf5cfaa4f50\" y=\"162.394088\"/>\n     <use style=\"fill-opacity:0;stroke:#000000;\" x=\"327.55\" xlink:href=\"#mf5cfaa4f50\" y=\"158.797786\"/>\n     <use style=\"fill-opacity:0;stroke:#000000;\" x=\"327.55\" xlink:href=\"#mf5cfaa4f50\" y=\"162.394088\"/>\n     <use style=\"fill-opacity:0;stroke:#000000;\" x=\"327.55\" xlink:href=\"#mf5cfaa4f50\" y=\"162.394088\"/>\n     <use style=\"fill-opacity:0;stroke:#000000;\" x=\"327.55\" xlink:href=\"#mf5cfaa4f50\" y=\"165.99039\"/>\n     <use style=\"fill-opacity:0;stroke:#000000;\" x=\"327.55\" xlink:href=\"#mf5cfaa4f50\" y=\"158.797786\"/>\n     <use style=\"fill-opacity:0;stroke:#000000;\" x=\"327.55\" xlink:href=\"#mf5cfaa4f50\" y=\"162.394088\"/>\n     <use style=\"fill-opacity:0;stroke:#000000;\" x=\"327.55\" xlink:href=\"#mf5cfaa4f50\" y=\"162.394088\"/>\n     <use style=\"fill-opacity:0;stroke:#000000;\" x=\"327.55\" xlink:href=\"#mf5cfaa4f50\" y=\"158.797786\"/>\n     <use style=\"fill-opacity:0;stroke:#000000;\" x=\"327.55\" xlink:href=\"#mf5cfaa4f50\" y=\"158.797786\"/>\n     <use style=\"fill-opacity:0;stroke:#000000;\" x=\"327.55\" xlink:href=\"#mf5cfaa4f50\" y=\"158.797786\"/>\n     <use style=\"fill-opacity:0;stroke:#000000;\" x=\"327.55\" xlink:href=\"#mf5cfaa4f50\" y=\"162.394088\"/>\n     <use style=\"fill-opacity:0;stroke:#000000;\" x=\"327.55\" xlink:href=\"#mf5cfaa4f50\" y=\"158.797786\"/>\n     <use style=\"fill-opacity:0;stroke:#000000;\" x=\"327.55\" xlink:href=\"#mf5cfaa4f50\" y=\"162.394088\"/>\n     <use style=\"fill-opacity:0;stroke:#000000;\" x=\"327.55\" xlink:href=\"#mf5cfaa4f50\" y=\"165.99039\"/>\n     <use style=\"fill-opacity:0;stroke:#000000;\" x=\"327.55\" xlink:href=\"#mf5cfaa4f50\" y=\"158.797786\"/>\n     <use style=\"fill-opacity:0;stroke:#000000;\" x=\"327.55\" xlink:href=\"#mf5cfaa4f50\" y=\"158.797786\"/>\n     <use style=\"fill-opacity:0;stroke:#000000;\" x=\"327.55\" xlink:href=\"#mf5cfaa4f50\" y=\"162.394088\"/>\n     <use style=\"fill-opacity:0;stroke:#000000;\" x=\"327.55\" xlink:href=\"#mf5cfaa4f50\" y=\"158.797786\"/>\n     <use style=\"fill-opacity:0;stroke:#000000;\" x=\"327.55\" xlink:href=\"#mf5cfaa4f50\" y=\"158.797786\"/>\n     <use style=\"fill-opacity:0;stroke:#000000;\" x=\"327.55\" xlink:href=\"#mf5cfaa4f50\" y=\"158.797786\"/>\n     <use style=\"fill-opacity:0;stroke:#000000;\" x=\"327.55\" xlink:href=\"#mf5cfaa4f50\" y=\"165.99039\"/>\n     <use style=\"fill-opacity:0;stroke:#000000;\" x=\"327.55\" xlink:href=\"#mf5cfaa4f50\" y=\"165.99039\"/>\n     <use style=\"fill-opacity:0;stroke:#000000;\" x=\"327.55\" xlink:href=\"#mf5cfaa4f50\" y=\"158.797786\"/>\n     <use style=\"fill-opacity:0;stroke:#000000;\" x=\"327.55\" xlink:href=\"#mf5cfaa4f50\" y=\"158.797786\"/>\n     <use style=\"fill-opacity:0;stroke:#000000;\" x=\"327.55\" xlink:href=\"#mf5cfaa4f50\" y=\"158.797786\"/>\n     <use style=\"fill-opacity:0;stroke:#000000;\" x=\"327.55\" xlink:href=\"#mf5cfaa4f50\" y=\"162.394088\"/>\n     <use style=\"fill-opacity:0;stroke:#000000;\" x=\"327.55\" xlink:href=\"#mf5cfaa4f50\" y=\"158.797786\"/>\n     <use style=\"fill-opacity:0;stroke:#000000;\" x=\"327.55\" xlink:href=\"#mf5cfaa4f50\" y=\"158.797786\"/>\n     <use style=\"fill-opacity:0;stroke:#000000;\" x=\"327.55\" xlink:href=\"#mf5cfaa4f50\" y=\"162.394088\"/>\n     <use style=\"fill-opacity:0;stroke:#000000;\" x=\"327.55\" xlink:href=\"#mf5cfaa4f50\" y=\"158.797786\"/>\n     <use style=\"fill-opacity:0;stroke:#000000;\" x=\"327.55\" xlink:href=\"#mf5cfaa4f50\" y=\"162.394088\"/>\n     <use style=\"fill-opacity:0;stroke:#000000;\" x=\"327.55\" xlink:href=\"#mf5cfaa4f50\" y=\"169.586692\"/>\n     <use style=\"fill-opacity:0;stroke:#000000;\" x=\"327.55\" xlink:href=\"#mf5cfaa4f50\" y=\"165.99039\"/>\n     <use style=\"fill-opacity:0;stroke:#000000;\" x=\"327.55\" xlink:href=\"#mf5cfaa4f50\" y=\"165.99039\"/>\n     <use style=\"fill-opacity:0;stroke:#000000;\" x=\"327.55\" xlink:href=\"#mf5cfaa4f50\" y=\"165.99039\"/>\n     <use style=\"fill-opacity:0;stroke:#000000;\" x=\"327.55\" xlink:href=\"#mf5cfaa4f50\" y=\"158.797786\"/>\n     <use style=\"fill-opacity:0;stroke:#000000;\" x=\"327.55\" xlink:href=\"#mf5cfaa4f50\" y=\"158.797786\"/>\n     <use style=\"fill-opacity:0;stroke:#000000;\" x=\"327.55\" xlink:href=\"#mf5cfaa4f50\" y=\"162.394088\"/>\n     <use style=\"fill-opacity:0;stroke:#000000;\" x=\"327.55\" xlink:href=\"#mf5cfaa4f50\" y=\"158.797786\"/>\n     <use style=\"fill-opacity:0;stroke:#000000;\" x=\"327.55\" xlink:href=\"#mf5cfaa4f50\" y=\"165.99039\"/>\n     <use style=\"fill-opacity:0;stroke:#000000;\" x=\"327.55\" xlink:href=\"#mf5cfaa4f50\" y=\"158.797786\"/>\n     <use style=\"fill-opacity:0;stroke:#000000;\" x=\"327.55\" xlink:href=\"#mf5cfaa4f50\" y=\"158.797786\"/>\n     <use style=\"fill-opacity:0;stroke:#000000;\" x=\"327.55\" xlink:href=\"#mf5cfaa4f50\" y=\"162.394088\"/>\n     <use style=\"fill-opacity:0;stroke:#000000;\" x=\"327.55\" xlink:href=\"#mf5cfaa4f50\" y=\"158.797786\"/>\n     <use style=\"fill-opacity:0;stroke:#000000;\" x=\"327.55\" xlink:href=\"#mf5cfaa4f50\" y=\"173.182994\"/>\n     <use style=\"fill-opacity:0;stroke:#000000;\" x=\"327.55\" xlink:href=\"#mf5cfaa4f50\" y=\"158.797786\"/>\n     <use style=\"fill-opacity:0;stroke:#000000;\" x=\"327.55\" xlink:href=\"#mf5cfaa4f50\" y=\"158.797786\"/>\n     <use style=\"fill-opacity:0;stroke:#000000;\" x=\"327.55\" xlink:href=\"#mf5cfaa4f50\" y=\"158.797786\"/>\n     <use style=\"fill-opacity:0;stroke:#000000;\" x=\"327.55\" xlink:href=\"#mf5cfaa4f50\" y=\"162.394088\"/>\n     <use style=\"fill-opacity:0;stroke:#000000;\" x=\"327.55\" xlink:href=\"#mf5cfaa4f50\" y=\"158.797786\"/>\n     <use style=\"fill-opacity:0;stroke:#000000;\" x=\"327.55\" xlink:href=\"#mf5cfaa4f50\" y=\"162.394088\"/>\n     <use style=\"fill-opacity:0;stroke:#000000;\" x=\"327.55\" xlink:href=\"#mf5cfaa4f50\" y=\"162.394088\"/>\n     <use style=\"fill-opacity:0;stroke:#000000;\" x=\"327.55\" xlink:href=\"#mf5cfaa4f50\" y=\"162.394088\"/>\n     <use style=\"fill-opacity:0;stroke:#000000;\" x=\"327.55\" xlink:href=\"#mf5cfaa4f50\" y=\"162.394088\"/>\n     <use style=\"fill-opacity:0;stroke:#000000;\" x=\"327.55\" xlink:href=\"#mf5cfaa4f50\" y=\"158.797786\"/>\n     <use style=\"fill-opacity:0;stroke:#000000;\" x=\"327.55\" xlink:href=\"#mf5cfaa4f50\" y=\"158.797786\"/>\n     <use style=\"fill-opacity:0;stroke:#000000;\" x=\"327.55\" xlink:href=\"#mf5cfaa4f50\" y=\"158.797786\"/>\n     <use style=\"fill-opacity:0;stroke:#000000;\" x=\"327.55\" xlink:href=\"#mf5cfaa4f50\" y=\"158.797786\"/>\n     <use style=\"fill-opacity:0;stroke:#000000;\" x=\"327.55\" xlink:href=\"#mf5cfaa4f50\" y=\"162.394088\"/>\n     <use style=\"fill-opacity:0;stroke:#000000;\" x=\"327.55\" xlink:href=\"#mf5cfaa4f50\" y=\"158.797786\"/>\n     <use style=\"fill-opacity:0;stroke:#000000;\" x=\"327.55\" xlink:href=\"#mf5cfaa4f50\" y=\"162.394088\"/>\n     <use style=\"fill-opacity:0;stroke:#000000;\" x=\"327.55\" xlink:href=\"#mf5cfaa4f50\" y=\"158.797786\"/>\n     <use style=\"fill-opacity:0;stroke:#000000;\" x=\"327.55\" xlink:href=\"#mf5cfaa4f50\" y=\"162.394088\"/>\n     <use style=\"fill-opacity:0;stroke:#000000;\" x=\"327.55\" xlink:href=\"#mf5cfaa4f50\" y=\"169.586692\"/>\n     <use style=\"fill-opacity:0;stroke:#000000;\" x=\"327.55\" xlink:href=\"#mf5cfaa4f50\" y=\"165.99039\"/>\n     <use style=\"fill-opacity:0;stroke:#000000;\" x=\"327.55\" xlink:href=\"#mf5cfaa4f50\" y=\"158.797786\"/>\n     <use style=\"fill-opacity:0;stroke:#000000;\" x=\"327.55\" xlink:href=\"#mf5cfaa4f50\" y=\"158.797786\"/>\n     <use style=\"fill-opacity:0;stroke:#000000;\" x=\"327.55\" xlink:href=\"#mf5cfaa4f50\" y=\"158.797786\"/>\n     <use style=\"fill-opacity:0;stroke:#000000;\" x=\"327.55\" xlink:href=\"#mf5cfaa4f50\" y=\"169.586692\"/>\n     <use style=\"fill-opacity:0;stroke:#000000;\" x=\"327.55\" xlink:href=\"#mf5cfaa4f50\" y=\"158.797786\"/>\n     <use style=\"fill-opacity:0;stroke:#000000;\" x=\"327.55\" xlink:href=\"#mf5cfaa4f50\" y=\"169.586692\"/>\n     <use style=\"fill-opacity:0;stroke:#000000;\" x=\"327.55\" xlink:href=\"#mf5cfaa4f50\" y=\"162.394088\"/>\n     <use style=\"fill-opacity:0;stroke:#000000;\" x=\"327.55\" xlink:href=\"#mf5cfaa4f50\" y=\"158.797786\"/>\n     <use style=\"fill-opacity:0;stroke:#000000;\" x=\"327.55\" xlink:href=\"#mf5cfaa4f50\" y=\"158.797786\"/>\n     <use style=\"fill-opacity:0;stroke:#000000;\" x=\"327.55\" xlink:href=\"#mf5cfaa4f50\" y=\"158.797786\"/>\n     <use style=\"fill-opacity:0;stroke:#000000;\" x=\"327.55\" xlink:href=\"#mf5cfaa4f50\" y=\"158.797786\"/>\n     <use style=\"fill-opacity:0;stroke:#000000;\" x=\"327.55\" xlink:href=\"#mf5cfaa4f50\" y=\"158.797786\"/>\n     <use style=\"fill-opacity:0;stroke:#000000;\" x=\"327.55\" xlink:href=\"#mf5cfaa4f50\" y=\"158.797786\"/>\n     <use style=\"fill-opacity:0;stroke:#000000;\" x=\"327.55\" xlink:href=\"#mf5cfaa4f50\" y=\"158.797786\"/>\n     <use style=\"fill-opacity:0;stroke:#000000;\" x=\"327.55\" xlink:href=\"#mf5cfaa4f50\" y=\"173.182994\"/>\n     <use style=\"fill-opacity:0;stroke:#000000;\" x=\"327.55\" xlink:href=\"#mf5cfaa4f50\" y=\"158.797786\"/>\n     <use style=\"fill-opacity:0;stroke:#000000;\" x=\"327.55\" xlink:href=\"#mf5cfaa4f50\" y=\"158.797786\"/>\n     <use style=\"fill-opacity:0;stroke:#000000;\" x=\"327.55\" xlink:href=\"#mf5cfaa4f50\" y=\"158.797786\"/>\n     <use style=\"fill-opacity:0;stroke:#000000;\" x=\"327.55\" xlink:href=\"#mf5cfaa4f50\" y=\"158.797786\"/>\n     <use style=\"fill-opacity:0;stroke:#000000;\" x=\"327.55\" xlink:href=\"#mf5cfaa4f50\" y=\"158.797786\"/>\n     <use style=\"fill-opacity:0;stroke:#000000;\" x=\"327.55\" xlink:href=\"#mf5cfaa4f50\" y=\"162.394088\"/>\n     <use style=\"fill-opacity:0;stroke:#000000;\" x=\"327.55\" xlink:href=\"#mf5cfaa4f50\" y=\"173.182994\"/>\n     <use style=\"fill-opacity:0;stroke:#000000;\" x=\"327.55\" xlink:href=\"#mf5cfaa4f50\" y=\"158.797786\"/>\n     <use style=\"fill-opacity:0;stroke:#000000;\" x=\"327.55\" xlink:href=\"#mf5cfaa4f50\" y=\"162.394088\"/>\n     <use style=\"fill-opacity:0;stroke:#000000;\" x=\"327.55\" xlink:href=\"#mf5cfaa4f50\" y=\"158.797786\"/>\n     <use style=\"fill-opacity:0;stroke:#000000;\" x=\"327.55\" xlink:href=\"#mf5cfaa4f50\" y=\"158.797786\"/>\n     <use style=\"fill-opacity:0;stroke:#000000;\" x=\"327.55\" xlink:href=\"#mf5cfaa4f50\" y=\"158.797786\"/>\n     <use style=\"fill-opacity:0;stroke:#000000;\" x=\"327.55\" xlink:href=\"#mf5cfaa4f50\" y=\"165.99039\"/>\n     <use style=\"fill-opacity:0;stroke:#000000;\" x=\"327.55\" xlink:href=\"#mf5cfaa4f50\" y=\"162.394088\"/>\n     <use style=\"fill-opacity:0;stroke:#000000;\" x=\"327.55\" xlink:href=\"#mf5cfaa4f50\" y=\"158.797786\"/>\n     <use style=\"fill-opacity:0;stroke:#000000;\" x=\"327.55\" xlink:href=\"#mf5cfaa4f50\" y=\"169.586692\"/>\n     <use style=\"fill-opacity:0;stroke:#000000;\" x=\"327.55\" xlink:href=\"#mf5cfaa4f50\" y=\"158.797786\"/>\n     <use style=\"fill-opacity:0;stroke:#000000;\" x=\"327.55\" xlink:href=\"#mf5cfaa4f50\" y=\"162.394088\"/>\n     <use style=\"fill-opacity:0;stroke:#000000;\" x=\"327.55\" xlink:href=\"#mf5cfaa4f50\" y=\"165.99039\"/>\n     <use style=\"fill-opacity:0;stroke:#000000;\" x=\"327.55\" xlink:href=\"#mf5cfaa4f50\" y=\"158.797786\"/>\n     <use style=\"fill-opacity:0;stroke:#000000;\" x=\"327.55\" xlink:href=\"#mf5cfaa4f50\" y=\"165.99039\"/>\n     <use style=\"fill-opacity:0;stroke:#000000;\" x=\"327.55\" xlink:href=\"#mf5cfaa4f50\" y=\"158.797786\"/>\n     <use style=\"fill-opacity:0;stroke:#000000;\" x=\"327.55\" xlink:href=\"#mf5cfaa4f50\" y=\"158.797786\"/>\n     <use style=\"fill-opacity:0;stroke:#000000;\" x=\"327.55\" xlink:href=\"#mf5cfaa4f50\" y=\"169.586692\"/>\n     <use style=\"fill-opacity:0;stroke:#000000;\" x=\"327.55\" xlink:href=\"#mf5cfaa4f50\" y=\"162.394088\"/>\n     <use style=\"fill-opacity:0;stroke:#000000;\" x=\"327.55\" xlink:href=\"#mf5cfaa4f50\" y=\"158.797786\"/>\n     <use style=\"fill-opacity:0;stroke:#000000;\" x=\"327.55\" xlink:href=\"#mf5cfaa4f50\" y=\"158.797786\"/>\n     <use style=\"fill-opacity:0;stroke:#000000;\" x=\"327.55\" xlink:href=\"#mf5cfaa4f50\" y=\"158.797786\"/>\n     <use style=\"fill-opacity:0;stroke:#000000;\" x=\"327.55\" xlink:href=\"#mf5cfaa4f50\" y=\"158.797786\"/>\n     <use style=\"fill-opacity:0;stroke:#000000;\" x=\"327.55\" xlink:href=\"#mf5cfaa4f50\" y=\"158.797786\"/>\n     <use style=\"fill-opacity:0;stroke:#000000;\" x=\"327.55\" xlink:href=\"#mf5cfaa4f50\" y=\"158.797786\"/>\n     <use style=\"fill-opacity:0;stroke:#000000;\" x=\"327.55\" xlink:href=\"#mf5cfaa4f50\" y=\"169.586692\"/>\n     <use style=\"fill-opacity:0;stroke:#000000;\" x=\"327.55\" xlink:href=\"#mf5cfaa4f50\" y=\"158.797786\"/>\n     <use style=\"fill-opacity:0;stroke:#000000;\" x=\"327.55\" xlink:href=\"#mf5cfaa4f50\" y=\"158.797786\"/>\n     <use style=\"fill-opacity:0;stroke:#000000;\" x=\"327.55\" xlink:href=\"#mf5cfaa4f50\" y=\"162.394088\"/>\n     <use style=\"fill-opacity:0;stroke:#000000;\" x=\"327.55\" xlink:href=\"#mf5cfaa4f50\" y=\"165.99039\"/>\n     <use style=\"fill-opacity:0;stroke:#000000;\" x=\"327.55\" xlink:href=\"#mf5cfaa4f50\" y=\"176.779296\"/>\n     <use style=\"fill-opacity:0;stroke:#000000;\" x=\"327.55\" xlink:href=\"#mf5cfaa4f50\" y=\"158.797786\"/>\n     <use style=\"fill-opacity:0;stroke:#000000;\" x=\"327.55\" xlink:href=\"#mf5cfaa4f50\" y=\"158.797786\"/>\n     <use style=\"fill-opacity:0;stroke:#000000;\" x=\"327.55\" xlink:href=\"#mf5cfaa4f50\" y=\"158.797786\"/>\n     <use style=\"fill-opacity:0;stroke:#000000;\" x=\"327.55\" xlink:href=\"#mf5cfaa4f50\" y=\"165.99039\"/>\n     <use style=\"fill-opacity:0;stroke:#000000;\" x=\"327.55\" xlink:href=\"#mf5cfaa4f50\" y=\"162.394088\"/>\n     <use style=\"fill-opacity:0;stroke:#000000;\" x=\"327.55\" xlink:href=\"#mf5cfaa4f50\" y=\"158.797786\"/>\n     <use style=\"fill-opacity:0;stroke:#000000;\" x=\"327.55\" xlink:href=\"#mf5cfaa4f50\" y=\"162.394088\"/>\n     <use style=\"fill-opacity:0;stroke:#000000;\" x=\"327.55\" xlink:href=\"#mf5cfaa4f50\" y=\"158.797786\"/>\n     <use style=\"fill-opacity:0;stroke:#000000;\" x=\"327.55\" xlink:href=\"#mf5cfaa4f50\" y=\"162.394088\"/>\n     <use style=\"fill-opacity:0;stroke:#000000;\" x=\"327.55\" xlink:href=\"#mf5cfaa4f50\" y=\"158.797786\"/>\n     <use style=\"fill-opacity:0;stroke:#000000;\" x=\"327.55\" xlink:href=\"#mf5cfaa4f50\" y=\"158.797786\"/>\n     <use style=\"fill-opacity:0;stroke:#000000;\" x=\"327.55\" xlink:href=\"#mf5cfaa4f50\" y=\"162.394088\"/>\n     <use style=\"fill-opacity:0;stroke:#000000;\" x=\"327.55\" xlink:href=\"#mf5cfaa4f50\" y=\"165.99039\"/>\n     <use style=\"fill-opacity:0;stroke:#000000;\" x=\"327.55\" xlink:href=\"#mf5cfaa4f50\" y=\"158.797786\"/>\n     <use style=\"fill-opacity:0;stroke:#000000;\" x=\"327.55\" xlink:href=\"#mf5cfaa4f50\" y=\"158.797786\"/>\n     <use style=\"fill-opacity:0;stroke:#000000;\" x=\"327.55\" xlink:href=\"#mf5cfaa4f50\" y=\"158.797786\"/>\n     <use style=\"fill-opacity:0;stroke:#000000;\" x=\"327.55\" xlink:href=\"#mf5cfaa4f50\" y=\"158.797786\"/>\n     <use style=\"fill-opacity:0;stroke:#000000;\" x=\"327.55\" xlink:href=\"#mf5cfaa4f50\" y=\"162.394088\"/>\n     <use style=\"fill-opacity:0;stroke:#000000;\" x=\"327.55\" xlink:href=\"#mf5cfaa4f50\" y=\"162.394088\"/>\n     <use style=\"fill-opacity:0;stroke:#000000;\" x=\"327.55\" xlink:href=\"#mf5cfaa4f50\" y=\"158.797786\"/>\n     <use style=\"fill-opacity:0;stroke:#000000;\" x=\"327.55\" xlink:href=\"#mf5cfaa4f50\" y=\"158.797786\"/>\n     <use style=\"fill-opacity:0;stroke:#000000;\" x=\"327.55\" xlink:href=\"#mf5cfaa4f50\" y=\"158.797786\"/>\n     <use style=\"fill-opacity:0;stroke:#000000;\" x=\"327.55\" xlink:href=\"#mf5cfaa4f50\" y=\"158.797786\"/>\n     <use style=\"fill-opacity:0;stroke:#000000;\" x=\"327.55\" xlink:href=\"#mf5cfaa4f50\" y=\"158.797786\"/>\n     <use style=\"fill-opacity:0;stroke:#000000;\" x=\"327.55\" xlink:href=\"#mf5cfaa4f50\" y=\"158.797786\"/>\n     <use style=\"fill-opacity:0;stroke:#000000;\" x=\"327.55\" xlink:href=\"#mf5cfaa4f50\" y=\"162.394088\"/>\n     <use style=\"fill-opacity:0;stroke:#000000;\" x=\"327.55\" xlink:href=\"#mf5cfaa4f50\" y=\"158.797786\"/>\n     <use style=\"fill-opacity:0;stroke:#000000;\" x=\"327.55\" xlink:href=\"#mf5cfaa4f50\" y=\"158.797786\"/>\n     <use style=\"fill-opacity:0;stroke:#000000;\" x=\"327.55\" xlink:href=\"#mf5cfaa4f50\" y=\"162.394088\"/>\n     <use style=\"fill-opacity:0;stroke:#000000;\" x=\"327.55\" xlink:href=\"#mf5cfaa4f50\" y=\"158.797786\"/>\n     <use style=\"fill-opacity:0;stroke:#000000;\" x=\"327.55\" xlink:href=\"#mf5cfaa4f50\" y=\"158.797786\"/>\n     <use style=\"fill-opacity:0;stroke:#000000;\" x=\"327.55\" xlink:href=\"#mf5cfaa4f50\" y=\"162.394088\"/>\n     <use style=\"fill-opacity:0;stroke:#000000;\" x=\"327.55\" xlink:href=\"#mf5cfaa4f50\" y=\"158.797786\"/>\n     <use style=\"fill-opacity:0;stroke:#000000;\" x=\"327.55\" xlink:href=\"#mf5cfaa4f50\" y=\"162.394088\"/>\n     <use style=\"fill-opacity:0;stroke:#000000;\" x=\"327.55\" xlink:href=\"#mf5cfaa4f50\" y=\"158.797786\"/>\n     <use style=\"fill-opacity:0;stroke:#000000;\" x=\"327.55\" xlink:href=\"#mf5cfaa4f50\" y=\"162.394088\"/>\n     <use style=\"fill-opacity:0;stroke:#000000;\" x=\"327.55\" xlink:href=\"#mf5cfaa4f50\" y=\"158.797786\"/>\n     <use style=\"fill-opacity:0;stroke:#000000;\" x=\"327.55\" xlink:href=\"#mf5cfaa4f50\" y=\"158.797786\"/>\n     <use style=\"fill-opacity:0;stroke:#000000;\" x=\"327.55\" xlink:href=\"#mf5cfaa4f50\" y=\"158.797786\"/>\n     <use style=\"fill-opacity:0;stroke:#000000;\" x=\"327.55\" xlink:href=\"#mf5cfaa4f50\" y=\"158.797786\"/>\n     <use style=\"fill-opacity:0;stroke:#000000;\" x=\"327.55\" xlink:href=\"#mf5cfaa4f50\" y=\"158.797786\"/>\n     <use style=\"fill-opacity:0;stroke:#000000;\" x=\"327.55\" xlink:href=\"#mf5cfaa4f50\" y=\"158.797786\"/>\n     <use style=\"fill-opacity:0;stroke:#000000;\" x=\"327.55\" xlink:href=\"#mf5cfaa4f50\" y=\"158.797786\"/>\n     <use style=\"fill-opacity:0;stroke:#000000;\" x=\"327.55\" xlink:href=\"#mf5cfaa4f50\" y=\"183.9719\"/>\n     <use style=\"fill-opacity:0;stroke:#000000;\" x=\"327.55\" xlink:href=\"#mf5cfaa4f50\" y=\"158.797786\"/>\n     <use style=\"fill-opacity:0;stroke:#000000;\" x=\"327.55\" xlink:href=\"#mf5cfaa4f50\" y=\"158.797786\"/>\n     <use style=\"fill-opacity:0;stroke:#000000;\" x=\"327.55\" xlink:href=\"#mf5cfaa4f50\" y=\"158.797786\"/>\n     <use style=\"fill-opacity:0;stroke:#000000;\" x=\"327.55\" xlink:href=\"#mf5cfaa4f50\" y=\"158.797786\"/>\n     <use style=\"fill-opacity:0;stroke:#000000;\" x=\"327.55\" xlink:href=\"#mf5cfaa4f50\" y=\"162.394088\"/>\n     <use style=\"fill-opacity:0;stroke:#000000;\" x=\"327.55\" xlink:href=\"#mf5cfaa4f50\" y=\"158.797786\"/>\n     <use style=\"fill-opacity:0;stroke:#000000;\" x=\"327.55\" xlink:href=\"#mf5cfaa4f50\" y=\"165.99039\"/>\n     <use style=\"fill-opacity:0;stroke:#000000;\" x=\"327.55\" xlink:href=\"#mf5cfaa4f50\" y=\"158.797786\"/>\n     <use style=\"fill-opacity:0;stroke:#000000;\" x=\"327.55\" xlink:href=\"#mf5cfaa4f50\" y=\"162.394088\"/>\n     <use style=\"fill-opacity:0;stroke:#000000;\" x=\"327.55\" xlink:href=\"#mf5cfaa4f50\" y=\"162.394088\"/>\n     <use style=\"fill-opacity:0;stroke:#000000;\" x=\"327.55\" xlink:href=\"#mf5cfaa4f50\" y=\"158.797786\"/>\n     <use style=\"fill-opacity:0;stroke:#000000;\" x=\"327.55\" xlink:href=\"#mf5cfaa4f50\" y=\"162.394088\"/>\n     <use style=\"fill-opacity:0;stroke:#000000;\" x=\"327.55\" xlink:href=\"#mf5cfaa4f50\" y=\"158.797786\"/>\n     <use style=\"fill-opacity:0;stroke:#000000;\" x=\"327.55\" xlink:href=\"#mf5cfaa4f50\" y=\"165.99039\"/>\n     <use style=\"fill-opacity:0;stroke:#000000;\" x=\"327.55\" xlink:href=\"#mf5cfaa4f50\" y=\"158.797786\"/>\n     <use style=\"fill-opacity:0;stroke:#000000;\" x=\"327.55\" xlink:href=\"#mf5cfaa4f50\" y=\"158.797786\"/>\n     <use style=\"fill-opacity:0;stroke:#000000;\" x=\"327.55\" xlink:href=\"#mf5cfaa4f50\" y=\"158.797786\"/>\n     <use style=\"fill-opacity:0;stroke:#000000;\" x=\"327.55\" xlink:href=\"#mf5cfaa4f50\" y=\"162.394088\"/>\n     <use style=\"fill-opacity:0;stroke:#000000;\" x=\"327.55\" xlink:href=\"#mf5cfaa4f50\" y=\"158.797786\"/>\n     <use style=\"fill-opacity:0;stroke:#000000;\" x=\"327.55\" xlink:href=\"#mf5cfaa4f50\" y=\"158.797786\"/>\n     <use style=\"fill-opacity:0;stroke:#000000;\" x=\"327.55\" xlink:href=\"#mf5cfaa4f50\" y=\"165.99039\"/>\n     <use style=\"fill-opacity:0;stroke:#000000;\" x=\"327.55\" xlink:href=\"#mf5cfaa4f50\" y=\"162.394088\"/>\n     <use style=\"fill-opacity:0;stroke:#000000;\" x=\"327.55\" xlink:href=\"#mf5cfaa4f50\" y=\"158.797786\"/>\n     <use style=\"fill-opacity:0;stroke:#000000;\" x=\"327.55\" xlink:href=\"#mf5cfaa4f50\" y=\"158.797786\"/>\n     <use style=\"fill-opacity:0;stroke:#000000;\" x=\"327.55\" xlink:href=\"#mf5cfaa4f50\" y=\"158.797786\"/>\n     <use style=\"fill-opacity:0;stroke:#000000;\" x=\"327.55\" xlink:href=\"#mf5cfaa4f50\" y=\"158.797786\"/>\n     <use style=\"fill-opacity:0;stroke:#000000;\" x=\"327.55\" xlink:href=\"#mf5cfaa4f50\" y=\"158.797786\"/>\n     <use style=\"fill-opacity:0;stroke:#000000;\" x=\"327.55\" xlink:href=\"#mf5cfaa4f50\" y=\"165.99039\"/>\n     <use style=\"fill-opacity:0;stroke:#000000;\" x=\"327.55\" xlink:href=\"#mf5cfaa4f50\" y=\"162.394088\"/>\n     <use style=\"fill-opacity:0;stroke:#000000;\" x=\"327.55\" xlink:href=\"#mf5cfaa4f50\" y=\"158.797786\"/>\n     <use style=\"fill-opacity:0;stroke:#000000;\" x=\"327.55\" xlink:href=\"#mf5cfaa4f50\" y=\"158.797786\"/>\n     <use style=\"fill-opacity:0;stroke:#000000;\" x=\"327.55\" xlink:href=\"#mf5cfaa4f50\" y=\"158.797786\"/>\n     <use style=\"fill-opacity:0;stroke:#000000;\" x=\"327.55\" xlink:href=\"#mf5cfaa4f50\" y=\"173.182994\"/>\n     <use style=\"fill-opacity:0;stroke:#000000;\" x=\"327.55\" xlink:href=\"#mf5cfaa4f50\" y=\"162.394088\"/>\n     <use style=\"fill-opacity:0;stroke:#000000;\" x=\"327.55\" xlink:href=\"#mf5cfaa4f50\" y=\"162.394088\"/>\n     <use style=\"fill-opacity:0;stroke:#000000;\" x=\"327.55\" xlink:href=\"#mf5cfaa4f50\" y=\"162.394088\"/>\n     <use style=\"fill-opacity:0;stroke:#000000;\" x=\"327.55\" xlink:href=\"#mf5cfaa4f50\" y=\"162.394088\"/>\n     <use style=\"fill-opacity:0;stroke:#000000;\" x=\"327.55\" xlink:href=\"#mf5cfaa4f50\" y=\"158.797786\"/>\n     <use style=\"fill-opacity:0;stroke:#000000;\" x=\"327.55\" xlink:href=\"#mf5cfaa4f50\" y=\"169.586692\"/>\n     <use style=\"fill-opacity:0;stroke:#000000;\" x=\"327.55\" xlink:href=\"#mf5cfaa4f50\" y=\"158.797786\"/>\n     <use style=\"fill-opacity:0;stroke:#000000;\" x=\"327.55\" xlink:href=\"#mf5cfaa4f50\" y=\"158.797786\"/>\n     <use style=\"fill-opacity:0;stroke:#000000;\" x=\"327.55\" xlink:href=\"#mf5cfaa4f50\" y=\"158.797786\"/>\n     <use style=\"fill-opacity:0;stroke:#000000;\" x=\"327.55\" xlink:href=\"#mf5cfaa4f50\" y=\"158.797786\"/>\n     <use style=\"fill-opacity:0;stroke:#000000;\" x=\"327.55\" xlink:href=\"#mf5cfaa4f50\" y=\"158.797786\"/>\n     <use style=\"fill-opacity:0;stroke:#000000;\" x=\"327.55\" xlink:href=\"#mf5cfaa4f50\" y=\"158.797786\"/>\n     <use style=\"fill-opacity:0;stroke:#000000;\" x=\"327.55\" xlink:href=\"#mf5cfaa4f50\" y=\"162.394088\"/>\n     <use style=\"fill-opacity:0;stroke:#000000;\" x=\"327.55\" xlink:href=\"#mf5cfaa4f50\" y=\"158.797786\"/>\n     <use style=\"fill-opacity:0;stroke:#000000;\" x=\"327.55\" xlink:href=\"#mf5cfaa4f50\" y=\"158.797786\"/>\n     <use style=\"fill-opacity:0;stroke:#000000;\" x=\"327.55\" xlink:href=\"#mf5cfaa4f50\" y=\"165.99039\"/>\n     <use style=\"fill-opacity:0;stroke:#000000;\" x=\"327.55\" xlink:href=\"#mf5cfaa4f50\" y=\"162.394088\"/>\n     <use style=\"fill-opacity:0;stroke:#000000;\" x=\"327.55\" xlink:href=\"#mf5cfaa4f50\" y=\"158.797786\"/>\n     <use style=\"fill-opacity:0;stroke:#000000;\" x=\"327.55\" xlink:href=\"#mf5cfaa4f50\" y=\"169.586692\"/>\n     <use style=\"fill-opacity:0;stroke:#000000;\" x=\"327.55\" xlink:href=\"#mf5cfaa4f50\" y=\"169.586692\"/>\n     <use style=\"fill-opacity:0;stroke:#000000;\" x=\"327.55\" xlink:href=\"#mf5cfaa4f50\" y=\"162.394088\"/>\n     <use style=\"fill-opacity:0;stroke:#000000;\" x=\"327.55\" xlink:href=\"#mf5cfaa4f50\" y=\"162.394088\"/>\n     <use style=\"fill-opacity:0;stroke:#000000;\" x=\"327.55\" xlink:href=\"#mf5cfaa4f50\" y=\"158.797786\"/>\n     <use style=\"fill-opacity:0;stroke:#000000;\" x=\"327.55\" xlink:href=\"#mf5cfaa4f50\" y=\"158.797786\"/>\n     <use style=\"fill-opacity:0;stroke:#000000;\" x=\"327.55\" xlink:href=\"#mf5cfaa4f50\" y=\"162.394088\"/>\n     <use style=\"fill-opacity:0;stroke:#000000;\" x=\"327.55\" xlink:href=\"#mf5cfaa4f50\" y=\"162.394088\"/>\n     <use style=\"fill-opacity:0;stroke:#000000;\" x=\"327.55\" xlink:href=\"#mf5cfaa4f50\" y=\"158.797786\"/>\n     <use style=\"fill-opacity:0;stroke:#000000;\" x=\"327.55\" xlink:href=\"#mf5cfaa4f50\" y=\"158.797786\"/>\n     <use style=\"fill-opacity:0;stroke:#000000;\" x=\"327.55\" xlink:href=\"#mf5cfaa4f50\" y=\"158.797786\"/>\n     <use style=\"fill-opacity:0;stroke:#000000;\" x=\"327.55\" xlink:href=\"#mf5cfaa4f50\" y=\"158.797786\"/>\n     <use style=\"fill-opacity:0;stroke:#000000;\" x=\"327.55\" xlink:href=\"#mf5cfaa4f50\" y=\"158.797786\"/>\n     <use style=\"fill-opacity:0;stroke:#000000;\" x=\"327.55\" xlink:href=\"#mf5cfaa4f50\" y=\"158.797786\"/>\n     <use style=\"fill-opacity:0;stroke:#000000;\" x=\"327.55\" xlink:href=\"#mf5cfaa4f50\" y=\"158.797786\"/>\n     <use style=\"fill-opacity:0;stroke:#000000;\" x=\"327.55\" xlink:href=\"#mf5cfaa4f50\" y=\"162.394088\"/>\n     <use style=\"fill-opacity:0;stroke:#000000;\" x=\"327.55\" xlink:href=\"#mf5cfaa4f50\" y=\"162.394088\"/>\n     <use style=\"fill-opacity:0;stroke:#000000;\" x=\"327.55\" xlink:href=\"#mf5cfaa4f50\" y=\"158.797786\"/>\n     <use style=\"fill-opacity:0;stroke:#000000;\" x=\"327.55\" xlink:href=\"#mf5cfaa4f50\" y=\"158.797786\"/>\n     <use style=\"fill-opacity:0;stroke:#000000;\" x=\"327.55\" xlink:href=\"#mf5cfaa4f50\" y=\"158.797786\"/>\n     <use style=\"fill-opacity:0;stroke:#000000;\" x=\"327.55\" xlink:href=\"#mf5cfaa4f50\" y=\"162.394088\"/>\n     <use style=\"fill-opacity:0;stroke:#000000;\" x=\"327.55\" xlink:href=\"#mf5cfaa4f50\" y=\"158.797786\"/>\n     <use style=\"fill-opacity:0;stroke:#000000;\" x=\"327.55\" xlink:href=\"#mf5cfaa4f50\" y=\"158.797786\"/>\n     <use style=\"fill-opacity:0;stroke:#000000;\" x=\"327.55\" xlink:href=\"#mf5cfaa4f50\" y=\"162.394088\"/>\n     <use style=\"fill-opacity:0;stroke:#000000;\" x=\"327.55\" xlink:href=\"#mf5cfaa4f50\" y=\"173.182994\"/>\n     <use style=\"fill-opacity:0;stroke:#000000;\" x=\"327.55\" xlink:href=\"#mf5cfaa4f50\" y=\"158.797786\"/>\n     <use style=\"fill-opacity:0;stroke:#000000;\" x=\"327.55\" xlink:href=\"#mf5cfaa4f50\" y=\"158.797786\"/>\n     <use style=\"fill-opacity:0;stroke:#000000;\" x=\"327.55\" xlink:href=\"#mf5cfaa4f50\" y=\"162.394088\"/>\n     <use style=\"fill-opacity:0;stroke:#000000;\" x=\"327.55\" xlink:href=\"#mf5cfaa4f50\" y=\"158.797786\"/>\n     <use style=\"fill-opacity:0;stroke:#000000;\" x=\"327.55\" xlink:href=\"#mf5cfaa4f50\" y=\"165.99039\"/>\n     <use style=\"fill-opacity:0;stroke:#000000;\" x=\"327.55\" xlink:href=\"#mf5cfaa4f50\" y=\"162.394088\"/>\n     <use style=\"fill-opacity:0;stroke:#000000;\" x=\"327.55\" xlink:href=\"#mf5cfaa4f50\" y=\"158.797786\"/>\n     <use style=\"fill-opacity:0;stroke:#000000;\" x=\"327.55\" xlink:href=\"#mf5cfaa4f50\" y=\"158.797786\"/>\n     <use style=\"fill-opacity:0;stroke:#000000;\" x=\"327.55\" xlink:href=\"#mf5cfaa4f50\" y=\"169.586692\"/>\n     <use style=\"fill-opacity:0;stroke:#000000;\" x=\"327.55\" xlink:href=\"#mf5cfaa4f50\" y=\"158.797786\"/>\n     <use style=\"fill-opacity:0;stroke:#000000;\" x=\"327.55\" xlink:href=\"#mf5cfaa4f50\" y=\"162.394088\"/>\n     <use style=\"fill-opacity:0;stroke:#000000;\" x=\"327.55\" xlink:href=\"#mf5cfaa4f50\" y=\"158.797786\"/>\n     <use style=\"fill-opacity:0;stroke:#000000;\" x=\"327.55\" xlink:href=\"#mf5cfaa4f50\" y=\"158.797786\"/>\n     <use style=\"fill-opacity:0;stroke:#000000;\" x=\"327.55\" xlink:href=\"#mf5cfaa4f50\" y=\"158.797786\"/>\n     <use style=\"fill-opacity:0;stroke:#000000;\" x=\"327.55\" xlink:href=\"#mf5cfaa4f50\" y=\"158.797786\"/>\n     <use style=\"fill-opacity:0;stroke:#000000;\" x=\"327.55\" xlink:href=\"#mf5cfaa4f50\" y=\"158.797786\"/>\n     <use style=\"fill-opacity:0;stroke:#000000;\" x=\"327.55\" xlink:href=\"#mf5cfaa4f50\" y=\"162.394088\"/>\n     <use style=\"fill-opacity:0;stroke:#000000;\" x=\"327.55\" xlink:href=\"#mf5cfaa4f50\" y=\"158.797786\"/>\n     <use style=\"fill-opacity:0;stroke:#000000;\" x=\"327.55\" xlink:href=\"#mf5cfaa4f50\" y=\"158.797786\"/>\n     <use style=\"fill-opacity:0;stroke:#000000;\" x=\"327.55\" xlink:href=\"#mf5cfaa4f50\" y=\"162.394088\"/>\n     <use style=\"fill-opacity:0;stroke:#000000;\" x=\"327.55\" xlink:href=\"#mf5cfaa4f50\" y=\"158.797786\"/>\n     <use style=\"fill-opacity:0;stroke:#000000;\" x=\"327.55\" xlink:href=\"#mf5cfaa4f50\" y=\"165.99039\"/>\n     <use style=\"fill-opacity:0;stroke:#000000;\" x=\"327.55\" xlink:href=\"#mf5cfaa4f50\" y=\"162.394088\"/>\n     <use style=\"fill-opacity:0;stroke:#000000;\" x=\"327.55\" xlink:href=\"#mf5cfaa4f50\" y=\"158.797786\"/>\n     <use style=\"fill-opacity:0;stroke:#000000;\" x=\"327.55\" xlink:href=\"#mf5cfaa4f50\" y=\"158.797786\"/>\n     <use style=\"fill-opacity:0;stroke:#000000;\" x=\"327.55\" xlink:href=\"#mf5cfaa4f50\" y=\"162.394088\"/>\n     <use style=\"fill-opacity:0;stroke:#000000;\" x=\"327.55\" xlink:href=\"#mf5cfaa4f50\" y=\"158.797786\"/>\n     <use style=\"fill-opacity:0;stroke:#000000;\" x=\"327.55\" xlink:href=\"#mf5cfaa4f50\" y=\"162.394088\"/>\n     <use style=\"fill-opacity:0;stroke:#000000;\" x=\"327.55\" xlink:href=\"#mf5cfaa4f50\" y=\"158.797786\"/>\n     <use style=\"fill-opacity:0;stroke:#000000;\" x=\"327.55\" xlink:href=\"#mf5cfaa4f50\" y=\"162.394088\"/>\n     <use style=\"fill-opacity:0;stroke:#000000;\" x=\"327.55\" xlink:href=\"#mf5cfaa4f50\" y=\"158.797786\"/>\n     <use style=\"fill-opacity:0;stroke:#000000;\" x=\"327.55\" xlink:href=\"#mf5cfaa4f50\" y=\"158.797786\"/>\n     <use style=\"fill-opacity:0;stroke:#000000;\" x=\"327.55\" xlink:href=\"#mf5cfaa4f50\" y=\"162.394088\"/>\n     <use style=\"fill-opacity:0;stroke:#000000;\" x=\"327.55\" xlink:href=\"#mf5cfaa4f50\" y=\"158.797786\"/>\n     <use style=\"fill-opacity:0;stroke:#000000;\" x=\"327.55\" xlink:href=\"#mf5cfaa4f50\" y=\"158.797786\"/>\n     <use style=\"fill-opacity:0;stroke:#000000;\" x=\"327.55\" xlink:href=\"#mf5cfaa4f50\" y=\"158.797786\"/>\n     <use style=\"fill-opacity:0;stroke:#000000;\" x=\"327.55\" xlink:href=\"#mf5cfaa4f50\" y=\"158.797786\"/>\n     <use style=\"fill-opacity:0;stroke:#000000;\" x=\"327.55\" xlink:href=\"#mf5cfaa4f50\" y=\"158.797786\"/>\n     <use style=\"fill-opacity:0;stroke:#000000;\" x=\"327.55\" xlink:href=\"#mf5cfaa4f50\" y=\"162.394088\"/>\n     <use style=\"fill-opacity:0;stroke:#000000;\" x=\"327.55\" xlink:href=\"#mf5cfaa4f50\" y=\"158.797786\"/>\n     <use style=\"fill-opacity:0;stroke:#000000;\" x=\"327.55\" xlink:href=\"#mf5cfaa4f50\" y=\"158.797786\"/>\n     <use style=\"fill-opacity:0;stroke:#000000;\" x=\"327.55\" xlink:href=\"#mf5cfaa4f50\" y=\"158.797786\"/>\n     <use style=\"fill-opacity:0;stroke:#000000;\" x=\"327.55\" xlink:href=\"#mf5cfaa4f50\" y=\"158.797786\"/>\n     <use style=\"fill-opacity:0;stroke:#000000;\" x=\"327.55\" xlink:href=\"#mf5cfaa4f50\" y=\"162.394088\"/>\n     <use style=\"fill-opacity:0;stroke:#000000;\" x=\"327.55\" xlink:href=\"#mf5cfaa4f50\" y=\"165.99039\"/>\n     <use style=\"fill-opacity:0;stroke:#000000;\" x=\"327.55\" xlink:href=\"#mf5cfaa4f50\" y=\"180.375598\"/>\n     <use style=\"fill-opacity:0;stroke:#000000;\" x=\"327.55\" xlink:href=\"#mf5cfaa4f50\" y=\"158.797786\"/>\n     <use style=\"fill-opacity:0;stroke:#000000;\" x=\"327.55\" xlink:href=\"#mf5cfaa4f50\" y=\"162.394088\"/>\n     <use style=\"fill-opacity:0;stroke:#000000;\" x=\"327.55\" xlink:href=\"#mf5cfaa4f50\" y=\"162.394088\"/>\n     <use style=\"fill-opacity:0;stroke:#000000;\" x=\"327.55\" xlink:href=\"#mf5cfaa4f50\" y=\"158.797786\"/>\n     <use style=\"fill-opacity:0;stroke:#000000;\" x=\"327.55\" xlink:href=\"#mf5cfaa4f50\" y=\"162.394088\"/>\n     <use style=\"fill-opacity:0;stroke:#000000;\" x=\"327.55\" xlink:href=\"#mf5cfaa4f50\" y=\"165.99039\"/>\n     <use style=\"fill-opacity:0;stroke:#000000;\" x=\"327.55\" xlink:href=\"#mf5cfaa4f50\" y=\"158.797786\"/>\n     <use style=\"fill-opacity:0;stroke:#000000;\" x=\"327.55\" xlink:href=\"#mf5cfaa4f50\" y=\"158.797786\"/>\n     <use style=\"fill-opacity:0;stroke:#000000;\" x=\"327.55\" xlink:href=\"#mf5cfaa4f50\" y=\"158.797786\"/>\n     <use style=\"fill-opacity:0;stroke:#000000;\" x=\"327.55\" xlink:href=\"#mf5cfaa4f50\" y=\"158.797786\"/>\n     <use style=\"fill-opacity:0;stroke:#000000;\" x=\"327.55\" xlink:href=\"#mf5cfaa4f50\" y=\"158.797786\"/>\n     <use style=\"fill-opacity:0;stroke:#000000;\" x=\"327.55\" xlink:href=\"#mf5cfaa4f50\" y=\"158.797786\"/>\n     <use style=\"fill-opacity:0;stroke:#000000;\" x=\"327.55\" xlink:href=\"#mf5cfaa4f50\" y=\"165.99039\"/>\n     <use style=\"fill-opacity:0;stroke:#000000;\" x=\"327.55\" xlink:href=\"#mf5cfaa4f50\" y=\"158.797786\"/>\n     <use style=\"fill-opacity:0;stroke:#000000;\" x=\"327.55\" xlink:href=\"#mf5cfaa4f50\" y=\"158.797786\"/>\n     <use style=\"fill-opacity:0;stroke:#000000;\" x=\"327.55\" xlink:href=\"#mf5cfaa4f50\" y=\"169.586692\"/>\n     <use style=\"fill-opacity:0;stroke:#000000;\" x=\"327.55\" xlink:href=\"#mf5cfaa4f50\" y=\"158.797786\"/>\n     <use style=\"fill-opacity:0;stroke:#000000;\" x=\"327.55\" xlink:href=\"#mf5cfaa4f50\" y=\"158.797786\"/>\n     <use style=\"fill-opacity:0;stroke:#000000;\" x=\"327.55\" xlink:href=\"#mf5cfaa4f50\" y=\"158.797786\"/>\n     <use style=\"fill-opacity:0;stroke:#000000;\" x=\"327.55\" xlink:href=\"#mf5cfaa4f50\" y=\"158.797786\"/>\n     <use style=\"fill-opacity:0;stroke:#000000;\" x=\"327.55\" xlink:href=\"#mf5cfaa4f50\" y=\"158.797786\"/>\n     <use style=\"fill-opacity:0;stroke:#000000;\" x=\"327.55\" xlink:href=\"#mf5cfaa4f50\" y=\"162.394088\"/>\n     <use style=\"fill-opacity:0;stroke:#000000;\" x=\"327.55\" xlink:href=\"#mf5cfaa4f50\" y=\"158.797786\"/>\n     <use style=\"fill-opacity:0;stroke:#000000;\" x=\"327.55\" xlink:href=\"#mf5cfaa4f50\" y=\"165.99039\"/>\n     <use style=\"fill-opacity:0;stroke:#000000;\" x=\"327.55\" xlink:href=\"#mf5cfaa4f50\" y=\"158.797786\"/>\n     <use style=\"fill-opacity:0;stroke:#000000;\" x=\"327.55\" xlink:href=\"#mf5cfaa4f50\" y=\"158.797786\"/>\n     <use style=\"fill-opacity:0;stroke:#000000;\" x=\"327.55\" xlink:href=\"#mf5cfaa4f50\" y=\"158.797786\"/>\n     <use style=\"fill-opacity:0;stroke:#000000;\" x=\"327.55\" xlink:href=\"#mf5cfaa4f50\" y=\"158.797786\"/>\n     <use style=\"fill-opacity:0;stroke:#000000;\" x=\"327.55\" xlink:href=\"#mf5cfaa4f50\" y=\"162.394088\"/>\n     <use style=\"fill-opacity:0;stroke:#000000;\" x=\"327.55\" xlink:href=\"#mf5cfaa4f50\" y=\"165.99039\"/>\n     <use style=\"fill-opacity:0;stroke:#000000;\" x=\"327.55\" xlink:href=\"#mf5cfaa4f50\" y=\"83.275444\"/>\n     <use style=\"fill-opacity:0;stroke:#000000;\" x=\"327.55\" xlink:href=\"#mf5cfaa4f50\" y=\"83.275444\"/>\n     <use style=\"fill-opacity:0;stroke:#000000;\" x=\"327.55\" xlink:href=\"#mf5cfaa4f50\" y=\"72.486538\"/>\n     <use style=\"fill-opacity:0;stroke:#000000;\" x=\"327.55\" xlink:href=\"#mf5cfaa4f50\" y=\"76.08284\"/>\n     <use style=\"fill-opacity:0;stroke:#000000;\" x=\"327.55\" xlink:href=\"#mf5cfaa4f50\" y=\"68.890236\"/>\n     <use style=\"fill-opacity:0;stroke:#000000;\" x=\"327.55\" xlink:href=\"#mf5cfaa4f50\" y=\"83.275444\"/>\n     <use style=\"fill-opacity:0;stroke:#000000;\" x=\"327.55\" xlink:href=\"#mf5cfaa4f50\" y=\"83.275444\"/>\n     <use style=\"fill-opacity:0;stroke:#000000;\" x=\"327.55\" xlink:href=\"#mf5cfaa4f50\" y=\"79.679142\"/>\n     <use style=\"fill-opacity:0;stroke:#000000;\" x=\"327.55\" xlink:href=\"#mf5cfaa4f50\" y=\"83.275444\"/>\n     <use style=\"fill-opacity:0;stroke:#000000;\" x=\"327.55\" xlink:href=\"#mf5cfaa4f50\" y=\"72.486538\"/>\n     <use style=\"fill-opacity:0;stroke:#000000;\" x=\"327.55\" xlink:href=\"#mf5cfaa4f50\" y=\"83.275444\"/>\n     <use style=\"fill-opacity:0;stroke:#000000;\" x=\"327.55\" xlink:href=\"#mf5cfaa4f50\" y=\"83.275444\"/>\n     <use style=\"fill-opacity:0;stroke:#000000;\" x=\"327.55\" xlink:href=\"#mf5cfaa4f50\" y=\"83.275444\"/>\n     <use style=\"fill-opacity:0;stroke:#000000;\" x=\"327.55\" xlink:href=\"#mf5cfaa4f50\" y=\"83.275444\"/>\n     <use style=\"fill-opacity:0;stroke:#000000;\" x=\"327.55\" xlink:href=\"#mf5cfaa4f50\" y=\"83.275444\"/>\n     <use style=\"fill-opacity:0;stroke:#000000;\" x=\"327.55\" xlink:href=\"#mf5cfaa4f50\" y=\"83.275444\"/>\n     <use style=\"fill-opacity:0;stroke:#000000;\" x=\"327.55\" xlink:href=\"#mf5cfaa4f50\" y=\"58.10133\"/>\n     <use style=\"fill-opacity:0;stroke:#000000;\" x=\"327.55\" xlink:href=\"#mf5cfaa4f50\" y=\"68.890236\"/>\n     <use style=\"fill-opacity:0;stroke:#000000;\" x=\"327.55\" xlink:href=\"#mf5cfaa4f50\" y=\"79.679142\"/>\n     <use style=\"fill-opacity:0;stroke:#000000;\" x=\"327.55\" xlink:href=\"#mf5cfaa4f50\" y=\"83.275444\"/>\n     <use style=\"fill-opacity:0;stroke:#000000;\" x=\"327.55\" xlink:href=\"#mf5cfaa4f50\" y=\"61.697632\"/>\n     <use style=\"fill-opacity:0;stroke:#000000;\" x=\"327.55\" xlink:href=\"#mf5cfaa4f50\" y=\"50.908726\"/>\n     <use style=\"fill-opacity:0;stroke:#000000;\" x=\"327.55\" xlink:href=\"#mf5cfaa4f50\" y=\"79.679142\"/>\n     <use style=\"fill-opacity:0;stroke:#000000;\" x=\"327.55\" xlink:href=\"#mf5cfaa4f50\" y=\"83.275444\"/>\n     <use style=\"fill-opacity:0;stroke:#000000;\" x=\"327.55\" xlink:href=\"#mf5cfaa4f50\" y=\"83.275444\"/>\n     <use style=\"fill-opacity:0;stroke:#000000;\" x=\"327.55\" xlink:href=\"#mf5cfaa4f50\" y=\"76.08284\"/>\n     <use style=\"fill-opacity:0;stroke:#000000;\" x=\"327.55\" xlink:href=\"#mf5cfaa4f50\" y=\"79.679142\"/>\n     <use style=\"fill-opacity:0;stroke:#000000;\" x=\"327.55\" xlink:href=\"#mf5cfaa4f50\" y=\"83.275444\"/>\n     <use style=\"fill-opacity:0;stroke:#000000;\" x=\"327.55\" xlink:href=\"#mf5cfaa4f50\" y=\"83.275444\"/>\n     <use style=\"fill-opacity:0;stroke:#000000;\" x=\"327.55\" xlink:href=\"#mf5cfaa4f50\" y=\"68.890236\"/>\n     <use style=\"fill-opacity:0;stroke:#000000;\" x=\"327.55\" xlink:href=\"#mf5cfaa4f50\" y=\"76.08284\"/>\n     <use style=\"fill-opacity:0;stroke:#000000;\" x=\"327.55\" xlink:href=\"#mf5cfaa4f50\" y=\"83.275444\"/>\n     <use style=\"fill-opacity:0;stroke:#000000;\" x=\"327.55\" xlink:href=\"#mf5cfaa4f50\" y=\"83.275444\"/>\n     <use style=\"fill-opacity:0;stroke:#000000;\" x=\"327.55\" xlink:href=\"#mf5cfaa4f50\" y=\"83.275444\"/>\n     <use style=\"fill-opacity:0;stroke:#000000;\" x=\"327.55\" xlink:href=\"#mf5cfaa4f50\" y=\"79.679142\"/>\n     <use style=\"fill-opacity:0;stroke:#000000;\" x=\"327.55\" xlink:href=\"#mf5cfaa4f50\" y=\"79.679142\"/>\n     <use style=\"fill-opacity:0;stroke:#000000;\" x=\"327.55\" xlink:href=\"#mf5cfaa4f50\" y=\"79.679142\"/>\n     <use style=\"fill-opacity:0;stroke:#000000;\" x=\"327.55\" xlink:href=\"#mf5cfaa4f50\" y=\"83.275444\"/>\n     <use style=\"fill-opacity:0;stroke:#000000;\" x=\"327.55\" xlink:href=\"#mf5cfaa4f50\" y=\"68.890236\"/>\n     <use style=\"fill-opacity:0;stroke:#000000;\" x=\"327.55\" xlink:href=\"#mf5cfaa4f50\" y=\"76.08284\"/>\n     <use style=\"fill-opacity:0;stroke:#000000;\" x=\"327.55\" xlink:href=\"#mf5cfaa4f50\" y=\"83.275444\"/>\n     <use style=\"fill-opacity:0;stroke:#000000;\" x=\"327.55\" xlink:href=\"#mf5cfaa4f50\" y=\"61.697632\"/>\n     <use style=\"fill-opacity:0;stroke:#000000;\" x=\"327.55\" xlink:href=\"#mf5cfaa4f50\" y=\"79.679142\"/>\n     <use style=\"fill-opacity:0;stroke:#000000;\" x=\"327.55\" xlink:href=\"#mf5cfaa4f50\" y=\"61.697632\"/>\n     <use style=\"fill-opacity:0;stroke:#000000;\" x=\"327.55\" xlink:href=\"#mf5cfaa4f50\" y=\"79.679142\"/>\n     <use style=\"fill-opacity:0;stroke:#000000;\" x=\"327.55\" xlink:href=\"#mf5cfaa4f50\" y=\"79.679142\"/>\n     <use style=\"fill-opacity:0;stroke:#000000;\" x=\"327.55\" xlink:href=\"#mf5cfaa4f50\" y=\"79.679142\"/>\n     <use style=\"fill-opacity:0;stroke:#000000;\" x=\"327.55\" xlink:href=\"#mf5cfaa4f50\" y=\"79.679142\"/>\n     <use style=\"fill-opacity:0;stroke:#000000;\" x=\"327.55\" xlink:href=\"#mf5cfaa4f50\" y=\"83.275444\"/>\n     <use style=\"fill-opacity:0;stroke:#000000;\" x=\"327.55\" xlink:href=\"#mf5cfaa4f50\" y=\"83.275444\"/>\n     <use style=\"fill-opacity:0;stroke:#000000;\" x=\"327.55\" xlink:href=\"#mf5cfaa4f50\" y=\"83.275444\"/>\n     <use style=\"fill-opacity:0;stroke:#000000;\" x=\"327.55\" xlink:href=\"#mf5cfaa4f50\" y=\"79.679142\"/>\n     <use style=\"fill-opacity:0;stroke:#000000;\" x=\"327.55\" xlink:href=\"#mf5cfaa4f50\" y=\"79.679142\"/>\n     <use style=\"fill-opacity:0;stroke:#000000;\" x=\"327.55\" xlink:href=\"#mf5cfaa4f50\" y=\"76.08284\"/>\n     <use style=\"fill-opacity:0;stroke:#000000;\" x=\"327.55\" xlink:href=\"#mf5cfaa4f50\" y=\"83.275444\"/>\n     <use style=\"fill-opacity:0;stroke:#000000;\" x=\"327.55\" xlink:href=\"#mf5cfaa4f50\" y=\"32.927216\"/>\n     <use style=\"fill-opacity:0;stroke:#000000;\" x=\"327.55\" xlink:href=\"#mf5cfaa4f50\" y=\"83.275444\"/>\n     <use style=\"fill-opacity:0;stroke:#000000;\" x=\"327.55\" xlink:href=\"#mf5cfaa4f50\" y=\"76.08284\"/>\n     <use style=\"fill-opacity:0;stroke:#000000;\" x=\"327.55\" xlink:href=\"#mf5cfaa4f50\" y=\"79.679142\"/>\n     <use style=\"fill-opacity:0;stroke:#000000;\" x=\"327.55\" xlink:href=\"#mf5cfaa4f50\" y=\"83.275444\"/>\n     <use style=\"fill-opacity:0;stroke:#000000;\" x=\"327.55\" xlink:href=\"#mf5cfaa4f50\" y=\"76.08284\"/>\n     <use style=\"fill-opacity:0;stroke:#000000;\" x=\"327.55\" xlink:href=\"#mf5cfaa4f50\" y=\"83.275444\"/>\n     <use style=\"fill-opacity:0;stroke:#000000;\" x=\"327.55\" xlink:href=\"#mf5cfaa4f50\" y=\"79.679142\"/>\n     <use style=\"fill-opacity:0;stroke:#000000;\" x=\"327.55\" xlink:href=\"#mf5cfaa4f50\" y=\"72.486538\"/>\n     <use style=\"fill-opacity:0;stroke:#000000;\" x=\"327.55\" xlink:href=\"#mf5cfaa4f50\" y=\"83.275444\"/>\n     <use style=\"fill-opacity:0;stroke:#000000;\" x=\"327.55\" xlink:href=\"#mf5cfaa4f50\" y=\"65.293934\"/>\n     <use style=\"fill-opacity:0;stroke:#000000;\" x=\"327.55\" xlink:href=\"#mf5cfaa4f50\" y=\"68.890236\"/>\n     <use style=\"fill-opacity:0;stroke:#000000;\" x=\"327.55\" xlink:href=\"#mf5cfaa4f50\" y=\"79.679142\"/>\n     <use style=\"fill-opacity:0;stroke:#000000;\" x=\"327.55\" xlink:href=\"#mf5cfaa4f50\" y=\"83.275444\"/>\n     <use style=\"fill-opacity:0;stroke:#000000;\" x=\"327.55\" xlink:href=\"#mf5cfaa4f50\" y=\"79.679142\"/>\n     <use style=\"fill-opacity:0;stroke:#000000;\" x=\"327.55\" xlink:href=\"#mf5cfaa4f50\" y=\"83.275444\"/>\n     <use style=\"fill-opacity:0;stroke:#000000;\" x=\"327.55\" xlink:href=\"#mf5cfaa4f50\" y=\"83.275444\"/>\n     <use style=\"fill-opacity:0;stroke:#000000;\" x=\"327.55\" xlink:href=\"#mf5cfaa4f50\" y=\"83.275444\"/>\n     <use style=\"fill-opacity:0;stroke:#000000;\" x=\"327.55\" xlink:href=\"#mf5cfaa4f50\" y=\"79.679142\"/>\n     <use style=\"fill-opacity:0;stroke:#000000;\" x=\"327.55\" xlink:href=\"#mf5cfaa4f50\" y=\"72.486538\"/>\n     <use style=\"fill-opacity:0;stroke:#000000;\" x=\"327.55\" xlink:href=\"#mf5cfaa4f50\" y=\"79.679142\"/>\n     <use style=\"fill-opacity:0;stroke:#000000;\" x=\"327.55\" xlink:href=\"#mf5cfaa4f50\" y=\"79.679142\"/>\n     <use style=\"fill-opacity:0;stroke:#000000;\" x=\"327.55\" xlink:href=\"#mf5cfaa4f50\" y=\"83.275444\"/>\n     <use style=\"fill-opacity:0;stroke:#000000;\" x=\"327.55\" xlink:href=\"#mf5cfaa4f50\" y=\"79.679142\"/>\n     <use style=\"fill-opacity:0;stroke:#000000;\" x=\"327.55\" xlink:href=\"#mf5cfaa4f50\" y=\"72.486538\"/>\n     <use style=\"fill-opacity:0;stroke:#000000;\" x=\"327.55\" xlink:href=\"#mf5cfaa4f50\" y=\"83.275444\"/>\n     <use style=\"fill-opacity:0;stroke:#000000;\" x=\"327.55\" xlink:href=\"#mf5cfaa4f50\" y=\"79.679142\"/>\n     <use style=\"fill-opacity:0;stroke:#000000;\" x=\"327.55\" xlink:href=\"#mf5cfaa4f50\" y=\"83.275444\"/>\n     <use style=\"fill-opacity:0;stroke:#000000;\" x=\"327.55\" xlink:href=\"#mf5cfaa4f50\" y=\"68.890236\"/>\n     <use style=\"fill-opacity:0;stroke:#000000;\" x=\"327.55\" xlink:href=\"#mf5cfaa4f50\" y=\"83.275444\"/>\n     <use style=\"fill-opacity:0;stroke:#000000;\" x=\"327.55\" xlink:href=\"#mf5cfaa4f50\" y=\"83.275444\"/>\n     <use style=\"fill-opacity:0;stroke:#000000;\" x=\"327.55\" xlink:href=\"#mf5cfaa4f50\" y=\"76.08284\"/>\n     <use style=\"fill-opacity:0;stroke:#000000;\" x=\"327.55\" xlink:href=\"#mf5cfaa4f50\" y=\"83.275444\"/>\n     <use style=\"fill-opacity:0;stroke:#000000;\" x=\"327.55\" xlink:href=\"#mf5cfaa4f50\" y=\"83.275444\"/>\n     <use style=\"fill-opacity:0;stroke:#000000;\" x=\"327.55\" xlink:href=\"#mf5cfaa4f50\" y=\"65.293934\"/>\n     <use style=\"fill-opacity:0;stroke:#000000;\" x=\"327.55\" xlink:href=\"#mf5cfaa4f50\" y=\"79.679142\"/>\n     <use style=\"fill-opacity:0;stroke:#000000;\" x=\"327.55\" xlink:href=\"#mf5cfaa4f50\" y=\"72.486538\"/>\n     <use style=\"fill-opacity:0;stroke:#000000;\" x=\"327.55\" xlink:href=\"#mf5cfaa4f50\" y=\"76.08284\"/>\n     <use style=\"fill-opacity:0;stroke:#000000;\" x=\"327.55\" xlink:href=\"#mf5cfaa4f50\" y=\"83.275444\"/>\n     <use style=\"fill-opacity:0;stroke:#000000;\" x=\"327.55\" xlink:href=\"#mf5cfaa4f50\" y=\"83.275444\"/>\n     <use style=\"fill-opacity:0;stroke:#000000;\" x=\"327.55\" xlink:href=\"#mf5cfaa4f50\" y=\"83.275444\"/>\n     <use style=\"fill-opacity:0;stroke:#000000;\" x=\"327.55\" xlink:href=\"#mf5cfaa4f50\" y=\"79.679142\"/>\n     <use style=\"fill-opacity:0;stroke:#000000;\" x=\"327.55\" xlink:href=\"#mf5cfaa4f50\" y=\"54.505028\"/>\n     <use style=\"fill-opacity:0;stroke:#000000;\" x=\"327.55\" xlink:href=\"#mf5cfaa4f50\" y=\"72.486538\"/>\n     <use style=\"fill-opacity:0;stroke:#000000;\" x=\"327.55\" xlink:href=\"#mf5cfaa4f50\" y=\"83.275444\"/>\n     <use style=\"fill-opacity:0;stroke:#000000;\" x=\"327.55\" xlink:href=\"#mf5cfaa4f50\" y=\"83.275444\"/>\n     <use style=\"fill-opacity:0;stroke:#000000;\" x=\"327.55\" xlink:href=\"#mf5cfaa4f50\" y=\"68.890236\"/>\n     <use style=\"fill-opacity:0;stroke:#000000;\" x=\"327.55\" xlink:href=\"#mf5cfaa4f50\" y=\"83.275444\"/>\n     <use style=\"fill-opacity:0;stroke:#000000;\" x=\"327.55\" xlink:href=\"#mf5cfaa4f50\" y=\"79.679142\"/>\n     <use style=\"fill-opacity:0;stroke:#000000;\" x=\"327.55\" xlink:href=\"#mf5cfaa4f50\" y=\"68.890236\"/>\n     <use style=\"fill-opacity:0;stroke:#000000;\" x=\"327.55\" xlink:href=\"#mf5cfaa4f50\" y=\"83.275444\"/>\n     <use style=\"fill-opacity:0;stroke:#000000;\" x=\"327.55\" xlink:href=\"#mf5cfaa4f50\" y=\"83.275444\"/>\n     <use style=\"fill-opacity:0;stroke:#000000;\" x=\"327.55\" xlink:href=\"#mf5cfaa4f50\" y=\"79.679142\"/>\n     <use style=\"fill-opacity:0;stroke:#000000;\" x=\"327.55\" xlink:href=\"#mf5cfaa4f50\" y=\"83.275444\"/>\n     <use style=\"fill-opacity:0;stroke:#000000;\" x=\"327.55\" xlink:href=\"#mf5cfaa4f50\" y=\"83.275444\"/>\n     <use style=\"fill-opacity:0;stroke:#000000;\" x=\"327.55\" xlink:href=\"#mf5cfaa4f50\" y=\"83.275444\"/>\n     <use style=\"fill-opacity:0;stroke:#000000;\" x=\"327.55\" xlink:href=\"#mf5cfaa4f50\" y=\"83.275444\"/>\n     <use style=\"fill-opacity:0;stroke:#000000;\" x=\"327.55\" xlink:href=\"#mf5cfaa4f50\" y=\"79.679142\"/>\n     <use style=\"fill-opacity:0;stroke:#000000;\" x=\"327.55\" xlink:href=\"#mf5cfaa4f50\" y=\"83.275444\"/>\n     <use style=\"fill-opacity:0;stroke:#000000;\" x=\"327.55\" xlink:href=\"#mf5cfaa4f50\" y=\"79.679142\"/>\n     <use style=\"fill-opacity:0;stroke:#000000;\" x=\"327.55\" xlink:href=\"#mf5cfaa4f50\" y=\"83.275444\"/>\n     <use style=\"fill-opacity:0;stroke:#000000;\" x=\"327.55\" xlink:href=\"#mf5cfaa4f50\" y=\"83.275444\"/>\n     <use style=\"fill-opacity:0;stroke:#000000;\" x=\"327.55\" xlink:href=\"#mf5cfaa4f50\" y=\"83.275444\"/>\n     <use style=\"fill-opacity:0;stroke:#000000;\" x=\"327.55\" xlink:href=\"#mf5cfaa4f50\" y=\"72.486538\"/>\n     <use style=\"fill-opacity:0;stroke:#000000;\" x=\"327.55\" xlink:href=\"#mf5cfaa4f50\" y=\"83.275444\"/>\n     <use style=\"fill-opacity:0;stroke:#000000;\" x=\"327.55\" xlink:href=\"#mf5cfaa4f50\" y=\"79.679142\"/>\n     <use style=\"fill-opacity:0;stroke:#000000;\" x=\"327.55\" xlink:href=\"#mf5cfaa4f50\" y=\"68.890236\"/>\n     <use style=\"fill-opacity:0;stroke:#000000;\" x=\"327.55\" xlink:href=\"#mf5cfaa4f50\" y=\"83.275444\"/>\n     <use style=\"fill-opacity:0;stroke:#000000;\" x=\"327.55\" xlink:href=\"#mf5cfaa4f50\" y=\"76.08284\"/>\n     <use style=\"fill-opacity:0;stroke:#000000;\" x=\"327.55\" xlink:href=\"#mf5cfaa4f50\" y=\"76.08284\"/>\n     <use style=\"fill-opacity:0;stroke:#000000;\" x=\"327.55\" xlink:href=\"#mf5cfaa4f50\" y=\"83.275444\"/>\n     <use style=\"fill-opacity:0;stroke:#000000;\" x=\"327.55\" xlink:href=\"#mf5cfaa4f50\" y=\"83.275444\"/>\n     <use style=\"fill-opacity:0;stroke:#000000;\" x=\"327.55\" xlink:href=\"#mf5cfaa4f50\" y=\"83.275444\"/>\n     <use style=\"fill-opacity:0;stroke:#000000;\" x=\"327.55\" xlink:href=\"#mf5cfaa4f50\" y=\"83.275444\"/>\n     <use style=\"fill-opacity:0;stroke:#000000;\" x=\"327.55\" xlink:href=\"#mf5cfaa4f50\" y=\"79.679142\"/>\n     <use style=\"fill-opacity:0;stroke:#000000;\" x=\"327.55\" xlink:href=\"#mf5cfaa4f50\" y=\"79.679142\"/>\n     <use style=\"fill-opacity:0;stroke:#000000;\" x=\"327.55\" xlink:href=\"#mf5cfaa4f50\" y=\"79.679142\"/>\n     <use style=\"fill-opacity:0;stroke:#000000;\" x=\"327.55\" xlink:href=\"#mf5cfaa4f50\" y=\"79.679142\"/>\n     <use style=\"fill-opacity:0;stroke:#000000;\" x=\"327.55\" xlink:href=\"#mf5cfaa4f50\" y=\"79.679142\"/>\n     <use style=\"fill-opacity:0;stroke:#000000;\" x=\"327.55\" xlink:href=\"#mf5cfaa4f50\" y=\"83.275444\"/>\n     <use style=\"fill-opacity:0;stroke:#000000;\" x=\"327.55\" xlink:href=\"#mf5cfaa4f50\" y=\"76.08284\"/>\n     <use style=\"fill-opacity:0;stroke:#000000;\" x=\"327.55\" xlink:href=\"#mf5cfaa4f50\" y=\"79.679142\"/>\n     <use style=\"fill-opacity:0;stroke:#000000;\" x=\"327.55\" xlink:href=\"#mf5cfaa4f50\" y=\"83.275444\"/>\n     <use style=\"fill-opacity:0;stroke:#000000;\" x=\"327.55\" xlink:href=\"#mf5cfaa4f50\" y=\"83.275444\"/>\n     <use style=\"fill-opacity:0;stroke:#000000;\" x=\"327.55\" xlink:href=\"#mf5cfaa4f50\" y=\"76.08284\"/>\n     <use style=\"fill-opacity:0;stroke:#000000;\" x=\"327.55\" xlink:href=\"#mf5cfaa4f50\" y=\"83.275444\"/>\n     <use style=\"fill-opacity:0;stroke:#000000;\" x=\"327.55\" xlink:href=\"#mf5cfaa4f50\" y=\"79.679142\"/>\n     <use style=\"fill-opacity:0;stroke:#000000;\" x=\"327.55\" xlink:href=\"#mf5cfaa4f50\" y=\"83.275444\"/>\n     <use style=\"fill-opacity:0;stroke:#000000;\" x=\"327.55\" xlink:href=\"#mf5cfaa4f50\" y=\"68.890236\"/>\n     <use style=\"fill-opacity:0;stroke:#000000;\" x=\"327.55\" xlink:href=\"#mf5cfaa4f50\" y=\"79.679142\"/>\n     <use style=\"fill-opacity:0;stroke:#000000;\" x=\"327.55\" xlink:href=\"#mf5cfaa4f50\" y=\"76.08284\"/>\n     <use style=\"fill-opacity:0;stroke:#000000;\" x=\"327.55\" xlink:href=\"#mf5cfaa4f50\" y=\"83.275444\"/>\n     <use style=\"fill-opacity:0;stroke:#000000;\" x=\"327.55\" xlink:href=\"#mf5cfaa4f50\" y=\"58.10133\"/>\n     <use style=\"fill-opacity:0;stroke:#000000;\" x=\"327.55\" xlink:href=\"#mf5cfaa4f50\" y=\"72.486538\"/>\n     <use style=\"fill-opacity:0;stroke:#000000;\" x=\"327.55\" xlink:href=\"#mf5cfaa4f50\" y=\"76.08284\"/>\n     <use style=\"fill-opacity:0;stroke:#000000;\" x=\"327.55\" xlink:href=\"#mf5cfaa4f50\" y=\"79.679142\"/>\n     <use style=\"fill-opacity:0;stroke:#000000;\" x=\"327.55\" xlink:href=\"#mf5cfaa4f50\" y=\"79.679142\"/>\n     <use style=\"fill-opacity:0;stroke:#000000;\" x=\"327.55\" xlink:href=\"#mf5cfaa4f50\" y=\"83.275444\"/>\n     <use style=\"fill-opacity:0;stroke:#000000;\" x=\"327.55\" xlink:href=\"#mf5cfaa4f50\" y=\"79.679142\"/>\n     <use style=\"fill-opacity:0;stroke:#000000;\" x=\"327.55\" xlink:href=\"#mf5cfaa4f50\" y=\"83.275444\"/>\n     <use style=\"fill-opacity:0;stroke:#000000;\" x=\"327.55\" xlink:href=\"#mf5cfaa4f50\" y=\"76.08284\"/>\n     <use style=\"fill-opacity:0;stroke:#000000;\" x=\"327.55\" xlink:href=\"#mf5cfaa4f50\" y=\"83.275444\"/>\n     <use style=\"fill-opacity:0;stroke:#000000;\" x=\"327.55\" xlink:href=\"#mf5cfaa4f50\" y=\"83.275444\"/>\n     <use style=\"fill-opacity:0;stroke:#000000;\" x=\"327.55\" xlink:href=\"#mf5cfaa4f50\" y=\"83.275444\"/>\n     <use style=\"fill-opacity:0;stroke:#000000;\" x=\"327.55\" xlink:href=\"#mf5cfaa4f50\" y=\"68.890236\"/>\n     <use style=\"fill-opacity:0;stroke:#000000;\" x=\"327.55\" xlink:href=\"#mf5cfaa4f50\" y=\"79.679142\"/>\n     <use style=\"fill-opacity:0;stroke:#000000;\" x=\"327.55\" xlink:href=\"#mf5cfaa4f50\" y=\"83.275444\"/>\n     <use style=\"fill-opacity:0;stroke:#000000;\" x=\"327.55\" xlink:href=\"#mf5cfaa4f50\" y=\"79.679142\"/>\n     <use style=\"fill-opacity:0;stroke:#000000;\" x=\"327.55\" xlink:href=\"#mf5cfaa4f50\" y=\"83.275444\"/>\n     <use style=\"fill-opacity:0;stroke:#000000;\" x=\"327.55\" xlink:href=\"#mf5cfaa4f50\" y=\"76.08284\"/>\n     <use style=\"fill-opacity:0;stroke:#000000;\" x=\"327.55\" xlink:href=\"#mf5cfaa4f50\" y=\"83.275444\"/>\n     <use style=\"fill-opacity:0;stroke:#000000;\" x=\"327.55\" xlink:href=\"#mf5cfaa4f50\" y=\"83.275444\"/>\n     <use style=\"fill-opacity:0;stroke:#000000;\" x=\"327.55\" xlink:href=\"#mf5cfaa4f50\" y=\"79.679142\"/>\n     <use style=\"fill-opacity:0;stroke:#000000;\" x=\"327.55\" xlink:href=\"#mf5cfaa4f50\" y=\"83.275444\"/>\n     <use style=\"fill-opacity:0;stroke:#000000;\" x=\"327.55\" xlink:href=\"#mf5cfaa4f50\" y=\"83.275444\"/>\n     <use style=\"fill-opacity:0;stroke:#000000;\" x=\"327.55\" xlink:href=\"#mf5cfaa4f50\" y=\"83.275444\"/>\n     <use style=\"fill-opacity:0;stroke:#000000;\" x=\"327.55\" xlink:href=\"#mf5cfaa4f50\" y=\"83.275444\"/>\n     <use style=\"fill-opacity:0;stroke:#000000;\" x=\"327.55\" xlink:href=\"#mf5cfaa4f50\" y=\"79.679142\"/>\n     <use style=\"fill-opacity:0;stroke:#000000;\" x=\"327.55\" xlink:href=\"#mf5cfaa4f50\" y=\"83.275444\"/>\n     <use style=\"fill-opacity:0;stroke:#000000;\" x=\"327.55\" xlink:href=\"#mf5cfaa4f50\" y=\"79.679142\"/>\n     <use style=\"fill-opacity:0;stroke:#000000;\" x=\"327.55\" xlink:href=\"#mf5cfaa4f50\" y=\"79.679142\"/>\n     <use style=\"fill-opacity:0;stroke:#000000;\" x=\"327.55\" xlink:href=\"#mf5cfaa4f50\" y=\"76.08284\"/>\n     <use style=\"fill-opacity:0;stroke:#000000;\" x=\"327.55\" xlink:href=\"#mf5cfaa4f50\" y=\"79.679142\"/>\n     <use style=\"fill-opacity:0;stroke:#000000;\" x=\"327.55\" xlink:href=\"#mf5cfaa4f50\" y=\"76.08284\"/>\n     <use style=\"fill-opacity:0;stroke:#000000;\" x=\"327.55\" xlink:href=\"#mf5cfaa4f50\" y=\"79.679142\"/>\n     <use style=\"fill-opacity:0;stroke:#000000;\" x=\"327.55\" xlink:href=\"#mf5cfaa4f50\" y=\"83.275444\"/>\n     <use style=\"fill-opacity:0;stroke:#000000;\" x=\"327.55\" xlink:href=\"#mf5cfaa4f50\" y=\"83.275444\"/>\n     <use style=\"fill-opacity:0;stroke:#000000;\" x=\"327.55\" xlink:href=\"#mf5cfaa4f50\" y=\"83.275444\"/>\n     <use style=\"fill-opacity:0;stroke:#000000;\" x=\"327.55\" xlink:href=\"#mf5cfaa4f50\" y=\"79.679142\"/>\n     <use style=\"fill-opacity:0;stroke:#000000;\" x=\"327.55\" xlink:href=\"#mf5cfaa4f50\" y=\"83.275444\"/>\n     <use style=\"fill-opacity:0;stroke:#000000;\" x=\"327.55\" xlink:href=\"#mf5cfaa4f50\" y=\"83.275444\"/>\n     <use style=\"fill-opacity:0;stroke:#000000;\" x=\"327.55\" xlink:href=\"#mf5cfaa4f50\" y=\"72.486538\"/>\n     <use style=\"fill-opacity:0;stroke:#000000;\" x=\"327.55\" xlink:href=\"#mf5cfaa4f50\" y=\"83.275444\"/>\n     <use style=\"fill-opacity:0;stroke:#000000;\" x=\"327.55\" xlink:href=\"#mf5cfaa4f50\" y=\"83.275444\"/>\n     <use style=\"fill-opacity:0;stroke:#000000;\" x=\"327.55\" xlink:href=\"#mf5cfaa4f50\" y=\"83.275444\"/>\n     <use style=\"fill-opacity:0;stroke:#000000;\" x=\"327.55\" xlink:href=\"#mf5cfaa4f50\" y=\"83.275444\"/>\n     <use style=\"fill-opacity:0;stroke:#000000;\" x=\"327.55\" xlink:href=\"#mf5cfaa4f50\" y=\"79.679142\"/>\n     <use style=\"fill-opacity:0;stroke:#000000;\" x=\"327.55\" xlink:href=\"#mf5cfaa4f50\" y=\"76.08284\"/>\n     <use style=\"fill-opacity:0;stroke:#000000;\" x=\"327.55\" xlink:href=\"#mf5cfaa4f50\" y=\"76.08284\"/>\n     <use style=\"fill-opacity:0;stroke:#000000;\" x=\"327.55\" xlink:href=\"#mf5cfaa4f50\" y=\"65.293934\"/>\n     <use style=\"fill-opacity:0;stroke:#000000;\" x=\"327.55\" xlink:href=\"#mf5cfaa4f50\" y=\"79.679142\"/>\n     <use style=\"fill-opacity:0;stroke:#000000;\" x=\"327.55\" xlink:href=\"#mf5cfaa4f50\" y=\"83.275444\"/>\n     <use style=\"fill-opacity:0;stroke:#000000;\" x=\"327.55\" xlink:href=\"#mf5cfaa4f50\" y=\"83.275444\"/>\n     <use style=\"fill-opacity:0;stroke:#000000;\" x=\"327.55\" xlink:href=\"#mf5cfaa4f50\" y=\"79.679142\"/>\n     <use style=\"fill-opacity:0;stroke:#000000;\" x=\"327.55\" xlink:href=\"#mf5cfaa4f50\" y=\"83.275444\"/>\n     <use style=\"fill-opacity:0;stroke:#000000;\" x=\"327.55\" xlink:href=\"#mf5cfaa4f50\" y=\"61.697632\"/>\n     <use style=\"fill-opacity:0;stroke:#000000;\" x=\"327.55\" xlink:href=\"#mf5cfaa4f50\" y=\"83.275444\"/>\n     <use style=\"fill-opacity:0;stroke:#000000;\" x=\"327.55\" xlink:href=\"#mf5cfaa4f50\" y=\"83.275444\"/>\n     <use style=\"fill-opacity:0;stroke:#000000;\" x=\"327.55\" xlink:href=\"#mf5cfaa4f50\" y=\"83.275444\"/>\n     <use style=\"fill-opacity:0;stroke:#000000;\" x=\"327.55\" xlink:href=\"#mf5cfaa4f50\" y=\"58.10133\"/>\n     <use style=\"fill-opacity:0;stroke:#000000;\" x=\"327.55\" xlink:href=\"#mf5cfaa4f50\" y=\"79.679142\"/>\n     <use style=\"fill-opacity:0;stroke:#000000;\" x=\"327.55\" xlink:href=\"#mf5cfaa4f50\" y=\"72.486538\"/>\n     <use style=\"fill-opacity:0;stroke:#000000;\" x=\"327.55\" xlink:href=\"#mf5cfaa4f50\" y=\"83.275444\"/>\n     <use style=\"fill-opacity:0;stroke:#000000;\" x=\"327.55\" xlink:href=\"#mf5cfaa4f50\" y=\"83.275444\"/>\n     <use style=\"fill-opacity:0;stroke:#000000;\" x=\"327.55\" xlink:href=\"#mf5cfaa4f50\" y=\"68.890236\"/>\n     <use style=\"fill-opacity:0;stroke:#000000;\" x=\"327.55\" xlink:href=\"#mf5cfaa4f50\" y=\"83.275444\"/>\n     <use style=\"fill-opacity:0;stroke:#000000;\" x=\"327.55\" xlink:href=\"#mf5cfaa4f50\" y=\"83.275444\"/>\n     <use style=\"fill-opacity:0;stroke:#000000;\" x=\"327.55\" xlink:href=\"#mf5cfaa4f50\" y=\"79.679142\"/>\n     <use style=\"fill-opacity:0;stroke:#000000;\" x=\"327.55\" xlink:href=\"#mf5cfaa4f50\" y=\"79.679142\"/>\n     <use style=\"fill-opacity:0;stroke:#000000;\" x=\"327.55\" xlink:href=\"#mf5cfaa4f50\" y=\"76.08284\"/>\n     <use style=\"fill-opacity:0;stroke:#000000;\" x=\"327.55\" xlink:href=\"#mf5cfaa4f50\" y=\"83.275444\"/>\n     <use style=\"fill-opacity:0;stroke:#000000;\" x=\"327.55\" xlink:href=\"#mf5cfaa4f50\" y=\"83.275444\"/>\n     <use style=\"fill-opacity:0;stroke:#000000;\" x=\"327.55\" xlink:href=\"#mf5cfaa4f50\" y=\"76.08284\"/>\n     <use style=\"fill-opacity:0;stroke:#000000;\" x=\"327.55\" xlink:href=\"#mf5cfaa4f50\" y=\"79.679142\"/>\n     <use style=\"fill-opacity:0;stroke:#000000;\" x=\"327.55\" xlink:href=\"#mf5cfaa4f50\" y=\"83.275444\"/>\n     <use style=\"fill-opacity:0;stroke:#000000;\" x=\"327.55\" xlink:href=\"#mf5cfaa4f50\" y=\"79.679142\"/>\n     <use style=\"fill-opacity:0;stroke:#000000;\" x=\"327.55\" xlink:href=\"#mf5cfaa4f50\" y=\"79.679142\"/>\n     <use style=\"fill-opacity:0;stroke:#000000;\" x=\"327.55\" xlink:href=\"#mf5cfaa4f50\" y=\"79.679142\"/>\n     <use style=\"fill-opacity:0;stroke:#000000;\" x=\"327.55\" xlink:href=\"#mf5cfaa4f50\" y=\"83.275444\"/>\n     <use style=\"fill-opacity:0;stroke:#000000;\" x=\"327.55\" xlink:href=\"#mf5cfaa4f50\" y=\"83.275444\"/>\n     <use style=\"fill-opacity:0;stroke:#000000;\" x=\"327.55\" xlink:href=\"#mf5cfaa4f50\" y=\"79.679142\"/>\n     <use style=\"fill-opacity:0;stroke:#000000;\" x=\"327.55\" xlink:href=\"#mf5cfaa4f50\" y=\"83.275444\"/>\n     <use style=\"fill-opacity:0;stroke:#000000;\" x=\"327.55\" xlink:href=\"#mf5cfaa4f50\" y=\"83.275444\"/>\n     <use style=\"fill-opacity:0;stroke:#000000;\" x=\"327.55\" xlink:href=\"#mf5cfaa4f50\" y=\"83.275444\"/>\n     <use style=\"fill-opacity:0;stroke:#000000;\" x=\"327.55\" xlink:href=\"#mf5cfaa4f50\" y=\"79.679142\"/>\n     <use style=\"fill-opacity:0;stroke:#000000;\" x=\"327.55\" xlink:href=\"#mf5cfaa4f50\" y=\"83.275444\"/>\n     <use style=\"fill-opacity:0;stroke:#000000;\" x=\"327.55\" xlink:href=\"#mf5cfaa4f50\" y=\"83.275444\"/>\n     <use style=\"fill-opacity:0;stroke:#000000;\" x=\"327.55\" xlink:href=\"#mf5cfaa4f50\" y=\"65.293934\"/>\n     <use style=\"fill-opacity:0;stroke:#000000;\" x=\"327.55\" xlink:href=\"#mf5cfaa4f50\" y=\"83.275444\"/>\n     <use style=\"fill-opacity:0;stroke:#000000;\" x=\"327.55\" xlink:href=\"#mf5cfaa4f50\" y=\"79.679142\"/>\n     <use style=\"fill-opacity:0;stroke:#000000;\" x=\"327.55\" xlink:href=\"#mf5cfaa4f50\" y=\"79.679142\"/>\n     <use style=\"fill-opacity:0;stroke:#000000;\" x=\"327.55\" xlink:href=\"#mf5cfaa4f50\" y=\"79.679142\"/>\n     <use style=\"fill-opacity:0;stroke:#000000;\" x=\"327.55\" xlink:href=\"#mf5cfaa4f50\" y=\"79.679142\"/>\n     <use style=\"fill-opacity:0;stroke:#000000;\" x=\"327.55\" xlink:href=\"#mf5cfaa4f50\" y=\"83.275444\"/>\n     <use style=\"fill-opacity:0;stroke:#000000;\" x=\"327.55\" xlink:href=\"#mf5cfaa4f50\" y=\"83.275444\"/>\n     <use style=\"fill-opacity:0;stroke:#000000;\" x=\"327.55\" xlink:href=\"#mf5cfaa4f50\" y=\"79.679142\"/>\n     <use style=\"fill-opacity:0;stroke:#000000;\" x=\"327.55\" xlink:href=\"#mf5cfaa4f50\" y=\"79.679142\"/>\n     <use style=\"fill-opacity:0;stroke:#000000;\" x=\"327.55\" xlink:href=\"#mf5cfaa4f50\" y=\"79.679142\"/>\n     <use style=\"fill-opacity:0;stroke:#000000;\" x=\"327.55\" xlink:href=\"#mf5cfaa4f50\" y=\"79.679142\"/>\n     <use style=\"fill-opacity:0;stroke:#000000;\" x=\"327.55\" xlink:href=\"#mf5cfaa4f50\" y=\"79.679142\"/>\n     <use style=\"fill-opacity:0;stroke:#000000;\" x=\"327.55\" xlink:href=\"#mf5cfaa4f50\" y=\"79.679142\"/>\n     <use style=\"fill-opacity:0;stroke:#000000;\" x=\"327.55\" xlink:href=\"#mf5cfaa4f50\" y=\"83.275444\"/>\n     <use style=\"fill-opacity:0;stroke:#000000;\" x=\"327.55\" xlink:href=\"#mf5cfaa4f50\" y=\"83.275444\"/>\n     <use style=\"fill-opacity:0;stroke:#000000;\" x=\"327.55\" xlink:href=\"#mf5cfaa4f50\" y=\"83.275444\"/>\n     <use style=\"fill-opacity:0;stroke:#000000;\" x=\"327.55\" xlink:href=\"#mf5cfaa4f50\" y=\"79.679142\"/>\n     <use style=\"fill-opacity:0;stroke:#000000;\" x=\"327.55\" xlink:href=\"#mf5cfaa4f50\" y=\"79.679142\"/>\n     <use style=\"fill-opacity:0;stroke:#000000;\" x=\"327.55\" xlink:href=\"#mf5cfaa4f50\" y=\"79.679142\"/>\n     <use style=\"fill-opacity:0;stroke:#000000;\" x=\"327.55\" xlink:href=\"#mf5cfaa4f50\" y=\"79.679142\"/>\n     <use style=\"fill-opacity:0;stroke:#000000;\" x=\"327.55\" xlink:href=\"#mf5cfaa4f50\" y=\"79.679142\"/>\n     <use style=\"fill-opacity:0;stroke:#000000;\" x=\"327.55\" xlink:href=\"#mf5cfaa4f50\" y=\"83.275444\"/>\n     <use style=\"fill-opacity:0;stroke:#000000;\" x=\"327.55\" xlink:href=\"#mf5cfaa4f50\" y=\"83.275444\"/>\n     <use style=\"fill-opacity:0;stroke:#000000;\" x=\"327.55\" xlink:href=\"#mf5cfaa4f50\" y=\"83.275444\"/>\n     <use style=\"fill-opacity:0;stroke:#000000;\" x=\"327.55\" xlink:href=\"#mf5cfaa4f50\" y=\"83.275444\"/>\n     <use style=\"fill-opacity:0;stroke:#000000;\" x=\"327.55\" xlink:href=\"#mf5cfaa4f50\" y=\"83.275444\"/>\n     <use style=\"fill-opacity:0;stroke:#000000;\" x=\"327.55\" xlink:href=\"#mf5cfaa4f50\" y=\"83.275444\"/>\n     <use style=\"fill-opacity:0;stroke:#000000;\" x=\"327.55\" xlink:href=\"#mf5cfaa4f50\" y=\"76.08284\"/>\n     <use style=\"fill-opacity:0;stroke:#000000;\" x=\"327.55\" xlink:href=\"#mf5cfaa4f50\" y=\"83.275444\"/>\n     <use style=\"fill-opacity:0;stroke:#000000;\" x=\"327.55\" xlink:href=\"#mf5cfaa4f50\" y=\"83.275444\"/>\n     <use style=\"fill-opacity:0;stroke:#000000;\" x=\"327.55\" xlink:href=\"#mf5cfaa4f50\" y=\"79.679142\"/>\n     <use style=\"fill-opacity:0;stroke:#000000;\" x=\"327.55\" xlink:href=\"#mf5cfaa4f50\" y=\"83.275444\"/>\n     <use style=\"fill-opacity:0;stroke:#000000;\" x=\"327.55\" xlink:href=\"#mf5cfaa4f50\" y=\"72.486538\"/>\n     <use style=\"fill-opacity:0;stroke:#000000;\" x=\"327.55\" xlink:href=\"#mf5cfaa4f50\" y=\"79.679142\"/>\n     <use style=\"fill-opacity:0;stroke:#000000;\" x=\"327.55\" xlink:href=\"#mf5cfaa4f50\" y=\"83.275444\"/>\n     <use style=\"fill-opacity:0;stroke:#000000;\" x=\"327.55\" xlink:href=\"#mf5cfaa4f50\" y=\"83.275444\"/>\n     <use style=\"fill-opacity:0;stroke:#000000;\" x=\"327.55\" xlink:href=\"#mf5cfaa4f50\" y=\"83.275444\"/>\n     <use style=\"fill-opacity:0;stroke:#000000;\" x=\"327.55\" xlink:href=\"#mf5cfaa4f50\" y=\"79.679142\"/>\n     <use style=\"fill-opacity:0;stroke:#000000;\" x=\"327.55\" xlink:href=\"#mf5cfaa4f50\" y=\"79.679142\"/>\n     <use style=\"fill-opacity:0;stroke:#000000;\" x=\"327.55\" xlink:href=\"#mf5cfaa4f50\" y=\"79.679142\"/>\n     <use style=\"fill-opacity:0;stroke:#000000;\" x=\"327.55\" xlink:href=\"#mf5cfaa4f50\" y=\"76.08284\"/>\n     <use style=\"fill-opacity:0;stroke:#000000;\" x=\"327.55\" xlink:href=\"#mf5cfaa4f50\" y=\"83.275444\"/>\n     <use style=\"fill-opacity:0;stroke:#000000;\" x=\"327.55\" xlink:href=\"#mf5cfaa4f50\" y=\"83.275444\"/>\n     <use style=\"fill-opacity:0;stroke:#000000;\" x=\"327.55\" xlink:href=\"#mf5cfaa4f50\" y=\"72.486538\"/>\n     <use style=\"fill-opacity:0;stroke:#000000;\" x=\"327.55\" xlink:href=\"#mf5cfaa4f50\" y=\"83.275444\"/>\n     <use style=\"fill-opacity:0;stroke:#000000;\" x=\"327.55\" xlink:href=\"#mf5cfaa4f50\" y=\"76.08284\"/>\n     <use style=\"fill-opacity:0;stroke:#000000;\" x=\"327.55\" xlink:href=\"#mf5cfaa4f50\" y=\"83.275444\"/>\n     <use style=\"fill-opacity:0;stroke:#000000;\" x=\"327.55\" xlink:href=\"#mf5cfaa4f50\" y=\"79.679142\"/>\n     <use style=\"fill-opacity:0;stroke:#000000;\" x=\"327.55\" xlink:href=\"#mf5cfaa4f50\" y=\"83.275444\"/>\n     <use style=\"fill-opacity:0;stroke:#000000;\" x=\"327.55\" xlink:href=\"#mf5cfaa4f50\" y=\"79.679142\"/>\n     <use style=\"fill-opacity:0;stroke:#000000;\" x=\"327.55\" xlink:href=\"#mf5cfaa4f50\" y=\"68.890236\"/>\n     <use style=\"fill-opacity:0;stroke:#000000;\" x=\"327.55\" xlink:href=\"#mf5cfaa4f50\" y=\"83.275444\"/>\n     <use style=\"fill-opacity:0;stroke:#000000;\" x=\"327.55\" xlink:href=\"#mf5cfaa4f50\" y=\"79.679142\"/>\n     <use style=\"fill-opacity:0;stroke:#000000;\" x=\"327.55\" xlink:href=\"#mf5cfaa4f50\" y=\"79.679142\"/>\n     <use style=\"fill-opacity:0;stroke:#000000;\" x=\"327.55\" xlink:href=\"#mf5cfaa4f50\" y=\"83.275444\"/>\n     <use style=\"fill-opacity:0;stroke:#000000;\" x=\"327.55\" xlink:href=\"#mf5cfaa4f50\" y=\"83.275444\"/>\n     <use style=\"fill-opacity:0;stroke:#000000;\" x=\"327.55\" xlink:href=\"#mf5cfaa4f50\" y=\"83.275444\"/>\n     <use style=\"fill-opacity:0;stroke:#000000;\" x=\"327.55\" xlink:href=\"#mf5cfaa4f50\" y=\"79.679142\"/>\n     <use style=\"fill-opacity:0;stroke:#000000;\" x=\"327.55\" xlink:href=\"#mf5cfaa4f50\" y=\"83.275444\"/>\n     <use style=\"fill-opacity:0;stroke:#000000;\" x=\"327.55\" xlink:href=\"#mf5cfaa4f50\" y=\"83.275444\"/>\n     <use style=\"fill-opacity:0;stroke:#000000;\" x=\"327.55\" xlink:href=\"#mf5cfaa4f50\" y=\"83.275444\"/>\n     <use style=\"fill-opacity:0;stroke:#000000;\" x=\"327.55\" xlink:href=\"#mf5cfaa4f50\" y=\"83.275444\"/>\n     <use style=\"fill-opacity:0;stroke:#000000;\" x=\"327.55\" xlink:href=\"#mf5cfaa4f50\" y=\"76.08284\"/>\n     <use style=\"fill-opacity:0;stroke:#000000;\" x=\"327.55\" xlink:href=\"#mf5cfaa4f50\" y=\"79.679142\"/>\n     <use style=\"fill-opacity:0;stroke:#000000;\" x=\"327.55\" xlink:href=\"#mf5cfaa4f50\" y=\"76.08284\"/>\n     <use style=\"fill-opacity:0;stroke:#000000;\" x=\"327.55\" xlink:href=\"#mf5cfaa4f50\" y=\"72.486538\"/>\n     <use style=\"fill-opacity:0;stroke:#000000;\" x=\"327.55\" xlink:href=\"#mf5cfaa4f50\" y=\"79.679142\"/>\n     <use style=\"fill-opacity:0;stroke:#000000;\" x=\"327.55\" xlink:href=\"#mf5cfaa4f50\" y=\"68.890236\"/>\n     <use style=\"fill-opacity:0;stroke:#000000;\" x=\"327.55\" xlink:href=\"#mf5cfaa4f50\" y=\"83.275444\"/>\n     <use style=\"fill-opacity:0;stroke:#000000;\" x=\"327.55\" xlink:href=\"#mf5cfaa4f50\" y=\"83.275444\"/>\n     <use style=\"fill-opacity:0;stroke:#000000;\" x=\"327.55\" xlink:href=\"#mf5cfaa4f50\" y=\"83.275444\"/>\n     <use style=\"fill-opacity:0;stroke:#000000;\" x=\"327.55\" xlink:href=\"#mf5cfaa4f50\" y=\"79.679142\"/>\n     <use style=\"fill-opacity:0;stroke:#000000;\" x=\"327.55\" xlink:href=\"#mf5cfaa4f50\" y=\"76.08284\"/>\n     <use style=\"fill-opacity:0;stroke:#000000;\" x=\"327.55\" xlink:href=\"#mf5cfaa4f50\" y=\"79.679142\"/>\n     <use style=\"fill-opacity:0;stroke:#000000;\" x=\"327.55\" xlink:href=\"#mf5cfaa4f50\" y=\"79.679142\"/>\n     <use style=\"fill-opacity:0;stroke:#000000;\" x=\"327.55\" xlink:href=\"#mf5cfaa4f50\" y=\"76.08284\"/>\n     <use style=\"fill-opacity:0;stroke:#000000;\" x=\"327.55\" xlink:href=\"#mf5cfaa4f50\" y=\"83.275444\"/>\n     <use style=\"fill-opacity:0;stroke:#000000;\" x=\"327.55\" xlink:href=\"#mf5cfaa4f50\" y=\"83.275444\"/>\n     <use style=\"fill-opacity:0;stroke:#000000;\" x=\"327.55\" xlink:href=\"#mf5cfaa4f50\" y=\"83.275444\"/>\n     <use style=\"fill-opacity:0;stroke:#000000;\" x=\"327.55\" xlink:href=\"#mf5cfaa4f50\" y=\"83.275444\"/>\n     <use style=\"fill-opacity:0;stroke:#000000;\" x=\"327.55\" xlink:href=\"#mf5cfaa4f50\" y=\"79.679142\"/>\n     <use style=\"fill-opacity:0;stroke:#000000;\" x=\"327.55\" xlink:href=\"#mf5cfaa4f50\" y=\"83.275444\"/>\n     <use style=\"fill-opacity:0;stroke:#000000;\" x=\"327.55\" xlink:href=\"#mf5cfaa4f50\" y=\"76.08284\"/>\n     <use style=\"fill-opacity:0;stroke:#000000;\" x=\"327.55\" xlink:href=\"#mf5cfaa4f50\" y=\"76.08284\"/>\n    </g>\n   </g>\n   <g id=\"line2d_31\">\n    <path clip-path=\"url(#p1e9e2a1630)\" d=\"M 314.04625 122.834766 \nL 341.05375 122.834766 \n\" style=\"fill:none;stroke:#ff7f0e;stroke-linecap:square;\"/>\n   </g>\n   <g id=\"patch_8\">\n    <path d=\"M 237.525 255.718125 \nL 237.525 22.318125 \n\" style=\"fill:none;stroke:#000000;stroke-linecap:square;stroke-linejoin:miter;stroke-width:0.8;\"/>\n   </g>\n   <g id=\"patch_9\">\n    <path d=\"M 417.575 255.718125 \nL 417.575 22.318125 \n\" style=\"fill:none;stroke:#000000;stroke-linecap:square;stroke-linejoin:miter;stroke-width:0.8;\"/>\n   </g>\n   <g id=\"patch_10\">\n    <path d=\"M 237.525 255.718125 \nL 417.575 255.718125 \n\" style=\"fill:none;stroke:#000000;stroke-linecap:square;stroke-linejoin:miter;stroke-width:0.8;\"/>\n   </g>\n   <g id=\"patch_11\">\n    <path d=\"M 237.525 22.318125 \nL 417.575 22.318125 \n\" style=\"fill:none;stroke:#000000;stroke-linecap:square;stroke-linejoin:miter;stroke-width:0.8;\"/>\n   </g>\n   <g id=\"text_19\">\n    <!-- text -->\n    <g transform=\"translate(315.7075 16.318125)scale(0.12 -0.12)\">\n     <defs>\n      <path d=\"M 18.3125 70.21875 \nL 18.3125 54.6875 \nL 36.8125 54.6875 \nL 36.8125 47.703125 \nL 18.3125 47.703125 \nL 18.3125 18.015625 \nQ 18.3125 11.328125 20.140625 9.421875 \nQ 21.96875 7.515625 27.59375 7.515625 \nL 36.8125 7.515625 \nL 36.8125 0 \nL 27.59375 0 \nQ 17.1875 0 13.234375 3.875 \nQ 9.28125 7.765625 9.28125 18.015625 \nL 9.28125 47.703125 \nL 2.6875 47.703125 \nL 2.6875 54.6875 \nL 9.28125 54.6875 \nL 9.28125 70.21875 \nz\n\" id=\"DejaVuSans-116\"/>\n      <path d=\"M 54.890625 54.6875 \nL 35.109375 28.078125 \nL 55.90625 0 \nL 45.3125 0 \nL 29.390625 21.484375 \nL 13.484375 0 \nL 2.875 0 \nL 24.125 28.609375 \nL 4.6875 54.6875 \nL 15.28125 54.6875 \nL 29.78125 35.203125 \nL 44.28125 54.6875 \nz\n\" id=\"DejaVuSans-120\"/>\n     </defs>\n     <use xlink:href=\"#DejaVuSans-116\"/>\n     <use x=\"39.208984\" xlink:href=\"#DejaVuSans-101\"/>\n     <use x=\"98.982422\" xlink:href=\"#DejaVuSans-120\"/>\n     <use x=\"158.162109\" xlink:href=\"#DejaVuSans-116\"/>\n    </g>\n   </g>\n  </g>\n </g>\n <defs>\n  <clipPath id=\"p2fae0e219e\">\n   <rect height=\"233.4\" width=\"180.05\" x=\"26.925\" y=\"22.318125\"/>\n  </clipPath>\n  <clipPath id=\"p1e9e2a1630\">\n   <rect height=\"233.4\" width=\"180.05\" x=\"237.525\" y=\"22.318125\"/>\n  </clipPath>\n </defs>\n</svg>\n",
      "image/png": "[encoded data removed]"
     },
     "metadata": {
      "needs_background": "light"
     }
    },
    {
     "output_type": "display_data",
     "data": {
      "text/plain": "<Figure size 432x288 with 1 Axes>",
      "image/svg+xml": "<?xml version=\"1.0\" encoding=\"utf-8\" standalone=\"no\"?>\n<!DOCTYPE svg PUBLIC \"-//W3C//DTD SVG 1.1//EN\"\n  \"http://www.w3.org/Graphics/SVG/1.1/DTD/svg11.dtd\">\n<!-- Created with matplotlib (https://matplotlib.org/) -->\n<svg height=\"277.314375pt\" version=\"1.1\" viewBox=\"0 0 401.690625 277.314375\" width=\"401.690625pt\" xmlns=\"http://www.w3.org/2000/svg\" xmlns:xlink=\"http://www.w3.org/1999/xlink\">\n <metadata>\n  <rdf:RDF xmlns:cc=\"http://creativecommons.org/ns#\" xmlns:dc=\"http://purl.org/dc/elements/1.1/\" xmlns:rdf=\"http://www.w3.org/1999/02/22-rdf-syntax-ns#\">\n   <cc:Work>\n    <dc:type rdf:resource=\"http://purl.org/dc/dcmitype/StillImage\"/>\n    <dc:date>2021-02-23T21:37:39.911890</dc:date>\n    <dc:format>image/svg+xml</dc:format>\n    <dc:creator>\n     <cc:Agent>\n      <dc:title>Matplotlib v3.3.2, https://matplotlib.org/</dc:title>\n     </cc:Agent>\n    </dc:creator>\n   </cc:Work>\n  </rdf:RDF>\n </metadata>\n <defs>\n  <style type=\"text/css\">*{stroke-linecap:butt;stroke-linejoin:round;}</style>\n </defs>\n <g id=\"figure_1\">\n  <g id=\"patch_1\">\n   <path d=\"M 0 277.314375 \nL 401.690625 277.314375 \nL 401.690625 0 \nL 0 0 \nz\n\" style=\"fill:none;\"/>\n  </g>\n  <g id=\"axes_1\">\n   <g id=\"patch_2\">\n    <path d=\"M 59.690625 239.758125 \nL 394.490625 239.758125 \nL 394.490625 22.318125 \nL 59.690625 22.318125 \nz\n\" style=\"fill:#ffffff;\"/>\n   </g>\n   <g id=\"patch_3\">\n    <path clip-path=\"url(#p8ca07d04c1)\" d=\"M 74.908807 239.758125 \nL 82.517898 239.758125 \nL 82.517898 239.750891 \nL 74.908807 239.750891 \nz\n\" style=\"fill:#1f77b4;\"/>\n   </g>\n   <g id=\"patch_4\">\n    <path clip-path=\"url(#p8ca07d04c1)\" d=\"M 82.517898 239.758125 \nL 90.126989 239.758125 \nL 90.126989 239.758125 \nL 82.517898 239.758125 \nz\n\" style=\"fill:#1f77b4;\"/>\n   </g>\n   <g id=\"patch_5\">\n    <path clip-path=\"url(#p8ca07d04c1)\" d=\"M 90.126989 239.758125 \nL 97.73608 239.758125 \nL 97.73608 239.758125 \nL 90.126989 239.758125 \nz\n\" style=\"fill:#1f77b4;\"/>\n   </g>\n   <g id=\"patch_6\">\n    <path clip-path=\"url(#p8ca07d04c1)\" d=\"M 97.73608 239.758125 \nL 105.34517 239.758125 \nL 105.34517 239.758125 \nL 97.73608 239.758125 \nz\n\" style=\"fill:#1f77b4;\"/>\n   </g>\n   <g id=\"patch_7\">\n    <path clip-path=\"url(#p8ca07d04c1)\" d=\"M 105.34517 239.758125 \nL 112.954261 239.758125 \nL 112.954261 239.758125 \nL 105.34517 239.758125 \nz\n\" style=\"fill:#1f77b4;\"/>\n   </g>\n   <g id=\"patch_8\">\n    <path clip-path=\"url(#p8ca07d04c1)\" d=\"M 112.954261 239.758125 \nL 120.563352 239.758125 \nL 120.563352 239.743657 \nL 112.954261 239.743657 \nz\n\" style=\"fill:#1f77b4;\"/>\n   </g>\n   <g id=\"patch_9\">\n    <path clip-path=\"url(#p8ca07d04c1)\" d=\"M 120.563352 239.758125 \nL 128.172443 239.758125 \nL 128.172443 239.758125 \nL 120.563352 239.758125 \nz\n\" style=\"fill:#1f77b4;\"/>\n   </g>\n   <g id=\"patch_10\">\n    <path clip-path=\"url(#p8ca07d04c1)\" d=\"M 128.172443 239.758125 \nL 135.781534 239.758125 \nL 135.781534 239.758125 \nL 128.172443 239.758125 \nz\n\" style=\"fill:#1f77b4;\"/>\n   </g>\n   <g id=\"patch_11\">\n    <path clip-path=\"url(#p8ca07d04c1)\" d=\"M 135.781534 239.758125 \nL 143.390625 239.758125 \nL 143.390625 239.656846 \nL 135.781534 239.656846 \nz\n\" style=\"fill:#1f77b4;\"/>\n   </g>\n   <g id=\"patch_12\">\n    <path clip-path=\"url(#p8ca07d04c1)\" d=\"M 143.390625 239.758125 \nL 150.999716 239.758125 \nL 150.999716 239.758125 \nL 143.390625 239.758125 \nz\n\" style=\"fill:#1f77b4;\"/>\n   </g>\n   <g id=\"patch_13\">\n    <path clip-path=\"url(#p8ca07d04c1)\" d=\"M 150.999716 239.758125 \nL 158.608807 239.758125 \nL 158.608807 238.130434 \nL 150.999716 238.130434 \nz\n\" style=\"fill:#1f77b4;\"/>\n   </g>\n   <g id=\"patch_14\">\n    <path clip-path=\"url(#p8ca07d04c1)\" d=\"M 158.608807 239.758125 \nL 166.217898 239.758125 \nL 166.217898 239.758125 \nL 158.608807 239.758125 \nz\n\" style=\"fill:#1f77b4;\"/>\n   </g>\n   <g id=\"patch_15\">\n    <path clip-path=\"url(#p8ca07d04c1)\" d=\"M 166.217898 239.758125 \nL 173.826989 239.758125 \nL 173.826989 239.758125 \nL 166.217898 239.758125 \nz\n\" style=\"fill:#1f77b4;\"/>\n   </g>\n   <g id=\"patch_16\">\n    <path clip-path=\"url(#p8ca07d04c1)\" d=\"M 173.826989 239.758125 \nL 181.43608 239.758125 \nL 181.43608 227.517888 \nL 173.826989 227.517888 \nz\n\" style=\"fill:#1f77b4;\"/>\n   </g>\n   <g id=\"patch_17\">\n    <path clip-path=\"url(#p8ca07d04c1)\" d=\"M 181.43608 239.758125 \nL 189.04517 239.758125 \nL 189.04517 239.758125 \nL 181.43608 239.758125 \nz\n\" style=\"fill:#1f77b4;\"/>\n   </g>\n   <g id=\"patch_18\">\n    <path clip-path=\"url(#p8ca07d04c1)\" d=\"M 189.04517 239.758125 \nL 196.654261 239.758125 \nL 196.654261 239.758125 \nL 189.04517 239.758125 \nz\n\" style=\"fill:#1f77b4;\"/>\n   </g>\n   <g id=\"patch_19\">\n    <path clip-path=\"url(#p8ca07d04c1)\" d=\"M 196.654261 239.758125 \nL 204.263352 239.758125 \nL 204.263352 190.623556 \nL 196.654261 190.623556 \nz\n\" style=\"fill:#1f77b4;\"/>\n   </g>\n   <g id=\"patch_20\">\n    <path clip-path=\"url(#p8ca07d04c1)\" d=\"M 204.263352 239.758125 \nL 211.872443 239.758125 \nL 211.872443 239.758125 \nL 204.263352 239.758125 \nz\n\" style=\"fill:#1f77b4;\"/>\n   </g>\n   <g id=\"patch_21\">\n    <path clip-path=\"url(#p8ca07d04c1)\" d=\"M 211.872443 239.758125 \nL 219.481534 239.758125 \nL 219.481534 106.801081 \nL 211.872443 106.801081 \nz\n\" style=\"fill:#1f77b4;\"/>\n   </g>\n   <g id=\"patch_22\">\n    <path clip-path=\"url(#p8ca07d04c1)\" d=\"M 219.481534 239.758125 \nL 227.090625 239.758125 \nL 227.090625 239.758125 \nL 219.481534 239.758125 \nz\n\" style=\"fill:#1f77b4;\"/>\n   </g>\n   <g id=\"patch_23\">\n    <path clip-path=\"url(#p8ca07d04c1)\" d=\"M 227.090625 239.758125 \nL 234.699716 239.758125 \nL 234.699716 239.758125 \nL 227.090625 239.758125 \nz\n\" style=\"fill:#1f77b4;\"/>\n   </g>\n   <g id=\"patch_24\">\n    <path clip-path=\"url(#p8ca07d04c1)\" d=\"M 234.699716 239.758125 \nL 242.308807 239.758125 \nL 242.308807 32.672411 \nL 234.699716 32.672411 \nz\n\" style=\"fill:#1f77b4;\"/>\n   </g>\n   <g id=\"patch_25\">\n    <path clip-path=\"url(#p8ca07d04c1)\" d=\"M 242.308807 239.758125 \nL 249.917898 239.758125 \nL 249.917898 239.758125 \nL 242.308807 239.758125 \nz\n\" style=\"fill:#1f77b4;\"/>\n   </g>\n   <g id=\"patch_26\">\n    <path clip-path=\"url(#p8ca07d04c1)\" d=\"M 249.917898 239.758125 \nL 257.526989 239.758125 \nL 257.526989 239.758125 \nL 249.917898 239.758125 \nz\n\" style=\"fill:#1f77b4;\"/>\n   </g>\n   <g id=\"patch_27\">\n    <path clip-path=\"url(#p8ca07d04c1)\" d=\"M 257.526989 239.758125 \nL 265.13608 239.758125 \nL 265.13608 62.086598 \nL 257.526989 62.086598 \nz\n\" style=\"fill:#1f77b4;\"/>\n   </g>\n   <g id=\"patch_28\">\n    <path clip-path=\"url(#p8ca07d04c1)\" d=\"M 265.13608 239.758125 \nL 272.74517 239.758125 \nL 272.74517 239.758125 \nL 265.13608 239.758125 \nz\n\" style=\"fill:#1f77b4;\"/>\n   </g>\n   <g id=\"patch_29\">\n    <path clip-path=\"url(#p8ca07d04c1)\" d=\"M 272.74517 239.758125 \nL 280.354261 239.758125 \nL 280.354261 148.18784 \nL 272.74517 148.18784 \nz\n\" style=\"fill:#1f77b4;\"/>\n   </g>\n   <g id=\"patch_30\">\n    <path clip-path=\"url(#p8ca07d04c1)\" d=\"M 280.354261 239.758125 \nL 287.963352 239.758125 \nL 287.963352 239.758125 \nL 280.354261 239.758125 \nz\n\" style=\"fill:#1f77b4;\"/>\n   </g>\n   <g id=\"patch_31\">\n    <path clip-path=\"url(#p8ca07d04c1)\" d=\"M 287.963352 239.758125 \nL 295.572443 239.758125 \nL 295.572443 239.758125 \nL 287.963352 239.758125 \nz\n\" style=\"fill:#1f77b4;\"/>\n   </g>\n   <g id=\"patch_32\">\n    <path clip-path=\"url(#p8ca07d04c1)\" d=\"M 295.572443 239.758125 \nL 303.181534 239.758125 \nL 303.181534 209.128595 \nL 295.572443 209.128595 \nz\n\" style=\"fill:#1f77b4;\"/>\n   </g>\n   <g id=\"patch_33\">\n    <path clip-path=\"url(#p8ca07d04c1)\" d=\"M 303.181534 239.758125 \nL 310.790625 239.758125 \nL 310.790625 239.758125 \nL 303.181534 239.758125 \nz\n\" style=\"fill:#1f77b4;\"/>\n   </g>\n   <g id=\"patch_34\">\n    <path clip-path=\"url(#p8ca07d04c1)\" d=\"M 310.790625 239.758125 \nL 318.399716 239.758125 \nL 318.399716 239.758125 \nL 310.790625 239.758125 \nz\n\" style=\"fill:#1f77b4;\"/>\n   </g>\n   <g id=\"patch_35\">\n    <path clip-path=\"url(#p8ca07d04c1)\" d=\"M 318.399716 239.758125 \nL 326.008807 239.758125 \nL 326.008807 232.545645 \nL 318.399716 232.545645 \nz\n\" style=\"fill:#1f77b4;\"/>\n   </g>\n   <g id=\"patch_36\">\n    <path clip-path=\"url(#p8ca07d04c1)\" d=\"M 326.008807 239.758125 \nL 333.617898 239.758125 \nL 333.617898 239.758125 \nL 326.008807 239.758125 \nz\n\" style=\"fill:#1f77b4;\"/>\n   </g>\n   <g id=\"patch_37\">\n    <path clip-path=\"url(#p8ca07d04c1)\" d=\"M 333.617898 239.758125 \nL 341.226989 239.758125 \nL 341.226989 238.615124 \nL 333.617898 238.615124 \nz\n\" style=\"fill:#1f77b4;\"/>\n   </g>\n   <g id=\"patch_38\">\n    <path clip-path=\"url(#p8ca07d04c1)\" d=\"M 341.226989 239.758125 \nL 348.83608 239.758125 \nL 348.83608 239.758125 \nL 341.226989 239.758125 \nz\n\" style=\"fill:#1f77b4;\"/>\n   </g>\n   <g id=\"patch_39\">\n    <path clip-path=\"url(#p8ca07d04c1)\" d=\"M 348.83608 239.758125 \nL 356.44517 239.758125 \nL 356.44517 239.758125 \nL 348.83608 239.758125 \nz\n\" style=\"fill:#1f77b4;\"/>\n   </g>\n   <g id=\"patch_40\">\n    <path clip-path=\"url(#p8ca07d04c1)\" d=\"M 356.44517 239.758125 \nL 364.054261 239.758125 \nL 364.054261 239.620676 \nL 356.44517 239.620676 \nz\n\" style=\"fill:#1f77b4;\"/>\n   </g>\n   <g id=\"patch_41\">\n    <path clip-path=\"url(#p8ca07d04c1)\" d=\"M 364.054261 239.758125 \nL 371.663352 239.758125 \nL 371.663352 239.758125 \nL 364.054261 239.758125 \nz\n\" style=\"fill:#1f77b4;\"/>\n   </g>\n   <g id=\"patch_42\">\n    <path clip-path=\"url(#p8ca07d04c1)\" d=\"M 371.663352 239.758125 \nL 379.272443 239.758125 \nL 379.272443 239.736422 \nL 371.663352 239.736422 \nz\n\" style=\"fill:#1f77b4;\"/>\n   </g>\n   <g id=\"matplotlib.axis_1\">\n    <g id=\"xtick_1\">\n     <g id=\"line2d_1\">\n      <defs>\n       <path d=\"M 0 0 \nL 0 3.5 \n\" id=\"m84ea105572\" style=\"stroke:#000000;stroke-width:0.8;\"/>\n      </defs>\n      <g>\n       <use style=\"stroke:#000000;stroke-width:0.8;\" x=\"95.199716\" xlink:href=\"#m84ea105572\" y=\"239.758125\"/>\n      </g>\n     </g>\n     <g id=\"text_1\">\n      <!-- 2 -->\n      <g transform=\"translate(92.018466 254.356562)scale(0.1 -0.1)\">\n       <defs>\n        <path d=\"M 19.1875 8.296875 \nL 53.609375 8.296875 \nL 53.609375 0 \nL 7.328125 0 \nL 7.328125 8.296875 \nQ 12.9375 14.109375 22.625 23.890625 \nQ 32.328125 33.6875 34.8125 36.53125 \nQ 39.546875 41.84375 41.421875 45.53125 \nQ 43.3125 49.21875 43.3125 52.78125 \nQ 43.3125 58.59375 39.234375 62.25 \nQ 35.15625 65.921875 28.609375 65.921875 \nQ 23.96875 65.921875 18.8125 64.3125 \nQ 13.671875 62.703125 7.8125 59.421875 \nL 7.8125 69.390625 \nQ 13.765625 71.78125 18.9375 73 \nQ 24.125 74.21875 28.421875 74.21875 \nQ 39.75 74.21875 46.484375 68.546875 \nQ 53.21875 62.890625 53.21875 53.421875 \nQ 53.21875 48.921875 51.53125 44.890625 \nQ 49.859375 40.875 45.40625 35.40625 \nQ 44.1875 33.984375 37.640625 27.21875 \nQ 31.109375 20.453125 19.1875 8.296875 \nz\n\" id=\"DejaVuSans-50\"/>\n       </defs>\n       <use xlink:href=\"#DejaVuSans-50\"/>\n      </g>\n     </g>\n    </g>\n    <g id=\"xtick_2\">\n     <g id=\"line2d_2\">\n      <g>\n       <use style=\"stroke:#000000;stroke-width:0.8;\" x=\"135.781534\" xlink:href=\"#m84ea105572\" y=\"239.758125\"/>\n      </g>\n     </g>\n     <g id=\"text_2\">\n      <!-- 4 -->\n      <g transform=\"translate(132.600284 254.356562)scale(0.1 -0.1)\">\n       <defs>\n        <path d=\"M 37.796875 64.3125 \nL 12.890625 25.390625 \nL 37.796875 25.390625 \nz\nM 35.203125 72.90625 \nL 47.609375 72.90625 \nL 47.609375 25.390625 \nL 58.015625 25.390625 \nL 58.015625 17.1875 \nL 47.609375 17.1875 \nL 47.609375 0 \nL 37.796875 0 \nL 37.796875 17.1875 \nL 4.890625 17.1875 \nL 4.890625 26.703125 \nz\n\" id=\"DejaVuSans-52\"/>\n       </defs>\n       <use xlink:href=\"#DejaVuSans-52\"/>\n      </g>\n     </g>\n    </g>\n    <g id=\"xtick_3\">\n     <g id=\"line2d_3\">\n      <g>\n       <use style=\"stroke:#000000;stroke-width:0.8;\" x=\"176.363352\" xlink:href=\"#m84ea105572\" y=\"239.758125\"/>\n      </g>\n     </g>\n     <g id=\"text_3\">\n      <!-- 6 -->\n      <g transform=\"translate(173.182102 254.356562)scale(0.1 -0.1)\">\n       <defs>\n        <path d=\"M 33.015625 40.375 \nQ 26.375 40.375 22.484375 35.828125 \nQ 18.609375 31.296875 18.609375 23.390625 \nQ 18.609375 15.53125 22.484375 10.953125 \nQ 26.375 6.390625 33.015625 6.390625 \nQ 39.65625 6.390625 43.53125 10.953125 \nQ 47.40625 15.53125 47.40625 23.390625 \nQ 47.40625 31.296875 43.53125 35.828125 \nQ 39.65625 40.375 33.015625 40.375 \nz\nM 52.59375 71.296875 \nL 52.59375 62.3125 \nQ 48.875 64.0625 45.09375 64.984375 \nQ 41.3125 65.921875 37.59375 65.921875 \nQ 27.828125 65.921875 22.671875 59.328125 \nQ 17.53125 52.734375 16.796875 39.40625 \nQ 19.671875 43.65625 24.015625 45.921875 \nQ 28.375 48.1875 33.59375 48.1875 \nQ 44.578125 48.1875 50.953125 41.515625 \nQ 57.328125 34.859375 57.328125 23.390625 \nQ 57.328125 12.15625 50.6875 5.359375 \nQ 44.046875 -1.421875 33.015625 -1.421875 \nQ 20.359375 -1.421875 13.671875 8.265625 \nQ 6.984375 17.96875 6.984375 36.375 \nQ 6.984375 53.65625 15.1875 63.9375 \nQ 23.390625 74.21875 37.203125 74.21875 \nQ 40.921875 74.21875 44.703125 73.484375 \nQ 48.484375 72.75 52.59375 71.296875 \nz\n\" id=\"DejaVuSans-54\"/>\n       </defs>\n       <use xlink:href=\"#DejaVuSans-54\"/>\n      </g>\n     </g>\n    </g>\n    <g id=\"xtick_4\">\n     <g id=\"line2d_4\">\n      <g>\n       <use style=\"stroke:#000000;stroke-width:0.8;\" x=\"216.94517\" xlink:href=\"#m84ea105572\" y=\"239.758125\"/>\n      </g>\n     </g>\n     <g id=\"text_4\">\n      <!-- 8 -->\n      <g transform=\"translate(213.76392 254.356562)scale(0.1 -0.1)\">\n       <defs>\n        <path d=\"M 31.78125 34.625 \nQ 24.75 34.625 20.71875 30.859375 \nQ 16.703125 27.09375 16.703125 20.515625 \nQ 16.703125 13.921875 20.71875 10.15625 \nQ 24.75 6.390625 31.78125 6.390625 \nQ 38.8125 6.390625 42.859375 10.171875 \nQ 46.921875 13.96875 46.921875 20.515625 \nQ 46.921875 27.09375 42.890625 30.859375 \nQ 38.875 34.625 31.78125 34.625 \nz\nM 21.921875 38.8125 \nQ 15.578125 40.375 12.03125 44.71875 \nQ 8.5 49.078125 8.5 55.328125 \nQ 8.5 64.0625 14.71875 69.140625 \nQ 20.953125 74.21875 31.78125 74.21875 \nQ 42.671875 74.21875 48.875 69.140625 \nQ 55.078125 64.0625 55.078125 55.328125 \nQ 55.078125 49.078125 51.53125 44.71875 \nQ 48 40.375 41.703125 38.8125 \nQ 48.828125 37.15625 52.796875 32.3125 \nQ 56.78125 27.484375 56.78125 20.515625 \nQ 56.78125 9.90625 50.3125 4.234375 \nQ 43.84375 -1.421875 31.78125 -1.421875 \nQ 19.734375 -1.421875 13.25 4.234375 \nQ 6.78125 9.90625 6.78125 20.515625 \nQ 6.78125 27.484375 10.78125 32.3125 \nQ 14.796875 37.15625 21.921875 38.8125 \nz\nM 18.3125 54.390625 \nQ 18.3125 48.734375 21.84375 45.5625 \nQ 25.390625 42.390625 31.78125 42.390625 \nQ 38.140625 42.390625 41.71875 45.5625 \nQ 45.3125 48.734375 45.3125 54.390625 \nQ 45.3125 60.0625 41.71875 63.234375 \nQ 38.140625 66.40625 31.78125 66.40625 \nQ 25.390625 66.40625 21.84375 63.234375 \nQ 18.3125 60.0625 18.3125 54.390625 \nz\n\" id=\"DejaVuSans-56\"/>\n       </defs>\n       <use xlink:href=\"#DejaVuSans-56\"/>\n      </g>\n     </g>\n    </g>\n    <g id=\"xtick_5\">\n     <g id=\"line2d_5\">\n      <g>\n       <use style=\"stroke:#000000;stroke-width:0.8;\" x=\"257.526989\" xlink:href=\"#m84ea105572\" y=\"239.758125\"/>\n      </g>\n     </g>\n     <g id=\"text_5\">\n      <!-- 10 -->\n      <g transform=\"translate(251.164489 254.356562)scale(0.1 -0.1)\">\n       <defs>\n        <path d=\"M 12.40625 8.296875 \nL 28.515625 8.296875 \nL 28.515625 63.921875 \nL 10.984375 60.40625 \nL 10.984375 69.390625 \nL 28.421875 72.90625 \nL 38.28125 72.90625 \nL 38.28125 8.296875 \nL 54.390625 8.296875 \nL 54.390625 0 \nL 12.40625 0 \nz\n\" id=\"DejaVuSans-49\"/>\n        <path d=\"M 31.78125 66.40625 \nQ 24.171875 66.40625 20.328125 58.90625 \nQ 16.5 51.421875 16.5 36.375 \nQ 16.5 21.390625 20.328125 13.890625 \nQ 24.171875 6.390625 31.78125 6.390625 \nQ 39.453125 6.390625 43.28125 13.890625 \nQ 47.125 21.390625 47.125 36.375 \nQ 47.125 51.421875 43.28125 58.90625 \nQ 39.453125 66.40625 31.78125 66.40625 \nz\nM 31.78125 74.21875 \nQ 44.046875 74.21875 50.515625 64.515625 \nQ 56.984375 54.828125 56.984375 36.375 \nQ 56.984375 17.96875 50.515625 8.265625 \nQ 44.046875 -1.421875 31.78125 -1.421875 \nQ 19.53125 -1.421875 13.0625 8.265625 \nQ 6.59375 17.96875 6.59375 36.375 \nQ 6.59375 54.828125 13.0625 64.515625 \nQ 19.53125 74.21875 31.78125 74.21875 \nz\n\" id=\"DejaVuSans-48\"/>\n       </defs>\n       <use xlink:href=\"#DejaVuSans-49\"/>\n       <use x=\"63.623047\" xlink:href=\"#DejaVuSans-48\"/>\n      </g>\n     </g>\n    </g>\n    <g id=\"xtick_6\">\n     <g id=\"line2d_6\">\n      <g>\n       <use style=\"stroke:#000000;stroke-width:0.8;\" x=\"298.108807\" xlink:href=\"#m84ea105572\" y=\"239.758125\"/>\n      </g>\n     </g>\n     <g id=\"text_6\">\n      <!-- 12 -->\n      <g transform=\"translate(291.746307 254.356562)scale(0.1 -0.1)\">\n       <use xlink:href=\"#DejaVuSans-49\"/>\n       <use x=\"63.623047\" xlink:href=\"#DejaVuSans-50\"/>\n      </g>\n     </g>\n    </g>\n    <g id=\"xtick_7\">\n     <g id=\"line2d_7\">\n      <g>\n       <use style=\"stroke:#000000;stroke-width:0.8;\" x=\"338.690625\" xlink:href=\"#m84ea105572\" y=\"239.758125\"/>\n      </g>\n     </g>\n     <g id=\"text_7\">\n      <!-- 14 -->\n      <g transform=\"translate(332.328125 254.356562)scale(0.1 -0.1)\">\n       <use xlink:href=\"#DejaVuSans-49\"/>\n       <use x=\"63.623047\" xlink:href=\"#DejaVuSans-52\"/>\n      </g>\n     </g>\n    </g>\n    <g id=\"xtick_8\">\n     <g id=\"line2d_8\">\n      <g>\n       <use style=\"stroke:#000000;stroke-width:0.8;\" x=\"379.272443\" xlink:href=\"#m84ea105572\" y=\"239.758125\"/>\n      </g>\n     </g>\n     <g id=\"text_8\">\n      <!-- 16 -->\n      <g transform=\"translate(372.909943 254.356562)scale(0.1 -0.1)\">\n       <use xlink:href=\"#DejaVuSans-49\"/>\n       <use x=\"63.623047\" xlink:href=\"#DejaVuSans-54\"/>\n      </g>\n     </g>\n    </g>\n    <g id=\"text_9\">\n     <!-- length of samples -->\n     <g transform=\"translate(182.371875 268.034687)scale(0.1 -0.1)\">\n      <defs>\n       <path d=\"M 9.421875 75.984375 \nL 18.40625 75.984375 \nL 18.40625 0 \nL 9.421875 0 \nz\n\" id=\"DejaVuSans-108\"/>\n       <path d=\"M 56.203125 29.59375 \nL 56.203125 25.203125 \nL 14.890625 25.203125 \nQ 15.484375 15.921875 20.484375 11.0625 \nQ 25.484375 6.203125 34.421875 6.203125 \nQ 39.59375 6.203125 44.453125 7.46875 \nQ 49.3125 8.734375 54.109375 11.28125 \nL 54.109375 2.78125 \nQ 49.265625 0.734375 44.1875 -0.34375 \nQ 39.109375 -1.421875 33.890625 -1.421875 \nQ 20.796875 -1.421875 13.15625 6.1875 \nQ 5.515625 13.8125 5.515625 26.8125 \nQ 5.515625 40.234375 12.765625 48.109375 \nQ 20.015625 56 32.328125 56 \nQ 43.359375 56 49.78125 48.890625 \nQ 56.203125 41.796875 56.203125 29.59375 \nz\nM 47.21875 32.234375 \nQ 47.125 39.59375 43.09375 43.984375 \nQ 39.0625 48.390625 32.421875 48.390625 \nQ 24.90625 48.390625 20.390625 44.140625 \nQ 15.875 39.890625 15.1875 32.171875 \nz\n\" id=\"DejaVuSans-101\"/>\n       <path d=\"M 54.890625 33.015625 \nL 54.890625 0 \nL 45.90625 0 \nL 45.90625 32.71875 \nQ 45.90625 40.484375 42.875 44.328125 \nQ 39.84375 48.1875 33.796875 48.1875 \nQ 26.515625 48.1875 22.3125 43.546875 \nQ 18.109375 38.921875 18.109375 30.90625 \nL 18.109375 0 \nL 9.078125 0 \nL 9.078125 54.6875 \nL 18.109375 54.6875 \nL 18.109375 46.1875 \nQ 21.34375 51.125 25.703125 53.5625 \nQ 30.078125 56 35.796875 56 \nQ 45.21875 56 50.046875 50.171875 \nQ 54.890625 44.34375 54.890625 33.015625 \nz\n\" id=\"DejaVuSans-110\"/>\n       <path d=\"M 45.40625 27.984375 \nQ 45.40625 37.75 41.375 43.109375 \nQ 37.359375 48.484375 30.078125 48.484375 \nQ 22.859375 48.484375 18.828125 43.109375 \nQ 14.796875 37.75 14.796875 27.984375 \nQ 14.796875 18.265625 18.828125 12.890625 \nQ 22.859375 7.515625 30.078125 7.515625 \nQ 37.359375 7.515625 41.375 12.890625 \nQ 45.40625 18.265625 45.40625 27.984375 \nz\nM 54.390625 6.78125 \nQ 54.390625 -7.171875 48.1875 -13.984375 \nQ 42 -20.796875 29.203125 -20.796875 \nQ 24.46875 -20.796875 20.265625 -20.09375 \nQ 16.0625 -19.390625 12.109375 -17.921875 \nL 12.109375 -9.1875 \nQ 16.0625 -11.328125 19.921875 -12.34375 \nQ 23.78125 -13.375 27.78125 -13.375 \nQ 36.625 -13.375 41.015625 -8.765625 \nQ 45.40625 -4.15625 45.40625 5.171875 \nL 45.40625 9.625 \nQ 42.625 4.78125 38.28125 2.390625 \nQ 33.9375 0 27.875 0 \nQ 17.828125 0 11.671875 7.65625 \nQ 5.515625 15.328125 5.515625 27.984375 \nQ 5.515625 40.671875 11.671875 48.328125 \nQ 17.828125 56 27.875 56 \nQ 33.9375 56 38.28125 53.609375 \nQ 42.625 51.21875 45.40625 46.390625 \nL 45.40625 54.6875 \nL 54.390625 54.6875 \nz\n\" id=\"DejaVuSans-103\"/>\n       <path d=\"M 18.3125 70.21875 \nL 18.3125 54.6875 \nL 36.8125 54.6875 \nL 36.8125 47.703125 \nL 18.3125 47.703125 \nL 18.3125 18.015625 \nQ 18.3125 11.328125 20.140625 9.421875 \nQ 21.96875 7.515625 27.59375 7.515625 \nL 36.8125 7.515625 \nL 36.8125 0 \nL 27.59375 0 \nQ 17.1875 0 13.234375 3.875 \nQ 9.28125 7.765625 9.28125 18.015625 \nL 9.28125 47.703125 \nL 2.6875 47.703125 \nL 2.6875 54.6875 \nL 9.28125 54.6875 \nL 9.28125 70.21875 \nz\n\" id=\"DejaVuSans-116\"/>\n       <path d=\"M 54.890625 33.015625 \nL 54.890625 0 \nL 45.90625 0 \nL 45.90625 32.71875 \nQ 45.90625 40.484375 42.875 44.328125 \nQ 39.84375 48.1875 33.796875 48.1875 \nQ 26.515625 48.1875 22.3125 43.546875 \nQ 18.109375 38.921875 18.109375 30.90625 \nL 18.109375 0 \nL 9.078125 0 \nL 9.078125 75.984375 \nL 18.109375 75.984375 \nL 18.109375 46.1875 \nQ 21.34375 51.125 25.703125 53.5625 \nQ 30.078125 56 35.796875 56 \nQ 45.21875 56 50.046875 50.171875 \nQ 54.890625 44.34375 54.890625 33.015625 \nz\n\" id=\"DejaVuSans-104\"/>\n       <path id=\"DejaVuSans-32\"/>\n       <path d=\"M 30.609375 48.390625 \nQ 23.390625 48.390625 19.1875 42.75 \nQ 14.984375 37.109375 14.984375 27.296875 \nQ 14.984375 17.484375 19.15625 11.84375 \nQ 23.34375 6.203125 30.609375 6.203125 \nQ 37.796875 6.203125 41.984375 11.859375 \nQ 46.1875 17.53125 46.1875 27.296875 \nQ 46.1875 37.015625 41.984375 42.703125 \nQ 37.796875 48.390625 30.609375 48.390625 \nz\nM 30.609375 56 \nQ 42.328125 56 49.015625 48.375 \nQ 55.71875 40.765625 55.71875 27.296875 \nQ 55.71875 13.875 49.015625 6.21875 \nQ 42.328125 -1.421875 30.609375 -1.421875 \nQ 18.84375 -1.421875 12.171875 6.21875 \nQ 5.515625 13.875 5.515625 27.296875 \nQ 5.515625 40.765625 12.171875 48.375 \nQ 18.84375 56 30.609375 56 \nz\n\" id=\"DejaVuSans-111\"/>\n       <path d=\"M 37.109375 75.984375 \nL 37.109375 68.5 \nL 28.515625 68.5 \nQ 23.6875 68.5 21.796875 66.546875 \nQ 19.921875 64.59375 19.921875 59.515625 \nL 19.921875 54.6875 \nL 34.71875 54.6875 \nL 34.71875 47.703125 \nL 19.921875 47.703125 \nL 19.921875 0 \nL 10.890625 0 \nL 10.890625 47.703125 \nL 2.296875 47.703125 \nL 2.296875 54.6875 \nL 10.890625 54.6875 \nL 10.890625 58.5 \nQ 10.890625 67.625 15.140625 71.796875 \nQ 19.390625 75.984375 28.609375 75.984375 \nz\n\" id=\"DejaVuSans-102\"/>\n       <path d=\"M 44.28125 53.078125 \nL 44.28125 44.578125 \nQ 40.484375 46.53125 36.375 47.5 \nQ 32.28125 48.484375 27.875 48.484375 \nQ 21.1875 48.484375 17.84375 46.4375 \nQ 14.5 44.390625 14.5 40.28125 \nQ 14.5 37.15625 16.890625 35.375 \nQ 19.28125 33.59375 26.515625 31.984375 \nL 29.59375 31.296875 \nQ 39.15625 29.25 43.1875 25.515625 \nQ 47.21875 21.78125 47.21875 15.09375 \nQ 47.21875 7.46875 41.1875 3.015625 \nQ 35.15625 -1.421875 24.609375 -1.421875 \nQ 20.21875 -1.421875 15.453125 -0.5625 \nQ 10.6875 0.296875 5.421875 2 \nL 5.421875 11.28125 \nQ 10.40625 8.6875 15.234375 7.390625 \nQ 20.0625 6.109375 24.8125 6.109375 \nQ 31.15625 6.109375 34.5625 8.28125 \nQ 37.984375 10.453125 37.984375 14.40625 \nQ 37.984375 18.0625 35.515625 20.015625 \nQ 33.0625 21.96875 24.703125 23.78125 \nL 21.578125 24.515625 \nQ 13.234375 26.265625 9.515625 29.90625 \nQ 5.8125 33.546875 5.8125 39.890625 \nQ 5.8125 47.609375 11.28125 51.796875 \nQ 16.75 56 26.8125 56 \nQ 31.78125 56 36.171875 55.265625 \nQ 40.578125 54.546875 44.28125 53.078125 \nz\n\" id=\"DejaVuSans-115\"/>\n       <path d=\"M 34.28125 27.484375 \nQ 23.390625 27.484375 19.1875 25 \nQ 14.984375 22.515625 14.984375 16.5 \nQ 14.984375 11.71875 18.140625 8.90625 \nQ 21.296875 6.109375 26.703125 6.109375 \nQ 34.1875 6.109375 38.703125 11.40625 \nQ 43.21875 16.703125 43.21875 25.484375 \nL 43.21875 27.484375 \nz\nM 52.203125 31.203125 \nL 52.203125 0 \nL 43.21875 0 \nL 43.21875 8.296875 \nQ 40.140625 3.328125 35.546875 0.953125 \nQ 30.953125 -1.421875 24.3125 -1.421875 \nQ 15.921875 -1.421875 10.953125 3.296875 \nQ 6 8.015625 6 15.921875 \nQ 6 25.140625 12.171875 29.828125 \nQ 18.359375 34.515625 30.609375 34.515625 \nL 43.21875 34.515625 \nL 43.21875 35.40625 \nQ 43.21875 41.609375 39.140625 45 \nQ 35.0625 48.390625 27.6875 48.390625 \nQ 23 48.390625 18.546875 47.265625 \nQ 14.109375 46.140625 10.015625 43.890625 \nL 10.015625 52.203125 \nQ 14.9375 54.109375 19.578125 55.046875 \nQ 24.21875 56 28.609375 56 \nQ 40.484375 56 46.34375 49.84375 \nQ 52.203125 43.703125 52.203125 31.203125 \nz\n\" id=\"DejaVuSans-97\"/>\n       <path d=\"M 52 44.1875 \nQ 55.375 50.25 60.0625 53.125 \nQ 64.75 56 71.09375 56 \nQ 79.640625 56 84.28125 50.015625 \nQ 88.921875 44.046875 88.921875 33.015625 \nL 88.921875 0 \nL 79.890625 0 \nL 79.890625 32.71875 \nQ 79.890625 40.578125 77.09375 44.375 \nQ 74.3125 48.1875 68.609375 48.1875 \nQ 61.625 48.1875 57.5625 43.546875 \nQ 53.515625 38.921875 53.515625 30.90625 \nL 53.515625 0 \nL 44.484375 0 \nL 44.484375 32.71875 \nQ 44.484375 40.625 41.703125 44.40625 \nQ 38.921875 48.1875 33.109375 48.1875 \nQ 26.21875 48.1875 22.15625 43.53125 \nQ 18.109375 38.875 18.109375 30.90625 \nL 18.109375 0 \nL 9.078125 0 \nL 9.078125 54.6875 \nL 18.109375 54.6875 \nL 18.109375 46.1875 \nQ 21.1875 51.21875 25.484375 53.609375 \nQ 29.78125 56 35.6875 56 \nQ 41.65625 56 45.828125 52.96875 \nQ 50 49.953125 52 44.1875 \nz\n\" id=\"DejaVuSans-109\"/>\n       <path d=\"M 18.109375 8.203125 \nL 18.109375 -20.796875 \nL 9.078125 -20.796875 \nL 9.078125 54.6875 \nL 18.109375 54.6875 \nL 18.109375 46.390625 \nQ 20.953125 51.265625 25.265625 53.625 \nQ 29.59375 56 35.59375 56 \nQ 45.5625 56 51.78125 48.09375 \nQ 58.015625 40.1875 58.015625 27.296875 \nQ 58.015625 14.40625 51.78125 6.484375 \nQ 45.5625 -1.421875 35.59375 -1.421875 \nQ 29.59375 -1.421875 25.265625 0.953125 \nQ 20.953125 3.328125 18.109375 8.203125 \nz\nM 48.6875 27.296875 \nQ 48.6875 37.203125 44.609375 42.84375 \nQ 40.53125 48.484375 33.40625 48.484375 \nQ 26.265625 48.484375 22.1875 42.84375 \nQ 18.109375 37.203125 18.109375 27.296875 \nQ 18.109375 17.390625 22.1875 11.75 \nQ 26.265625 6.109375 33.40625 6.109375 \nQ 40.53125 6.109375 44.609375 11.75 \nQ 48.6875 17.390625 48.6875 27.296875 \nz\n\" id=\"DejaVuSans-112\"/>\n      </defs>\n      <use xlink:href=\"#DejaVuSans-108\"/>\n      <use x=\"27.783203\" xlink:href=\"#DejaVuSans-101\"/>\n      <use x=\"89.306641\" xlink:href=\"#DejaVuSans-110\"/>\n      <use x=\"152.685547\" xlink:href=\"#DejaVuSans-103\"/>\n      <use x=\"216.162109\" xlink:href=\"#DejaVuSans-116\"/>\n      <use x=\"255.371094\" xlink:href=\"#DejaVuSans-104\"/>\n      <use x=\"318.75\" xlink:href=\"#DejaVuSans-32\"/>\n      <use x=\"350.537109\" xlink:href=\"#DejaVuSans-111\"/>\n      <use x=\"411.71875\" xlink:href=\"#DejaVuSans-102\"/>\n      <use x=\"446.923828\" xlink:href=\"#DejaVuSans-32\"/>\n      <use x=\"478.710938\" xlink:href=\"#DejaVuSans-115\"/>\n      <use x=\"530.810547\" xlink:href=\"#DejaVuSans-97\"/>\n      <use x=\"592.089844\" xlink:href=\"#DejaVuSans-109\"/>\n      <use x=\"689.501953\" xlink:href=\"#DejaVuSans-112\"/>\n      <use x=\"752.978516\" xlink:href=\"#DejaVuSans-108\"/>\n      <use x=\"780.761719\" xlink:href=\"#DejaVuSans-101\"/>\n      <use x=\"842.285156\" xlink:href=\"#DejaVuSans-115\"/>\n     </g>\n    </g>\n   </g>\n   <g id=\"matplotlib.axis_2\">\n    <g id=\"ytick_1\">\n     <g id=\"line2d_9\">\n      <defs>\n       <path d=\"M 0 0 \nL -3.5 0 \n\" id=\"mf9ea10baa8\" style=\"stroke:#000000;stroke-width:0.8;\"/>\n      </defs>\n      <g>\n       <use style=\"stroke:#000000;stroke-width:0.8;\" x=\"59.690625\" xlink:href=\"#mf9ea10baa8\" y=\"239.758125\"/>\n      </g>\n     </g>\n     <g id=\"text_10\">\n      <!-- 0 -->\n      <g transform=\"translate(46.328125 243.557344)scale(0.1 -0.1)\">\n       <use xlink:href=\"#DejaVuSans-48\"/>\n      </g>\n     </g>\n    </g>\n    <g id=\"ytick_2\">\n     <g id=\"line2d_10\">\n      <g>\n       <use style=\"stroke:#000000;stroke-width:0.8;\" x=\"59.690625\" xlink:href=\"#mf9ea10baa8\" y=\"203.587211\"/>\n      </g>\n     </g>\n     <g id=\"text_11\">\n      <!-- 5000 -->\n      <g transform=\"translate(27.240625 207.38643)scale(0.1 -0.1)\">\n       <defs>\n        <path d=\"M 10.796875 72.90625 \nL 49.515625 72.90625 \nL 49.515625 64.59375 \nL 19.828125 64.59375 \nL 19.828125 46.734375 \nQ 21.96875 47.46875 24.109375 47.828125 \nQ 26.265625 48.1875 28.421875 48.1875 \nQ 40.625 48.1875 47.75 41.5 \nQ 54.890625 34.8125 54.890625 23.390625 \nQ 54.890625 11.625 47.5625 5.09375 \nQ 40.234375 -1.421875 26.90625 -1.421875 \nQ 22.3125 -1.421875 17.546875 -0.640625 \nQ 12.796875 0.140625 7.71875 1.703125 \nL 7.71875 11.625 \nQ 12.109375 9.234375 16.796875 8.0625 \nQ 21.484375 6.890625 26.703125 6.890625 \nQ 35.15625 6.890625 40.078125 11.328125 \nQ 45.015625 15.765625 45.015625 23.390625 \nQ 45.015625 31 40.078125 35.4375 \nQ 35.15625 39.890625 26.703125 39.890625 \nQ 22.75 39.890625 18.8125 39.015625 \nQ 14.890625 38.140625 10.796875 36.28125 \nz\n\" id=\"DejaVuSans-53\"/>\n       </defs>\n       <use xlink:href=\"#DejaVuSans-53\"/>\n       <use x=\"63.623047\" xlink:href=\"#DejaVuSans-48\"/>\n       <use x=\"127.246094\" xlink:href=\"#DejaVuSans-48\"/>\n       <use x=\"190.869141\" xlink:href=\"#DejaVuSans-48\"/>\n      </g>\n     </g>\n    </g>\n    <g id=\"ytick_3\">\n     <g id=\"line2d_11\">\n      <g>\n       <use style=\"stroke:#000000;stroke-width:0.8;\" x=\"59.690625\" xlink:href=\"#mf9ea10baa8\" y=\"167.416298\"/>\n      </g>\n     </g>\n     <g id=\"text_12\">\n      <!-- 10000 -->\n      <g transform=\"translate(20.878125 171.215517)scale(0.1 -0.1)\">\n       <use xlink:href=\"#DejaVuSans-49\"/>\n       <use x=\"63.623047\" xlink:href=\"#DejaVuSans-48\"/>\n       <use x=\"127.246094\" xlink:href=\"#DejaVuSans-48\"/>\n       <use x=\"190.869141\" xlink:href=\"#DejaVuSans-48\"/>\n       <use x=\"254.492188\" xlink:href=\"#DejaVuSans-48\"/>\n      </g>\n     </g>\n    </g>\n    <g id=\"ytick_4\">\n     <g id=\"line2d_12\">\n      <g>\n       <use style=\"stroke:#000000;stroke-width:0.8;\" x=\"59.690625\" xlink:href=\"#mf9ea10baa8\" y=\"131.245384\"/>\n      </g>\n     </g>\n     <g id=\"text_13\">\n      <!-- 15000 -->\n      <g transform=\"translate(20.878125 135.044603)scale(0.1 -0.1)\">\n       <use xlink:href=\"#DejaVuSans-49\"/>\n       <use x=\"63.623047\" xlink:href=\"#DejaVuSans-53\"/>\n       <use x=\"127.246094\" xlink:href=\"#DejaVuSans-48\"/>\n       <use x=\"190.869141\" xlink:href=\"#DejaVuSans-48\"/>\n       <use x=\"254.492188\" xlink:href=\"#DejaVuSans-48\"/>\n      </g>\n     </g>\n    </g>\n    <g id=\"ytick_5\">\n     <g id=\"line2d_13\">\n      <g>\n       <use style=\"stroke:#000000;stroke-width:0.8;\" x=\"59.690625\" xlink:href=\"#mf9ea10baa8\" y=\"95.074471\"/>\n      </g>\n     </g>\n     <g id=\"text_14\">\n      <!-- 20000 -->\n      <g transform=\"translate(20.878125 98.87369)scale(0.1 -0.1)\">\n       <use xlink:href=\"#DejaVuSans-50\"/>\n       <use x=\"63.623047\" xlink:href=\"#DejaVuSans-48\"/>\n       <use x=\"127.246094\" xlink:href=\"#DejaVuSans-48\"/>\n       <use x=\"190.869141\" xlink:href=\"#DejaVuSans-48\"/>\n       <use x=\"254.492188\" xlink:href=\"#DejaVuSans-48\"/>\n      </g>\n     </g>\n    </g>\n    <g id=\"ytick_6\">\n     <g id=\"line2d_14\">\n      <g>\n       <use style=\"stroke:#000000;stroke-width:0.8;\" x=\"59.690625\" xlink:href=\"#mf9ea10baa8\" y=\"58.903557\"/>\n      </g>\n     </g>\n     <g id=\"text_15\">\n      <!-- 25000 -->\n      <g transform=\"translate(20.878125 62.702776)scale(0.1 -0.1)\">\n       <use xlink:href=\"#DejaVuSans-50\"/>\n       <use x=\"63.623047\" xlink:href=\"#DejaVuSans-53\"/>\n       <use x=\"127.246094\" xlink:href=\"#DejaVuSans-48\"/>\n       <use x=\"190.869141\" xlink:href=\"#DejaVuSans-48\"/>\n       <use x=\"254.492188\" xlink:href=\"#DejaVuSans-48\"/>\n      </g>\n     </g>\n    </g>\n    <g id=\"ytick_7\">\n     <g id=\"line2d_15\">\n      <g>\n       <use style=\"stroke:#000000;stroke-width:0.8;\" x=\"59.690625\" xlink:href=\"#mf9ea10baa8\" y=\"22.732644\"/>\n      </g>\n     </g>\n     <g id=\"text_16\">\n      <!-- 30000 -->\n      <g transform=\"translate(20.878125 26.531862)scale(0.1 -0.1)\">\n       <defs>\n        <path d=\"M 40.578125 39.3125 \nQ 47.65625 37.796875 51.625 33 \nQ 55.609375 28.21875 55.609375 21.1875 \nQ 55.609375 10.40625 48.1875 4.484375 \nQ 40.765625 -1.421875 27.09375 -1.421875 \nQ 22.515625 -1.421875 17.65625 -0.515625 \nQ 12.796875 0.390625 7.625 2.203125 \nL 7.625 11.71875 \nQ 11.71875 9.328125 16.59375 8.109375 \nQ 21.484375 6.890625 26.8125 6.890625 \nQ 36.078125 6.890625 40.9375 10.546875 \nQ 45.796875 14.203125 45.796875 21.1875 \nQ 45.796875 27.640625 41.28125 31.265625 \nQ 36.765625 34.90625 28.71875 34.90625 \nL 20.21875 34.90625 \nL 20.21875 43.015625 \nL 29.109375 43.015625 \nQ 36.375 43.015625 40.234375 45.921875 \nQ 44.09375 48.828125 44.09375 54.296875 \nQ 44.09375 59.90625 40.109375 62.90625 \nQ 36.140625 65.921875 28.71875 65.921875 \nQ 24.65625 65.921875 20.015625 65.03125 \nQ 15.375 64.15625 9.8125 62.3125 \nL 9.8125 71.09375 \nQ 15.4375 72.65625 20.34375 73.4375 \nQ 25.25 74.21875 29.59375 74.21875 \nQ 40.828125 74.21875 47.359375 69.109375 \nQ 53.90625 64.015625 53.90625 55.328125 \nQ 53.90625 49.265625 50.4375 45.09375 \nQ 46.96875 40.921875 40.578125 39.3125 \nz\n\" id=\"DejaVuSans-51\"/>\n       </defs>\n       <use xlink:href=\"#DejaVuSans-51\"/>\n       <use x=\"63.623047\" xlink:href=\"#DejaVuSans-48\"/>\n       <use x=\"127.246094\" xlink:href=\"#DejaVuSans-48\"/>\n       <use x=\"190.869141\" xlink:href=\"#DejaVuSans-48\"/>\n       <use x=\"254.492188\" xlink:href=\"#DejaVuSans-48\"/>\n      </g>\n     </g>\n    </g>\n    <g id=\"text_17\">\n     <!-- number of samples -->\n     <g transform=\"translate(14.798438 179.333437)rotate(-90)scale(0.1 -0.1)\">\n      <defs>\n       <path d=\"M 8.5 21.578125 \nL 8.5 54.6875 \nL 17.484375 54.6875 \nL 17.484375 21.921875 \nQ 17.484375 14.15625 20.5 10.265625 \nQ 23.53125 6.390625 29.59375 6.390625 \nQ 36.859375 6.390625 41.078125 11.03125 \nQ 45.3125 15.671875 45.3125 23.6875 \nL 45.3125 54.6875 \nL 54.296875 54.6875 \nL 54.296875 0 \nL 45.3125 0 \nL 45.3125 8.40625 \nQ 42.046875 3.421875 37.71875 1 \nQ 33.40625 -1.421875 27.6875 -1.421875 \nQ 18.265625 -1.421875 13.375 4.4375 \nQ 8.5 10.296875 8.5 21.578125 \nz\nM 31.109375 56 \nz\n\" id=\"DejaVuSans-117\"/>\n       <path d=\"M 48.6875 27.296875 \nQ 48.6875 37.203125 44.609375 42.84375 \nQ 40.53125 48.484375 33.40625 48.484375 \nQ 26.265625 48.484375 22.1875 42.84375 \nQ 18.109375 37.203125 18.109375 27.296875 \nQ 18.109375 17.390625 22.1875 11.75 \nQ 26.265625 6.109375 33.40625 6.109375 \nQ 40.53125 6.109375 44.609375 11.75 \nQ 48.6875 17.390625 48.6875 27.296875 \nz\nM 18.109375 46.390625 \nQ 20.953125 51.265625 25.265625 53.625 \nQ 29.59375 56 35.59375 56 \nQ 45.5625 56 51.78125 48.09375 \nQ 58.015625 40.1875 58.015625 27.296875 \nQ 58.015625 14.40625 51.78125 6.484375 \nQ 45.5625 -1.421875 35.59375 -1.421875 \nQ 29.59375 -1.421875 25.265625 0.953125 \nQ 20.953125 3.328125 18.109375 8.203125 \nL 18.109375 0 \nL 9.078125 0 \nL 9.078125 75.984375 \nL 18.109375 75.984375 \nz\n\" id=\"DejaVuSans-98\"/>\n       <path d=\"M 41.109375 46.296875 \nQ 39.59375 47.171875 37.8125 47.578125 \nQ 36.03125 48 33.890625 48 \nQ 26.265625 48 22.1875 43.046875 \nQ 18.109375 38.09375 18.109375 28.8125 \nL 18.109375 0 \nL 9.078125 0 \nL 9.078125 54.6875 \nL 18.109375 54.6875 \nL 18.109375 46.1875 \nQ 20.953125 51.171875 25.484375 53.578125 \nQ 30.03125 56 36.53125 56 \nQ 37.453125 56 38.578125 55.875 \nQ 39.703125 55.765625 41.0625 55.515625 \nz\n\" id=\"DejaVuSans-114\"/>\n      </defs>\n      <use xlink:href=\"#DejaVuSans-110\"/>\n      <use x=\"63.378906\" xlink:href=\"#DejaVuSans-117\"/>\n      <use x=\"126.757812\" xlink:href=\"#DejaVuSans-109\"/>\n      <use x=\"224.169922\" xlink:href=\"#DejaVuSans-98\"/>\n      <use x=\"287.646484\" xlink:href=\"#DejaVuSans-101\"/>\n      <use x=\"349.169922\" xlink:href=\"#DejaVuSans-114\"/>\n      <use x=\"390.283203\" xlink:href=\"#DejaVuSans-32\"/>\n      <use x=\"422.070312\" xlink:href=\"#DejaVuSans-111\"/>\n      <use x=\"483.251953\" xlink:href=\"#DejaVuSans-102\"/>\n      <use x=\"518.457031\" xlink:href=\"#DejaVuSans-32\"/>\n      <use x=\"550.244141\" xlink:href=\"#DejaVuSans-115\"/>\n      <use x=\"602.34375\" xlink:href=\"#DejaVuSans-97\"/>\n      <use x=\"663.623047\" xlink:href=\"#DejaVuSans-109\"/>\n      <use x=\"761.035156\" xlink:href=\"#DejaVuSans-112\"/>\n      <use x=\"824.511719\" xlink:href=\"#DejaVuSans-108\"/>\n      <use x=\"852.294922\" xlink:href=\"#DejaVuSans-101\"/>\n      <use x=\"913.818359\" xlink:href=\"#DejaVuSans-115\"/>\n     </g>\n    </g>\n   </g>\n   <g id=\"patch_43\">\n    <path d=\"M 59.690625 239.758125 \nL 59.690625 22.318125 \n\" style=\"fill:none;stroke:#000000;stroke-linecap:square;stroke-linejoin:miter;stroke-width:0.8;\"/>\n   </g>\n   <g id=\"patch_44\">\n    <path d=\"M 394.490625 239.758125 \nL 394.490625 22.318125 \n\" style=\"fill:none;stroke:#000000;stroke-linecap:square;stroke-linejoin:miter;stroke-width:0.8;\"/>\n   </g>\n   <g id=\"patch_45\">\n    <path d=\"M 59.690625 239.758125 \nL 394.490625 239.758125 \n\" style=\"fill:none;stroke:#000000;stroke-linecap:square;stroke-linejoin:miter;stroke-width:0.8;\"/>\n   </g>\n   <g id=\"patch_46\">\n    <path d=\"M 59.690625 22.318125 \nL 394.490625 22.318125 \n\" style=\"fill:none;stroke:#000000;stroke-linecap:square;stroke-linejoin:miter;stroke-width:0.8;\"/>\n   </g>\n   <g id=\"text_18\">\n    <!-- headlines -->\n    <g transform=\"translate(198.156563 16.318125)scale(0.12 -0.12)\">\n     <defs>\n      <path d=\"M 45.40625 46.390625 \nL 45.40625 75.984375 \nL 54.390625 75.984375 \nL 54.390625 0 \nL 45.40625 0 \nL 45.40625 8.203125 \nQ 42.578125 3.328125 38.25 0.953125 \nQ 33.9375 -1.421875 27.875 -1.421875 \nQ 17.96875 -1.421875 11.734375 6.484375 \nQ 5.515625 14.40625 5.515625 27.296875 \nQ 5.515625 40.1875 11.734375 48.09375 \nQ 17.96875 56 27.875 56 \nQ 33.9375 56 38.25 53.625 \nQ 42.578125 51.265625 45.40625 46.390625 \nz\nM 14.796875 27.296875 \nQ 14.796875 17.390625 18.875 11.75 \nQ 22.953125 6.109375 30.078125 6.109375 \nQ 37.203125 6.109375 41.296875 11.75 \nQ 45.40625 17.390625 45.40625 27.296875 \nQ 45.40625 37.203125 41.296875 42.84375 \nQ 37.203125 48.484375 30.078125 48.484375 \nQ 22.953125 48.484375 18.875 42.84375 \nQ 14.796875 37.203125 14.796875 27.296875 \nz\n\" id=\"DejaVuSans-100\"/>\n      <path d=\"M 9.421875 54.6875 \nL 18.40625 54.6875 \nL 18.40625 0 \nL 9.421875 0 \nz\nM 9.421875 75.984375 \nL 18.40625 75.984375 \nL 18.40625 64.59375 \nL 9.421875 64.59375 \nz\n\" id=\"DejaVuSans-105\"/>\n     </defs>\n     <use xlink:href=\"#DejaVuSans-104\"/>\n     <use x=\"63.378906\" xlink:href=\"#DejaVuSans-101\"/>\n     <use x=\"124.902344\" xlink:href=\"#DejaVuSans-97\"/>\n     <use x=\"186.181641\" xlink:href=\"#DejaVuSans-100\"/>\n     <use x=\"249.658203\" xlink:href=\"#DejaVuSans-108\"/>\n     <use x=\"277.441406\" xlink:href=\"#DejaVuSans-105\"/>\n     <use x=\"305.224609\" xlink:href=\"#DejaVuSans-110\"/>\n     <use x=\"368.603516\" xlink:href=\"#DejaVuSans-101\"/>\n     <use x=\"430.126953\" xlink:href=\"#DejaVuSans-115\"/>\n    </g>\n   </g>\n  </g>\n </g>\n <defs>\n  <clipPath id=\"p8ca07d04c1\">\n   <rect height=\"217.44\" width=\"334.8\" x=\"59.690625\" y=\"22.318125\"/>\n  </clipPath>\n </defs>\n</svg>\n",
      "image/png": "[encoded data removed]"
     },
     "metadata": {
      "needs_background": "light"
     }
    },
    {
     "output_type": "display_data",
     "data": {
      "text/plain": "<Figure size 432x288 with 1 Axes>",
      "image/svg+xml": "<?xml version=\"1.0\" encoding=\"utf-8\" standalone=\"no\"?>\n<!DOCTYPE svg PUBLIC \"-//W3C//DTD SVG 1.1//EN\"\n  \"http://www.w3.org/Graphics/SVG/1.1/DTD/svg11.dtd\">\n<!-- Created with matplotlib (https://matplotlib.org/) -->\n<svg height=\"277.314375pt\" version=\"1.1\" viewBox=\"0 0 401.690625 277.314375\" width=\"401.690625pt\" xmlns=\"http://www.w3.org/2000/svg\" xmlns:xlink=\"http://www.w3.org/1999/xlink\">\n <metadata>\n  <rdf:RDF xmlns:cc=\"http://creativecommons.org/ns#\" xmlns:dc=\"http://purl.org/dc/elements/1.1/\" xmlns:rdf=\"http://www.w3.org/1999/02/22-rdf-syntax-ns#\">\n   <cc:Work>\n    <dc:type rdf:resource=\"http://purl.org/dc/dcmitype/StillImage\"/>\n    <dc:date>2021-02-23T21:37:40.477837</dc:date>\n    <dc:format>image/svg+xml</dc:format>\n    <dc:creator>\n     <cc:Agent>\n      <dc:title>Matplotlib v3.3.2, https://matplotlib.org/</dc:title>\n     </cc:Agent>\n    </dc:creator>\n   </cc:Work>\n  </rdf:RDF>\n </metadata>\n <defs>\n  <style type=\"text/css\">*{stroke-linecap:butt;stroke-linejoin:round;}</style>\n </defs>\n <g id=\"figure_1\">\n  <g id=\"patch_1\">\n   <path d=\"M 0 277.314375 \nL 401.690625 277.314375 \nL 401.690625 0 \nL 0 0 \nz\n\" style=\"fill:none;\"/>\n  </g>\n  <g id=\"axes_1\">\n   <g id=\"patch_2\">\n    <path d=\"M 59.690625 239.758125 \nL 394.490625 239.758125 \nL 394.490625 22.318125 \nL 59.690625 22.318125 \nz\n\" style=\"fill:#ffffff;\"/>\n   </g>\n   <g id=\"patch_3\">\n    <path clip-path=\"url(#pcb06c0f56a)\" d=\"M 74.908807 239.758125 \nL 82.517898 239.758125 \nL 82.517898 239.747939 \nL 74.908807 239.747939 \nz\n\" style=\"fill:#1f77b4;\"/>\n   </g>\n   <g id=\"patch_4\">\n    <path clip-path=\"url(#pcb06c0f56a)\" d=\"M 82.517898 239.758125 \nL 90.126989 239.758125 \nL 90.126989 239.758125 \nL 82.517898 239.758125 \nz\n\" style=\"fill:#1f77b4;\"/>\n   </g>\n   <g id=\"patch_5\">\n    <path clip-path=\"url(#pcb06c0f56a)\" d=\"M 90.126989 239.758125 \nL 97.73608 239.758125 \nL 97.73608 239.758125 \nL 90.126989 239.758125 \nz\n\" style=\"fill:#1f77b4;\"/>\n   </g>\n   <g id=\"patch_6\">\n    <path clip-path=\"url(#pcb06c0f56a)\" d=\"M 97.73608 239.758125 \nL 105.34517 239.758125 \nL 105.34517 239.758125 \nL 97.73608 239.758125 \nz\n\" style=\"fill:#1f77b4;\"/>\n   </g>\n   <g id=\"patch_7\">\n    <path clip-path=\"url(#pcb06c0f56a)\" d=\"M 105.34517 239.758125 \nL 112.954261 239.758125 \nL 112.954261 239.758125 \nL 105.34517 239.758125 \nz\n\" style=\"fill:#1f77b4;\"/>\n   </g>\n   <g id=\"patch_8\">\n    <path clip-path=\"url(#pcb06c0f56a)\" d=\"M 112.954261 239.758125 \nL 120.563352 239.758125 \nL 120.563352 239.758125 \nL 112.954261 239.758125 \nz\n\" style=\"fill:#1f77b4;\"/>\n   </g>\n   <g id=\"patch_9\">\n    <path clip-path=\"url(#pcb06c0f56a)\" d=\"M 120.563352 239.758125 \nL 128.172443 239.758125 \nL 128.172443 239.758125 \nL 120.563352 239.758125 \nz\n\" style=\"fill:#1f77b4;\"/>\n   </g>\n   <g id=\"patch_10\">\n    <path clip-path=\"url(#pcb06c0f56a)\" d=\"M 128.172443 239.758125 \nL 135.781534 239.758125 \nL 135.781534 239.758125 \nL 128.172443 239.758125 \nz\n\" style=\"fill:#1f77b4;\"/>\n   </g>\n   <g id=\"patch_11\">\n    <path clip-path=\"url(#pcb06c0f56a)\" d=\"M 135.781534 239.758125 \nL 143.390625 239.758125 \nL 143.390625 239.758125 \nL 135.781534 239.758125 \nz\n\" style=\"fill:#1f77b4;\"/>\n   </g>\n   <g id=\"patch_12\">\n    <path clip-path=\"url(#pcb06c0f56a)\" d=\"M 143.390625 239.758125 \nL 150.999716 239.758125 \nL 150.999716 239.758125 \nL 143.390625 239.758125 \nz\n\" style=\"fill:#1f77b4;\"/>\n   </g>\n   <g id=\"patch_13\">\n    <path clip-path=\"url(#pcb06c0f56a)\" d=\"M 150.999716 239.758125 \nL 158.608807 239.758125 \nL 158.608807 239.758125 \nL 150.999716 239.758125 \nz\n\" style=\"fill:#1f77b4;\"/>\n   </g>\n   <g id=\"patch_14\">\n    <path clip-path=\"url(#pcb06c0f56a)\" d=\"M 158.608807 239.758125 \nL 166.217898 239.758125 \nL 166.217898 239.737753 \nL 158.608807 239.737753 \nz\n\" style=\"fill:#1f77b4;\"/>\n   </g>\n   <g id=\"patch_15\">\n    <path clip-path=\"url(#pcb06c0f56a)\" d=\"M 166.217898 239.758125 \nL 173.826989 239.758125 \nL 173.826989 239.697008 \nL 166.217898 239.697008 \nz\n\" style=\"fill:#1f77b4;\"/>\n   </g>\n   <g id=\"patch_16\">\n    <path clip-path=\"url(#pcb06c0f56a)\" d=\"M 173.826989 239.758125 \nL 181.43608 239.758125 \nL 181.43608 239.625704 \nL 173.826989 239.625704 \nz\n\" style=\"fill:#1f77b4;\"/>\n   </g>\n   <g id=\"patch_17\">\n    <path clip-path=\"url(#pcb06c0f56a)\" d=\"M 181.43608 239.758125 \nL 189.04517 239.758125 \nL 189.04517 239.055276 \nL 181.43608 239.055276 \nz\n\" style=\"fill:#1f77b4;\"/>\n   </g>\n   <g id=\"patch_18\">\n    <path clip-path=\"url(#pcb06c0f56a)\" d=\"M 189.04517 239.758125 \nL 196.654261 239.758125 \nL 196.654261 238.311683 \nL 189.04517 238.311683 \nz\n\" style=\"fill:#1f77b4;\"/>\n   </g>\n   <g id=\"patch_19\">\n    <path clip-path=\"url(#pcb06c0f56a)\" d=\"M 196.654261 239.758125 \nL 204.263352 239.758125 \nL 204.263352 230.020105 \nL 196.654261 230.020105 \nz\n\" style=\"fill:#1f77b4;\"/>\n   </g>\n   <g id=\"patch_20\">\n    <path clip-path=\"url(#pcb06c0f56a)\" d=\"M 204.263352 239.758125 \nL 211.872443 239.758125 \nL 211.872443 229.164463 \nL 204.263352 229.164463 \nz\n\" style=\"fill:#1f77b4;\"/>\n   </g>\n   <g id=\"patch_21\">\n    <path clip-path=\"url(#pcb06c0f56a)\" d=\"M 211.872443 239.758125 \nL 219.481534 239.758125 \nL 219.481534 192.453351 \nL 211.872443 192.453351 \nz\n\" style=\"fill:#1f77b4;\"/>\n   </g>\n   <g id=\"patch_22\">\n    <path clip-path=\"url(#pcb06c0f56a)\" d=\"M 219.481534 239.758125 \nL 227.090625 239.758125 \nL 227.090625 197.719623 \nL 219.481534 197.719623 \nz\n\" style=\"fill:#1f77b4;\"/>\n   </g>\n   <g id=\"patch_23\">\n    <path clip-path=\"url(#pcb06c0f56a)\" d=\"M 227.090625 239.758125 \nL 234.699716 239.758125 \nL 234.699716 181.309634 \nL 227.090625 181.309634 \nz\n\" style=\"fill:#1f77b4;\"/>\n   </g>\n   <g id=\"patch_24\">\n    <path clip-path=\"url(#pcb06c0f56a)\" d=\"M 234.699716 239.758125 \nL 242.308807 239.758125 \nL 242.308807 74.232161 \nL 234.699716 74.232161 \nz\n\" style=\"fill:#1f77b4;\"/>\n   </g>\n   <g id=\"patch_25\">\n    <path clip-path=\"url(#pcb06c0f56a)\" d=\"M 242.308807 239.758125 \nL 249.917898 239.758125 \nL 249.917898 137.95711 \nL 242.308807 137.95711 \nz\n\" style=\"fill:#1f77b4;\"/>\n   </g>\n   <g id=\"patch_26\">\n    <path clip-path=\"url(#pcb06c0f56a)\" d=\"M 249.917898 239.758125 \nL 257.526989 239.758125 \nL 257.526989 32.672411 \nL 249.917898 32.672411 \nz\n\" style=\"fill:#1f77b4;\"/>\n   </g>\n   <g id=\"patch_27\">\n    <path clip-path=\"url(#pcb06c0f56a)\" d=\"M 257.526989 239.758125 \nL 265.13608 239.758125 \nL 265.13608 145.423605 \nL 257.526989 145.423605 \nz\n\" style=\"fill:#1f77b4;\"/>\n   </g>\n   <g id=\"patch_28\">\n    <path clip-path=\"url(#pcb06c0f56a)\" d=\"M 265.13608 239.758125 \nL 272.74517 239.758125 \nL 272.74517 99.106893 \nL 265.13608 99.106893 \nz\n\" style=\"fill:#1f77b4;\"/>\n   </g>\n   <g id=\"patch_29\">\n    <path clip-path=\"url(#pcb06c0f56a)\" d=\"M 272.74517 239.758125 \nL 280.354261 239.758125 \nL 280.354261 194.011842 \nL 272.74517 194.011842 \nz\n\" style=\"fill:#1f77b4;\"/>\n   </g>\n   <g id=\"patch_30\">\n    <path clip-path=\"url(#pcb06c0f56a)\" d=\"M 280.354261 239.758125 \nL 287.963352 239.758125 \nL 287.963352 188.5011 \nL 280.354261 188.5011 \nz\n\" style=\"fill:#1f77b4;\"/>\n   </g>\n   <g id=\"patch_31\">\n    <path clip-path=\"url(#pcb06c0f56a)\" d=\"M 287.963352 239.758125 \nL 295.572443 239.758125 \nL 295.572443 227.5856 \nL 287.963352 227.5856 \nz\n\" style=\"fill:#1f77b4;\"/>\n   </g>\n   <g id=\"patch_32\">\n    <path clip-path=\"url(#pcb06c0f56a)\" d=\"M 295.572443 239.758125 \nL 303.181534 239.758125 \nL 303.181534 230.14234 \nL 295.572443 230.14234 \nz\n\" style=\"fill:#1f77b4;\"/>\n   </g>\n   <g id=\"patch_33\">\n    <path clip-path=\"url(#pcb06c0f56a)\" d=\"M 303.181534 239.758125 \nL 310.790625 239.758125 \nL 310.790625 238.230193 \nL 303.181534 238.230193 \nz\n\" style=\"fill:#1f77b4;\"/>\n   </g>\n   <g id=\"patch_34\">\n    <path clip-path=\"url(#pcb06c0f56a)\" d=\"M 310.790625 239.758125 \nL 318.399716 239.758125 \nL 318.399716 238.484848 \nL 310.790625 238.484848 \nz\n\" style=\"fill:#1f77b4;\"/>\n   </g>\n   <g id=\"patch_35\">\n    <path clip-path=\"url(#pcb06c0f56a)\" d=\"M 318.399716 239.758125 \nL 326.008807 239.758125 \nL 326.008807 239.615518 \nL 318.399716 239.615518 \nz\n\" style=\"fill:#1f77b4;\"/>\n   </g>\n   <g id=\"patch_36\">\n    <path clip-path=\"url(#pcb06c0f56a)\" d=\"M 326.008807 239.758125 \nL 333.617898 239.758125 \nL 333.617898 239.574773 \nL 326.008807 239.574773 \nz\n\" style=\"fill:#1f77b4;\"/>\n   </g>\n   <g id=\"patch_37\">\n    <path clip-path=\"url(#pcb06c0f56a)\" d=\"M 333.617898 239.758125 \nL 341.226989 239.758125 \nL 341.226989 239.71738 \nL 333.617898 239.71738 \nz\n\" style=\"fill:#1f77b4;\"/>\n   </g>\n   <g id=\"patch_38\">\n    <path clip-path=\"url(#pcb06c0f56a)\" d=\"M 341.226989 239.758125 \nL 348.83608 239.758125 \nL 348.83608 239.71738 \nL 341.226989 239.71738 \nz\n\" style=\"fill:#1f77b4;\"/>\n   </g>\n   <g id=\"patch_39\">\n    <path clip-path=\"url(#pcb06c0f56a)\" d=\"M 348.83608 239.758125 \nL 356.44517 239.758125 \nL 356.44517 239.747939 \nL 348.83608 239.747939 \nz\n\" style=\"fill:#1f77b4;\"/>\n   </g>\n   <g id=\"patch_40\">\n    <path clip-path=\"url(#pcb06c0f56a)\" d=\"M 356.44517 239.758125 \nL 364.054261 239.758125 \nL 364.054261 239.758125 \nL 356.44517 239.758125 \nz\n\" style=\"fill:#1f77b4;\"/>\n   </g>\n   <g id=\"patch_41\">\n    <path clip-path=\"url(#pcb06c0f56a)\" d=\"M 364.054261 239.758125 \nL 371.663352 239.758125 \nL 371.663352 239.758125 \nL 364.054261 239.758125 \nz\n\" style=\"fill:#1f77b4;\"/>\n   </g>\n   <g id=\"patch_42\">\n    <path clip-path=\"url(#pcb06c0f56a)\" d=\"M 371.663352 239.758125 \nL 379.272443 239.758125 \nL 379.272443 239.747939 \nL 371.663352 239.747939 \nz\n\" style=\"fill:#1f77b4;\"/>\n   </g>\n   <g id=\"matplotlib.axis_1\">\n    <g id=\"xtick_1\">\n     <g id=\"line2d_1\">\n      <defs>\n       <path d=\"M 0 0 \nL 0 3.5 \n\" id=\"m42ceb0a039\" style=\"stroke:#000000;stroke-width:0.8;\"/>\n      </defs>\n      <g>\n       <use style=\"stroke:#000000;stroke-width:0.8;\" x=\"69.750101\" xlink:href=\"#m42ceb0a039\" y=\"239.758125\"/>\n      </g>\n     </g>\n     <g id=\"text_1\">\n      <!-- 0 -->\n      <g transform=\"translate(66.568851 254.356562)scale(0.1 -0.1)\">\n       <defs>\n        <path d=\"M 31.78125 66.40625 \nQ 24.171875 66.40625 20.328125 58.90625 \nQ 16.5 51.421875 16.5 36.375 \nQ 16.5 21.390625 20.328125 13.890625 \nQ 24.171875 6.390625 31.78125 6.390625 \nQ 39.453125 6.390625 43.28125 13.890625 \nQ 47.125 21.390625 47.125 36.375 \nQ 47.125 51.421875 43.28125 58.90625 \nQ 39.453125 66.40625 31.78125 66.40625 \nz\nM 31.78125 74.21875 \nQ 44.046875 74.21875 50.515625 64.515625 \nQ 56.984375 54.828125 56.984375 36.375 \nQ 56.984375 17.96875 50.515625 8.265625 \nQ 44.046875 -1.421875 31.78125 -1.421875 \nQ 19.53125 -1.421875 13.0625 8.265625 \nQ 6.59375 17.96875 6.59375 36.375 \nQ 6.59375 54.828125 13.0625 64.515625 \nQ 19.53125 74.21875 31.78125 74.21875 \nz\n\" id=\"DejaVuSans-48\"/>\n       </defs>\n       <use xlink:href=\"#DejaVuSans-48\"/>\n      </g>\n     </g>\n    </g>\n    <g id=\"xtick_2\">\n     <g id=\"line2d_2\">\n      <g>\n       <use style=\"stroke:#000000;stroke-width:0.8;\" x=\"121.337158\" xlink:href=\"#m42ceb0a039\" y=\"239.758125\"/>\n      </g>\n     </g>\n     <g id=\"text_2\">\n      <!-- 10 -->\n      <g transform=\"translate(114.974658 254.356562)scale(0.1 -0.1)\">\n       <defs>\n        <path d=\"M 12.40625 8.296875 \nL 28.515625 8.296875 \nL 28.515625 63.921875 \nL 10.984375 60.40625 \nL 10.984375 69.390625 \nL 28.421875 72.90625 \nL 38.28125 72.90625 \nL 38.28125 8.296875 \nL 54.390625 8.296875 \nL 54.390625 0 \nL 12.40625 0 \nz\n\" id=\"DejaVuSans-49\"/>\n       </defs>\n       <use xlink:href=\"#DejaVuSans-49\"/>\n       <use x=\"63.623047\" xlink:href=\"#DejaVuSans-48\"/>\n      </g>\n     </g>\n    </g>\n    <g id=\"xtick_3\">\n     <g id=\"line2d_3\">\n      <g>\n       <use style=\"stroke:#000000;stroke-width:0.8;\" x=\"172.924215\" xlink:href=\"#m42ceb0a039\" y=\"239.758125\"/>\n      </g>\n     </g>\n     <g id=\"text_3\">\n      <!-- 20 -->\n      <g transform=\"translate(166.561715 254.356562)scale(0.1 -0.1)\">\n       <defs>\n        <path d=\"M 19.1875 8.296875 \nL 53.609375 8.296875 \nL 53.609375 0 \nL 7.328125 0 \nL 7.328125 8.296875 \nQ 12.9375 14.109375 22.625 23.890625 \nQ 32.328125 33.6875 34.8125 36.53125 \nQ 39.546875 41.84375 41.421875 45.53125 \nQ 43.3125 49.21875 43.3125 52.78125 \nQ 43.3125 58.59375 39.234375 62.25 \nQ 35.15625 65.921875 28.609375 65.921875 \nQ 23.96875 65.921875 18.8125 64.3125 \nQ 13.671875 62.703125 7.8125 59.421875 \nL 7.8125 69.390625 \nQ 13.765625 71.78125 18.9375 73 \nQ 24.125 74.21875 28.421875 74.21875 \nQ 39.75 74.21875 46.484375 68.546875 \nQ 53.21875 62.890625 53.21875 53.421875 \nQ 53.21875 48.921875 51.53125 44.890625 \nQ 49.859375 40.875 45.40625 35.40625 \nQ 44.1875 33.984375 37.640625 27.21875 \nQ 31.109375 20.453125 19.1875 8.296875 \nz\n\" id=\"DejaVuSans-50\"/>\n       </defs>\n       <use xlink:href=\"#DejaVuSans-50\"/>\n       <use x=\"63.623047\" xlink:href=\"#DejaVuSans-48\"/>\n      </g>\n     </g>\n    </g>\n    <g id=\"xtick_4\">\n     <g id=\"line2d_4\">\n      <g>\n       <use style=\"stroke:#000000;stroke-width:0.8;\" x=\"224.511272\" xlink:href=\"#m42ceb0a039\" y=\"239.758125\"/>\n      </g>\n     </g>\n     <g id=\"text_4\">\n      <!-- 30 -->\n      <g transform=\"translate(218.148772 254.356562)scale(0.1 -0.1)\">\n       <defs>\n        <path d=\"M 40.578125 39.3125 \nQ 47.65625 37.796875 51.625 33 \nQ 55.609375 28.21875 55.609375 21.1875 \nQ 55.609375 10.40625 48.1875 4.484375 \nQ 40.765625 -1.421875 27.09375 -1.421875 \nQ 22.515625 -1.421875 17.65625 -0.515625 \nQ 12.796875 0.390625 7.625 2.203125 \nL 7.625 11.71875 \nQ 11.71875 9.328125 16.59375 8.109375 \nQ 21.484375 6.890625 26.8125 6.890625 \nQ 36.078125 6.890625 40.9375 10.546875 \nQ 45.796875 14.203125 45.796875 21.1875 \nQ 45.796875 27.640625 41.28125 31.265625 \nQ 36.765625 34.90625 28.71875 34.90625 \nL 20.21875 34.90625 \nL 20.21875 43.015625 \nL 29.109375 43.015625 \nQ 36.375 43.015625 40.234375 45.921875 \nQ 44.09375 48.828125 44.09375 54.296875 \nQ 44.09375 59.90625 40.109375 62.90625 \nQ 36.140625 65.921875 28.71875 65.921875 \nQ 24.65625 65.921875 20.015625 65.03125 \nQ 15.375 64.15625 9.8125 62.3125 \nL 9.8125 71.09375 \nQ 15.4375 72.65625 20.34375 73.4375 \nQ 25.25 74.21875 29.59375 74.21875 \nQ 40.828125 74.21875 47.359375 69.109375 \nQ 53.90625 64.015625 53.90625 55.328125 \nQ 53.90625 49.265625 50.4375 45.09375 \nQ 46.96875 40.921875 40.578125 39.3125 \nz\n\" id=\"DejaVuSans-51\"/>\n       </defs>\n       <use xlink:href=\"#DejaVuSans-51\"/>\n       <use x=\"63.623047\" xlink:href=\"#DejaVuSans-48\"/>\n      </g>\n     </g>\n    </g>\n    <g id=\"xtick_5\">\n     <g id=\"line2d_5\">\n      <g>\n       <use style=\"stroke:#000000;stroke-width:0.8;\" x=\"276.098329\" xlink:href=\"#m42ceb0a039\" y=\"239.758125\"/>\n      </g>\n     </g>\n     <g id=\"text_5\">\n      <!-- 40 -->\n      <g transform=\"translate(269.735829 254.356562)scale(0.1 -0.1)\">\n       <defs>\n        <path d=\"M 37.796875 64.3125 \nL 12.890625 25.390625 \nL 37.796875 25.390625 \nz\nM 35.203125 72.90625 \nL 47.609375 72.90625 \nL 47.609375 25.390625 \nL 58.015625 25.390625 \nL 58.015625 17.1875 \nL 47.609375 17.1875 \nL 47.609375 0 \nL 37.796875 0 \nL 37.796875 17.1875 \nL 4.890625 17.1875 \nL 4.890625 26.703125 \nz\n\" id=\"DejaVuSans-52\"/>\n       </defs>\n       <use xlink:href=\"#DejaVuSans-52\"/>\n       <use x=\"63.623047\" xlink:href=\"#DejaVuSans-48\"/>\n      </g>\n     </g>\n    </g>\n    <g id=\"xtick_6\">\n     <g id=\"line2d_6\">\n      <g>\n       <use style=\"stroke:#000000;stroke-width:0.8;\" x=\"327.685386\" xlink:href=\"#m42ceb0a039\" y=\"239.758125\"/>\n      </g>\n     </g>\n     <g id=\"text_6\">\n      <!-- 50 -->\n      <g transform=\"translate(321.322886 254.356562)scale(0.1 -0.1)\">\n       <defs>\n        <path d=\"M 10.796875 72.90625 \nL 49.515625 72.90625 \nL 49.515625 64.59375 \nL 19.828125 64.59375 \nL 19.828125 46.734375 \nQ 21.96875 47.46875 24.109375 47.828125 \nQ 26.265625 48.1875 28.421875 48.1875 \nQ 40.625 48.1875 47.75 41.5 \nQ 54.890625 34.8125 54.890625 23.390625 \nQ 54.890625 11.625 47.5625 5.09375 \nQ 40.234375 -1.421875 26.90625 -1.421875 \nQ 22.3125 -1.421875 17.546875 -0.640625 \nQ 12.796875 0.140625 7.71875 1.703125 \nL 7.71875 11.625 \nQ 12.109375 9.234375 16.796875 8.0625 \nQ 21.484375 6.890625 26.703125 6.890625 \nQ 35.15625 6.890625 40.078125 11.328125 \nQ 45.015625 15.765625 45.015625 23.390625 \nQ 45.015625 31 40.078125 35.4375 \nQ 35.15625 39.890625 26.703125 39.890625 \nQ 22.75 39.890625 18.8125 39.015625 \nQ 14.890625 38.140625 10.796875 36.28125 \nz\n\" id=\"DejaVuSans-53\"/>\n       </defs>\n       <use xlink:href=\"#DejaVuSans-53\"/>\n       <use x=\"63.623047\" xlink:href=\"#DejaVuSans-48\"/>\n      </g>\n     </g>\n    </g>\n    <g id=\"xtick_7\">\n     <g id=\"line2d_7\">\n      <g>\n       <use style=\"stroke:#000000;stroke-width:0.8;\" x=\"379.272443\" xlink:href=\"#m42ceb0a039\" y=\"239.758125\"/>\n      </g>\n     </g>\n     <g id=\"text_7\">\n      <!-- 60 -->\n      <g transform=\"translate(372.909943 254.356562)scale(0.1 -0.1)\">\n       <defs>\n        <path d=\"M 33.015625 40.375 \nQ 26.375 40.375 22.484375 35.828125 \nQ 18.609375 31.296875 18.609375 23.390625 \nQ 18.609375 15.53125 22.484375 10.953125 \nQ 26.375 6.390625 33.015625 6.390625 \nQ 39.65625 6.390625 43.53125 10.953125 \nQ 47.40625 15.53125 47.40625 23.390625 \nQ 47.40625 31.296875 43.53125 35.828125 \nQ 39.65625 40.375 33.015625 40.375 \nz\nM 52.59375 71.296875 \nL 52.59375 62.3125 \nQ 48.875 64.0625 45.09375 64.984375 \nQ 41.3125 65.921875 37.59375 65.921875 \nQ 27.828125 65.921875 22.671875 59.328125 \nQ 17.53125 52.734375 16.796875 39.40625 \nQ 19.671875 43.65625 24.015625 45.921875 \nQ 28.375 48.1875 33.59375 48.1875 \nQ 44.578125 48.1875 50.953125 41.515625 \nQ 57.328125 34.859375 57.328125 23.390625 \nQ 57.328125 12.15625 50.6875 5.359375 \nQ 44.046875 -1.421875 33.015625 -1.421875 \nQ 20.359375 -1.421875 13.671875 8.265625 \nQ 6.984375 17.96875 6.984375 36.375 \nQ 6.984375 53.65625 15.1875 63.9375 \nQ 23.390625 74.21875 37.203125 74.21875 \nQ 40.921875 74.21875 44.703125 73.484375 \nQ 48.484375 72.75 52.59375 71.296875 \nz\n\" id=\"DejaVuSans-54\"/>\n       </defs>\n       <use xlink:href=\"#DejaVuSans-54\"/>\n       <use x=\"63.623047\" xlink:href=\"#DejaVuSans-48\"/>\n      </g>\n     </g>\n    </g>\n    <g id=\"text_8\">\n     <!-- length of samples -->\n     <g transform=\"translate(182.371875 268.034687)scale(0.1 -0.1)\">\n      <defs>\n       <path d=\"M 9.421875 75.984375 \nL 18.40625 75.984375 \nL 18.40625 0 \nL 9.421875 0 \nz\n\" id=\"DejaVuSans-108\"/>\n       <path d=\"M 56.203125 29.59375 \nL 56.203125 25.203125 \nL 14.890625 25.203125 \nQ 15.484375 15.921875 20.484375 11.0625 \nQ 25.484375 6.203125 34.421875 6.203125 \nQ 39.59375 6.203125 44.453125 7.46875 \nQ 49.3125 8.734375 54.109375 11.28125 \nL 54.109375 2.78125 \nQ 49.265625 0.734375 44.1875 -0.34375 \nQ 39.109375 -1.421875 33.890625 -1.421875 \nQ 20.796875 -1.421875 13.15625 6.1875 \nQ 5.515625 13.8125 5.515625 26.8125 \nQ 5.515625 40.234375 12.765625 48.109375 \nQ 20.015625 56 32.328125 56 \nQ 43.359375 56 49.78125 48.890625 \nQ 56.203125 41.796875 56.203125 29.59375 \nz\nM 47.21875 32.234375 \nQ 47.125 39.59375 43.09375 43.984375 \nQ 39.0625 48.390625 32.421875 48.390625 \nQ 24.90625 48.390625 20.390625 44.140625 \nQ 15.875 39.890625 15.1875 32.171875 \nz\n\" id=\"DejaVuSans-101\"/>\n       <path d=\"M 54.890625 33.015625 \nL 54.890625 0 \nL 45.90625 0 \nL 45.90625 32.71875 \nQ 45.90625 40.484375 42.875 44.328125 \nQ 39.84375 48.1875 33.796875 48.1875 \nQ 26.515625 48.1875 22.3125 43.546875 \nQ 18.109375 38.921875 18.109375 30.90625 \nL 18.109375 0 \nL 9.078125 0 \nL 9.078125 54.6875 \nL 18.109375 54.6875 \nL 18.109375 46.1875 \nQ 21.34375 51.125 25.703125 53.5625 \nQ 30.078125 56 35.796875 56 \nQ 45.21875 56 50.046875 50.171875 \nQ 54.890625 44.34375 54.890625 33.015625 \nz\n\" id=\"DejaVuSans-110\"/>\n       <path d=\"M 45.40625 27.984375 \nQ 45.40625 37.75 41.375 43.109375 \nQ 37.359375 48.484375 30.078125 48.484375 \nQ 22.859375 48.484375 18.828125 43.109375 \nQ 14.796875 37.75 14.796875 27.984375 \nQ 14.796875 18.265625 18.828125 12.890625 \nQ 22.859375 7.515625 30.078125 7.515625 \nQ 37.359375 7.515625 41.375 12.890625 \nQ 45.40625 18.265625 45.40625 27.984375 \nz\nM 54.390625 6.78125 \nQ 54.390625 -7.171875 48.1875 -13.984375 \nQ 42 -20.796875 29.203125 -20.796875 \nQ 24.46875 -20.796875 20.265625 -20.09375 \nQ 16.0625 -19.390625 12.109375 -17.921875 \nL 12.109375 -9.1875 \nQ 16.0625 -11.328125 19.921875 -12.34375 \nQ 23.78125 -13.375 27.78125 -13.375 \nQ 36.625 -13.375 41.015625 -8.765625 \nQ 45.40625 -4.15625 45.40625 5.171875 \nL 45.40625 9.625 \nQ 42.625 4.78125 38.28125 2.390625 \nQ 33.9375 0 27.875 0 \nQ 17.828125 0 11.671875 7.65625 \nQ 5.515625 15.328125 5.515625 27.984375 \nQ 5.515625 40.671875 11.671875 48.328125 \nQ 17.828125 56 27.875 56 \nQ 33.9375 56 38.28125 53.609375 \nQ 42.625 51.21875 45.40625 46.390625 \nL 45.40625 54.6875 \nL 54.390625 54.6875 \nz\n\" id=\"DejaVuSans-103\"/>\n       <path d=\"M 18.3125 70.21875 \nL 18.3125 54.6875 \nL 36.8125 54.6875 \nL 36.8125 47.703125 \nL 18.3125 47.703125 \nL 18.3125 18.015625 \nQ 18.3125 11.328125 20.140625 9.421875 \nQ 21.96875 7.515625 27.59375 7.515625 \nL 36.8125 7.515625 \nL 36.8125 0 \nL 27.59375 0 \nQ 17.1875 0 13.234375 3.875 \nQ 9.28125 7.765625 9.28125 18.015625 \nL 9.28125 47.703125 \nL 2.6875 47.703125 \nL 2.6875 54.6875 \nL 9.28125 54.6875 \nL 9.28125 70.21875 \nz\n\" id=\"DejaVuSans-116\"/>\n       <path d=\"M 54.890625 33.015625 \nL 54.890625 0 \nL 45.90625 0 \nL 45.90625 32.71875 \nQ 45.90625 40.484375 42.875 44.328125 \nQ 39.84375 48.1875 33.796875 48.1875 \nQ 26.515625 48.1875 22.3125 43.546875 \nQ 18.109375 38.921875 18.109375 30.90625 \nL 18.109375 0 \nL 9.078125 0 \nL 9.078125 75.984375 \nL 18.109375 75.984375 \nL 18.109375 46.1875 \nQ 21.34375 51.125 25.703125 53.5625 \nQ 30.078125 56 35.796875 56 \nQ 45.21875 56 50.046875 50.171875 \nQ 54.890625 44.34375 54.890625 33.015625 \nz\n\" id=\"DejaVuSans-104\"/>\n       <path id=\"DejaVuSans-32\"/>\n       <path d=\"M 30.609375 48.390625 \nQ 23.390625 48.390625 19.1875 42.75 \nQ 14.984375 37.109375 14.984375 27.296875 \nQ 14.984375 17.484375 19.15625 11.84375 \nQ 23.34375 6.203125 30.609375 6.203125 \nQ 37.796875 6.203125 41.984375 11.859375 \nQ 46.1875 17.53125 46.1875 27.296875 \nQ 46.1875 37.015625 41.984375 42.703125 \nQ 37.796875 48.390625 30.609375 48.390625 \nz\nM 30.609375 56 \nQ 42.328125 56 49.015625 48.375 \nQ 55.71875 40.765625 55.71875 27.296875 \nQ 55.71875 13.875 49.015625 6.21875 \nQ 42.328125 -1.421875 30.609375 -1.421875 \nQ 18.84375 -1.421875 12.171875 6.21875 \nQ 5.515625 13.875 5.515625 27.296875 \nQ 5.515625 40.765625 12.171875 48.375 \nQ 18.84375 56 30.609375 56 \nz\n\" id=\"DejaVuSans-111\"/>\n       <path d=\"M 37.109375 75.984375 \nL 37.109375 68.5 \nL 28.515625 68.5 \nQ 23.6875 68.5 21.796875 66.546875 \nQ 19.921875 64.59375 19.921875 59.515625 \nL 19.921875 54.6875 \nL 34.71875 54.6875 \nL 34.71875 47.703125 \nL 19.921875 47.703125 \nL 19.921875 0 \nL 10.890625 0 \nL 10.890625 47.703125 \nL 2.296875 47.703125 \nL 2.296875 54.6875 \nL 10.890625 54.6875 \nL 10.890625 58.5 \nQ 10.890625 67.625 15.140625 71.796875 \nQ 19.390625 75.984375 28.609375 75.984375 \nz\n\" id=\"DejaVuSans-102\"/>\n       <path d=\"M 44.28125 53.078125 \nL 44.28125 44.578125 \nQ 40.484375 46.53125 36.375 47.5 \nQ 32.28125 48.484375 27.875 48.484375 \nQ 21.1875 48.484375 17.84375 46.4375 \nQ 14.5 44.390625 14.5 40.28125 \nQ 14.5 37.15625 16.890625 35.375 \nQ 19.28125 33.59375 26.515625 31.984375 \nL 29.59375 31.296875 \nQ 39.15625 29.25 43.1875 25.515625 \nQ 47.21875 21.78125 47.21875 15.09375 \nQ 47.21875 7.46875 41.1875 3.015625 \nQ 35.15625 -1.421875 24.609375 -1.421875 \nQ 20.21875 -1.421875 15.453125 -0.5625 \nQ 10.6875 0.296875 5.421875 2 \nL 5.421875 11.28125 \nQ 10.40625 8.6875 15.234375 7.390625 \nQ 20.0625 6.109375 24.8125 6.109375 \nQ 31.15625 6.109375 34.5625 8.28125 \nQ 37.984375 10.453125 37.984375 14.40625 \nQ 37.984375 18.0625 35.515625 20.015625 \nQ 33.0625 21.96875 24.703125 23.78125 \nL 21.578125 24.515625 \nQ 13.234375 26.265625 9.515625 29.90625 \nQ 5.8125 33.546875 5.8125 39.890625 \nQ 5.8125 47.609375 11.28125 51.796875 \nQ 16.75 56 26.8125 56 \nQ 31.78125 56 36.171875 55.265625 \nQ 40.578125 54.546875 44.28125 53.078125 \nz\n\" id=\"DejaVuSans-115\"/>\n       <path d=\"M 34.28125 27.484375 \nQ 23.390625 27.484375 19.1875 25 \nQ 14.984375 22.515625 14.984375 16.5 \nQ 14.984375 11.71875 18.140625 8.90625 \nQ 21.296875 6.109375 26.703125 6.109375 \nQ 34.1875 6.109375 38.703125 11.40625 \nQ 43.21875 16.703125 43.21875 25.484375 \nL 43.21875 27.484375 \nz\nM 52.203125 31.203125 \nL 52.203125 0 \nL 43.21875 0 \nL 43.21875 8.296875 \nQ 40.140625 3.328125 35.546875 0.953125 \nQ 30.953125 -1.421875 24.3125 -1.421875 \nQ 15.921875 -1.421875 10.953125 3.296875 \nQ 6 8.015625 6 15.921875 \nQ 6 25.140625 12.171875 29.828125 \nQ 18.359375 34.515625 30.609375 34.515625 \nL 43.21875 34.515625 \nL 43.21875 35.40625 \nQ 43.21875 41.609375 39.140625 45 \nQ 35.0625 48.390625 27.6875 48.390625 \nQ 23 48.390625 18.546875 47.265625 \nQ 14.109375 46.140625 10.015625 43.890625 \nL 10.015625 52.203125 \nQ 14.9375 54.109375 19.578125 55.046875 \nQ 24.21875 56 28.609375 56 \nQ 40.484375 56 46.34375 49.84375 \nQ 52.203125 43.703125 52.203125 31.203125 \nz\n\" id=\"DejaVuSans-97\"/>\n       <path d=\"M 52 44.1875 \nQ 55.375 50.25 60.0625 53.125 \nQ 64.75 56 71.09375 56 \nQ 79.640625 56 84.28125 50.015625 \nQ 88.921875 44.046875 88.921875 33.015625 \nL 88.921875 0 \nL 79.890625 0 \nL 79.890625 32.71875 \nQ 79.890625 40.578125 77.09375 44.375 \nQ 74.3125 48.1875 68.609375 48.1875 \nQ 61.625 48.1875 57.5625 43.546875 \nQ 53.515625 38.921875 53.515625 30.90625 \nL 53.515625 0 \nL 44.484375 0 \nL 44.484375 32.71875 \nQ 44.484375 40.625 41.703125 44.40625 \nQ 38.921875 48.1875 33.109375 48.1875 \nQ 26.21875 48.1875 22.15625 43.53125 \nQ 18.109375 38.875 18.109375 30.90625 \nL 18.109375 0 \nL 9.078125 0 \nL 9.078125 54.6875 \nL 18.109375 54.6875 \nL 18.109375 46.1875 \nQ 21.1875 51.21875 25.484375 53.609375 \nQ 29.78125 56 35.6875 56 \nQ 41.65625 56 45.828125 52.96875 \nQ 50 49.953125 52 44.1875 \nz\n\" id=\"DejaVuSans-109\"/>\n       <path d=\"M 18.109375 8.203125 \nL 18.109375 -20.796875 \nL 9.078125 -20.796875 \nL 9.078125 54.6875 \nL 18.109375 54.6875 \nL 18.109375 46.390625 \nQ 20.953125 51.265625 25.265625 53.625 \nQ 29.59375 56 35.59375 56 \nQ 45.5625 56 51.78125 48.09375 \nQ 58.015625 40.1875 58.015625 27.296875 \nQ 58.015625 14.40625 51.78125 6.484375 \nQ 45.5625 -1.421875 35.59375 -1.421875 \nQ 29.59375 -1.421875 25.265625 0.953125 \nQ 20.953125 3.328125 18.109375 8.203125 \nz\nM 48.6875 27.296875 \nQ 48.6875 37.203125 44.609375 42.84375 \nQ 40.53125 48.484375 33.40625 48.484375 \nQ 26.265625 48.484375 22.1875 42.84375 \nQ 18.109375 37.203125 18.109375 27.296875 \nQ 18.109375 17.390625 22.1875 11.75 \nQ 26.265625 6.109375 33.40625 6.109375 \nQ 40.53125 6.109375 44.609375 11.75 \nQ 48.6875 17.390625 48.6875 27.296875 \nz\n\" id=\"DejaVuSans-112\"/>\n      </defs>\n      <use xlink:href=\"#DejaVuSans-108\"/>\n      <use x=\"27.783203\" xlink:href=\"#DejaVuSans-101\"/>\n      <use x=\"89.306641\" xlink:href=\"#DejaVuSans-110\"/>\n      <use x=\"152.685547\" xlink:href=\"#DejaVuSans-103\"/>\n      <use x=\"216.162109\" xlink:href=\"#DejaVuSans-116\"/>\n      <use x=\"255.371094\" xlink:href=\"#DejaVuSans-104\"/>\n      <use x=\"318.75\" xlink:href=\"#DejaVuSans-32\"/>\n      <use x=\"350.537109\" xlink:href=\"#DejaVuSans-111\"/>\n      <use x=\"411.71875\" xlink:href=\"#DejaVuSans-102\"/>\n      <use x=\"446.923828\" xlink:href=\"#DejaVuSans-32\"/>\n      <use x=\"478.710938\" xlink:href=\"#DejaVuSans-115\"/>\n      <use x=\"530.810547\" xlink:href=\"#DejaVuSans-97\"/>\n      <use x=\"592.089844\" xlink:href=\"#DejaVuSans-109\"/>\n      <use x=\"689.501953\" xlink:href=\"#DejaVuSans-112\"/>\n      <use x=\"752.978516\" xlink:href=\"#DejaVuSans-108\"/>\n      <use x=\"780.761719\" xlink:href=\"#DejaVuSans-101\"/>\n      <use x=\"842.285156\" xlink:href=\"#DejaVuSans-115\"/>\n     </g>\n    </g>\n   </g>\n   <g id=\"matplotlib.axis_2\">\n    <g id=\"ytick_1\">\n     <g id=\"line2d_8\">\n      <defs>\n       <path d=\"M 0 0 \nL -3.5 0 \n\" id=\"m3783dcbdcb\" style=\"stroke:#000000;stroke-width:0.8;\"/>\n      </defs>\n      <g>\n       <use style=\"stroke:#000000;stroke-width:0.8;\" x=\"59.690625\" xlink:href=\"#m3783dcbdcb\" y=\"239.758125\"/>\n      </g>\n     </g>\n     <g id=\"text_9\">\n      <!-- 0 -->\n      <g transform=\"translate(46.328125 243.557344)scale(0.1 -0.1)\">\n       <use xlink:href=\"#DejaVuSans-48\"/>\n      </g>\n     </g>\n    </g>\n    <g id=\"ytick_2\">\n     <g id=\"line2d_9\">\n      <g>\n       <use style=\"stroke:#000000;stroke-width:0.8;\" x=\"59.690625\" xlink:href=\"#m3783dcbdcb\" y=\"214.292592\"/>\n      </g>\n     </g>\n     <g id=\"text_10\">\n      <!-- 2500 -->\n      <g transform=\"translate(27.240625 218.091811)scale(0.1 -0.1)\">\n       <use xlink:href=\"#DejaVuSans-50\"/>\n       <use x=\"63.623047\" xlink:href=\"#DejaVuSans-53\"/>\n       <use x=\"127.246094\" xlink:href=\"#DejaVuSans-48\"/>\n       <use x=\"190.869141\" xlink:href=\"#DejaVuSans-48\"/>\n      </g>\n     </g>\n    </g>\n    <g id=\"ytick_3\">\n     <g id=\"line2d_10\">\n      <g>\n       <use style=\"stroke:#000000;stroke-width:0.8;\" x=\"59.690625\" xlink:href=\"#m3783dcbdcb\" y=\"188.827059\"/>\n      </g>\n     </g>\n     <g id=\"text_11\">\n      <!-- 5000 -->\n      <g transform=\"translate(27.240625 192.626278)scale(0.1 -0.1)\">\n       <use xlink:href=\"#DejaVuSans-53\"/>\n       <use x=\"63.623047\" xlink:href=\"#DejaVuSans-48\"/>\n       <use x=\"127.246094\" xlink:href=\"#DejaVuSans-48\"/>\n       <use x=\"190.869141\" xlink:href=\"#DejaVuSans-48\"/>\n      </g>\n     </g>\n    </g>\n    <g id=\"ytick_4\">\n     <g id=\"line2d_11\">\n      <g>\n       <use style=\"stroke:#000000;stroke-width:0.8;\" x=\"59.690625\" xlink:href=\"#m3783dcbdcb\" y=\"163.361526\"/>\n      </g>\n     </g>\n     <g id=\"text_12\">\n      <!-- 7500 -->\n      <g transform=\"translate(27.240625 167.160745)scale(0.1 -0.1)\">\n       <defs>\n        <path d=\"M 8.203125 72.90625 \nL 55.078125 72.90625 \nL 55.078125 68.703125 \nL 28.609375 0 \nL 18.3125 0 \nL 43.21875 64.59375 \nL 8.203125 64.59375 \nz\n\" id=\"DejaVuSans-55\"/>\n       </defs>\n       <use xlink:href=\"#DejaVuSans-55\"/>\n       <use x=\"63.623047\" xlink:href=\"#DejaVuSans-53\"/>\n       <use x=\"127.246094\" xlink:href=\"#DejaVuSans-48\"/>\n       <use x=\"190.869141\" xlink:href=\"#DejaVuSans-48\"/>\n      </g>\n     </g>\n    </g>\n    <g id=\"ytick_5\">\n     <g id=\"line2d_12\">\n      <g>\n       <use style=\"stroke:#000000;stroke-width:0.8;\" x=\"59.690625\" xlink:href=\"#m3783dcbdcb\" y=\"137.895993\"/>\n      </g>\n     </g>\n     <g id=\"text_13\">\n      <!-- 10000 -->\n      <g transform=\"translate(20.878125 141.695212)scale(0.1 -0.1)\">\n       <use xlink:href=\"#DejaVuSans-49\"/>\n       <use x=\"63.623047\" xlink:href=\"#DejaVuSans-48\"/>\n       <use x=\"127.246094\" xlink:href=\"#DejaVuSans-48\"/>\n       <use x=\"190.869141\" xlink:href=\"#DejaVuSans-48\"/>\n       <use x=\"254.492188\" xlink:href=\"#DejaVuSans-48\"/>\n      </g>\n     </g>\n    </g>\n    <g id=\"ytick_6\">\n     <g id=\"line2d_13\">\n      <g>\n       <use style=\"stroke:#000000;stroke-width:0.8;\" x=\"59.690625\" xlink:href=\"#m3783dcbdcb\" y=\"112.43046\"/>\n      </g>\n     </g>\n     <g id=\"text_14\">\n      <!-- 12500 -->\n      <g transform=\"translate(20.878125 116.229679)scale(0.1 -0.1)\">\n       <use xlink:href=\"#DejaVuSans-49\"/>\n       <use x=\"63.623047\" xlink:href=\"#DejaVuSans-50\"/>\n       <use x=\"127.246094\" xlink:href=\"#DejaVuSans-53\"/>\n       <use x=\"190.869141\" xlink:href=\"#DejaVuSans-48\"/>\n       <use x=\"254.492188\" xlink:href=\"#DejaVuSans-48\"/>\n      </g>\n     </g>\n    </g>\n    <g id=\"ytick_7\">\n     <g id=\"line2d_14\">\n      <g>\n       <use style=\"stroke:#000000;stroke-width:0.8;\" x=\"59.690625\" xlink:href=\"#m3783dcbdcb\" y=\"86.964927\"/>\n      </g>\n     </g>\n     <g id=\"text_15\">\n      <!-- 15000 -->\n      <g transform=\"translate(20.878125 90.764146)scale(0.1 -0.1)\">\n       <use xlink:href=\"#DejaVuSans-49\"/>\n       <use x=\"63.623047\" xlink:href=\"#DejaVuSans-53\"/>\n       <use x=\"127.246094\" xlink:href=\"#DejaVuSans-48\"/>\n       <use x=\"190.869141\" xlink:href=\"#DejaVuSans-48\"/>\n       <use x=\"254.492188\" xlink:href=\"#DejaVuSans-48\"/>\n      </g>\n     </g>\n    </g>\n    <g id=\"ytick_8\">\n     <g id=\"line2d_15\">\n      <g>\n       <use style=\"stroke:#000000;stroke-width:0.8;\" x=\"59.690625\" xlink:href=\"#m3783dcbdcb\" y=\"61.499394\"/>\n      </g>\n     </g>\n     <g id=\"text_16\">\n      <!-- 17500 -->\n      <g transform=\"translate(20.878125 65.298613)scale(0.1 -0.1)\">\n       <use xlink:href=\"#DejaVuSans-49\"/>\n       <use x=\"63.623047\" xlink:href=\"#DejaVuSans-55\"/>\n       <use x=\"127.246094\" xlink:href=\"#DejaVuSans-53\"/>\n       <use x=\"190.869141\" xlink:href=\"#DejaVuSans-48\"/>\n       <use x=\"254.492188\" xlink:href=\"#DejaVuSans-48\"/>\n      </g>\n     </g>\n    </g>\n    <g id=\"ytick_9\">\n     <g id=\"line2d_16\">\n      <g>\n       <use style=\"stroke:#000000;stroke-width:0.8;\" x=\"59.690625\" xlink:href=\"#m3783dcbdcb\" y=\"36.033861\"/>\n      </g>\n     </g>\n     <g id=\"text_17\">\n      <!-- 20000 -->\n      <g transform=\"translate(20.878125 39.83308)scale(0.1 -0.1)\">\n       <use xlink:href=\"#DejaVuSans-50\"/>\n       <use x=\"63.623047\" xlink:href=\"#DejaVuSans-48\"/>\n       <use x=\"127.246094\" xlink:href=\"#DejaVuSans-48\"/>\n       <use x=\"190.869141\" xlink:href=\"#DejaVuSans-48\"/>\n       <use x=\"254.492188\" xlink:href=\"#DejaVuSans-48\"/>\n      </g>\n     </g>\n    </g>\n    <g id=\"text_18\">\n     <!-- number of samples -->\n     <g transform=\"translate(14.798438 179.333437)rotate(-90)scale(0.1 -0.1)\">\n      <defs>\n       <path d=\"M 8.5 21.578125 \nL 8.5 54.6875 \nL 17.484375 54.6875 \nL 17.484375 21.921875 \nQ 17.484375 14.15625 20.5 10.265625 \nQ 23.53125 6.390625 29.59375 6.390625 \nQ 36.859375 6.390625 41.078125 11.03125 \nQ 45.3125 15.671875 45.3125 23.6875 \nL 45.3125 54.6875 \nL 54.296875 54.6875 \nL 54.296875 0 \nL 45.3125 0 \nL 45.3125 8.40625 \nQ 42.046875 3.421875 37.71875 1 \nQ 33.40625 -1.421875 27.6875 -1.421875 \nQ 18.265625 -1.421875 13.375 4.4375 \nQ 8.5 10.296875 8.5 21.578125 \nz\nM 31.109375 56 \nz\n\" id=\"DejaVuSans-117\"/>\n       <path d=\"M 48.6875 27.296875 \nQ 48.6875 37.203125 44.609375 42.84375 \nQ 40.53125 48.484375 33.40625 48.484375 \nQ 26.265625 48.484375 22.1875 42.84375 \nQ 18.109375 37.203125 18.109375 27.296875 \nQ 18.109375 17.390625 22.1875 11.75 \nQ 26.265625 6.109375 33.40625 6.109375 \nQ 40.53125 6.109375 44.609375 11.75 \nQ 48.6875 17.390625 48.6875 27.296875 \nz\nM 18.109375 46.390625 \nQ 20.953125 51.265625 25.265625 53.625 \nQ 29.59375 56 35.59375 56 \nQ 45.5625 56 51.78125 48.09375 \nQ 58.015625 40.1875 58.015625 27.296875 \nQ 58.015625 14.40625 51.78125 6.484375 \nQ 45.5625 -1.421875 35.59375 -1.421875 \nQ 29.59375 -1.421875 25.265625 0.953125 \nQ 20.953125 3.328125 18.109375 8.203125 \nL 18.109375 0 \nL 9.078125 0 \nL 9.078125 75.984375 \nL 18.109375 75.984375 \nz\n\" id=\"DejaVuSans-98\"/>\n       <path d=\"M 41.109375 46.296875 \nQ 39.59375 47.171875 37.8125 47.578125 \nQ 36.03125 48 33.890625 48 \nQ 26.265625 48 22.1875 43.046875 \nQ 18.109375 38.09375 18.109375 28.8125 \nL 18.109375 0 \nL 9.078125 0 \nL 9.078125 54.6875 \nL 18.109375 54.6875 \nL 18.109375 46.1875 \nQ 20.953125 51.171875 25.484375 53.578125 \nQ 30.03125 56 36.53125 56 \nQ 37.453125 56 38.578125 55.875 \nQ 39.703125 55.765625 41.0625 55.515625 \nz\n\" id=\"DejaVuSans-114\"/>\n      </defs>\n      <use xlink:href=\"#DejaVuSans-110\"/>\n      <use x=\"63.378906\" xlink:href=\"#DejaVuSans-117\"/>\n      <use x=\"126.757812\" xlink:href=\"#DejaVuSans-109\"/>\n      <use x=\"224.169922\" xlink:href=\"#DejaVuSans-98\"/>\n      <use x=\"287.646484\" xlink:href=\"#DejaVuSans-101\"/>\n      <use x=\"349.169922\" xlink:href=\"#DejaVuSans-114\"/>\n      <use x=\"390.283203\" xlink:href=\"#DejaVuSans-32\"/>\n      <use x=\"422.070312\" xlink:href=\"#DejaVuSans-111\"/>\n      <use x=\"483.251953\" xlink:href=\"#DejaVuSans-102\"/>\n      <use x=\"518.457031\" xlink:href=\"#DejaVuSans-32\"/>\n      <use x=\"550.244141\" xlink:href=\"#DejaVuSans-115\"/>\n      <use x=\"602.34375\" xlink:href=\"#DejaVuSans-97\"/>\n      <use x=\"663.623047\" xlink:href=\"#DejaVuSans-109\"/>\n      <use x=\"761.035156\" xlink:href=\"#DejaVuSans-112\"/>\n      <use x=\"824.511719\" xlink:href=\"#DejaVuSans-108\"/>\n      <use x=\"852.294922\" xlink:href=\"#DejaVuSans-101\"/>\n      <use x=\"913.818359\" xlink:href=\"#DejaVuSans-115\"/>\n     </g>\n    </g>\n   </g>\n   <g id=\"patch_43\">\n    <path d=\"M 59.690625 239.758125 \nL 59.690625 22.318125 \n\" style=\"fill:none;stroke:#000000;stroke-linecap:square;stroke-linejoin:miter;stroke-width:0.8;\"/>\n   </g>\n   <g id=\"patch_44\">\n    <path d=\"M 394.490625 239.758125 \nL 394.490625 22.318125 \n\" style=\"fill:none;stroke:#000000;stroke-linecap:square;stroke-linejoin:miter;stroke-width:0.8;\"/>\n   </g>\n   <g id=\"patch_45\">\n    <path d=\"M 59.690625 239.758125 \nL 394.490625 239.758125 \n\" style=\"fill:none;stroke:#000000;stroke-linecap:square;stroke-linejoin:miter;stroke-width:0.8;\"/>\n   </g>\n   <g id=\"patch_46\">\n    <path d=\"M 59.690625 22.318125 \nL 394.490625 22.318125 \n\" style=\"fill:none;stroke:#000000;stroke-linecap:square;stroke-linejoin:miter;stroke-width:0.8;\"/>\n   </g>\n   <g id=\"text_19\">\n    <!-- text -->\n    <g transform=\"translate(215.248125 16.318125)scale(0.12 -0.12)\">\n     <defs>\n      <path d=\"M 54.890625 54.6875 \nL 35.109375 28.078125 \nL 55.90625 0 \nL 45.3125 0 \nL 29.390625 21.484375 \nL 13.484375 0 \nL 2.875 0 \nL 24.125 28.609375 \nL 4.6875 54.6875 \nL 15.28125 54.6875 \nL 29.78125 35.203125 \nL 44.28125 54.6875 \nz\n\" id=\"DejaVuSans-120\"/>\n     </defs>\n     <use xlink:href=\"#DejaVuSans-116\"/>\n     <use x=\"39.208984\" xlink:href=\"#DejaVuSans-101\"/>\n     <use x=\"98.982422\" xlink:href=\"#DejaVuSans-120\"/>\n     <use x=\"158.162109\" xlink:href=\"#DejaVuSans-116\"/>\n    </g>\n   </g>\n  </g>\n </g>\n <defs>\n  <clipPath id=\"pcb06c0f56a\">\n   <rect height=\"217.44\" width=\"334.8\" x=\"59.690625\" y=\"22.318125\"/>\n  </clipPath>\n </defs>\n</svg>\n",
      "image/png": "[encoded data removed]"
     },
     "metadata": {
      "needs_background": "light"
     }
    }
   ],
   "source": [
    "# 'text'와 'headlines'의 최소, 최대, 평균 길이를 구하고, 길이 분포를 시각화\n",
    "\n",
    "# 길이 분포 출력\n",
    "import matplotlib.pyplot as plt\n",
    "\n",
    "text_len = [len(s.split()) for s in data['text']]\n",
    "headlines_len = [len(s.split()) for s in data['headlines']]\n",
    "\n",
    "print('headlines의 최소 길이 : {}'.format(np.min(headlines_len)))\n",
    "print('headlines의 최대 길이 : {}'.format(np.max(headlines_len)))\n",
    "print('headlines의 평균 길이 : {}'.format(np.mean(headlines_len)))\n",
    "print('text의 최소 길이 : {}'.format(np.min(text_len)))\n",
    "print('text의 최대 길이 : {}'.format(np.max(text_len)))\n",
    "print('text의 평균 길이 : {}'.format(np.mean(text_len)))\n",
    "\n",
    "plt.subplot(1,2,1)\n",
    "plt.boxplot(headlines_len)\n",
    "plt.title('headlines')\n",
    "plt.subplot(1,2,2)\n",
    "plt.boxplot(text_len)\n",
    "plt.title('text')\n",
    "plt.tight_layout()\n",
    "plt.show()\n",
    "\n",
    "plt.title('headlines')\n",
    "plt.hist(headlines_len, bins = 40)\n",
    "plt.xlabel('length of samples')\n",
    "plt.ylabel('number of samples')\n",
    "plt.show()\n",
    "\n",
    "plt.title('text')\n",
    "plt.hist(text_len, bins = 40)\n",
    "plt.xlabel('length of samples')\n",
    "plt.ylabel('number of samples')\n",
    "plt.show()"
   ]
  },
  {
   "source": [
    "<br>\n",
    "\n",
    "headlines의 최소 길이 : 1 <br>\n",
    "headlines의 최대 길이 : 16 <br>\n",
    "headlines의 평균 길이 : 9 <br>\n",
    "text의 최소 길이 : 1 <br>\n",
    "text의 최대 길이 : 60 <br>\n",
    "text의 평균 길이 : 35 <br><br>\n",
    "\n",
    "위 결과를 바탕으로 'text' 와 'headlines' 각각 학습(train)에 사용할 샘플의 최대 길이 결정\n",
    "\n",
    "<br>"
   ],
   "cell_type": "markdown",
   "metadata": {}
  },
  {
   "cell_type": "code",
   "execution_count": 137,
   "metadata": {},
   "outputs": [],
   "source": [
    "# 'text' 최대길이 45, 'headlines' 최대길이 13 로 임의설정\n",
    "\n",
    "text_max_len = 45\n",
    "headlines_max_len = 13\n",
    "\n",
    "text_min_len = 25\n",
    "headlines_min_len = 5"
   ]
  },
  {
   "source": [
    "<br>\n",
    "\n",
    "### 최대길이에서 제외되는 데이터 샘플 통계적으로 확인 <br><br>\n",
    "\n",
    "각각 45와 13으로 정했는데 이 길이를 선택했을 때, 얼마나 많은 샘플들을 자르지 않고 포함할 수 있는지 __통계__로 확인하는 편이 객관적으로 길이를 결정하는데 도움이 됩니다. <br><br>\n",
    "\n",
    "훈련 데이터와 샘플의 길이를 입력하면, 데이터의 몇 %가 해당하는지 계산하는 함수를 만들어서 좀 더 정확하게 판단해봅시다. <br>\n",
    "아래와 같은 함수를 통해 text와 headlines에 적용해 우리가 결정한 임의의 길이가 몇%의 샘플까지 포함하는지 볼 수 있습니다.\n",
    "\n",
    "<br>"
   ],
   "cell_type": "markdown",
   "metadata": {}
  },
  {
   "cell_type": "code",
   "execution_count": 138,
   "metadata": {},
   "outputs": [
    {
     "output_type": "stream",
     "name": "stdout",
     "text": [
      "전체 샘플 중 길이가 25 이상 45 이하인 샘플의 비율: 0.994408296055307\n전체 샘플 중 길이가 5 이상 13 이하인 샘플의 비율: 0.9979971533143555\n"
     ]
    }
   ],
   "source": [
    "# 이 길이를 선택했을 때, 얼마나 많은 샘플들을 자르지 않고 포함할 수 있는지 통계로 확인\n",
    "\n",
    "# 몇 퍼센트의 샘플까지 포함하는지 확인하는 함수 생성\n",
    "def below_threshold_len(min_len, max_len, nested_list):\n",
    "  cnt = 0\n",
    "  for s in nested_list:\n",
    "    if(min_len <= len(s.split()) <= max_len):\n",
    "        cnt = cnt + 1\n",
    "  print('전체 샘플 중 길이가 %s 이상 %s 이하인 샘플의 비율: %s'%(min_len, max_len, (cnt / len(nested_list))))\n",
    "\n",
    "# 'text'와 'headlines'에 대해 확인\n",
    "below_threshold_len(text_min_len, text_max_len, data['text'])\n",
    "below_threshold_len(headlines_min_len, headlines_max_len,  data['headlines'])"
   ]
  },
  {
   "cell_type": "code",
   "execution_count": 139,
   "metadata": {},
   "outputs": [
    {
     "output_type": "stream",
     "name": "stdout",
     "text": [
      "전체 샘플수 : 97863\n"
     ]
    }
   ],
   "source": [
    "# 정해진 길이보다 길면 제외하는 방법으로 데이터를 정제\n",
    "\n",
    "data = data[data['text'].apply(lambda x: len(x.split()) <= text_max_len)]\n",
    "data = data[data['headlines'].apply(lambda x: len(x.split()) <= headlines_max_len)]\n",
    "\n",
    "print('전체 샘플수 :',(len(data)))"
   ]
  },
  {
   "source": [
    "<br>\n",
    "\n",
    "## 시작 토큰과 종료 토큰 추가\n",
    "\n",
    "디코더는 시작 토큰을 입력받아 문장을 생성하기 시작하고, 종료 토큰을 예측한 순간에 문장 생성을 멈추게 됩니다. <br><br>\n",
    "\n",
    "seq2seq 훈련을 위해서는 디코더의 입력과 레이블에 시작 토큰과 종료 토큰을 추가해야 합니다. <br><br>\n",
    "\n",
    "시작 토큰은 'sostoken', 종료 토큰은 'eostoken'이라 임의로 명명하고 앞, 뒤로 추가 <br>\n",
    "디코더의 입력에 해당하면서 시작 토큰이 맨 앞에 있는 문장의 이름을 decoder_input, <br>\n",
    "디코더의 출력 또는 레이블에 해당되면서 종료 토큰이 맨 뒤에 붙는 문장의 이름을 decoder_target <br>\n",
    "이라고 이름을 정했어요. 두 개의 문장 모두 Summary 열로부터 만들거에요.\n",
    "\n",
    "<br>"
   ],
   "cell_type": "markdown",
   "metadata": {}
  },
  {
   "cell_type": "code",
   "execution_count": 140,
   "metadata": {},
   "outputs": [
    {
     "output_type": "execute_result",
     "data": {
      "text/plain": [
       "                                           headlines  \\\n",
       "0  upgrad learner switches to career in ml al wit...   \n",
       "1  delhi techie wins free food from swiggy for on...   \n",
       "2  new zealand end rohit sharma led india match w...   \n",
       "3  aegon life iterm insurance plan helps customer...   \n",
       "4  have known hirani for yrs what if metoo claims...   \n",
       "\n",
       "                                                text  \\\n",
       "0  saurav kant alumnus upgrad iiit pg program mac...   \n",
       "1  kunal shah credit card bill payment platform c...   \n",
       "2  new zealand defeated india wickets fourth odi ...   \n",
       "3  aegon life iterm insurance plan customers enjo...   \n",
       "4  speaking sexual harassment allegations rajkuma...   \n",
       "\n",
       "                                       decoder_input  \\\n",
       "0  sostoken upgrad learner switches to career in ...   \n",
       "1  sostoken delhi techie wins free food from swig...   \n",
       "2  sostoken new zealand end rohit sharma led indi...   \n",
       "3  sostoken aegon life iterm insurance plan helps...   \n",
       "4  sostoken have known hirani for yrs what if met...   \n",
       "\n",
       "                                      decoder_target  \n",
       "0  upgrad learner switches to career in ml al wit...  \n",
       "1  delhi techie wins free food from swiggy for on...  \n",
       "2  new zealand end rohit sharma led india match w...  \n",
       "3  aegon life iterm insurance plan helps customer...  \n",
       "4  have known hirani for yrs what if metoo claims...  "
      ],
      "text/html": "<div>\n<style scoped>\n    .dataframe tbody tr th:only-of-type {\n        vertical-align: middle;\n    }\n\n    .dataframe tbody tr th {\n        vertical-align: top;\n    }\n\n    .dataframe thead th {\n        text-align: right;\n    }\n</style>\n<table border=\"1\" class=\"dataframe\">\n  <thead>\n    <tr style=\"text-align: right;\">\n      <th></th>\n      <th>headlines</th>\n      <th>text</th>\n      <th>decoder_input</th>\n      <th>decoder_target</th>\n    </tr>\n  </thead>\n  <tbody>\n    <tr>\n      <th>0</th>\n      <td>upgrad learner switches to career in ml al wit...</td>\n      <td>saurav kant alumnus upgrad iiit pg program mac...</td>\n      <td>sostoken upgrad learner switches to career in ...</td>\n      <td>upgrad learner switches to career in ml al wit...</td>\n    </tr>\n    <tr>\n      <th>1</th>\n      <td>delhi techie wins free food from swiggy for on...</td>\n      <td>kunal shah credit card bill payment platform c...</td>\n      <td>sostoken delhi techie wins free food from swig...</td>\n      <td>delhi techie wins free food from swiggy for on...</td>\n    </tr>\n    <tr>\n      <th>2</th>\n      <td>new zealand end rohit sharma led india match w...</td>\n      <td>new zealand defeated india wickets fourth odi ...</td>\n      <td>sostoken new zealand end rohit sharma led indi...</td>\n      <td>new zealand end rohit sharma led india match w...</td>\n    </tr>\n    <tr>\n      <th>3</th>\n      <td>aegon life iterm insurance plan helps customer...</td>\n      <td>aegon life iterm insurance plan customers enjo...</td>\n      <td>sostoken aegon life iterm insurance plan helps...</td>\n      <td>aegon life iterm insurance plan helps customer...</td>\n    </tr>\n    <tr>\n      <th>4</th>\n      <td>have known hirani for yrs what if metoo claims...</td>\n      <td>speaking sexual harassment allegations rajkuma...</td>\n      <td>sostoken have known hirani for yrs what if met...</td>\n      <td>have known hirani for yrs what if metoo claims...</td>\n    </tr>\n  </tbody>\n</table>\n</div>"
     },
     "metadata": {},
     "execution_count": 140
    }
   ],
   "source": [
    "# 요약 데이터에는 시작 토큰과 종료 토큰을 추가\n",
    "\n",
    "data['decoder_input'] = data['headlines'].apply(lambda x : 'sostoken '+ x)\n",
    "data['decoder_target'] = data['headlines'].apply(lambda x : x + ' eostoken')\n",
    "data.head()"
   ]
  },
  {
   "cell_type": "code",
   "execution_count": 141,
   "metadata": {},
   "outputs": [],
   "source": [
    "# 디코더의 입력과 레이블을 각각 Numpy 타입으로 저장\n",
    "\n",
    "# 인코더의 입력\n",
    "encoder_input = np.array(data['text'])\n",
    "# 디코더의 입력\n",
    "decoder_input = np.array(data['decoder_input'])\n",
    "# 디코더의 레이블\n",
    "decoder_target = np.array(data['decoder_target'])"
   ]
  },
  {
   "source": [
    "<br>\n",
    "\n",
    "### Train / Test dataset 분리\n",
    "\n",
    "여기에서는 scikit-learn 같은 패키지를 사용하지 않고, <br>\n",
    "직접 코딩을 통해 학습데이터셋과 테스트데이터셋을 분리해 봅시다.\n",
    "\n",
    "<br>"
   ],
   "cell_type": "markdown",
   "metadata": {}
  },
  {
   "cell_type": "code",
   "execution_count": 155,
   "metadata": {},
   "outputs": [
    {
     "output_type": "stream",
     "name": "stdout",
     "text": [
      "[41325 49346 83148 ...  2236  9651 94784]\n"
     ]
    }
   ],
   "source": [
    "# encoder_input과 크기와 형태가 같은 순서가 섞인 정수 시퀀스 생성\n",
    "\n",
    "indices = np.arange(encoder_input.shape[0])\n",
    "np.random.shuffle(indices)\n",
    "\n",
    "print(indices)"
   ]
  },
  {
   "cell_type": "code",
   "execution_count": 156,
   "metadata": {},
   "outputs": [],
   "source": [
    "# 이 정수 시퀀스를 이용해 다시 데이터의 샘플 순서를 정의해주면 잘 섞인 샘플이 생성됨\n",
    "\n",
    "encoder_input = encoder_input[indices]\n",
    "decoder_input = decoder_input[indices]\n",
    "decoder_target = decoder_target[indices]"
   ]
  },
  {
   "cell_type": "code",
   "execution_count": 157,
   "metadata": {},
   "outputs": [
    {
     "output_type": "stream",
     "name": "stdout",
     "text": [
      "테스트 데이터의 수 : 19572\n"
     ]
    }
   ],
   "source": [
    "# 잘 섞인 데이터를 8:2 비율로 훈련 데이터셋과 테스트 데이터셋으로 분리\n",
    "\n",
    "n_of_val = int(len(encoder_input)*0.2)\n",
    "print('테스트 데이터의 수 :',n_of_val)"
   ]
  },
  {
   "cell_type": "code",
   "execution_count": 177,
   "metadata": {},
   "outputs": [
    {
     "output_type": "stream",
     "name": "stdout",
     "text": [
      "훈련 데이터의 개수 : 78291\n훈련 레이블의 개수 : 78291\n테스트 데이터의 개수 : 19572\n테스트 레이블의 개수 : 19572\n"
     ]
    }
   ],
   "source": [
    "# 이렇게 정의한 테스트 데이터의 갯수를 이용해 전체 데이터를 양분\n",
    "# :표시의 위치에 주의\n",
    "\n",
    "encoder_input_train = encoder_input[:-n_of_val]\n",
    "decoder_input_train = decoder_input[:-n_of_val]\n",
    "decoder_target_train = decoder_target[:-n_of_val]\n",
    "\n",
    "encoder_input_test = encoder_input[-n_of_val:]\n",
    "decoder_input_test = decoder_input[-n_of_val:]\n",
    "decoder_target_test = decoder_target[-n_of_val:]\n",
    "\n",
    "print('훈련 데이터의 개수 :', len(encoder_input_train))\n",
    "print('훈련 레이블의 개수 :',len(decoder_input_train))\n",
    "print('테스트 데이터의 개수 :',len(encoder_input_test))\n",
    "print('테스트 레이블의 개수 :',len(decoder_input_test))"
   ]
  },
  {
   "source": [
    "<br>\n",
    "\n",
    "## 정수 인코딩 <br><br>\n",
    "\n",
    "\n",
    "### 단어 집합(vocaburary) 만들기 및 정수 인코딩 <br><br>\n",
    "\n",
    "__정수 인코딩__ <br>\n",
    "기계가 텍스트를 숫자로 처리할 수 있도록 훈련 데이터와 테스트 데이터의 단어들을 모두 정수로 변경. <br><br>\n",
    "\n",
    "__단어 사전__ <br>\n",
    "이를 위해 {단어:인덱스} 형태로 데이터를 매핑하는 \"__단어사전(vocaburary)__\" 생성 작업이 필요.\n",
    "\n",
    "<br>"
   ],
   "cell_type": "markdown",
   "metadata": {}
  },
  {
   "source": [
    "<br>\n",
    "\n",
    "#### 훈련 데이터에 대해서 단어 집합 생성\n",
    "\n",
    "우선, 원문에 해당되는 encoder_input_train에 대해서 단어 사전을 생성합니다. <br>\n",
    "Keras의 토크나이저를 사용하면, 입력된 훈련 데이터로부터 단어 사전을 만들 수 있습니다.\n",
    "\n",
    "<br>"
   ],
   "cell_type": "markdown",
   "metadata": {}
  },
  {
   "cell_type": "code",
   "execution_count": 178,
   "metadata": {},
   "outputs": [],
   "source": [
    "# Keras 의 tokenizer 사용하여 학습 데이터에 대한 단어 사전 생성\n",
    "# 생성된 단어 집합은 src_tokenizer.word_index에 저장\n",
    "\n",
    "# 토크나이저 정의\n",
    "src_tokenizer = Tokenizer()\n",
    "# 입력된 데이터로부터 단어 집합 생성\n",
    "src_tokenizer.fit_on_texts(encoder_input_train)"
   ]
  },
  {
   "source": [
    "<br>\n",
    "\n",
    "#### 빈도수 낮은 단어 제외\n",
    "\n",
    "모든 단어를 사용하는 것이 아니라, 빈도수가 낮은 단어들은 훈련 데이터에서 제외하고 진행 <br><br>\n",
    "\n",
    "src_tokenizer.word_counts.items()에는 단어와 각 단어의 등장 빈도수가 저장되어져 있는데, 이를 통해서 통계적인 정보 확인할 수 있습니다.\n",
    "\n",
    "<br>"
   ],
   "cell_type": "markdown",
   "metadata": {}
  },
  {
   "cell_type": "code",
   "execution_count": 179,
   "metadata": {},
   "outputs": [
    {
     "output_type": "execute_result",
     "data": {
      "text/plain": [
       "'\\nthreshold = 3\\ntotal_cnt = len(src_tokenizer.word_index) # 단어의 수\\nrare_cnt = 0 # 등장 빈도수가 threshold보다 작은 단어의 개수를 카운트\\ntotal_freq = 0 # 훈련 데이터의 전체 단어 빈도수 총 합\\nrare_freq = 0 # 등장 빈도수가 threshold보다 작은 단어의 등장 빈도수의 총 합\\n\\n# 단어와 빈도수의 쌍(pair)을 key와 value로 받는다.\\nfor key, value in src_tokenizer.word_counts.items():\\n    total_freq = total_freq + value\\n\\n    # 단어의 등장 빈도수가 threshold보다 작으면\\n    if(value < threshold):\\n        rare_cnt = rare_cnt + 1\\n        rare_freq = rare_freq + value\\n\\nprint(\\'단어 집합(vocabulary)의 크기 :\\',total_cnt)\\nprint(\\'등장 빈도가 %s번 이하인 희귀 단어의 수: %s\\'%(threshold - 1, rare_cnt))\\nprint(\\'단어 집합에서 희귀 단어를 제외시킬 경우의 단어 집합의 크기 %s\\'%(total_cnt - rare_cnt))\\nprint(\"단어 집합에서 희귀 단어의 비율:\", (rare_cnt / total_cnt)*100)\\nprint(\"전체 등장 빈도에서 희귀 단어 등장 빈도 비율:\", (rare_freq / total_freq)*100)\\n'"
      ]
     },
     "metadata": {},
     "execution_count": 179
    }
   ],
   "source": [
    "# 빈도수가 낮은 단어가 배제될 경우 요약문의 핵심정보를 담는 어휘가 빠질 수 있다고 생각하여 해당 코드는 주석처리하여 실행하지 않았습니다.\n",
    "\n",
    "# 등장 빈도수가 3회 미만인 단어들이 이 데이터에서 얼만큼의 비중을 차지하는지 확인\n",
    "# src_tokenizer.word_counts.items()로 단어사전에 대한 통계적 정보 확인\n",
    "\n",
    "\"\"\"\n",
    "threshold = 3\n",
    "total_cnt = len(src_tokenizer.word_index) # 단어의 수\n",
    "rare_cnt = 0 # 등장 빈도수가 threshold보다 작은 단어의 개수를 카운트\n",
    "total_freq = 0 # 훈련 데이터의 전체 단어 빈도수 총 합\n",
    "rare_freq = 0 # 등장 빈도수가 threshold보다 작은 단어의 등장 빈도수의 총 합\n",
    "\n",
    "# 단어와 빈도수의 쌍(pair)을 key와 value로 받는다.\n",
    "for key, value in src_tokenizer.word_counts.items():\n",
    "    total_freq = total_freq + value\n",
    "\n",
    "    # 단어의 등장 빈도수가 threshold보다 작으면\n",
    "    if(value < threshold):\n",
    "        rare_cnt = rare_cnt + 1\n",
    "        rare_freq = rare_freq + value\n",
    "\n",
    "print('단어 집합(vocabulary)의 크기 :',total_cnt)\n",
    "print('등장 빈도가 %s번 이하인 희귀 단어의 수: %s'%(threshold - 1, rare_cnt))\n",
    "print('단어 집합에서 희귀 단어를 제외시킬 경우의 단어 집합의 크기 %s'%(total_cnt - rare_cnt))\n",
    "print(\"단어 집합에서 희귀 단어의 비율:\", (rare_cnt / total_cnt)*100)\n",
    "print(\"전체 등장 빈도에서 희귀 단어 등장 빈도 비율:\", (rare_freq / total_freq)*100)\n",
    "\"\"\""
   ]
  },
  {
   "source": [
    "<br>\n",
    "\n",
    "### 정수 인코딩\n",
    "\n",
    "<br>"
   ],
   "cell_type": "markdown",
   "metadata": {}
  },
  {
   "cell_type": "code",
   "execution_count": 183,
   "metadata": {},
   "outputs": [],
   "source": [
    "src_vocab = 78000\n",
    "src_tokenizer = Tokenizer(num_words = src_vocab) # 단어 집합의 크기를 8,000으로 제한\n",
    "src_tokenizer.fit_on_texts(encoder_input_train) # 단어 집합 재생성."
   ]
  },
  {
   "cell_type": "code",
   "execution_count": 184,
   "metadata": {},
   "outputs": [
    {
     "output_type": "stream",
     "name": "stdout",
     "text": [
      "[[45, 1716, 44498, 72, 1513, 89, 3, 397, 366, 780, 3638, 78, 890, 7885, 5923, 1707, 45, 114, 167, 3, 13, 631, 355, 135, 635, 45, 1163, 341, 674, 29, 3, 3851, 286, 114, 403], [168, 853, 5, 6865, 1244, 34710, 15288, 14215, 2763, 465, 3678, 15900, 3572, 666, 10727, 14712, 1999, 944, 34711, 34712, 14215, 98, 24, 34712, 14215, 44, 44499, 4588, 5800, 137, 1569, 1542, 2083, 2183, 1542, 208], [163, 20, 715, 554, 5175, 857, 27, 3185, 3531, 75, 730, 466, 841, 1196, 5271, 1201, 129, 9112, 554, 5034, 17, 958, 21, 6502, 730, 4378, 349, 114, 958, 3573, 21, 405, 1044, 7761, 300, 235, 730, 4378]]\n"
     ]
    }
   ],
   "source": [
    "# 텍스트 시퀀스를 정수 시퀀스로 변환\n",
    "encoder_input_train = src_tokenizer.texts_to_sequences(encoder_input_train) \n",
    "encoder_input_test = src_tokenizer.texts_to_sequences(encoder_input_test)\n",
    "\n",
    "#잘 진행되었는지 샘플 출력\n",
    "print(encoder_input_train[:3])"
   ]
  },
  {
   "cell_type": "code",
   "execution_count": 185,
   "metadata": {},
   "outputs": [],
   "source": [
    "tar_tokenizer = Tokenizer()\n",
    "tar_tokenizer.fit_on_texts(decoder_input_train)"
   ]
  },
  {
   "cell_type": "code",
   "execution_count": 186,
   "metadata": {},
   "outputs": [
    {
     "output_type": "execute_result",
     "data": {
      "text/plain": [
       "'\\nthreshold = 6\\ntotal_cnt = len(tar_tokenizer.word_index) # 단어의 수\\nrare_cnt = 0 # 등장 빈도수가 threshold보다 작은 단어의 개수를 카운트\\ntotal_freq = 0 # 훈련 데이터의 전체 단어 빈도수 총 합\\nrare_freq = 0 # 등장 빈도수가 threshold보다 작은 단어의 등장 빈도수의 총 합\\n\\n# 단어와 빈도수의 쌍(pair)을 key와 value로 받는다.\\nfor key, value in tar_tokenizer.word_counts.items():\\n    total_freq = total_freq + value\\n\\n    # 단어의 등장 빈도수가 threshold보다 작으면\\n    if(value < threshold):\\n        rare_cnt = rare_cnt + 1\\n        rare_freq = rare_freq + value\\n\\nprint(\\'단어 집합(vocabulary)의 크기 :\\',total_cnt)\\nprint(\\'등장 빈도가 %s번 이하인 희귀 단어의 수: %s\\'%(threshold - 1, rare_cnt))\\nprint(\\'단어 집합에서 희귀 단어를 제외시킬 경우의 단어 집합의 크기 %s\\'%(total_cnt - rare_cnt))\\nprint(\"단어 집합에서 희귀 단어의 비율:\", (rare_cnt / total_cnt)*100)\\nprint(\"전체 등장 빈도에서 희귀 단어 등장 빈도 비율:\", (rare_freq / total_freq)*100)\\n'"
      ]
     },
     "metadata": {},
     "execution_count": 186
    }
   ],
   "source": [
    "# 빈도수가 낮은 단어가 배제될 경우 요약문의 핵심정보를 담는 어휘가 빠질 수 있다고 생각하여 해당 코드는 주석처리하여 실행하지 않았습니다.\n",
    "\n",
    "\"\"\"\n",
    "threshold = 6\n",
    "total_cnt = len(tar_tokenizer.word_index) # 단어의 수\n",
    "rare_cnt = 0 # 등장 빈도수가 threshold보다 작은 단어의 개수를 카운트\n",
    "total_freq = 0 # 훈련 데이터의 전체 단어 빈도수 총 합\n",
    "rare_freq = 0 # 등장 빈도수가 threshold보다 작은 단어의 등장 빈도수의 총 합\n",
    "\n",
    "# 단어와 빈도수의 쌍(pair)을 key와 value로 받는다.\n",
    "for key, value in tar_tokenizer.word_counts.items():\n",
    "    total_freq = total_freq + value\n",
    "\n",
    "    # 단어의 등장 빈도수가 threshold보다 작으면\n",
    "    if(value < threshold):\n",
    "        rare_cnt = rare_cnt + 1\n",
    "        rare_freq = rare_freq + value\n",
    "\n",
    "print('단어 집합(vocabulary)의 크기 :',total_cnt)\n",
    "print('등장 빈도가 %s번 이하인 희귀 단어의 수: %s'%(threshold - 1, rare_cnt))\n",
    "print('단어 집합에서 희귀 단어를 제외시킬 경우의 단어 집합의 크기 %s'%(total_cnt - rare_cnt))\n",
    "print(\"단어 집합에서 희귀 단어의 비율:\", (rare_cnt / total_cnt)*100)\n",
    "print(\"전체 등장 빈도에서 희귀 단어 등장 빈도 비율:\", (rare_freq / total_freq)*100)\n",
    "\"\"\""
   ]
  },
  {
   "cell_type": "code",
   "execution_count": 187,
   "metadata": {},
   "outputs": [
    {
     "output_type": "stream",
     "name": "stdout",
     "text": [
      "input\ninput  [[1, 581, 56, 951, 2524, 3, 13066, 4127, 7638, 2470], [1, 7639, 571, 2525, 37, 2906, 3163, 30, 2526], [1, 55, 1228, 17, 1005, 1258, 6, 483, 4, 37, 3164], [1, 345, 185, 17, 2155, 71, 1221, 4, 8729, 180, 3, 142, 1038], [1, 28, 428, 109, 24, 10, 10407, 259, 447, 225]]\ntarget\ndecoder  [[581, 56, 951, 2524, 3, 13066, 4127, 7638, 2470, 2], [7639, 571, 2525, 37, 2906, 3163, 30, 2526, 2], [55, 1228, 17, 1005, 1258, 6, 483, 4, 37, 3164, 2], [345, 185, 17, 2155, 71, 1221, 4, 8729, 180, 3, 142, 1038, 2], [28, 428, 109, 24, 10, 10407, 259, 447, 225, 2]]\n"
     ]
    }
   ],
   "source": [
    "tar_vocab = 19000\n",
    "tar_tokenizer = Tokenizer(num_words = tar_vocab)\n",
    "tar_tokenizer.fit_on_texts(decoder_input_train)\n",
    "tar_tokenizer.fit_on_texts(decoder_target_train)\n",
    "\n",
    "# 텍스트 시퀀스를 정수 시퀀스로 변환\n",
    "decoder_input_train = tar_tokenizer.texts_to_sequences(decoder_input_train) \n",
    "decoder_target_train = tar_tokenizer.texts_to_sequences(decoder_target_train)\n",
    "decoder_input_test = tar_tokenizer.texts_to_sequences(decoder_input_test)\n",
    "decoder_target_test = tar_tokenizer.texts_to_sequences(decoder_target_test)\n",
    "\n",
    "#잘 변환되었는지 확인\n",
    "print('input')\n",
    "print('input ',decoder_input_train[:5])\n",
    "print('target')\n",
    "print('decoder ',decoder_target_train[:5])"
   ]
  },
  {
   "cell_type": "code",
   "execution_count": 188,
   "metadata": {},
   "outputs": [
    {
     "output_type": "stream",
     "name": "stdout",
     "text": [
      "삭제할 훈련 데이터의 개수 : 0\n삭제할 테스트 데이터의 개수 : 0\n훈련 데이터의 개수 : 78291\n훈련 레이블의 개수 : 78291\n테스트 데이터의 개수 : 19572\n테스트 레이블의 개수 : 19572\n"
     ]
    }
   ],
   "source": [
    "drop_train = [index for index, sentence in enumerate(decoder_input_train) if len(sentence) == 1]\n",
    "drop_test = [index for index, sentence in enumerate(decoder_input_test) if len(sentence) == 1]\n",
    "\n",
    "print('삭제할 훈련 데이터의 개수 :',len(drop_train))\n",
    "print('삭제할 테스트 데이터의 개수 :',len(drop_test))\n",
    "\n",
    "encoder_input_train = np.delete(encoder_input_train, drop_train, axis=0)\n",
    "decoder_input_train = np.delete(decoder_input_train, drop_train, axis=0)\n",
    "decoder_target_train = np.delete(decoder_target_train, drop_train, axis=0)\n",
    "\n",
    "encoder_input_test = np.delete(encoder_input_test, drop_test, axis=0)\n",
    "decoder_input_test = np.delete(decoder_input_test, drop_test, axis=0)\n",
    "decoder_target_test = np.delete(decoder_target_test, drop_test, axis=0)\n",
    "\n",
    "print('훈련 데이터의 개수 :', len(encoder_input_train))\n",
    "print('훈련 레이블의 개수 :',len(decoder_input_train))\n",
    "print('테스트 데이터의 개수 :',len(encoder_input_test))\n",
    "print('테스트 레이블의 개수 :',len(decoder_input_test))"
   ]
  },
  {
   "source": [
    "<br>\n",
    "\n",
    "### 패딩\n",
    "\n",
    "서로 다른 길이의 샘플들을 병렬 처리하기 위해 같은 길이로 맞춰주는 패딩 작업 <br>\n",
    "최대 길이보다 짧은 데이터들은 뒤의 공간에 숫자 0을 넣어 최대 길이로 통일\n",
    "\n",
    "<br>"
   ],
   "cell_type": "markdown",
   "metadata": {}
  },
  {
   "cell_type": "code",
   "execution_count": 189,
   "metadata": {},
   "outputs": [],
   "source": [
    "encoder_input_train = pad_sequences(encoder_input_train, maxlen = text_max_len, padding='post')\n",
    "encoder_input_test = pad_sequences(encoder_input_test, maxlen = text_max_len, padding='post')\n",
    "decoder_input_train = pad_sequences(decoder_input_train, maxlen = summary_max_len, padding='post')\n",
    "decoder_target_train = pad_sequences(decoder_target_train, maxlen = summary_max_len, padding='post')\n",
    "decoder_input_test = pad_sequences(decoder_input_test, maxlen = summary_max_len, padding='post')\n",
    "decoder_target_test = pad_sequences(decoder_target_test, maxlen = summary_max_len, padding='post')"
   ]
  },
  {
   "source": [
    "<br>\n",
    "\n",
    "## 모델 설계\n",
    "\n",
    "<br>"
   ],
   "cell_type": "markdown",
   "metadata": {}
  },
  {
   "source": [
    "<br>\n",
    "\n",
    "### 인코더 설계\n",
    "\n",
    "함수형 API를 이용해서 인코더를 설계\n",
    "\n",
    "<br>"
   ],
   "cell_type": "markdown",
   "metadata": {}
  },
  {
   "cell_type": "code",
   "execution_count": 190,
   "metadata": {},
   "outputs": [
    {
     "output_type": "stream",
     "name": "stdout",
     "text": [
      "WARNING:tensorflow:Layer lstm_8 will not use cuDNN kernel since it doesn't meet the cuDNN kernel criteria. It will use generic GPU kernel as fallback when running on GPU\n",
      "WARNING:tensorflow:Layer lstm_9 will not use cuDNN kernel since it doesn't meet the cuDNN kernel criteria. It will use generic GPU kernel as fallback when running on GPU\n",
      "WARNING:tensorflow:Layer lstm_10 will not use cuDNN kernel since it doesn't meet the cuDNN kernel criteria. It will use generic GPU kernel as fallback when running on GPU\n"
     ]
    }
   ],
   "source": [
    "# 함수형 API 이용해서 인코더 설계\n",
    "\n",
    "from tensorflow.keras.layers import Input, LSTM, Embedding, Dense, Concatenate\n",
    "from tensorflow.keras.models import Model\n",
    "from tensorflow.keras.callbacks import EarlyStopping, ModelCheckpoint\n",
    "\n",
    "\n",
    "# 인코더 설계 시작\n",
    "embedding_dim = 128\n",
    "hidden_size = 256\n",
    "\n",
    "# 인코더\n",
    "encoder_inputs = Input(shape=(text_max_len,))\n",
    "\n",
    "# 인코더의 임베딩 층\n",
    "enc_emb = Embedding(src_vocab, embedding_dim)(encoder_inputs)\n",
    "\n",
    "# 인코더의 LSTM 1\n",
    "encoder_lstm1 = LSTM(hidden_size, return_sequences=True, return_state=True ,dropout = 0.4, recurrent_dropout = 0.4)\n",
    "encoder_output1, state_h1, state_c1 = encoder_lstm1(enc_emb)\n",
    "\n",
    "# 인코더의 LSTM 2\n",
    "encoder_lstm2 = LSTM(hidden_size, return_sequences=True, return_state=True, dropout=0.4, recurrent_dropout=0.4)\n",
    "encoder_output2, state_h2, state_c2 = encoder_lstm2(encoder_output1)\n",
    "\n",
    "# 인코더의 LSTM 3\n",
    "encoder_lstm3 = LSTM(hidden_size, return_state=True, return_sequences=True, dropout=0.4, recurrent_dropout=0.4)\n",
    "encoder_outputs, state_h, state_c= encoder_lstm3(encoder_output2)"
   ]
  },
  {
   "source": [
    "<br>\n",
    "\n",
    "### 디코더 설계\n",
    "\n",
    "디코더의 임베딩 층과 LSTM을 설계하는 것은 인코더와 거의 동일합니다. 하지만 LSTM의 입력을 정의할 때, initial_state의 인자값으로 인코더의 hidden state와 cell state의 값을 넣어줘야 합니다.\n",
    "\n",
    "<br>"
   ],
   "cell_type": "markdown",
   "metadata": {}
  },
  {
   "cell_type": "code",
   "execution_count": 191,
   "metadata": {},
   "outputs": [
    {
     "output_type": "stream",
     "name": "stdout",
     "text": [
      "WARNING:tensorflow:Layer lstm_11 will not use cuDNN kernel since it doesn't meet the cuDNN kernel criteria. It will use generic GPU kernel as fallback when running on GPU\n"
     ]
    }
   ],
   "source": [
    "# 디코더 설계\n",
    "\n",
    "decoder_inputs = Input(shape=(None,))\n",
    "\n",
    "# 디코더의 임베딩 층\n",
    "dec_emb_layer = Embedding(tar_vocab, embedding_dim)\n",
    "dec_emb = dec_emb_layer(decoder_inputs)\n",
    "\n",
    "# 디코더의 LSTM\n",
    "decoder_lstm = LSTM(hidden_size, return_sequences = True, return_state = True, dropout = 0.4, recurrent_dropout=0.2)\n",
    "decoder_outputs, _, _ = decoder_lstm(dec_emb, initial_state = [state_h, state_c])"
   ]
  },
  {
   "source": [
    "<br>\n",
    "\n",
    "#### 디코더의 출력층 설계\n",
    "\n",
    "<br>"
   ],
   "cell_type": "markdown",
   "metadata": {}
  },
  {
   "cell_type": "code",
   "execution_count": 192,
   "metadata": {},
   "outputs": [
    {
     "output_type": "stream",
     "name": "stdout",
     "text": [
      "Model: \"model_6\"\n__________________________________________________________________________________________________\nLayer (type)                    Output Shape         Param #     Connected to                     \n==================================================================================================\ninput_9 (InputLayer)            [(None, 45)]         0                                            \n__________________________________________________________________________________________________\nembedding_4 (Embedding)         (None, 45, 128)      9984000     input_9[0][0]                    \n__________________________________________________________________________________________________\nlstm_8 (LSTM)                   [(None, 45, 256), (N 394240      embedding_4[0][0]                \n__________________________________________________________________________________________________\ninput_10 (InputLayer)           [(None, None)]       0                                            \n__________________________________________________________________________________________________\nlstm_9 (LSTM)                   [(None, 45, 256), (N 525312      lstm_8[0][0]                     \n__________________________________________________________________________________________________\nembedding_5 (Embedding)         (None, None, 128)    2432000     input_10[0][0]                   \n__________________________________________________________________________________________________\nlstm_10 (LSTM)                  [(None, 45, 256), (N 525312      lstm_9[0][0]                     \n__________________________________________________________________________________________________\nlstm_11 (LSTM)                  [(None, None, 256),  394240      embedding_5[0][0]                \n                                                                 lstm_10[0][1]                    \n                                                                 lstm_10[0][2]                    \n__________________________________________________________________________________________________\ndense_4 (Dense)                 (None, None, 19000)  4883000     lstm_11[0][0]                    \n==================================================================================================\nTotal params: 19,138,104\nTrainable params: 19,138,104\nNon-trainable params: 0\n__________________________________________________________________________________________________\n"
     ]
    }
   ],
   "source": [
    "# 디코더의 출력층\n",
    "decoder_softmax_layer = Dense(tar_vocab, activation = 'softmax')\n",
    "decoder_softmax_outputs = decoder_softmax_layer(decoder_outputs) \n",
    "\n",
    "# 모델 정의\n",
    "model = Model([encoder_inputs, decoder_inputs], decoder_softmax_outputs)\n",
    "model.summary()"
   ]
  },
  {
   "source": [
    "<br>\n",
    "\n",
    "## 어텐션 매커니즘\n",
    "\n",
    "어텐션 메커니즘을 수행하는 어텐션 함수를 설계하는 것은 또 다른 새로운 신경망을 설계해야한다는 뜻입니다. 어텐션 함수를 설계해보는 것은 다음 기회로 미루기로 하고, 여기서는 이미 구현된 어텐션 함수를 가져와서 디코더의 출력층에 어떤 방식으로 결합하는지 살펴봅시다.\n",
    "\n",
    "<br>"
   ],
   "cell_type": "markdown",
   "metadata": {}
  },
  {
   "cell_type": "code",
   "execution_count": 193,
   "metadata": {},
   "outputs": [],
   "source": [
    "# 깃허브에 공개되어져 있는 어텐션 함수를 다운로드\n",
    "\n",
    "urllib.request.urlretrieve(\"https://raw.githubusercontent.com/thushv89/attention_keras/master/src/layers/attention.py\", filename=\"attention.py\")\n",
    "from attention import AttentionLayer"
   ]
  },
  {
   "source": [
    "<br>\n",
    "\n",
    "#### 디코더 출력층 수정\n",
    "\n",
    "<br>"
   ],
   "cell_type": "markdown",
   "metadata": {}
  },
  {
   "cell_type": "code",
   "execution_count": 194,
   "metadata": {},
   "outputs": [
    {
     "output_type": "stream",
     "name": "stdout",
     "text": [
      "Model: \"model_7\"\n__________________________________________________________________________________________________\nLayer (type)                    Output Shape         Param #     Connected to                     \n==================================================================================================\ninput_9 (InputLayer)            [(None, 45)]         0                                            \n__________________________________________________________________________________________________\nembedding_4 (Embedding)         (None, 45, 128)      9984000     input_9[0][0]                    \n__________________________________________________________________________________________________\nlstm_8 (LSTM)                   [(None, 45, 256), (N 394240      embedding_4[0][0]                \n__________________________________________________________________________________________________\ninput_10 (InputLayer)           [(None, None)]       0                                            \n__________________________________________________________________________________________________\nlstm_9 (LSTM)                   [(None, 45, 256), (N 525312      lstm_8[0][0]                     \n__________________________________________________________________________________________________\nembedding_5 (Embedding)         (None, None, 128)    2432000     input_10[0][0]                   \n__________________________________________________________________________________________________\nlstm_10 (LSTM)                  [(None, 45, 256), (N 525312      lstm_9[0][0]                     \n__________________________________________________________________________________________________\nlstm_11 (LSTM)                  [(None, None, 256),  394240      embedding_5[0][0]                \n                                                                 lstm_10[0][1]                    \n                                                                 lstm_10[0][2]                    \n__________________________________________________________________________________________________\nattention_layer (AttentionLayer ((None, None, 256),  131328      lstm_10[0][0]                    \n                                                                 lstm_11[0][0]                    \n__________________________________________________________________________________________________\nconcat_layer (Concatenate)      (None, None, 512)    0           lstm_11[0][0]                    \n                                                                 attention_layer[0][0]            \n__________________________________________________________________________________________________\ndense_5 (Dense)                 (None, None, 19000)  9747000     concat_layer[0][0]               \n==================================================================================================\nTotal params: 24,133,432\nTrainable params: 24,133,432\nNon-trainable params: 0\n__________________________________________________________________________________________________\n"
     ]
    }
   ],
   "source": [
    "# 어텐션 메커니즘 적용위해 디코더 출력층 수정\n",
    "\n",
    "# 어텐션 층(어텐션 함수)\n",
    "attn_layer = AttentionLayer(name='attention_layer')\n",
    "# 인코더와 디코더의 모든 time step의 hidden state를 어텐션 층에 전달하고 결과를 리턴\n",
    "attn_out, attn_states = attn_layer([encoder_outputs, decoder_outputs])\n",
    "\n",
    "# 어텐션의 결과와 디코더의 hidden state들을 연결\n",
    "decoder_concat_input = Concatenate(axis = -1, name='concat_layer')([decoder_outputs, attn_out])\n",
    "\n",
    "# 디코더의 출력층\n",
    "decoder_softmax_layer = Dense(tar_vocab, activation='softmax')\n",
    "decoder_softmax_outputs = decoder_softmax_layer(decoder_concat_input)\n",
    "\n",
    "# 모델 정의\n",
    "model = Model([encoder_inputs, decoder_inputs], decoder_softmax_outputs)\n",
    "model.summary()"
   ]
  },
  {
   "source": [
    "<br>\n",
    "\n",
    "## 모델 훈련\n",
    "\n",
    "<br>"
   ],
   "cell_type": "markdown",
   "metadata": {}
  },
  {
   "cell_type": "code",
   "execution_count": 195,
   "metadata": {},
   "outputs": [
    {
     "output_type": "stream",
     "name": "stdout",
     "text": [
      "Epoch 1/20\n",
      "306/306 [==============================] - 168s 549ms/step - loss: 5.6245 - val_loss: 5.1915\n",
      "Epoch 2/20\n",
      "306/306 [==============================] - 165s 539ms/step - loss: 5.0800 - val_loss: 4.8269\n",
      "Epoch 3/20\n",
      "306/306 [==============================] - 166s 541ms/step - loss: 4.7182 - val_loss: 4.5507\n",
      "Epoch 4/20\n",
      "306/306 [==============================] - 166s 541ms/step - loss: 4.4568 - val_loss: 4.3678\n",
      "Epoch 5/20\n",
      "306/306 [==============================] - 166s 542ms/step - loss: 4.2555 - val_loss: 4.2287\n",
      "Epoch 6/20\n",
      "306/306 [==============================] - 166s 543ms/step - loss: 4.0862 - val_loss: 4.1290\n",
      "Epoch 7/20\n",
      "306/306 [==============================] - 166s 544ms/step - loss: 3.9436 - val_loss: 4.0393\n",
      "Epoch 8/20\n",
      "306/306 [==============================] - 166s 543ms/step - loss: 3.8190 - val_loss: 3.9561\n",
      "Epoch 9/20\n",
      "306/306 [==============================] - 167s 545ms/step - loss: 3.7096 - val_loss: 3.9117\n",
      "Epoch 10/20\n",
      "306/306 [==============================] - 166s 543ms/step - loss: 3.6139 - val_loss: 3.8583\n",
      "Epoch 11/20\n",
      "306/306 [==============================] - 168s 551ms/step - loss: 3.5277 - val_loss: 3.8209\n",
      "Epoch 12/20\n",
      "306/306 [==============================] - 168s 548ms/step - loss: 3.4532 - val_loss: 3.7850\n",
      "Epoch 13/20\n",
      "306/306 [==============================] - 164s 537ms/step - loss: 3.3863 - val_loss: 3.7594\n",
      "Epoch 14/20\n",
      "306/306 [==============================] - 167s 544ms/step - loss: 3.3244 - val_loss: 3.7431\n",
      "Epoch 15/20\n",
      "306/306 [==============================] - 169s 551ms/step - loss: 3.2664 - val_loss: 3.7157\n",
      "Epoch 16/20\n",
      "306/306 [==============================] - 168s 549ms/step - loss: 3.2111 - val_loss: 3.7078\n",
      "Epoch 17/20\n",
      "306/306 [==============================] - 169s 552ms/step - loss: 3.1585 - val_loss: 3.6837\n",
      "Epoch 18/20\n",
      "306/306 [==============================] - 169s 553ms/step - loss: 3.1083 - val_loss: 3.6708\n",
      "Epoch 19/20\n",
      "306/306 [==============================] - 172s 564ms/step - loss: 3.0627 - val_loss: 3.6574\n",
      "Epoch 20/20\n",
      "306/306 [==============================] - 171s 559ms/step - loss: 3.0214 - val_loss: 3.6491\n"
     ]
    }
   ],
   "source": [
    "model.compile(optimizer='rmsprop', loss='sparse_categorical_crossentropy')\n",
    "es = EarlyStopping(monitor='val_loss', mode='min', verbose=1, patience = 2)\n",
    "history = model.fit(x = [encoder_input_train, decoder_input_train], y = decoder_target_train,\n",
    "          validation_data = ([encoder_input_test, decoder_input_test], decoder_target_test),\n",
    "          batch_size = 256, callbacks=[es], epochs = 20)"
   ]
  },
  {
   "cell_type": "code",
   "execution_count": 199,
   "metadata": {},
   "outputs": [
    {
     "output_type": "stream",
     "name": "stdout",
     "text": [
      "Epoch 1/20\n",
      "306/306 [==============================] - 171s 558ms/step - loss: 2.9839 - val_loss: 3.6440\n",
      "Epoch 2/20\n",
      "306/306 [==============================] - 169s 552ms/step - loss: 2.9435 - val_loss: 3.6427\n",
      "Epoch 3/20\n",
      "306/306 [==============================] - 168s 551ms/step - loss: 2.9067 - val_loss: 3.6358\n",
      "Epoch 4/20\n",
      "306/306 [==============================] - 169s 553ms/step - loss: 2.8726 - val_loss: 3.6279\n",
      "Epoch 5/20\n",
      "306/306 [==============================] - 169s 554ms/step - loss: 2.8416 - val_loss: 3.6300\n",
      "Epoch 6/20\n",
      "306/306 [==============================] - 170s 556ms/step - loss: 2.8124 - val_loss: 3.6317\n",
      "Epoch 00006: early stopping\n"
     ]
    }
   ],
   "source": [
    "history = model.fit(x = [encoder_input_train, decoder_input_train], y = decoder_target_train,\n",
    "          validation_data = ([encoder_input_test, decoder_input_test], decoder_target_test),\n",
    "          batch_size = 256, callbacks=[es], epochs = 20)"
   ]
  },
  {
   "cell_type": "code",
   "execution_count": 200,
   "metadata": {},
   "outputs": [],
   "source": [
    "# 6. 모델 저장하기\n",
    "\n",
    "from tensorflow.keras.models import load_model\n",
    "model.save('news_model.h5')"
   ]
  },
  {
   "source": [
    "<br>\n",
    "\n",
    "### 훈련 데이터의 손실과 검증 데이터의 손실이 줄어드는 과정을 시각화\n",
    "\n",
    "<br>"
   ],
   "cell_type": "markdown",
   "metadata": {}
  },
  {
   "cell_type": "code",
   "execution_count": 201,
   "metadata": {},
   "outputs": [
    {
     "output_type": "display_data",
     "data": {
      "text/plain": "<Figure size 432x288 with 1 Axes>",
      "image/svg+xml": "<?xml version=\"1.0\" encoding=\"utf-8\" standalone=\"no\"?>\n<!DOCTYPE svg PUBLIC \"-//W3C//DTD SVG 1.1//EN\"\n  \"http://www.w3.org/Graphics/SVG/1.1/DTD/svg11.dtd\">\n<!-- Created with matplotlib (https://matplotlib.org/) -->\n<svg height=\"248.518125pt\" version=\"1.1\" viewBox=\"0 0 372.103125 248.518125\" width=\"372.103125pt\" xmlns=\"http://www.w3.org/2000/svg\" xmlns:xlink=\"http://www.w3.org/1999/xlink\">\n <metadata>\n  <rdf:RDF xmlns:cc=\"http://creativecommons.org/ns#\" xmlns:dc=\"http://purl.org/dc/elements/1.1/\" xmlns:rdf=\"http://www.w3.org/1999/02/22-rdf-syntax-ns#\">\n   <cc:Work>\n    <dc:type rdf:resource=\"http://purl.org/dc/dcmitype/StillImage\"/>\n    <dc:date>2021-02-23T23:32:11.279257</dc:date>\n    <dc:format>image/svg+xml</dc:format>\n    <dc:creator>\n     <cc:Agent>\n      <dc:title>Matplotlib v3.3.2, https://matplotlib.org/</dc:title>\n     </cc:Agent>\n    </dc:creator>\n   </cc:Work>\n  </rdf:RDF>\n </metadata>\n <defs>\n  <style type=\"text/css\">*{stroke-linecap:butt;stroke-linejoin:round;}</style>\n </defs>\n <g id=\"figure_1\">\n  <g id=\"patch_1\">\n   <path d=\"M 0 248.518125 \nL 372.103125 248.518125 \nL 372.103125 0 \nL 0 0 \nz\n\" style=\"fill:none;\"/>\n  </g>\n  <g id=\"axes_1\">\n   <g id=\"patch_2\">\n    <path d=\"M 30.103125 224.64 \nL 364.903125 224.64 \nL 364.903125 7.2 \nL 30.103125 7.2 \nz\n\" style=\"fill:#ffffff;\"/>\n   </g>\n   <g id=\"matplotlib.axis_1\">\n    <g id=\"xtick_1\">\n     <g id=\"line2d_1\">\n      <defs>\n       <path d=\"M 0 0 \nL 0 3.5 \n\" id=\"m8f1ed27491\" style=\"stroke:#000000;stroke-width:0.8;\"/>\n      </defs>\n      <g>\n       <use style=\"stroke:#000000;stroke-width:0.8;\" x=\"45.321307\" xlink:href=\"#m8f1ed27491\" y=\"224.64\"/>\n      </g>\n     </g>\n     <g id=\"text_1\">\n      <!-- 0 -->\n      <g transform=\"translate(42.140057 239.238438)scale(0.1 -0.1)\">\n       <defs>\n        <path d=\"M 31.78125 66.40625 \nQ 24.171875 66.40625 20.328125 58.90625 \nQ 16.5 51.421875 16.5 36.375 \nQ 16.5 21.390625 20.328125 13.890625 \nQ 24.171875 6.390625 31.78125 6.390625 \nQ 39.453125 6.390625 43.28125 13.890625 \nQ 47.125 21.390625 47.125 36.375 \nQ 47.125 51.421875 43.28125 58.90625 \nQ 39.453125 66.40625 31.78125 66.40625 \nz\nM 31.78125 74.21875 \nQ 44.046875 74.21875 50.515625 64.515625 \nQ 56.984375 54.828125 56.984375 36.375 \nQ 56.984375 17.96875 50.515625 8.265625 \nQ 44.046875 -1.421875 31.78125 -1.421875 \nQ 19.53125 -1.421875 13.0625 8.265625 \nQ 6.59375 17.96875 6.59375 36.375 \nQ 6.59375 54.828125 13.0625 64.515625 \nQ 19.53125 74.21875 31.78125 74.21875 \nz\n\" id=\"DejaVuSans-48\"/>\n       </defs>\n       <use xlink:href=\"#DejaVuSans-48\"/>\n      </g>\n     </g>\n    </g>\n    <g id=\"xtick_2\">\n     <g id=\"line2d_2\">\n      <g>\n       <use style=\"stroke:#000000;stroke-width:0.8;\" x=\"106.194034\" xlink:href=\"#m8f1ed27491\" y=\"224.64\"/>\n      </g>\n     </g>\n     <g id=\"text_2\">\n      <!-- 1 -->\n      <g transform=\"translate(103.012784 239.238438)scale(0.1 -0.1)\">\n       <defs>\n        <path d=\"M 12.40625 8.296875 \nL 28.515625 8.296875 \nL 28.515625 63.921875 \nL 10.984375 60.40625 \nL 10.984375 69.390625 \nL 28.421875 72.90625 \nL 38.28125 72.90625 \nL 38.28125 8.296875 \nL 54.390625 8.296875 \nL 54.390625 0 \nL 12.40625 0 \nz\n\" id=\"DejaVuSans-49\"/>\n       </defs>\n       <use xlink:href=\"#DejaVuSans-49\"/>\n      </g>\n     </g>\n    </g>\n    <g id=\"xtick_3\">\n     <g id=\"line2d_3\">\n      <g>\n       <use style=\"stroke:#000000;stroke-width:0.8;\" x=\"167.066761\" xlink:href=\"#m8f1ed27491\" y=\"224.64\"/>\n      </g>\n     </g>\n     <g id=\"text_3\">\n      <!-- 2 -->\n      <g transform=\"translate(163.885511 239.238438)scale(0.1 -0.1)\">\n       <defs>\n        <path d=\"M 19.1875 8.296875 \nL 53.609375 8.296875 \nL 53.609375 0 \nL 7.328125 0 \nL 7.328125 8.296875 \nQ 12.9375 14.109375 22.625 23.890625 \nQ 32.328125 33.6875 34.8125 36.53125 \nQ 39.546875 41.84375 41.421875 45.53125 \nQ 43.3125 49.21875 43.3125 52.78125 \nQ 43.3125 58.59375 39.234375 62.25 \nQ 35.15625 65.921875 28.609375 65.921875 \nQ 23.96875 65.921875 18.8125 64.3125 \nQ 13.671875 62.703125 7.8125 59.421875 \nL 7.8125 69.390625 \nQ 13.765625 71.78125 18.9375 73 \nQ 24.125 74.21875 28.421875 74.21875 \nQ 39.75 74.21875 46.484375 68.546875 \nQ 53.21875 62.890625 53.21875 53.421875 \nQ 53.21875 48.921875 51.53125 44.890625 \nQ 49.859375 40.875 45.40625 35.40625 \nQ 44.1875 33.984375 37.640625 27.21875 \nQ 31.109375 20.453125 19.1875 8.296875 \nz\n\" id=\"DejaVuSans-50\"/>\n       </defs>\n       <use xlink:href=\"#DejaVuSans-50\"/>\n      </g>\n     </g>\n    </g>\n    <g id=\"xtick_4\">\n     <g id=\"line2d_4\">\n      <g>\n       <use style=\"stroke:#000000;stroke-width:0.8;\" x=\"227.939489\" xlink:href=\"#m8f1ed27491\" y=\"224.64\"/>\n      </g>\n     </g>\n     <g id=\"text_4\">\n      <!-- 3 -->\n      <g transform=\"translate(224.758239 239.238438)scale(0.1 -0.1)\">\n       <defs>\n        <path d=\"M 40.578125 39.3125 \nQ 47.65625 37.796875 51.625 33 \nQ 55.609375 28.21875 55.609375 21.1875 \nQ 55.609375 10.40625 48.1875 4.484375 \nQ 40.765625 -1.421875 27.09375 -1.421875 \nQ 22.515625 -1.421875 17.65625 -0.515625 \nQ 12.796875 0.390625 7.625 2.203125 \nL 7.625 11.71875 \nQ 11.71875 9.328125 16.59375 8.109375 \nQ 21.484375 6.890625 26.8125 6.890625 \nQ 36.078125 6.890625 40.9375 10.546875 \nQ 45.796875 14.203125 45.796875 21.1875 \nQ 45.796875 27.640625 41.28125 31.265625 \nQ 36.765625 34.90625 28.71875 34.90625 \nL 20.21875 34.90625 \nL 20.21875 43.015625 \nL 29.109375 43.015625 \nQ 36.375 43.015625 40.234375 45.921875 \nQ 44.09375 48.828125 44.09375 54.296875 \nQ 44.09375 59.90625 40.109375 62.90625 \nQ 36.140625 65.921875 28.71875 65.921875 \nQ 24.65625 65.921875 20.015625 65.03125 \nQ 15.375 64.15625 9.8125 62.3125 \nL 9.8125 71.09375 \nQ 15.4375 72.65625 20.34375 73.4375 \nQ 25.25 74.21875 29.59375 74.21875 \nQ 40.828125 74.21875 47.359375 69.109375 \nQ 53.90625 64.015625 53.90625 55.328125 \nQ 53.90625 49.265625 50.4375 45.09375 \nQ 46.96875 40.921875 40.578125 39.3125 \nz\n\" id=\"DejaVuSans-51\"/>\n       </defs>\n       <use xlink:href=\"#DejaVuSans-51\"/>\n      </g>\n     </g>\n    </g>\n    <g id=\"xtick_5\">\n     <g id=\"line2d_5\">\n      <g>\n       <use style=\"stroke:#000000;stroke-width:0.8;\" x=\"288.812216\" xlink:href=\"#m8f1ed27491\" y=\"224.64\"/>\n      </g>\n     </g>\n     <g id=\"text_5\">\n      <!-- 4 -->\n      <g transform=\"translate(285.630966 239.238438)scale(0.1 -0.1)\">\n       <defs>\n        <path d=\"M 37.796875 64.3125 \nL 12.890625 25.390625 \nL 37.796875 25.390625 \nz\nM 35.203125 72.90625 \nL 47.609375 72.90625 \nL 47.609375 25.390625 \nL 58.015625 25.390625 \nL 58.015625 17.1875 \nL 47.609375 17.1875 \nL 47.609375 0 \nL 37.796875 0 \nL 37.796875 17.1875 \nL 4.890625 17.1875 \nL 4.890625 26.703125 \nz\n\" id=\"DejaVuSans-52\"/>\n       </defs>\n       <use xlink:href=\"#DejaVuSans-52\"/>\n      </g>\n     </g>\n    </g>\n    <g id=\"xtick_6\">\n     <g id=\"line2d_6\">\n      <g>\n       <use style=\"stroke:#000000;stroke-width:0.8;\" x=\"349.684943\" xlink:href=\"#m8f1ed27491\" y=\"224.64\"/>\n      </g>\n     </g>\n     <g id=\"text_6\">\n      <!-- 5 -->\n      <g transform=\"translate(346.503693 239.238438)scale(0.1 -0.1)\">\n       <defs>\n        <path d=\"M 10.796875 72.90625 \nL 49.515625 72.90625 \nL 49.515625 64.59375 \nL 19.828125 64.59375 \nL 19.828125 46.734375 \nQ 21.96875 47.46875 24.109375 47.828125 \nQ 26.265625 48.1875 28.421875 48.1875 \nQ 40.625 48.1875 47.75 41.5 \nQ 54.890625 34.8125 54.890625 23.390625 \nQ 54.890625 11.625 47.5625 5.09375 \nQ 40.234375 -1.421875 26.90625 -1.421875 \nQ 22.3125 -1.421875 17.546875 -0.640625 \nQ 12.796875 0.140625 7.71875 1.703125 \nL 7.71875 11.625 \nQ 12.109375 9.234375 16.796875 8.0625 \nQ 21.484375 6.890625 26.703125 6.890625 \nQ 35.15625 6.890625 40.078125 11.328125 \nQ 45.015625 15.765625 45.015625 23.390625 \nQ 45.015625 31 40.078125 35.4375 \nQ 35.15625 39.890625 26.703125 39.890625 \nQ 22.75 39.890625 18.8125 39.015625 \nQ 14.890625 38.140625 10.796875 36.28125 \nz\n\" id=\"DejaVuSans-53\"/>\n       </defs>\n       <use xlink:href=\"#DejaVuSans-53\"/>\n      </g>\n     </g>\n    </g>\n   </g>\n   <g id=\"matplotlib.axis_2\">\n    <g id=\"ytick_1\">\n     <g id=\"line2d_7\">\n      <defs>\n       <path d=\"M 0 0 \nL -3.5 0 \n\" id=\"m0ccf16e01d\" style=\"stroke:#000000;stroke-width:0.8;\"/>\n      </defs>\n      <g>\n       <use style=\"stroke:#000000;stroke-width:0.8;\" x=\"30.103125\" xlink:href=\"#m0ccf16e01d\" y=\"217.710533\"/>\n      </g>\n     </g>\n     <g id=\"text_7\">\n      <!-- 2.8 -->\n      <g transform=\"translate(7.2 221.509751)scale(0.1 -0.1)\">\n       <defs>\n        <path d=\"M 10.6875 12.40625 \nL 21 12.40625 \nL 21 0 \nL 10.6875 0 \nz\n\" id=\"DejaVuSans-46\"/>\n        <path d=\"M 31.78125 34.625 \nQ 24.75 34.625 20.71875 30.859375 \nQ 16.703125 27.09375 16.703125 20.515625 \nQ 16.703125 13.921875 20.71875 10.15625 \nQ 24.75 6.390625 31.78125 6.390625 \nQ 38.8125 6.390625 42.859375 10.171875 \nQ 46.921875 13.96875 46.921875 20.515625 \nQ 46.921875 27.09375 42.890625 30.859375 \nQ 38.875 34.625 31.78125 34.625 \nz\nM 21.921875 38.8125 \nQ 15.578125 40.375 12.03125 44.71875 \nQ 8.5 49.078125 8.5 55.328125 \nQ 8.5 64.0625 14.71875 69.140625 \nQ 20.953125 74.21875 31.78125 74.21875 \nQ 42.671875 74.21875 48.875 69.140625 \nQ 55.078125 64.0625 55.078125 55.328125 \nQ 55.078125 49.078125 51.53125 44.71875 \nQ 48 40.375 41.703125 38.8125 \nQ 48.828125 37.15625 52.796875 32.3125 \nQ 56.78125 27.484375 56.78125 20.515625 \nQ 56.78125 9.90625 50.3125 4.234375 \nQ 43.84375 -1.421875 31.78125 -1.421875 \nQ 19.734375 -1.421875 13.25 4.234375 \nQ 6.78125 9.90625 6.78125 20.515625 \nQ 6.78125 27.484375 10.78125 32.3125 \nQ 14.796875 37.15625 21.921875 38.8125 \nz\nM 18.3125 54.390625 \nQ 18.3125 48.734375 21.84375 45.5625 \nQ 25.390625 42.390625 31.78125 42.390625 \nQ 38.140625 42.390625 41.71875 45.5625 \nQ 45.3125 48.734375 45.3125 54.390625 \nQ 45.3125 60.0625 41.71875 63.234375 \nQ 38.140625 66.40625 31.78125 66.40625 \nQ 25.390625 66.40625 21.84375 63.234375 \nQ 18.3125 60.0625 18.3125 54.390625 \nz\n\" id=\"DejaVuSans-56\"/>\n       </defs>\n       <use xlink:href=\"#DejaVuSans-50\"/>\n       <use x=\"63.623047\" xlink:href=\"#DejaVuSans-46\"/>\n       <use x=\"95.410156\" xlink:href=\"#DejaVuSans-56\"/>\n      </g>\n     </g>\n    </g>\n    <g id=\"ytick_2\">\n     <g id=\"line2d_8\">\n      <g>\n       <use style=\"stroke:#000000;stroke-width:0.8;\" x=\"30.103125\" xlink:href=\"#m0ccf16e01d\" y=\"170.168161\"/>\n      </g>\n     </g>\n     <g id=\"text_8\">\n      <!-- 3.0 -->\n      <g transform=\"translate(7.2 173.967379)scale(0.1 -0.1)\">\n       <use xlink:href=\"#DejaVuSans-51\"/>\n       <use x=\"63.623047\" xlink:href=\"#DejaVuSans-46\"/>\n       <use x=\"95.410156\" xlink:href=\"#DejaVuSans-48\"/>\n      </g>\n     </g>\n    </g>\n    <g id=\"ytick_3\">\n     <g id=\"line2d_9\">\n      <g>\n       <use style=\"stroke:#000000;stroke-width:0.8;\" x=\"30.103125\" xlink:href=\"#m0ccf16e01d\" y=\"122.625788\"/>\n      </g>\n     </g>\n     <g id=\"text_9\">\n      <!-- 3.2 -->\n      <g transform=\"translate(7.2 126.425007)scale(0.1 -0.1)\">\n       <use xlink:href=\"#DejaVuSans-51\"/>\n       <use x=\"63.623047\" xlink:href=\"#DejaVuSans-46\"/>\n       <use x=\"95.410156\" xlink:href=\"#DejaVuSans-50\"/>\n      </g>\n     </g>\n    </g>\n    <g id=\"ytick_4\">\n     <g id=\"line2d_10\">\n      <g>\n       <use style=\"stroke:#000000;stroke-width:0.8;\" x=\"30.103125\" xlink:href=\"#m0ccf16e01d\" y=\"75.083416\"/>\n      </g>\n     </g>\n     <g id=\"text_10\">\n      <!-- 3.4 -->\n      <g transform=\"translate(7.2 78.882635)scale(0.1 -0.1)\">\n       <use xlink:href=\"#DejaVuSans-51\"/>\n       <use x=\"63.623047\" xlink:href=\"#DejaVuSans-46\"/>\n       <use x=\"95.410156\" xlink:href=\"#DejaVuSans-52\"/>\n      </g>\n     </g>\n    </g>\n    <g id=\"ytick_5\">\n     <g id=\"line2d_11\">\n      <g>\n       <use style=\"stroke:#000000;stroke-width:0.8;\" x=\"30.103125\" xlink:href=\"#m0ccf16e01d\" y=\"27.541044\"/>\n      </g>\n     </g>\n     <g id=\"text_11\">\n      <!-- 3.6 -->\n      <g transform=\"translate(7.2 31.340263)scale(0.1 -0.1)\">\n       <defs>\n        <path d=\"M 33.015625 40.375 \nQ 26.375 40.375 22.484375 35.828125 \nQ 18.609375 31.296875 18.609375 23.390625 \nQ 18.609375 15.53125 22.484375 10.953125 \nQ 26.375 6.390625 33.015625 6.390625 \nQ 39.65625 6.390625 43.53125 10.953125 \nQ 47.40625 15.53125 47.40625 23.390625 \nQ 47.40625 31.296875 43.53125 35.828125 \nQ 39.65625 40.375 33.015625 40.375 \nz\nM 52.59375 71.296875 \nL 52.59375 62.3125 \nQ 48.875 64.0625 45.09375 64.984375 \nQ 41.3125 65.921875 37.59375 65.921875 \nQ 27.828125 65.921875 22.671875 59.328125 \nQ 17.53125 52.734375 16.796875 39.40625 \nQ 19.671875 43.65625 24.015625 45.921875 \nQ 28.375 48.1875 33.59375 48.1875 \nQ 44.578125 48.1875 50.953125 41.515625 \nQ 57.328125 34.859375 57.328125 23.390625 \nQ 57.328125 12.15625 50.6875 5.359375 \nQ 44.046875 -1.421875 33.015625 -1.421875 \nQ 20.359375 -1.421875 13.671875 8.265625 \nQ 6.984375 17.96875 6.984375 36.375 \nQ 6.984375 53.65625 15.1875 63.9375 \nQ 23.390625 74.21875 37.203125 74.21875 \nQ 40.921875 74.21875 44.703125 73.484375 \nQ 48.484375 72.75 52.59375 71.296875 \nz\n\" id=\"DejaVuSans-54\"/>\n       </defs>\n       <use xlink:href=\"#DejaVuSans-51\"/>\n       <use x=\"63.623047\" xlink:href=\"#DejaVuSans-46\"/>\n       <use x=\"95.410156\" xlink:href=\"#DejaVuSans-54\"/>\n      </g>\n     </g>\n    </g>\n   </g>\n   <g id=\"line2d_12\">\n    <path clip-path=\"url(#pcfca5e10c8)\" d=\"M 45.321307 173.985047 \nL 106.194034 183.606352 \nL 167.066761 192.336444 \nL 227.939489 200.451556 \nL 288.812216 207.81958 \nL 349.684943 214.756364 \n\" style=\"fill:none;stroke:#1f77b4;stroke-linecap:square;stroke-width:1.5;\"/>\n   </g>\n   <g id=\"line2d_13\">\n    <path clip-path=\"url(#pcfca5e10c8)\" d=\"M 45.321307 17.083636 \nL 106.194034 17.399146 \nL 167.066761 19.032687 \nL 227.939489 20.9033 \nL 288.812216 20.40201 \nL 349.684943 20.000468 \n\" style=\"fill:none;stroke:#ff7f0e;stroke-linecap:square;stroke-width:1.5;\"/>\n   </g>\n   <g id=\"patch_3\">\n    <path d=\"M 30.103125 224.64 \nL 30.103125 7.2 \n\" style=\"fill:none;stroke:#000000;stroke-linecap:square;stroke-linejoin:miter;stroke-width:0.8;\"/>\n   </g>\n   <g id=\"patch_4\">\n    <path d=\"M 364.903125 224.64 \nL 364.903125 7.2 \n\" style=\"fill:none;stroke:#000000;stroke-linecap:square;stroke-linejoin:miter;stroke-width:0.8;\"/>\n   </g>\n   <g id=\"patch_5\">\n    <path d=\"M 30.103125 224.64 \nL 364.903125 224.64 \n\" style=\"fill:none;stroke:#000000;stroke-linecap:square;stroke-linejoin:miter;stroke-width:0.8;\"/>\n   </g>\n   <g id=\"patch_6\">\n    <path d=\"M 30.103125 7.2 \nL 364.903125 7.2 \n\" style=\"fill:none;stroke:#000000;stroke-linecap:square;stroke-linejoin:miter;stroke-width:0.8;\"/>\n   </g>\n   <g id=\"legend_1\">\n    <g id=\"patch_7\">\n     <path d=\"M 37.103125 219.64 \nL 92.378125 219.64 \nQ 94.378125 219.64 94.378125 217.64 \nL 94.378125 189.28375 \nQ 94.378125 187.28375 92.378125 187.28375 \nL 37.103125 187.28375 \nQ 35.103125 187.28375 35.103125 189.28375 \nL 35.103125 217.64 \nQ 35.103125 219.64 37.103125 219.64 \nz\n\" style=\"fill:#ffffff;opacity:0.8;stroke:#cccccc;stroke-linejoin:miter;\"/>\n    </g>\n    <g id=\"line2d_14\">\n     <path d=\"M 39.103125 195.382188 \nL 59.103125 195.382188 \n\" style=\"fill:none;stroke:#1f77b4;stroke-linecap:square;stroke-width:1.5;\"/>\n    </g>\n    <g id=\"line2d_15\"/>\n    <g id=\"text_12\">\n     <!-- train -->\n     <g transform=\"translate(67.103125 198.882188)scale(0.1 -0.1)\">\n      <defs>\n       <path d=\"M 18.3125 70.21875 \nL 18.3125 54.6875 \nL 36.8125 54.6875 \nL 36.8125 47.703125 \nL 18.3125 47.703125 \nL 18.3125 18.015625 \nQ 18.3125 11.328125 20.140625 9.421875 \nQ 21.96875 7.515625 27.59375 7.515625 \nL 36.8125 7.515625 \nL 36.8125 0 \nL 27.59375 0 \nQ 17.1875 0 13.234375 3.875 \nQ 9.28125 7.765625 9.28125 18.015625 \nL 9.28125 47.703125 \nL 2.6875 47.703125 \nL 2.6875 54.6875 \nL 9.28125 54.6875 \nL 9.28125 70.21875 \nz\n\" id=\"DejaVuSans-116\"/>\n       <path d=\"M 41.109375 46.296875 \nQ 39.59375 47.171875 37.8125 47.578125 \nQ 36.03125 48 33.890625 48 \nQ 26.265625 48 22.1875 43.046875 \nQ 18.109375 38.09375 18.109375 28.8125 \nL 18.109375 0 \nL 9.078125 0 \nL 9.078125 54.6875 \nL 18.109375 54.6875 \nL 18.109375 46.1875 \nQ 20.953125 51.171875 25.484375 53.578125 \nQ 30.03125 56 36.53125 56 \nQ 37.453125 56 38.578125 55.875 \nQ 39.703125 55.765625 41.0625 55.515625 \nz\n\" id=\"DejaVuSans-114\"/>\n       <path d=\"M 34.28125 27.484375 \nQ 23.390625 27.484375 19.1875 25 \nQ 14.984375 22.515625 14.984375 16.5 \nQ 14.984375 11.71875 18.140625 8.90625 \nQ 21.296875 6.109375 26.703125 6.109375 \nQ 34.1875 6.109375 38.703125 11.40625 \nQ 43.21875 16.703125 43.21875 25.484375 \nL 43.21875 27.484375 \nz\nM 52.203125 31.203125 \nL 52.203125 0 \nL 43.21875 0 \nL 43.21875 8.296875 \nQ 40.140625 3.328125 35.546875 0.953125 \nQ 30.953125 -1.421875 24.3125 -1.421875 \nQ 15.921875 -1.421875 10.953125 3.296875 \nQ 6 8.015625 6 15.921875 \nQ 6 25.140625 12.171875 29.828125 \nQ 18.359375 34.515625 30.609375 34.515625 \nL 43.21875 34.515625 \nL 43.21875 35.40625 \nQ 43.21875 41.609375 39.140625 45 \nQ 35.0625 48.390625 27.6875 48.390625 \nQ 23 48.390625 18.546875 47.265625 \nQ 14.109375 46.140625 10.015625 43.890625 \nL 10.015625 52.203125 \nQ 14.9375 54.109375 19.578125 55.046875 \nQ 24.21875 56 28.609375 56 \nQ 40.484375 56 46.34375 49.84375 \nQ 52.203125 43.703125 52.203125 31.203125 \nz\n\" id=\"DejaVuSans-97\"/>\n       <path d=\"M 9.421875 54.6875 \nL 18.40625 54.6875 \nL 18.40625 0 \nL 9.421875 0 \nz\nM 9.421875 75.984375 \nL 18.40625 75.984375 \nL 18.40625 64.59375 \nL 9.421875 64.59375 \nz\n\" id=\"DejaVuSans-105\"/>\n       <path d=\"M 54.890625 33.015625 \nL 54.890625 0 \nL 45.90625 0 \nL 45.90625 32.71875 \nQ 45.90625 40.484375 42.875 44.328125 \nQ 39.84375 48.1875 33.796875 48.1875 \nQ 26.515625 48.1875 22.3125 43.546875 \nQ 18.109375 38.921875 18.109375 30.90625 \nL 18.109375 0 \nL 9.078125 0 \nL 9.078125 54.6875 \nL 18.109375 54.6875 \nL 18.109375 46.1875 \nQ 21.34375 51.125 25.703125 53.5625 \nQ 30.078125 56 35.796875 56 \nQ 45.21875 56 50.046875 50.171875 \nQ 54.890625 44.34375 54.890625 33.015625 \nz\n\" id=\"DejaVuSans-110\"/>\n      </defs>\n      <use xlink:href=\"#DejaVuSans-116\"/>\n      <use x=\"39.208984\" xlink:href=\"#DejaVuSans-114\"/>\n      <use x=\"80.322266\" xlink:href=\"#DejaVuSans-97\"/>\n      <use x=\"141.601562\" xlink:href=\"#DejaVuSans-105\"/>\n      <use x=\"169.384766\" xlink:href=\"#DejaVuSans-110\"/>\n     </g>\n    </g>\n    <g id=\"line2d_16\">\n     <path d=\"M 39.103125 210.060313 \nL 59.103125 210.060313 \n\" style=\"fill:none;stroke:#ff7f0e;stroke-linecap:square;stroke-width:1.5;\"/>\n    </g>\n    <g id=\"line2d_17\"/>\n    <g id=\"text_13\">\n     <!-- test -->\n     <g transform=\"translate(67.103125 213.560313)scale(0.1 -0.1)\">\n      <defs>\n       <path d=\"M 56.203125 29.59375 \nL 56.203125 25.203125 \nL 14.890625 25.203125 \nQ 15.484375 15.921875 20.484375 11.0625 \nQ 25.484375 6.203125 34.421875 6.203125 \nQ 39.59375 6.203125 44.453125 7.46875 \nQ 49.3125 8.734375 54.109375 11.28125 \nL 54.109375 2.78125 \nQ 49.265625 0.734375 44.1875 -0.34375 \nQ 39.109375 -1.421875 33.890625 -1.421875 \nQ 20.796875 -1.421875 13.15625 6.1875 \nQ 5.515625 13.8125 5.515625 26.8125 \nQ 5.515625 40.234375 12.765625 48.109375 \nQ 20.015625 56 32.328125 56 \nQ 43.359375 56 49.78125 48.890625 \nQ 56.203125 41.796875 56.203125 29.59375 \nz\nM 47.21875 32.234375 \nQ 47.125 39.59375 43.09375 43.984375 \nQ 39.0625 48.390625 32.421875 48.390625 \nQ 24.90625 48.390625 20.390625 44.140625 \nQ 15.875 39.890625 15.1875 32.171875 \nz\n\" id=\"DejaVuSans-101\"/>\n       <path d=\"M 44.28125 53.078125 \nL 44.28125 44.578125 \nQ 40.484375 46.53125 36.375 47.5 \nQ 32.28125 48.484375 27.875 48.484375 \nQ 21.1875 48.484375 17.84375 46.4375 \nQ 14.5 44.390625 14.5 40.28125 \nQ 14.5 37.15625 16.890625 35.375 \nQ 19.28125 33.59375 26.515625 31.984375 \nL 29.59375 31.296875 \nQ 39.15625 29.25 43.1875 25.515625 \nQ 47.21875 21.78125 47.21875 15.09375 \nQ 47.21875 7.46875 41.1875 3.015625 \nQ 35.15625 -1.421875 24.609375 -1.421875 \nQ 20.21875 -1.421875 15.453125 -0.5625 \nQ 10.6875 0.296875 5.421875 2 \nL 5.421875 11.28125 \nQ 10.40625 8.6875 15.234375 7.390625 \nQ 20.0625 6.109375 24.8125 6.109375 \nQ 31.15625 6.109375 34.5625 8.28125 \nQ 37.984375 10.453125 37.984375 14.40625 \nQ 37.984375 18.0625 35.515625 20.015625 \nQ 33.0625 21.96875 24.703125 23.78125 \nL 21.578125 24.515625 \nQ 13.234375 26.265625 9.515625 29.90625 \nQ 5.8125 33.546875 5.8125 39.890625 \nQ 5.8125 47.609375 11.28125 51.796875 \nQ 16.75 56 26.8125 56 \nQ 31.78125 56 36.171875 55.265625 \nQ 40.578125 54.546875 44.28125 53.078125 \nz\n\" id=\"DejaVuSans-115\"/>\n      </defs>\n      <use xlink:href=\"#DejaVuSans-116\"/>\n      <use x=\"39.208984\" xlink:href=\"#DejaVuSans-101\"/>\n      <use x=\"100.732422\" xlink:href=\"#DejaVuSans-115\"/>\n      <use x=\"152.832031\" xlink:href=\"#DejaVuSans-116\"/>\n     </g>\n    </g>\n   </g>\n  </g>\n </g>\n <defs>\n  <clipPath id=\"pcfca5e10c8\">\n   <rect height=\"217.44\" width=\"334.8\" x=\"30.103125\" y=\"7.2\"/>\n  </clipPath>\n </defs>\n</svg>\n",
      "image/png": "[encoded data removed]"
     },
     "metadata": {
      "needs_background": "light"
     }
    }
   ],
   "source": [
    "plt.plot(history.history['loss'], label='train')\n",
    "plt.plot(history.history['val_loss'], label='test')\n",
    "plt.legend()\n",
    "plt.show()"
   ]
  },
  {
   "source": [
    "<br>\n",
    "\n",
    "## 인퍼런스 모델 구현하기\n",
    "\n",
    "<br>"
   ],
   "cell_type": "markdown",
   "metadata": {}
  },
  {
   "source": [
    "<br>\n",
    "\n",
    "테스트 단계에서는 정수 인덱스 행렬로 존재하던 텍스트 데이터를 실제 데이터로 복원해야 합니다. <br>\n",
    "따라서 필요한 3개의 사전을 아래와 같이 미리 준비해 둡니다.\n",
    "\n",
    "<br>"
   ],
   "cell_type": "markdown",
   "metadata": {}
  },
  {
   "cell_type": "code",
   "execution_count": 202,
   "metadata": {},
   "outputs": [],
   "source": [
    "# 단어사전 준비\n",
    "\n",
    "src_index_to_word = src_tokenizer.index_word # 원문 단어 집합에서 정수 -> 단어를 얻음\n",
    "tar_word_to_index = tar_tokenizer.word_index # 요약 단어 집합에서 단어 -> 정수를 얻음\n",
    "tar_index_to_word = tar_tokenizer.index_word # 요약 단어 집합에서 정수 -> 단어를 얻음"
   ]
  },
  {
   "source": [
    "<br>\n",
    "\n",
    "seq2seq는 훈련할 때와 실제 동작할 때(인퍼런스 단계)의 방식이 다릅니다. <br>\n",
    "따라서 그에 맞게 모델 설계를 별개로 진행해야 합니다. <br><br>\n",
    "\n",
    "- __학습 단계__ <br>\n",
    "훈련 단계에서는 디코더의 입력부에 정답이 되는 문장 전체를 한꺼번에 넣고 디코더의 출력과 한번에 비교할 수 있으므로, 인코더와 디코더를 엮은 통짜 모델 하나만 준비 <br><br>\n",
    "\n",
    "- __인퍼런스 단계__ <br>\n",
    "정답 문장이 없는 인퍼런스 단계에서는 만들어야 할 문장의 길이만큼 디코더가 반복 구조로 동작해야 하기 때문에 부득이하게 인퍼런스를 위한 모델 설계를 별도로 해주어야 합니다. 이때는 인코더 모델과 디코더 모델을 분리해서 설계합니다.\n",
    "\n",
    "<br>"
   ],
   "cell_type": "markdown",
   "metadata": {}
  },
  {
   "cell_type": "code",
   "execution_count": 203,
   "metadata": {},
   "outputs": [],
   "source": [
    "# 인코더 설계\n",
    "encoder_model = Model(inputs=encoder_inputs, outputs=[encoder_outputs, state_h, state_c])\n",
    "\n",
    "# 이전 시점의 상태들을 저장하는 텐서\n",
    "decoder_state_input_h = Input(shape=(hidden_size,))\n",
    "decoder_state_input_c = Input(shape=(hidden_size,))\n",
    "\n",
    "dec_emb2 = dec_emb_layer(decoder_inputs)\n",
    "# 문장의 다음 단어를 예측하기 위해서 초기 상태(initial_state)를 이전 시점의 상태로 사용. 이는 뒤의 함수 decode_sequence()에 구현\n",
    "# 훈련 과정에서와 달리 LSTM의 리턴하는 은닉 상태와 셀 상태인 state_h와 state_c를 버리지 않음.\n",
    "decoder_outputs2, state_h2, state_c2 = decoder_lstm(dec_emb2, initial_state=[decoder_state_input_h, decoder_state_input_c])"
   ]
  },
  {
   "source": [
    "<br>\n",
    "\n",
    "#### 어텐션 메커니즘을 사용하는 출력층 설계\n",
    "\n",
    "<br>"
   ],
   "cell_type": "markdown",
   "metadata": {}
  },
  {
   "cell_type": "code",
   "execution_count": 204,
   "metadata": {},
   "outputs": [],
   "source": [
    "# 어텐션 함수\n",
    "decoder_hidden_state_input = Input(shape=(text_max_len, hidden_size))\n",
    "attn_out_inf, attn_states_inf = attn_layer([decoder_hidden_state_input, decoder_outputs2])\n",
    "decoder_inf_concat = Concatenate(axis=-1, name='concat')([decoder_outputs2, attn_out_inf])\n",
    "\n",
    "# 디코더의 출력층\n",
    "decoder_outputs2 = decoder_softmax_layer(decoder_inf_concat) \n",
    "\n",
    "# 최종 디코더 모델\n",
    "decoder_model = Model(\n",
    "    [decoder_inputs] + [decoder_hidden_state_input,decoder_state_input_h, decoder_state_input_c],\n",
    "    [decoder_outputs2] + [state_h2, state_c2])"
   ]
  },
  {
   "source": [
    "<br>\n",
    "\n",
    "#### 인퍼런스 단계에서 단어 시퀀스를 완성하는 함수\n",
    "\n",
    "<br>"
   ],
   "cell_type": "markdown",
   "metadata": {}
  },
  {
   "cell_type": "code",
   "execution_count": 205,
   "metadata": {},
   "outputs": [],
   "source": [
    "def decode_sequence(input_seq):\n",
    "    # 입력으로부터 인코더의 상태를 얻음\n",
    "    e_out, e_h, e_c = encoder_model.predict(input_seq)\n",
    "\n",
    "     # <SOS>에 해당하는 토큰 생성\n",
    "    target_seq = np.zeros((1,1))\n",
    "    target_seq[0, 0] = tar_word_to_index['sostoken']\n",
    "\n",
    "    stop_condition = False\n",
    "    decoded_sentence = ''\n",
    "    while not stop_condition: # stop_condition이 True가 될 때까지 루프 반복\n",
    "\n",
    "        output_tokens, h, c = decoder_model.predict([target_seq] + [e_out, e_h, e_c])\n",
    "        sampled_token_index = np.argmax(output_tokens[0, -1, :])\n",
    "        sampled_token = tar_index_to_word[sampled_token_index]\n",
    "\n",
    "        if(sampled_token!='eostoken'):\n",
    "            decoded_sentence += ' '+sampled_token\n",
    "\n",
    "        #  <eos>에 도달하거나 최대 길이를 넘으면 중단.\n",
    "        if (sampled_token == 'eostoken'  or len(decoded_sentence.split()) >= (summary_max_len-1)):\n",
    "            stop_condition = True\n",
    "\n",
    "        # 길이가 1인 타겟 시퀀스를 업데이트\n",
    "        target_seq = np.zeros((1,1))\n",
    "        target_seq[0, 0] = sampled_token_index\n",
    "\n",
    "        # 상태를 업데이트 합니다.\n",
    "        e_h, e_c = h, c\n",
    "\n",
    "    return decoded_sentence"
   ]
  },
  {
   "source": [
    "<br>\n",
    "\n",
    "## 모델 테스트하기\n",
    "\n",
    "<br>"
   ],
   "cell_type": "markdown",
   "metadata": {}
  },
  {
   "source": [
    "<br>\n",
    "\n",
    "### 정수 시퀀스 -> 텍스트 시퀀스 변환 <br><br>\n",
    "\n",
    "테스트 단계에서는 정수 시퀀스를 텍스트 시퀀스로 변환하여 결과를 확인하는 것이 필요합니다. <br>\n",
    "이를 위해 주어진 정수 시퀀스를 텍스트 시퀀스로 변환하는 함수를 작성하여 테스트를 해봅니다. <br><br>\n",
    "\n",
    "Text의 정수 시퀀스에서는 패딩을 위해 사용되는 숫자 0을 제외시키고 Summary의 정수 시퀀스에서는 숫자 0, 시작 토큰의 인덱스, 종료 토큰의 인덱스를 출력에서 제외시키도록 변환함수를 작성합니다.\n",
    "\n",
    "<br>"
   ],
   "cell_type": "markdown",
   "metadata": {}
  },
  {
   "cell_type": "code",
   "execution_count": 206,
   "metadata": {},
   "outputs": [],
   "source": [
    "# 모델 테스트를 위해 정수 시퀀스 -> 텍스트 시퀀스 변환 함수 작성\n",
    "\n",
    "# 원문의 정수 시퀀스를 텍스트 시퀀스로 변환\n",
    "def seq2text(input_seq):\n",
    "    temp=''\n",
    "    for i in input_seq:\n",
    "        if(i!=0):\n",
    "            temp = temp + src_index_to_word[i]+' '\n",
    "    return temp\n",
    "\n",
    "# 요약문의 정수 시퀀스를 텍스트 시퀀스로 변환\n",
    "def seq2summary(input_seq):\n",
    "    temp=''\n",
    "    for i in input_seq:\n",
    "        if((i!=0 and i!=tar_word_to_index['sostoken']) and i!=tar_word_to_index['eostoken']):\n",
    "            temp = temp + tar_index_to_word[i] + ' '\n",
    "    return temp"
   ]
  },
  {
   "source": [
    "<br>\n",
    "\n",
    "### 모델 테스트 (적용)\n",
    "\n",
    "테스트 데이터 약 50개의 샘플에 대해서 실제 요약과 예측된 요약을 비교\n",
    "\n",
    "<br>"
   ],
   "cell_type": "markdown",
   "metadata": {}
  },
  {
   "cell_type": "code",
   "execution_count": 207,
   "metadata": {},
   "outputs": [
    {
     "output_type": "stream",
     "name": "stdout",
     "text": [
      "원문 : indian chinaman kuldeep yadav became first indian spinner take hat trick odi cricket achieving feat second odi australia thursday yadav took wickets matthew wade ashton agar pat cummins consecutive balls eighth first odi hat trick indian years \n",
      "실제 요약 : kuldeep becomes first indian spinner to take odi hat trick \n",
      "예측 요약 :  kuldeep st indian spinner to take hat trick in odi history\n",
      "\n",
      "\n",
      "원문 : madhya pradesh police seized kg beef two men state damoh district thursday two persons later arrested allegedly carrying meat cow legs plastic bags car cops seized meat following tip right wing organisation thursday night \n",
      "실제 요약 : over kg beef seized in mp two arrested \n",
      "예측 요약 :  mp police arrest for kg of cow seized in mp\n",
      "\n",
      "\n",
      "원문 : madhya pradesh police found nearly people listed school dropouts ages fudged district education department records allegedly increase enrolment numbers schools matter came light police launched initiative encourage government school dropouts study notably year old woman listed year old school dropout \n",
      "실제 요약 : people ages wrongly in mp schools to up numbers \n",
      "예측 요약 :  mp police to provide lakh to school for students\n",
      "\n",
      "\n",
      "원문 : former punjab director general police gill passed away friday age delhi hospital suffering cardiac arrest padma shri awardee credited ending khalistani insurgency punjab went become president indian hockey federation serving twice punjab dgp \n",
      "실제 요약 : former punjab top cop gill passes away at \n",
      "예측 요약 :  former chief who officer dies at delhi hospital\n",
      "\n",
      "\n",
      "원문 : confectionery giant mars confirmed recalling popular chocolate products across uk ireland due potential presence bacteria salmonella company said precautionary recall affects galaxy chocolate bars products teasers recall mars second months withdrew products countries earlier year \n",
      "실제 요약 : mars recalls galaxy chocolate others over fear of bacteria \n",
      "예측 요약 :  ford recalls recalls over lakh over faulty soil\n",
      "\n",
      "\n",
      "원문 : self styled godman daati maharaj said year old woman follower accused rape daughter put allegations even hanged put allegations done anything wrong legal authorities look added \n",
      "실제 요약 : that girl was my daughter godman on rape charge \n",
      "예측 요약 :  am not rape victim who was raped by me in rape case\n",
      "\n",
      "\n",
      "원문 : businessman raj kundra said wife shilpa shetty name dragged cheating case create media hype tight contracts signed contrary vendor owes us money fulfilling orders added kundra explained shilpa nothing daily running business \n",
      "실제 요약 : shilpa name dragged in business row to create hype kundra \n",
      "예측 요약 :  am not personal number of my name bigg boss wife shilpa\n",
      "\n",
      "\n",
      "원문 : delhi government started doorstep delivery services programme make government services including driving license new water connection ration card available residents doorstep first phase available extra fee applicants call helpline number request services delivery marriage caste certificates also available \n",
      "실제 요약 : doorstep delivery of govt services starts in delhi at \n",
      "예측 요약 :  delhi govt to install cctvs in delhi based services\n",
      "\n",
      "\n",
      "원문 : infosys directed arbitral tribunal pay former cfo rajiv bansal outstanding severance pay crore interest infosys counterclaim refund previously paid severance amount crore damages rejected company filing said bansal quit infosys supposed get crore severance pay \n",
      "실제 요약 : infosys told to pay cr with interest to ex cfo bansal \n",
      "예측 요약 :  infosys cfo pay hike pay hike in ex infosys cfo\n",
      "\n",
      "\n",
      "원문 : women police officials gurugram tied rakhis hands traffic violators instead issuing challans occasion rakshabandhan spread awareness traffic rules violators pleasantly surprised gesture promised follow rules future police said many insisted giving money policewomen per festival tradition police added \n",
      "실제 요약 : over traffic get rakhis instead of challans \n",
      "예측 요약 :  cops use to use traffic to avoid traffic in traffic\n",
      "\n",
      "\n",
      "원문 : three foot tall dwarf jaish mohammed commander noor mohammed tantray killed security forces encounter tuesday tantray responsible major terror strikes including attack bsf camp october arrested terrorism sentenced life imprisonment year old run since jumping parole \n",
      "실제 요약 : ft tall dwarf jaish terrorist killed in encounter in \n",
      "예측 요약 :  egypt mosque attack mastermind shot dead in\n",
      "\n",
      "\n",
      "원문 : rajasthan high court tuesday allowed year old woman interfaith marriage converted islam return husband government home however said probe conversion marriage documents would continue last week court raised questions marriage brother alleged forcibly converted \n",
      "실제 요약 : raj hc allows woman in love jihad case to return to husband \n",
      "예측 요약 :  hc orders woman to stay in divorce by marrying husband\n",
      "\n",
      "\n",
      "원문 : cricketer singer dwayne dj bravo known song champion featured song trip abhi baaki hai rapped hindi rap includes lyrics like teri se mein hua clean bowled song composed sung indian singer \n",
      "실제 요약 : dj bravo raps in hindi in trip abhi hai song \n",
      "예측 요약 :  dwayne johnson sings song from padman released\n",
      "\n",
      "\n",
      "원문 : becoming oldest world number one tennis history swiss tennis player roger federer said deep sense satisfaction year winning three slams took get ranking year old first became world number one went stay position weeks \n",
      "실제 요약 : deep satisfaction on reaching number one roger federer \n",
      "예측 요약 :  federer is the world best person to be world no\n",
      "\n",
      "\n",
      "원문 : actor del toro starred collector avengers infinity war said believes character still alive earlier appearing talk show late show stephen colbert host asked appear die appear avengers blink responding \n",
      "실제 요약 : feel collector from avengers infinity war still alive \n",
      "예측 요약 :  love to be the the nation of the nation film war avengers\n",
      "\n",
      "\n",
      "원문 : union minister arun jaitley tuesday took dig congress saying reservation jumla mention congress manifesto general polls jaitley comment came opposition questioned timing behind government move include economically weaker categories within general category reservation reservation aimed give equality said \n",
      "실제 요약 : reservation jumla was in congress manifesto jaitley \n",
      "예측 요약 :  congress to hold congress jaitley on congress jaitley\n",
      "\n",
      "\n",
      "원문 : malaysian prime minister najib razak said body kim jong nam half brother north korean leader kim jong un released north korea request family malaysians barred leaving north korea given permission return north koreans would allowed leave malaysia razak added \n",
      "실제 요약 : malaysia releases body of korean dictator brother \n",
      "예측 요약 :  pm jong un kim jong un may be kim jong un leader\n",
      "\n",
      "\n",
      "원문 : indian women hockey team beat malaysian counterparts second match commonwealth games australia friday team returning defeat wales opening match saw two goals defender gurjit kaur goal apiece rani rampal lalremsiami india next face england sunday \n",
      "실제 요약 : indian women hockey team thrashes malaysia at cwg \n",
      "예측 요약 :  indian women hockey team team wins th straight straight win\n",
      "\n",
      "\n",
      "원문 : passenger travelling tirupati hyderabad filed complaint spicejet playing national anthem minutes landing complainant said passengers position stand following pilot directions keep seat belt spicejet spokesperson said anthem started playing crew mistakenly selected wrong number playlist \n",
      "실제 요약 : spicejet plays national anthem with people strapped to seats \n",
      "예측 요약 :  flyer leaves passengers for not wearing hijab in delhi\n",
      "\n",
      "\n",
      "원문 : aiadmk faction led tamil nadu cm palaniswami panneerselvam named party chairman madhusudhanan candidate rk nagar bypoll seat left vacant former cm jayalalithaa demise bypoll earlier scheduled april got cancelled election commission reports money distribution \n",
      "실제 요약 : ruling aiadmk group names for rk nagar bypoll \n",
      "예측 요약 :  aiadmk leader merger with jayalalithaa\n",
      "\n",
      "\n",
      "원문 : supreme court next week hear plea family alwar lynching victim transfer trial outside rajasthan plea also seeks court monitored probe case case relates death rakbar allegedly beaten death transporting cows suspicion cattle thief \n",
      "실제 요약 : supreme court to hear plea to move alwar lynching trial from raj \n",
      "예측 요약 :  sc refuses to hear plea on plea to hear plea on plea\n",
      "\n",
      "\n",
      "원문 : election commission said sharad pawar led nationalist congress party party willing participate poll panel challenge hack electronic voting machines ec said aap expressed interest participating hackathon despite party recently demonstrated tampering evms delhi assembly \n",
      "실제 요약 : ncp only party willing to take part in evm hackathon ec \n",
      "예측 요약 :  sharad pawar is the party of poll candidates sharad pawar\n",
      "\n",
      "\n",
      "원문 : flight time hours minutes qatar airways auckland doha flight covering kilometres currently world longest flight distance time united airlines los angeles singapore flight launched earlier week covers distance kilometres comes second list flight time hours minutes \n",
      "실제 요약 : which are the longest flights in the world \n",
      "예측 요약 :  flight makes emergency landing in australia for first time\n",
      "\n",
      "\n",
      "원문 : hours calcutta high court revoked chief minister mamata banerjee ban durga idol immersion muharram said someone slit throat one tell court overruled ban observing hindered individuals freedom practice religion created line two communities \n",
      "실제 요약 : can slit my throat but cannot tell me what to do mamata \n",
      "예측 요약 :  hc orders ban on durga idol in durga puja in delhi\n",
      "\n",
      "\n",
      "원문 : punjab national bank crore scam accused diamantaire mehul choksi aide deepak kulkarni used look choksi hong kong business arrested kolkata monday arrested kolkata airport upon arrival hong kong cbi enforcement directorate issued look circular \n",
      "실제 요약 : pnb scam accused mehul choksi aide deepak arrested \n",
      "예측 요약 :  pnb scam accused of choksi choksi to be auctioned\n",
      "\n",
      "\n",
      "원문 : russian space agency roscosmos chief dmitry rogozin said disgrace nasa cancelled planned visit us nasa administrator jim bridenstine reportedly said invitation rescinded request us senators rogozin us sanctions support country annexation ukraine crimea region \n",
      "실제 요약 : it is disgrace chief on nasa cancelling us visit \n",
      "예측 요약 :  russia is us not to create russia russia russia\n",
      "\n",
      "\n",
      "원문 : katrina kaif sharing picture instagram wrote game thrones please commenting picture user wrote madam look like daenerys targaryen another user wrote next currently season fantasy drama series game thrones aired \n",
      "실제 요약 : love jon snow can be in game of thrones asks katrina \n",
      "예측 요약 :  katrina shares pic of her katrina meme on instagram\n",
      "\n",
      "\n",
      "원문 : retired lieutenant general zameer uddin shah led army operations gujarat riots called special investigation team report riots blatant lie shah said delay hours providing army transport reach riot affected areas sit report said delay deployment army \n",
      "실제 요약 : officer who led army in riots calls sit report lie \n",
      "예측 요약 :  will not allow anyone to solve kashmir kashmir ex army chief\n",
      "\n",
      "\n",
      "원문 : major infosys dropped plans sell panaya skava acquired former ceo vishal sikka tenure company expected sale completed march whistleblower claimed panaya acquisition overvalued infosys co founder narayana murthy accused sikka transparent deal \n",
      "실제 요약 : infosys drops plan to sell firms bought during sikka tenure \n",
      "예측 요약 :  infosys to buy ceo from ceo settlement with infosys ceo\n",
      "\n",
      "\n",
      "원문 : year old student national fire service college nagpur allegedly committed suicide railway tracks near new delhi railway station sunday student sent suicide note father whatsapp alleging teacher demanded give passing marks seven semesters college ordered inquiry probe incident \n",
      "실제 요약 : student commits suicide after teacher seeks bribe to pass in exam \n",
      "예측 요약 :  year old boy sets fire on fire in mumbai station\n",
      "\n",
      "\n",
      "원문 : infosys decision return crore shareholders little former chief financial officer balakrishnan thursday said commenting appointment ravi venkatesan co chairman said would make structure much complex board level balakrishnan also labelled infosys results march quarter disappointing \n",
      "실제 요약 : infosys cr payout to shareholders too little ex cfo \n",
      "예측 요약 :  infosys cfo is the ex cfo on buyback ex cfo\n",
      "\n",
      "\n",
      "원문 : yami gautam facebook post ongoing kangana hrithik row wrote tussle turned gender war people man guilty wrote gender card allowed take precedence facts serious blow going efforts getting women equal standing opposite sex \n",
      "실제 요약 : hrithik kangana tussle has turned into gender war yami \n",
      "예측 요약 :  kangana should not be allowed to change their rights shatrughan\n",
      "\n",
      "\n",
      "원문 : indian women cricket legend mithali raj letter addressed bcci ceo rahul johri gm saba karim leaked media bcci acting secretary amitabh choudhary questioned leaked clear contents extremely damaging certain individual persons therefore bcci wrote mail johri karim \n",
      "실제 요약 : bcci secretary questions how mithali letter was leaked to media \n",
      "예측 요약 :  mithali raj kumble asked to resign over bcci report\n",
      "\n",
      "\n",
      "원문 : unidentified men escaped ballot box polling booth wednesday malda district west bengal witnessing polling panchayat elections booths across state miscreant also seen carrying gun polling ordered people killed violence voting panchayat polls monday \n",
      "실제 요약 : unidentified men escape with ballot box from wb poll booth \n",
      "예측 요약 :  polling stations in nagaland nagaland nagaland polling found\n",
      "\n",
      "\n",
      "원문 : russian president vladimir putin important help us north korea nuclear tensions us president donald trump said relations us russia strained allegations russia meddled us election us russia relations also flared syria civil war two countries support opposite factions \n",
      "실제 요약 : russian prez is very important can help with korea trump \n",
      "예측 요약 :  putin will be the us to us prez putin\n",
      "\n",
      "\n",
      "원문 : indian spinner kuldeep yadav jumped places reach third spot icc bowler rankings performances recently concluded series australia meanwhile australian leg spinner adam zampa made spot leap reach fifth spot picking three wickets india across two bowling innings series \n",
      "실제 요약 : kuldeep jumps places to reach rd spot in rankings \n",
      "예측 요약 :  kuldeep yadav breaks out of the world number in icc odi\n",
      "\n",
      "\n",
      "원문 : art living foundation founder sri sri ravi shankar reportedly approached members religious groups nirmohi akhada india muslim personal law board mediate ayodhya dispute people came met positive energy everybody people want settle issue shankar said \n",
      "실제 요약 : sri sri ravi shankar asked to mediate in ayodhya dispute \n",
      "예측 요약 :  sri lanka pm launches tv for muslim group from ayodhya\n",
      "\n",
      "\n",
      "원문 : senior congress leader digvijaya singh monday claimed telangana police set bogus isis site radicalising muslim youths encouraging become isis modules ethical moral kcr authorised telangana police trap muslim youths encourage join isis digvijaya tweeted \n",
      "실제 요약 : telangana police encouraging youth to join isis digvijaya \n",
      "예측 요약 :  digvijaya singh leaders to be held for sikh riots in mp\n",
      "\n",
      "\n",
      "원문 : turkish president recep tayyip erdo said turkey longer agree every demand made western countries adding every country take measures security erdo dismissed us concerns country negotiations russia buy missile defence systems also warned european countries interfering turkey internal affairs \n",
      "실제 요약 : will not agree to every western demand turkey prez erdo an \n",
      "예측 요약 :  turkey prez calls for turkey president\n",
      "\n",
      "\n",
      "원문 : delhi daredevils team india fast bowler mohammad shami included world xi squad play one windies lord cricket ground london may year old replaced compatriot hardik pandya pulled due viral infection kkr captain dinesh karthik indian side \n",
      "실제 요약 : mohammad shami to play for world xi replaces hardik pandya \n",
      "예측 요약 :  india captain shami named sa captain for st time in sa\n",
      "\n",
      "\n",
      "원문 : technology giant google added instant apps feature google play store try button let users try android apps downloading feature currently available apps including new york times crossword buzzfeed news instant apps feature allowing users try apps without downloading first introduced last year \n",
      "실제 요약 : google play store now allows trying apps without \n",
      "예측 요약 :  google to play apps in apps on android apps report\n",
      "\n",
      "\n",
      "원문 : uber wednesday announced block customers australia new zealand ride service low passenger rating passengers fall minimum average rating lose access uber app company said move aimed improving ride experience passengers receive multiple warnings blocked \n",
      "실제 요약 : uber to block low rated riders in australia and new zealand \n",
      "예측 요약 :  uber to open new stores to make australia employees\n",
      "\n",
      "\n",
      "원문 : astronomers discovered possibly rocky planet two three times massive earth planet sixth super earth closest solar system could potentially habitable due optimal planet star distance researchers said discovery made using radial velocity technique measuring changes position velocity star due planet orbit \n",
      "실제 요약 : astronomers find super earth near habitable zone of star \n",
      "예측 요약 :  astronomers find planet system to detect planet system\n",
      "\n",
      "\n",
      "원문 : french president emmanuel macron proposed creating new european monetary fund deal eu financial affairs adding imf place eu affairs macron said eu imf taken wrong approach solving greek debt crisis also proposed overall budget finance minister eurozone \n",
      "실제 요약 : macron proposes european monetary fund to solve debt crisis \n",
      "예측 요약 :  french prez calls eu eu eu brexit deal with eu\n",
      "\n",
      "\n",
      "원문 : users reported google pixel pixel xl devices running warm battery life reduced users pointed issues started occurring installed latest security update devices november last year pixel xl users reported devices randomly rebooting without warning \n",
      "실제 요약 : google pixel xl users report battery life issue \n",
      "예측 요약 :  google pixel xl xl xl xl due to pixel xl in pixel\n",
      "\n",
      "\n",
      "원문 : village named northern china created giant qr code made trees boost local tourism village reportedly used juniper trees create square code measures metres side scanning qr code directs users official tourism page china messaging app wechat \n",
      "실제 요약 : village in china builds qr code using over one lakh trees \n",
      "예측 요약 :  china builds plant in china\n",
      "\n",
      "\n",
      "원문 : honda jazz owner hyderabad imposed fine lakh overspeeding times one year according telangana challan portal send vehicle number detain vehicle make sure vehicle owner clears challans soon inspector dv ranga reddy said \n",
      "실제 요약 : man fined lakh for overspeeding times in one year \n",
      "예측 요약 :  lakh fine for lakh stolen from atm in pune\n",
      "\n",
      "\n",
      "원문 : referring national association software services companies akamai telecom ministry monday said internet users india reach million minister communications manoj sinha said per information received telecom regulatory authority india million internet subscribers india december \n",
      "실제 요약 : internet users in india to reach million by govt \n",
      "예측 요약 :  govt to make india security network in india report\n",
      "\n",
      "\n",
      "원문 : indian army chief general bipin rawat said country shift focus border pakistan china chinese foreign ministry called rawat comments unconstructive remarks conform efforts made two sides improve develop bilateral relations ministry added \n",
      "실제 요약 : indian army chief comments china \n",
      "예측 요약 :  india has not to be the biggest pakistan army chief\n",
      "\n",
      "\n",
      "원문 : rcb batsman ab de villiers smashed biggest six ipl sending csk leg spinner imran tahir delivery distance metres bengaluru chinnaswamy stadium wednesday de villiers cleared roof six went smash eight sixes run knock year old hit sixes season \n",
      "실제 요약 : abd slams metre maximum to record ipl biggest six \n",
      "예측 요약 :  abd takes catch to rcb de villiers gets run out\n",
      "\n",
      "\n"
     ]
    }
   ],
   "source": [
    "for i in range(50, 100):\n",
    "    print(\"원문 :\", seq2text(encoder_input_test[i]))\n",
    "    print(\"실제 요약 :\", seq2summary(decoder_input_test[i]))\n",
    "    print(\"예측 요약 :\", decode_sequence(encoder_input_test[i].reshape(1, text_max_len)))\n",
    "    print(\"\\n\")"
   ]
  },
  {
   "source": [
    "<br>\n",
    "\n",
    "### 결과 <br><br>\n",
    "\n",
    "__워드 임베딩과 RNN의 콜라보__ <br><br>\n",
    "\n",
    "많은 결과가 출력이 되는데, 기존의 요약과는 다른 요약을 출력하면서도 원문의 내용을 담고 있는 의미있는 요약들이 보입니다. 심지어 일부 요약의 경우에는 원문에 없던 단어를 사용해서 요약을 하기도 하고 있습니다. <br><br>\n",
    "\n",
    "그다지 좋지 않은 요약의 예도 꽤나 보이기도 합니다. 성능을 개선하기 위해서는 seq2seq와 어텐션의 자체의 조합을 좀 더 좋게 수정하는 방법도 있고, 빔 서치(beam search), 사전 훈련된 워드 임베딩(pre-trained word embedding), 또는 인코더 - 디코더 자체의 구조를 새로이 변경한 하는 트랜스포머(Transformer)와 같은 여러 개선 방안들이 존재합니다.\n",
    "\n",
    "<br>"
   ],
   "cell_type": "markdown",
   "metadata": {}
  },
  {
   "source": [
    "<br>\n",
    "\n",
    "## 추출적 요약 해보기\n",
    "\n",
    "Abstraction Summarization <br><br>\n",
    "\n",
    "앞서 seq2seq를 통해서 추상적 요약 을 진행했습니다. 그런데 텍스트 요약에는 추상적 요약 외에도 이미 본문에 존재하는 단어구, 문장을 뽑아서 요약으로 삼는 추출적 요약 방법도 있습니다.\n",
    "\n",
    "<br>"
   ],
   "cell_type": "markdown",
   "metadata": {}
  },
  {
   "source": [
    "<br>\n",
    "\n",
    "패키지 Summa에서는 추출적 요약을 위한 모듈인 summarize를 제공하고 있습니다. <br>\n",
    "\n",
    "```\n",
    "$ pip install summa\n",
    "```\n",
    "\n",
    "<br>"
   ],
   "cell_type": "markdown",
   "metadata": {}
  },
  {
   "cell_type": "code",
   "execution_count": 86,
   "metadata": {},
   "outputs": [],
   "source": [
    "# suma 모듈 임포트\n",
    "\n",
    "import requests\n",
    "from summa.summarizer import summarize"
   ]
  },
  {
   "cell_type": "code",
   "execution_count": 87,
   "metadata": {},
   "outputs": [
    {
     "output_type": "stream",
     "name": "stdout",
     "text": [
      "전체 샘플수 : 98401\n"
     ]
    }
   ],
   "source": [
    "# 데이터 불러오기\n",
    "\n",
    "data = pd.read_csv(os.getenv(\"HOME\")+\"/aiffel/news_summarization/data/news_summary_more.csv\")\n",
    "\n",
    "print('전체 샘플수 :',(len(data)))"
   ]
  },
  {
   "cell_type": "code",
   "execution_count": 95,
   "metadata": {},
   "outputs": [
    {
     "output_type": "execute_result",
     "data": {
      "text/plain": [
       "0    Saurav Kant, an alumnus of upGrad and IIIT-B's...\n",
       "1    Kunal Shah's credit card bill payment platform...\n",
       "2    New Zealand defeated India by 8 wickets in the...\n",
       "3    With Aegon Life iTerm Insurance plan, customer...\n",
       "4    Speaking about the sexual harassment allegatio...\n",
       "5    Pakistani singer Rahat Fateh Ali Khan has deni...\n",
       "6    India recorded their lowest ODI total in New Z...\n",
       "7    Weeks after ex-CBI Director Alok Verma told th...\n",
       "8    Andhra Pradesh CM N Chandrababu Naidu has said...\n",
       "9    Congress candidate Shafia Zubair won the Ramga...\n",
       "Name: text, dtype: object"
      ]
     },
     "metadata": {},
     "execution_count": 95
    }
   ],
   "source": [
    "# 데이터 샘플 확인\n",
    "\n",
    "\"\"\"\n",
    "'text', 'headlines' 두 개의 칼럼으로 구성\n",
    "Abstractive Summarization 의 경우 : text를 본문, headlines를 요약문 데이터로 사용\n",
    "Extractive Summarization 의 경우 : text를 본문으로 하나만 데이터로 사용\n",
    "\"\"\"\n",
    "\n",
    "data_text = data['text']\n",
    "\n",
    "data_text.head(10)"
   ]
  },
  {
   "source": [
    "<br>\n",
    "\n",
    "## summarize 사용하기\n",
    "\n",
    "Summa의 summarize 는 문장 토큰화를 별도로 하지 않더라도 내부적으로 문장 토큰화를 수행합니다. <br>\n",
    "그렇기 때문에 문장 구분이 되어있지 않은 원문을 바로 입력으로 넣을 수 있습니다.\n",
    "\n",
    "<br>"
   ],
   "cell_type": "markdown",
   "metadata": {}
  },
  {
   "source": [
    "<br>\n",
    "\n",
    "### Summa의 summarizer.summarize() <br><br>\n",
    "\n",
    "인자 <br>\n",
    "- text (str) : 요약할 테스트. <br>\n",
    "- ratio (float, optional) – 요약문에서 원본에서 선택되는 문장 비율. 0~1 사이값 <br>\n",
    "- words (int or None, optional) – 출력에 포함할 단어 수. <br>\n",
    "( 만약, ratio와 함께 두 파라미터가 모두 제공되는 경우 ratio는 무시 ) <br>\n",
    "- split (bool, optional) – True면 문장 list / False는 조인(join)된 문자열을 반환 <br>\n",
    "\n",
    "<br>"
   ],
   "cell_type": "markdown",
   "metadata": {}
  },
  {
   "cell_type": "code",
   "execution_count": 208,
   "metadata": {},
   "outputs": [
    {
     "output_type": "stream",
     "name": "stdout",
     "text": [
      "Saurav Kant, an alumnus of upGrad and IIIT-B's PG Program in Machine learning and Artificial Intelligence, was a Sr Systems Engineer at Infosys with almost 5 years of work experience. The program and upGrad's 360-degree career support helped him transition to a Data Scientist at Tech Mahindra with 90% salary hike. upGrad's Online Power Learning has powered 3 lakh+ careers.\n"
     ]
    }
   ],
   "source": [
    "txt = data_text[0]\n",
    "print(txt)"
   ]
  },
  {
   "cell_type": "code",
   "execution_count": 214,
   "metadata": {
    "tags": []
   },
   "outputs": [
    {
     "output_type": "stream",
     "name": "stdout",
     "text": [
      "Summary:\nThe program and upGrad's 360-degree career support helped him transition to a Data Scientist at Tech Mahindra with 90% salary hike.\nupGrad's Online Power Learning has powered 3 lakh+ careers.\n"
     ]
    }
   ],
   "source": [
    "# 비율을 적게 주어서 요약문으로 선택되는 문장의 개수를 줄입니다.\n",
    "\n",
    "print('Summary:')\n",
    "print(summarize(txt, ratio=0.75))"
   ]
  },
  {
   "cell_type": "code",
   "execution_count": 213,
   "metadata": {},
   "outputs": [
    {
     "output_type": "stream",
     "name": "stdout",
     "text": [
      "Summary:\n[\"The program and upGrad's 360-degree career support helped him transition to a Data Scientist at Tech Mahindra with 90% salary hike.\", \"upGrad's Online Power Learning has powered 3 lakh+ careers.\"]\n"
     ]
    }
   ],
   "source": [
    "# 리스트로 출력 결과를 받고 싶다면 split 인자의 값을 True로 변경\n",
    "\n",
    "print('Summary:')\n",
    "print(summarize(txt, ratio=0.75, split=True))"
   ]
  },
  {
   "cell_type": "code",
   "execution_count": 216,
   "metadata": {},
   "outputs": [
    {
     "output_type": "stream",
     "name": "stdout",
     "text": [
      "Summary:\nThe program and upGrad's 360-degree career support helped him transition to a Data Scientist at Tech Mahindra with 90% salary hike.\nupGrad's Online Power Learning has powered 3 lakh+ careers.\n"
     ]
    }
   ],
   "source": [
    "# 단어의 수로 요약문의 크기를 조절\n",
    "\n",
    "print('Summary:')\n",
    "print(summarize(txt, words=30))    # 단어를 10개만 선택"
   ]
  },
  {
   "source": [
    "<br>\n",
    "\n",
    "## 결론 <br><br>\n",
    "\n",
    "### Abstractive Summarization <br>\n",
    "추상적 요약에서는 본문 text에 포함되지 않더라도 연관된다고 생각할 수 있는 어휘들을 사용하여 좀 더 자유로운 문장으로 요약(summarization)을 진행하는 것을 확인할 수 있습니다. 하지만, 자유도가 높은 만큼 적절한 전처리가 이루어지지 않은 경우 모델을 잘 학습시키기 어려웠으며, 문장은 자연스러워도 의미가 달라진 요약문이 출력되는 경우가 생겼습니다. <br><br>\n",
    "\n",
    "### Extractive Summarization <br>\n",
    "추출적 요약에서는 본문 text에 포함되어 있는 어휘를 사용한 문장으로 요약(summarization)을 진행하는 것을 확인할 수 있습니다. 그렇기 때문에 비교적 본문의 내용에서 크게 벗어나지 않은 요약문이 출력되는 것을 확인할 수 있습니다. 하지만 표현의 자유도가 많이 떨어져서 '본문을 짧게 썼다' 정도의 요약문이 생성되는 것을 볼 수 있습니다.\n",
    "\n",
    "<br>"
   ],
   "cell_type": "markdown",
   "metadata": {}
  }
 ]
}